{
 "cells": [
  {
   "cell_type": "code",
   "execution_count": 1,
   "id": "897394ee",
   "metadata": {
    "colab": {
     "base_uri": "https://localhost:8080/"
    },
    "id": "897394ee",
    "outputId": "5ad2d645-82b2-43d6-ea4e-bcc3f4be6156"
   },
   "outputs": [
    {
     "name": "stdout",
     "output_type": "stream",
     "text": [
      "3.8.8\n"
     ]
    }
   ],
   "source": [
    "from platform import python_version\n",
    "\n",
    "print(python_version())"
   ]
  },
  {
   "cell_type": "markdown",
   "id": "bcbed2e0",
   "metadata": {
    "id": "bcbed2e0"
   },
   "source": [
    "# Make sure the version of anaconda is the latest "
   ]
  },
  {
   "cell_type": "code",
   "execution_count": 2,
   "id": "ad63095a",
   "metadata": {
    "colab": {
     "base_uri": "https://localhost:8080/"
    },
    "id": "ad63095a",
    "outputId": "62159a36-b8ee-4f15-a96e-a0babacdb6f3",
    "scrolled": true
   },
   "outputs": [
    {
     "name": "stdout",
     "output_type": "stream",
     "text": [
      "0.24.1\n"
     ]
    }
   ],
   "source": [
    "import sklearn  # importing sklearn\n",
    "print(sklearn.__version__)  # printing sklearn version"
   ]
  },
  {
   "cell_type": "markdown",
   "id": "d46355d5",
   "metadata": {
    "id": "d46355d5"
   },
   "source": [
    "## Importing the relevent libraries"
   ]
  },
  {
   "cell_type": "code",
   "execution_count": 3,
   "id": "76ce7b57",
   "metadata": {
    "id": "76ce7b57"
   },
   "outputs": [],
   "source": [
    "import nltk # importing natural language processing toolkit \n",
    "from nltk.corpus import stopwords  # helps remove stopwords\n",
    "from nltk.stem import WordNetLemmatizer # lemmantizes words\n",
    "from nltk.corpus import wordnet  # will be used to replace words with there antonyms\n",
    "from nltk.stem import PorterStemmer  # stemms words"
   ]
  },
  {
   "cell_type": "code",
   "execution_count": 4,
   "id": "j57mgL-7aaWx",
   "metadata": {
    "colab": {
     "base_uri": "https://localhost:8080/"
    },
    "id": "j57mgL-7aaWx",
    "outputId": "d60f5b53-bf08-44ab-9404-5fa134555b0e"
   },
   "outputs": [
    {
     "name": "stderr",
     "output_type": "stream",
     "text": [
      "[nltk_data] Downloading package stopwords to\n",
      "[nltk_data]     C:\\Users\\User\\AppData\\Roaming\\nltk_data...\n",
      "[nltk_data]   Package stopwords is already up-to-date!\n"
     ]
    },
    {
     "data": {
      "text/plain": [
       "True"
      ]
     },
     "execution_count": 4,
     "metadata": {},
     "output_type": "execute_result"
    }
   ],
   "source": [
    "nltk.download('stopwords')"
   ]
  },
  {
   "cell_type": "code",
   "execution_count": 5,
   "id": "BDHDJpaVaafR",
   "metadata": {
    "colab": {
     "base_uri": "https://localhost:8080/"
    },
    "id": "BDHDJpaVaafR",
    "outputId": "e3aba136-c257-4ebc-f9fe-cf0bbb8fd5b2"
   },
   "outputs": [
    {
     "name": "stderr",
     "output_type": "stream",
     "text": [
      "[nltk_data] Downloading package punkt to\n",
      "[nltk_data]     C:\\Users\\User\\AppData\\Roaming\\nltk_data...\n",
      "[nltk_data]   Package punkt is already up-to-date!\n"
     ]
    },
    {
     "data": {
      "text/plain": [
       "True"
      ]
     },
     "execution_count": 5,
     "metadata": {},
     "output_type": "execute_result"
    }
   ],
   "source": [
    "nltk.download('punkt')"
   ]
  },
  {
   "cell_type": "code",
   "execution_count": 6,
   "id": "_3Fo21_Baapo",
   "metadata": {
    "colab": {
     "base_uri": "https://localhost:8080/"
    },
    "id": "_3Fo21_Baapo",
    "outputId": "23508f98-a8e7-4dab-c49e-5a32dd798bd6"
   },
   "outputs": [
    {
     "name": "stderr",
     "output_type": "stream",
     "text": [
      "[nltk_data] Downloading package wordnet to\n",
      "[nltk_data]     C:\\Users\\User\\AppData\\Roaming\\nltk_data...\n",
      "[nltk_data]   Package wordnet is already up-to-date!\n"
     ]
    },
    {
     "data": {
      "text/plain": [
       "True"
      ]
     },
     "execution_count": 6,
     "metadata": {},
     "output_type": "execute_result"
    }
   ],
   "source": [
    "nltk.download('wordnet')"
   ]
  },
  {
   "cell_type": "markdown",
   "id": "aad22c05",
   "metadata": {
    "id": "d46355d5"
   },
   "source": [
    "## Importing the relevent libraries"
   ]
  },
  {
   "cell_type": "code",
   "execution_count": 7,
   "id": "trMS5PEvOWXs",
   "metadata": {
    "id": "trMS5PEvOWXs"
   },
   "outputs": [],
   "source": [
    "import numpy as np  # Allows us to work with arrays.\n",
    "import pandas as pd  # importing pandas’ library for use. Allows us to import data set and manipulate it.\n",
    "import string  # import string library function\n",
    "import re  # works with Regular Expressions\n",
    "import pickle  # allows to open and save to files\n",
    "from nltk.tokenize import word_tokenize  # tokenizes sentences.\n",
    "\n",
    "import seaborn as sns  # Allows to polt beautiful plots.\n",
    "import matplotlib.pyplot as plt  # Allows working with plots.\n",
    "from mpl_toolkits import mplot3d  # plotting 3d plots\n",
    "\n",
    "from sklearn.compose import ColumnTransformer  # helps with encoding.\n",
    "from sklearn.preprocessing import OneHotEncoder  # Does onehotencode.\n",
    "from sklearn.preprocessing import LabelEncoder   # Does 1 and 0 encoding.\n",
    "from sklearn.model_selection import train_test_split  # Splits dataset into test set and traning set. \n",
    "from sklearn import metrics\n",
    "from sklearn.preprocessing import StandardScaler, MinMaxScaler, RobustScaler, Normalizer  # Perform the feature scaling.\n",
    "from sklearn.metrics import confusion_matrix, ConfusionMatrixDisplay, multilabel_confusion_matrix  # creates a \n",
    "from sklearn.naive_bayes import GaussianNB  # applies  naive_bayes gaussianNB.\n",
    "from sklearn.tree import DecisionTreeClassifier  # applies  decision tree classification model.                                                                            # confusion matrix  # creates a confusion matrix\n",
    "    \n",
    "from sklearn.metrics import accuracy_score  # Returns accury score of a model.\n",
    "from collections import Counter  # Allows the counting the items in an iterable list.\n",
    "\n",
    "from sklearn.model_selection import cross_val_score  # performs cross validation. Helps in model selection.\n",
    "from sklearn.model_selection import GridSearchCV  # helps select the best hyper parameters\n",
    "# from imblearn.over_sampling import RandomOverSampler  # Uses over sampling techniques to Sample the data correctly.\n",
    "from sklearn.metrics import classification_report, accuracy_score, recall_score, precision_score, roc_auc_score, f1_score \n",
    "                                                                                 # Allows the usage of a classification report\n",
    "    \n",
    "from sklearn.metrics import precision_recall_fscore_support  # gives precison, recall, f1 score, and support\n",
    "from sklearn.model_selection import RandomizedSearchCV  # performs randomized search cv\n",
    "\n",
    "\n",
    "import warnings  # allows to ignore warnings\n",
    "warnings.filterwarnings(\"ignore\")  # ignores warnings\n",
    "\n",
    "#%matplotlib inline  # helps in showing plots on the browser.### Importing the relevent libraries"
   ]
  },
  {
   "cell_type": "markdown",
   "id": "024c5c32",
   "metadata": {
    "id": "024c5c32"
   },
   "source": [
    "## Importing the dataframe"
   ]
  },
  {
   "cell_type": "code",
   "execution_count": 8,
   "id": "985866e5",
   "metadata": {
    "id": "985866e5",
    "scrolled": true
   },
   "outputs": [],
   "source": [
    "DataFrame = pd.read_csv(\"FinalBalancedDataset.csv\")  # opens csv files and assighns them to a variable."
   ]
  },
  {
   "cell_type": "markdown",
   "id": "7e4d2088",
   "metadata": {
    "id": "7e4d2088"
   },
   "source": [
    "# Checking the data from the dataframe before pre-processing"
   ]
  },
  {
   "cell_type": "code",
   "execution_count": 9,
   "id": "bb046731",
   "metadata": {
    "colab": {
     "base_uri": "https://localhost:8080/",
     "height": 206
    },
    "id": "bb046731",
    "outputId": "2e9a7def-f935-4cf5-deb5-eb9e6c643ac5",
    "scrolled": true
   },
   "outputs": [
    {
     "data": {
      "text/html": [
       "<div>\n",
       "<style scoped>\n",
       "    .dataframe tbody tr th:only-of-type {\n",
       "        vertical-align: middle;\n",
       "    }\n",
       "\n",
       "    .dataframe tbody tr th {\n",
       "        vertical-align: top;\n",
       "    }\n",
       "\n",
       "    .dataframe thead th {\n",
       "        text-align: right;\n",
       "    }\n",
       "</style>\n",
       "<table border=\"1\" class=\"dataframe\">\n",
       "  <thead>\n",
       "    <tr style=\"text-align: right;\">\n",
       "      <th></th>\n",
       "      <th>Unnamed: 0</th>\n",
       "      <th>Toxicity</th>\n",
       "      <th>tweet</th>\n",
       "    </tr>\n",
       "  </thead>\n",
       "  <tbody>\n",
       "    <tr>\n",
       "      <th>0</th>\n",
       "      <td>0</td>\n",
       "      <td>0</td>\n",
       "      <td>@user when a father is dysfunctional and is s...</td>\n",
       "    </tr>\n",
       "    <tr>\n",
       "      <th>1</th>\n",
       "      <td>1</td>\n",
       "      <td>0</td>\n",
       "      <td>@user @user thanks for #lyft credit i can't us...</td>\n",
       "    </tr>\n",
       "    <tr>\n",
       "      <th>2</th>\n",
       "      <td>2</td>\n",
       "      <td>0</td>\n",
       "      <td>bihday your majesty</td>\n",
       "    </tr>\n",
       "    <tr>\n",
       "      <th>3</th>\n",
       "      <td>3</td>\n",
       "      <td>0</td>\n",
       "      <td>#model   i love u take with u all the time in ...</td>\n",
       "    </tr>\n",
       "    <tr>\n",
       "      <th>4</th>\n",
       "      <td>4</td>\n",
       "      <td>0</td>\n",
       "      <td>factsguide: society now    #motivation</td>\n",
       "    </tr>\n",
       "  </tbody>\n",
       "</table>\n",
       "</div>"
      ],
      "text/plain": [
       "   Unnamed: 0  Toxicity                                              tweet\n",
       "0           0         0   @user when a father is dysfunctional and is s...\n",
       "1           1         0  @user @user thanks for #lyft credit i can't us...\n",
       "2           2         0                                bihday your majesty\n",
       "3           3         0  #model   i love u take with u all the time in ...\n",
       "4           4         0             factsguide: society now    #motivation"
      ]
     },
     "execution_count": 9,
     "metadata": {},
     "output_type": "execute_result"
    }
   ],
   "source": [
    "DataFrame.head(5)  # Taking a look at the dataframe the first elements of the dataset."
   ]
  },
  {
   "cell_type": "code",
   "execution_count": 10,
   "id": "cb0ea9d1",
   "metadata": {
    "id": "cb0ea9d1"
   },
   "outputs": [],
   "source": [
    "DataFrame = DataFrame.drop('Unnamed: 0', 1)  # column is dropped"
   ]
  },
  {
   "cell_type": "code",
   "execution_count": 11,
   "id": "e8b27895",
   "metadata": {
    "colab": {
     "base_uri": "https://localhost:8080/"
    },
    "id": "e8b27895",
    "outputId": "4ce4ad84-15d3-4704-fff4-9e6670116e79",
    "scrolled": false
   },
   "outputs": [
    {
     "name": "stdout",
     "output_type": "stream",
     "text": [
      "<class 'pandas.core.frame.DataFrame'>\n",
      "RangeIndex: 56745 entries, 0 to 56744\n",
      "Data columns (total 2 columns):\n",
      " #   Column    Non-Null Count  Dtype \n",
      "---  ------    --------------  ----- \n",
      " 0   Toxicity  56745 non-null  int64 \n",
      " 1   tweet     56745 non-null  object\n",
      "dtypes: int64(1), object(1)\n",
      "memory usage: 886.8+ KB\n"
     ]
    }
   ],
   "source": [
    "DataFrame.info()  # checking Basic information on the dataframe being procesed."
   ]
  },
  {
   "cell_type": "markdown",
   "id": "7da515d3",
   "metadata": {
    "id": "7da515d3"
   },
   "source": [
    "## 1. Data pre-processing"
   ]
  },
  {
   "cell_type": "code",
   "execution_count": 12,
   "id": "45095b25",
   "metadata": {
    "colab": {
     "base_uri": "https://localhost:8080/"
    },
    "id": "45095b25",
    "outputId": "0da3714e-e772-413b-bcd9-ed73f86a4f7a"
   },
   "outputs": [
    {
     "data": {
      "text/plain": [
       "(56745, 2)"
      ]
     },
     "execution_count": 12,
     "metadata": {},
     "output_type": "execute_result"
    }
   ],
   "source": [
    "DataFrame.shape  # The Entries and the columns of the dataframe are viewed."
   ]
  },
  {
   "cell_type": "markdown",
   "id": "2a6b358d",
   "metadata": {
    "id": "2a6b358d"
   },
   "source": [
    "## Dealing with null values"
   ]
  },
  {
   "cell_type": "code",
   "execution_count": 13,
   "id": "d9e0a58b",
   "metadata": {
    "colab": {
     "base_uri": "https://localhost:8080/",
     "height": 287
    },
    "id": "d9e0a58b",
    "outputId": "d32d5531-fa02-4a40-ba04-ccf421da39f3",
    "scrolled": false
   },
   "outputs": [
    {
     "data": {
      "text/plain": [
       "<AxesSubplot:>"
      ]
     },
     "execution_count": 13,
     "metadata": {},
     "output_type": "execute_result"
    },
    {
     "data": {
      "image/png": "[encoded data removed]",
      "text/plain": [
       "<Figure size 432x288 with 2 Axes>"
      ]
     },
     "metadata": {
      "needs_background": "light"
     },
     "output_type": "display_data"
    }
   ],
   "source": [
    "sns.heatmap(DataFrame.isnull())  # shows null values"
   ]
  },
  {
   "cell_type": "code",
   "execution_count": 14,
   "id": "82c4d2ab",
   "metadata": {
    "colab": {
     "base_uri": "https://localhost:8080/"
    },
    "id": "82c4d2ab",
    "outputId": "8ef53a34-2724-4943-c645-105d2d0026cd"
   },
   "outputs": [
    {
     "data": {
      "text/plain": [
       "Toxicity    0\n",
       "tweet       0\n",
       "dtype: int64"
      ]
     },
     "execution_count": 14,
     "metadata": {},
     "output_type": "execute_result"
    }
   ],
   "source": [
    "DataFrame.isnull().sum()  # Checking the dataframe for null values."
   ]
  },
  {
   "cell_type": "markdown",
   "id": "6q-NI2y8glQO",
   "metadata": {
    "id": "6q-NI2y8glQO"
   },
   "source": [
    "## Dealing with duplicates"
   ]
  },
  {
   "cell_type": "code",
   "execution_count": 15,
   "id": "RO1T8yxpgaGY",
   "metadata": {
    "id": "RO1T8yxpgaGY"
   },
   "outputs": [],
   "source": [
    "DataFrame.drop_duplicates(inplace = True)  # checks for duplicates and removes them"
   ]
  },
  {
   "cell_type": "code",
   "execution_count": 16,
   "id": "Mf6FfQPdgaGZ",
   "metadata": {
    "colab": {
     "base_uri": "https://localhost:8080/"
    },
    "id": "Mf6FfQPdgaGZ",
    "outputId": "5fde994f-c925-43ba-bace-92e9aeb5fa35"
   },
   "outputs": [
    {
     "name": "stdout",
     "output_type": "stream",
     "text": [
      "Toxicity\n",
      "0    30389\n",
      "1    23924\n",
      "dtype: int64\n"
     ]
    }
   ],
   "source": [
    "print(DataFrame.pivot_table(columns=['Toxicity'], aggfunc='size'))  # counts duplicates in the selected dataframe column."
   ]
  },
  {
   "cell_type": "code",
   "execution_count": 17,
   "id": "f90eeccb",
   "metadata": {
    "colab": {
     "base_uri": "https://localhost:8080/"
    },
    "id": "f90eeccb",
    "outputId": "b75350a3-41b4-4f25-cb36-77b4b694edd8"
   },
   "outputs": [
    {
     "name": "stdout",
     "output_type": "stream",
     "text": [
      "<class 'pandas.core.frame.DataFrame'>\n",
      "Int64Index: 54313 entries, 0 to 56744\n",
      "Data columns (total 2 columns):\n",
      " #   Column    Non-Null Count  Dtype \n",
      "---  ------    --------------  ----- \n",
      " 0   Toxicity  54313 non-null  int64 \n",
      " 1   tweet     54313 non-null  object\n",
      "dtypes: int64(1), object(1)\n",
      "memory usage: 1.2+ MB\n"
     ]
    }
   ],
   "source": [
    "DataFrame.info()  # checking basic information on dataframe"
   ]
  },
  {
   "cell_type": "markdown",
   "id": "add14eb6",
   "metadata": {
    "id": "add14eb6"
   },
   "source": [
    "## Balancing DataFrame"
   ]
  },
  {
   "cell_type": "code",
   "execution_count": 18,
   "id": "edd74bca",
   "metadata": {
    "colab": {
     "base_uri": "https://localhost:8080/"
    },
    "id": "edd74bca",
    "outputId": "b0016484-963d-4946-8887-21a45046ec15"
   },
   "outputs": [
    {
     "name": "stdout",
     "output_type": "stream",
     "text": [
      "Toxicity\n",
      "0    30389\n",
      "1    23924\n",
      "dtype: int64\n"
     ]
    }
   ],
   "source": [
    "print(DataFrame.pivot_table(columns=['Toxicity'], aggfunc='size'))  # counts duplicates in the selected dataframe column."
   ]
  },
  {
   "cell_type": "code",
   "execution_count": 19,
   "id": "24e03781",
   "metadata": {
    "id": "24e03781"
   },
   "outputs": [],
   "source": [
    "zero = str(round(100 * (30389/56745),2)) + \"%\"   # percentage of the value is checked from label column.\n",
    "one  = str(round(100 * (23924/56745),2)) + \"%\"  # percentage of the value is checked from label column."
   ]
  },
  {
   "cell_type": "code",
   "execution_count": 20,
   "id": "a439cf7e",
   "metadata": {
    "colab": {
     "base_uri": "https://localhost:8080/"
    },
    "id": "a439cf7e",
    "outputId": "fb7d73e0-6671-4140-8d59-3ba6fb4ae893"
   },
   "outputs": [
    {
     "name": "stdout",
     "output_type": "stream",
     "text": [
      "0 is represented  53.55% \n",
      "1 is represented  42.16%\n"
     ]
    }
   ],
   "source": [
    "print(\"0 is represented \", zero, \"\\n1 is represented \", one)\n",
    "# percentage of the value is printed of label column."
   ]
  },
  {
   "cell_type": "code",
   "execution_count": 21,
   "id": "03341d32",
   "metadata": {
    "colab": {
     "base_uri": "https://localhost:8080/"
    },
    "id": "03341d32",
    "outputId": "d94ae2ea-7dd6-4fa5-a984-5481844957ad"
   },
   "outputs": [
    {
     "data": {
      "text/plain": [
       "6465"
      ]
     },
     "execution_count": 21,
     "metadata": {},
     "output_type": "execute_result"
    }
   ],
   "source": [
    "30389 - 23924"
   ]
  },
  {
   "cell_type": "code",
   "execution_count": 22,
   "id": "ad1929e3",
   "metadata": {
    "id": "ad1929e3"
   },
   "outputs": [],
   "source": [
    "row_to_remove = np.random.RandomState(1).choice(DataFrame[DataFrame['Toxicity']==0].index,size=6465,replace=False)\n",
    "DataFrame = DataFrame.drop(row_to_remove)"
   ]
  },
  {
   "cell_type": "code",
   "execution_count": 23,
   "id": "96954824",
   "metadata": {
    "colab": {
     "base_uri": "https://localhost:8080/"
    },
    "id": "96954824",
    "outputId": "aeed9a15-e851-4d9e-de9d-f9b92a9bca39"
   },
   "outputs": [
    {
     "name": "stdout",
     "output_type": "stream",
     "text": [
      "Toxicity\n",
      "0    23924\n",
      "1    23924\n",
      "dtype: int64\n"
     ]
    }
   ],
   "source": [
    "print(DataFrame.pivot_table(columns=['Toxicity'], aggfunc='size'))  # counts duplicates in the selected dataframe column."
   ]
  },
  {
   "cell_type": "markdown",
   "id": "1cbedef1",
   "metadata": {
    "id": "1cbedef1"
   },
   "source": [
    "# Reseting index"
   ]
  },
  {
   "cell_type": "code",
   "execution_count": 24,
   "id": "99dc5c5b",
   "metadata": {
    "id": "99dc5c5b",
    "scrolled": true
   },
   "outputs": [],
   "source": [
    "DataFrame.reset_index(drop=True, inplace=True)  # reseting index."
   ]
  },
  {
   "cell_type": "code",
   "execution_count": 25,
   "id": "8b0cbc36",
   "metadata": {
    "colab": {
     "base_uri": "https://localhost:8080/",
     "height": 424
    },
    "id": "8b0cbc36",
    "outputId": "fc47d064-aed6-4620-e89f-04e76b4ad6d2"
   },
   "outputs": [
    {
     "data": {
      "text/html": [
       "<div>\n",
       "<style scoped>\n",
       "    .dataframe tbody tr th:only-of-type {\n",
       "        vertical-align: middle;\n",
       "    }\n",
       "\n",
       "    .dataframe tbody tr th {\n",
       "        vertical-align: top;\n",
       "    }\n",
       "\n",
       "    .dataframe thead th {\n",
       "        text-align: right;\n",
       "    }\n",
       "</style>\n",
       "<table border=\"1\" class=\"dataframe\">\n",
       "  <thead>\n",
       "    <tr style=\"text-align: right;\">\n",
       "      <th></th>\n",
       "      <th>Toxicity</th>\n",
       "      <th>tweet</th>\n",
       "    </tr>\n",
       "  </thead>\n",
       "  <tbody>\n",
       "    <tr>\n",
       "      <th>0</th>\n",
       "      <td>0</td>\n",
       "      <td>@user when a father is dysfunctional and is s...</td>\n",
       "    </tr>\n",
       "    <tr>\n",
       "      <th>1</th>\n",
       "      <td>0</td>\n",
       "      <td>@user @user thanks for #lyft credit i can't us...</td>\n",
       "    </tr>\n",
       "    <tr>\n",
       "      <th>2</th>\n",
       "      <td>0</td>\n",
       "      <td>#model   i love u take with u all the time in ...</td>\n",
       "    </tr>\n",
       "    <tr>\n",
       "      <th>3</th>\n",
       "      <td>0</td>\n",
       "      <td>factsguide: society now    #motivation</td>\n",
       "    </tr>\n",
       "    <tr>\n",
       "      <th>4</th>\n",
       "      <td>0</td>\n",
       "      <td>[2/2] huge fan fare and big talking before the...</td>\n",
       "    </tr>\n",
       "    <tr>\n",
       "      <th>...</th>\n",
       "      <td>...</td>\n",
       "      <td>...</td>\n",
       "    </tr>\n",
       "    <tr>\n",
       "      <th>47843</th>\n",
       "      <td>1</td>\n",
       "      <td>you's a muthaf***in lie &amp;#8220;@LifeAsKing: @2...</td>\n",
       "    </tr>\n",
       "    <tr>\n",
       "      <th>47844</th>\n",
       "      <td>1</td>\n",
       "      <td>you've gone and broke the wrong heart baby, an...</td>\n",
       "    </tr>\n",
       "    <tr>\n",
       "      <th>47845</th>\n",
       "      <td>1</td>\n",
       "      <td>young buck wanna eat!!.. dat nigguh like I ain...</td>\n",
       "    </tr>\n",
       "    <tr>\n",
       "      <th>47846</th>\n",
       "      <td>1</td>\n",
       "      <td>youu got wild bitches tellin you lies</td>\n",
       "    </tr>\n",
       "    <tr>\n",
       "      <th>47847</th>\n",
       "      <td>0</td>\n",
       "      <td>~~Ruffled | Ntac Eileen Dahlia - Beautiful col...</td>\n",
       "    </tr>\n",
       "  </tbody>\n",
       "</table>\n",
       "<p>47848 rows × 2 columns</p>\n",
       "</div>"
      ],
      "text/plain": [
       "       Toxicity                                              tweet\n",
       "0             0   @user when a father is dysfunctional and is s...\n",
       "1             0  @user @user thanks for #lyft credit i can't us...\n",
       "2             0  #model   i love u take with u all the time in ...\n",
       "3             0             factsguide: society now    #motivation\n",
       "4             0  [2/2] huge fan fare and big talking before the...\n",
       "...         ...                                                ...\n",
       "47843         1  you's a muthaf***in lie &#8220;@LifeAsKing: @2...\n",
       "47844         1  you've gone and broke the wrong heart baby, an...\n",
       "47845         1  young buck wanna eat!!.. dat nigguh like I ain...\n",
       "47846         1              youu got wild bitches tellin you lies\n",
       "47847         0  ~~Ruffled | Ntac Eileen Dahlia - Beautiful col...\n",
       "\n",
       "[47848 rows x 2 columns]"
      ]
     },
     "execution_count": 25,
     "metadata": {},
     "output_type": "execute_result"
    }
   ],
   "source": [
    "DataFrame"
   ]
  },
  {
   "cell_type": "code",
   "execution_count": 26,
   "id": "gxDFeIanLTHl",
   "metadata": {
    "colab": {
     "base_uri": "https://localhost:8080/"
    },
    "id": "gxDFeIanLTHl",
    "outputId": "69843ae2-53ce-4d13-9f9d-c9cf91d27d5d"
   },
   "outputs": [
    {
     "name": "stdout",
     "output_type": "stream",
     "text": [
      "<class 'pandas.core.frame.DataFrame'>\n",
      "RangeIndex: 47848 entries, 0 to 47847\n",
      "Data columns (total 2 columns):\n",
      " #   Column    Non-Null Count  Dtype \n",
      "---  ------    --------------  ----- \n",
      " 0   Toxicity  47848 non-null  int64 \n",
      " 1   tweet     47848 non-null  object\n",
      "dtypes: int64(1), object(1)\n",
      "memory usage: 747.8+ KB\n"
     ]
    }
   ],
   "source": [
    "DataFrame.info()  # checking basic information on dataframe"
   ]
  },
  {
   "cell_type": "markdown",
   "id": "2-_PV8GAnsRy",
   "metadata": {
    "id": "2-_PV8GAnsRy"
   },
   "source": [
    "## removing non word symbols"
   ]
  },
  {
   "cell_type": "code",
   "execution_count": 27,
   "id": "zgWZUnAelWFa",
   "metadata": {
    "colab": {
     "base_uri": "https://localhost:8080/",
     "height": 206
    },
    "id": "zgWZUnAelWFa",
    "outputId": "659ebc10-f340-408b-e618-85c470da92b4"
   },
   "outputs": [
    {
     "data": {
      "text/html": [
       "<div>\n",
       "<style scoped>\n",
       "    .dataframe tbody tr th:only-of-type {\n",
       "        vertical-align: middle;\n",
       "    }\n",
       "\n",
       "    .dataframe tbody tr th {\n",
       "        vertical-align: top;\n",
       "    }\n",
       "\n",
       "    .dataframe thead th {\n",
       "        text-align: right;\n",
       "    }\n",
       "</style>\n",
       "<table border=\"1\" class=\"dataframe\">\n",
       "  <thead>\n",
       "    <tr style=\"text-align: right;\">\n",
       "      <th></th>\n",
       "      <th>Toxicity</th>\n",
       "      <th>tweet</th>\n",
       "    </tr>\n",
       "  </thead>\n",
       "  <tbody>\n",
       "    <tr>\n",
       "      <th>0</th>\n",
       "      <td>0</td>\n",
       "      <td>user when a father is dysfunctional and is so...</td>\n",
       "    </tr>\n",
       "    <tr>\n",
       "      <th>1</th>\n",
       "      <td>0</td>\n",
       "      <td>user user thanks for lyft credit i cant use ca...</td>\n",
       "    </tr>\n",
       "    <tr>\n",
       "      <th>2</th>\n",
       "      <td>0</td>\n",
       "      <td>model   i love u take with u all the time in u...</td>\n",
       "    </tr>\n",
       "    <tr>\n",
       "      <th>3</th>\n",
       "      <td>0</td>\n",
       "      <td>factsguide society now    motivation</td>\n",
       "    </tr>\n",
       "    <tr>\n",
       "      <th>4</th>\n",
       "      <td>0</td>\n",
       "      <td>22 huge fan fare and big talking before they l...</td>\n",
       "    </tr>\n",
       "  </tbody>\n",
       "</table>\n",
       "</div>"
      ],
      "text/plain": [
       "   Toxicity                                              tweet\n",
       "0         0   user when a father is dysfunctional and is so...\n",
       "1         0  user user thanks for lyft credit i cant use ca...\n",
       "2         0  model   i love u take with u all the time in u...\n",
       "3         0               factsguide society now    motivation\n",
       "4         0  22 huge fan fare and big talking before they l..."
      ]
     },
     "execution_count": 27,
     "metadata": {},
     "output_type": "execute_result"
    }
   ],
   "source": [
    "DataFrame['tweet'] = DataFrame['tweet'].str.replace('[^\\w\\s]','')\n",
    "DataFrame.head()"
   ]
  },
  {
   "cell_type": "markdown",
   "id": "kNsk9YqFAXIf",
   "metadata": {
    "id": "kNsk9YqFAXIf"
   },
   "source": [
    "## Label Encoding"
   ]
  },
  {
   "cell_type": "code",
   "execution_count": 28,
   "id": "hDiVpjXFAVpp",
   "metadata": {
    "id": "hDiVpjXFAVpp"
   },
   "outputs": [],
   "source": [
    "le = LabelEncoder()  # creating the instance of the object.\n",
    "DataFrame.Toxicity = le.fit_transform(DataFrame.Toxicity)  # label encoing the require dcolumn."
   ]
  },
  {
   "cell_type": "markdown",
   "id": "F72wEqBeHXWs",
   "metadata": {
    "id": "F72wEqBeHXWs"
   },
   "source": [
    "## Spliting X and y variables."
   ]
  },
  {
   "cell_type": "code",
   "execution_count": 29,
   "id": "W1HZyHbJHV-c",
   "metadata": {
    "id": "W1HZyHbJHV-c"
   },
   "outputs": [],
   "source": [
    "X = DataFrame.iloc[:, -1].values  # selecting the values for the X variable."
   ]
  },
  {
   "cell_type": "code",
   "execution_count": 30,
   "id": "JFumALt6HqvO",
   "metadata": {
    "id": "JFumALt6HqvO"
   },
   "outputs": [],
   "source": [
    "y = DataFrame.iloc[:, :-1].values # selecting the values for the Y variable. # done using .to_numpy and not \n",
    "                                                       # .iloc as .to_numpy creates a horizontal bar while .iloc creates a \n",
    "                                                       # horizontal bar which will not alighn with the x values."
   ]
  },
  {
   "cell_type": "code",
   "execution_count": 31,
   "id": "4NISLP6ZJFsE",
   "metadata": {
    "colab": {
     "base_uri": "https://localhost:8080/"
    },
    "id": "4NISLP6ZJFsE",
    "outputId": "d1b4340b-a523-469a-dc5d-a15b03cd6d5e"
   },
   "outputs": [
    {
     "name": "stdout",
     "output_type": "stream",
     "text": [
      "X  [' user when a father is dysfunctional and is so selfish he drags his kids into his dysfunction   run'\n",
      " 'user user thanks for lyft credit i cant use cause they dont offer wheelchair vans in pdx    disapointed getthanked'\n",
      " 'model   i love u take with u all the time in urð ðððð\\x85ððð  ' ...\n",
      " 'young buck wanna eat dat nigguh like I aint fuckin dis up again'\n",
      " 'youu got wild bitches tellin you lies'\n",
      " 'Ruffled  Ntac Eileen Dahlia  Beautiful color combination of pink orange yellow amp white A Coll httptcoH0dYEBvnZB'] y  [[0]\n",
      " [0]\n",
      " [0]\n",
      " ...\n",
      " [1]\n",
      " [1]\n",
      " [0]]\n"
     ]
    }
   ],
   "source": [
    "print(\"X \", X, \"y \", y)  # priting arrays"
   ]
  },
  {
   "cell_type": "markdown",
   "id": "O9vsQQVKFsIB",
   "metadata": {
    "id": "O9vsQQVKFsIB"
   },
   "source": []
  },
  {
   "cell_type": "markdown",
   "id": "TJl_zy9PlTVT",
   "metadata": {
    "id": "TJl_zy9PlTVT"
   },
   "source": [
    "## Removing punctuations, special character and converting text to lower case"
   ]
  },
  {
   "cell_type": "code",
   "execution_count": 32,
   "id": "cdy2zzD4KzUo",
   "metadata": {
    "id": "cdy2zzD4KzUo"
   },
   "outputs": [],
   "source": [
    "no_punctuation_and_no_stop_words = []\n",
    "for i in range(0,len(X)):\n",
    "  # removing non word symbols\n",
    "  data = re.sub(r'\\W',' ', str(X[i]))\n",
    "  # converting the data to lower case\n",
    "  data = data.lower()\n",
    "  # removing single characters\n",
    "  data = re.sub(r'\\s+[a-z]\\s+', ' ', data)\n",
    "  # removing single characters at the start of a sentence\n",
    "  data = re.sub(r'^[a-z]\\s+',' ',data)\n",
    "  #replacing everything other than alphabets with a space\n",
    "  data =re.sub(\"[^a-zA-Z]\",\" \",data)\n",
    "  # removing extra spaces\n",
    "  data = re.sub(r'\\s+',' ', data)\n",
    "  no_punctuation_and_no_stop_words.append(data)"
   ]
  },
  {
   "cell_type": "code",
   "execution_count": 33,
   "id": "j_2g4K9fNg1d",
   "metadata": {
    "colab": {
     "base_uri": "https://localhost:8080/"
    },
    "id": "j_2g4K9fNg1d",
    "outputId": "34adb342-3d8b-4a19-e292-7e4e2108641d"
   },
   "outputs": [
    {
     "data": {
      "text/plain": [
       "[' user when father is dysfunctional and is so selfish he drags his kids into his dysfunction run',\n",
       " 'user user thanks for lyft credit cant use cause they dont offer wheelchair vans in pdx disapointed getthanked',\n",
       " 'model love take with all the time in ur ',\n",
       " ' factsguide society now motivation',\n",
       " ' huge fan fare and big talking before they leave chaos and pay disputes when they get there allshowandnogo ',\n",
       " ' user camping tomorrow user user user user user user user danny ',\n",
       " 'the next school year is the year for exams cant think about that school exams hate imagine actorslife revolutionschool girl',\n",
       " 'we won love the land allin cavs champions cleveland clevelandcavaliers ',\n",
       " ' user user welcome here im its so gr ',\n",
       " ' ireland consumer price index mom climbed from previous to in may blog silver gold forex',\n",
       " ' get to see my daddy today days gettingfed',\n",
       " 'user cnn calls michigan middle school build the wall chant tcot ',\n",
       " 'no comment in australia opkillingbay seashepherd helpcovedolphins thecove helpcovedolphins',\n",
       " 'ouchjunior is angry got junior yugyoem omg ',\n",
       " ' am thankful for having paner thankful positive ',\n",
       " 'retweet if you agree ',\n",
       " 'its friday smiles all around via ig user user cookies make people ',\n",
       " 'as we all know essential oils are not made of chemicals ',\n",
       " 'euro people blaming ha for conceded goal was it fat rooney who gave away free kick knowing bale can hit them from there ',\n",
       " 'sad little dude badday coneofshame cats pissed funny laughs ',\n",
       " 'user user lumpy says am prove it lumpy',\n",
       " ' user tgif ff to my gamedev indiedev indiegamedev squad user user user user user',\n",
       " 'beautiful sign by vendor for upsideofflorida shopalyssas love ',\n",
       " ' people went to nightclub to have good night and mans actions means those people are lost to their families forever riporlando',\n",
       " ' alohafriday time does not exist positivevibes hawaiian user user user user ',\n",
       " ' user rip to the fellow nohern ireland fan who sadley passed away tonight gawa forever singing and cheering on fire ',\n",
       " 'it was hard monday due to cloudy weather disabling oxygen production for today goodnight badmonday ',\n",
       " 'its unbelievable that in the st century wed need something like this again neverump xenophobia ',\n",
       " 'taylorswift bull up you will dominate your bull and you will direct it whatever you want it to do ',\n",
       " 'morning travelingram dalat ripinkylife ',\n",
       " 'when you finally finish book youve been working on for awhile bookworm ontothenextnovel ',\n",
       " 'lovely echeveria bloomsflowers grow gardening iphonesia bliss blooms basilicabotanica ',\n",
       " 'whenever im and something goes wrong ',\n",
       " 'feeling blue illustration ',\n",
       " 'the best pa about life is knowing who you are ',\n",
       " ' user let the scumbaggery begin ',\n",
       " 'thank you super love it zpamdelacruz wedding dolores capas tarlac ',\n",
       " ' scourge on those playing baroque pieces on piano beyond belief ',\n",
       " 'user lets fight against love peace ',\n",
       " ' happy father s day mr rayos video fathers day rayos world hotvideo videos',\n",
       " ' user ascot times with this babe ascot fashion monochrome style instahappyday ',\n",
       " 'the weekendis here selfie yolo xoxo like like ',\n",
       " 'happy at work conference right mindset leads to cultureofdevelopment organizations work mindset',\n",
       " 'christina grimmies last performance before being shot via user christinarip voice christinagrimmie ',\n",
       " 'we are ready to dance roar preschoolers students proud ',\n",
       " 'youve really hu my feelings ',\n",
       " 'user my wife whom adore had to miss your poland show because she had surgery her name is bridget amp shes my everything ',\n",
       " 'user am so jealous of you right now chatiado ',\n",
       " ' celebrate every man that has played its fatherly role fathers day',\n",
       " 'im sure they are just as happy hour ',\n",
       " ' the white establishment cant have blk folx running around loving themselves and promoting our greatness ',\n",
       " 'good morning the journey begins travel yeah thejourneybegins hello ',\n",
       " ' user if you luv hottweets like this from venusexchange ',\n",
       " 'our new brochures have arrived how exciting aworks solutions ',\n",
       " 'so much stuff happening in florida first orlando shooting and now disneygatorattack on two year old kid ',\n",
       " 'user ferrari will do it for the sake of the championship this gp is clearly turning point rb ferrarimercs ',\n",
       " 'aced my first test proud ',\n",
       " ' seeks probe into udtapunjab leak points finger at amarinder aap ',\n",
       " 'user wrapping up senseaboutmaths user th user user user ',\n",
       " 'user hey white people you can call people white by user race identity med ',\n",
       " 'sometimes you have to raise few brows to raise the bar golfstrengthandconditioning strong felixfoisgolf',\n",
       " ' about that greathonour careerconvos user user ',\n",
       " 'how the altright uses amp insecurity to lure men into whitesupremacy ',\n",
       " 'carrying gun wouldnt of helped if you cant take it in with you gun control wont stop the black market terrorism will get worse ',\n",
       " 'use the power of your mind to heal your body altwaystoheal healthy peace ',\n",
       " 'woohoo just over weeks to go ',\n",
       " 'being in far away place where you have no family members hus ',\n",
       " 'ready to rehearse tonight with new music and new videos look out for the announcement midweek newmusic watchthisspace guitar ',\n",
       " 'now on monday nights at pm on up channel finally get to see what all the fuss is about ',\n",
       " 'watching the new episodes of user on user ',\n",
       " ' user offline now after very nice and long night snapchat user redhead vermillionred ',\n",
       " 'daughter riding her bike around driveway son playing his guitar for us while we enjoy by the campfire summeime memories',\n",
       " 'user ill always hope that one day ill get to hug you but dont think that its gonna happen anytime soon ',\n",
       " ' couple having sex fat naked japanese girls ',\n",
       " 'hump on that hump day humpers edwardsville pennsylvania ',\n",
       " 'there are some truly sick ppl out there ',\n",
       " 'trump calling on obama to resign over the orlando shootings the boy has point years and all he did was talk about change ',\n",
       " 'going to la tomorrow ',\n",
       " ' am thankful for good friends thankful positive ',\n",
       " 'just received dis from user cant wait to sta baking eyelids ',\n",
       " 'we were so to be playing for vigilfororlando harp clonakilty rip via user',\n",
       " ' user yes yes yes ihavenofriends someonecomewithme ',\n",
       " 'sunday weekend relax icon woman sundaymorning sunday marilynmonroe ',\n",
       " 'user im not interested in linguistics that doesnt address race amp racism is about power raciolinguistics brings ',\n",
       " 'one of my beloved long lost cds now recovered thanks to apple music ',\n",
       " 'marvel song musica weed ripchristina adele dance vine by user ',\n",
       " 'user why not user mocked obama for being black user user user user brexit',\n",
       " ' amazing health benefits of cucumbers healthy is altwaystoheal ',\n",
       " 'off to work ofw pinoy followme igers instagood smile love ',\n",
       " 'toradora anime animeedit made it breakups alone lonely ',\n",
       " ' laps of pool k ride done and picked up gym membership form ',\n",
       " 'nochebuena lasvegas usa las vegas strip ',\n",
       " 'ma fleurette instaboyinstamansefieseptumfriend smilesblackandwhite ',\n",
       " 'sad in the branches it s just rainy day writing tears are flying birds haiku lines micropoetry ',\n",
       " 'yeah new buttons in the mail for me they are so pretty jewelrymaking buttons ',\n",
       " ' user driver hit female moose on river rd weston moose was killed driver is ok crews removing animal now ',\n",
       " 'afterpas made in japan madeinjapan eos cute fun cawaii love strawberry tomato ',\n",
       " 'people arent protesting trump because republican wonthey do so because trump has fuhered amp ',\n",
       " ' need to find way to spend my time so you are not always on my mind me boy guy ',\n",
       " ' update social analytics photooftheday igers likes ',\n",
       " 'stupidity makes me more than even negligencewhy put sachintendulkar installation if were going to take it off',\n",
       " ' bihday thbihday bestfriend love ',\n",
       " ' user most impoant thing is to enjoy your life to be it s all that matters life is too sho pooh u ',\n",
       " 'happy bihday chris evans great actor and human chrisevans bihday ',\n",
       " 'our heas thoughts prayers go out to the more than people who were murdered gay nightclub in florida ',\n",
       " ' user demoing guitars for new album newalbum indie guitars echobelly ',\n",
       " 'retweeted lion pro user tgif webmareting seo community management weekend ',\n",
       " ' user ive had pretty bad bihday weeks before but so far this is the worst ever bihdayweeksucks bithday t ',\n",
       " 'so blessed to have worked with sas best leading ladies ',\n",
       " 'just found out user is at user after id been exclaiming to user how gr blains hair was the other nite ',\n",
       " 'user lt listen to my most beautiful best friend user singing with her most amazing voice lt lt lt lt ',\n",
       " 'when you know yall aint going know where love commitment trust faithful ',\n",
       " 'yes its when you call michelleobama gorilla because racists have long thought of black people as no bet ',\n",
       " 'newarkfestival this is us all this year waiting for the show to sta our rd year running ',\n",
       " 'when the internet is broken so you cant watch netflix mochithepug puglife ',\n",
       " 'hbd to this dick suckin tequila lovin slut wouldnt want any other way justalillate butstillontime ',\n",
       " 'as the smaller hands show barry probably lied about being why his knicks game sucked more than his golf ',\n",
       " 'good morning friday what is everyone doing this weekend goodmorning friday girls love florida ',\n",
       " ' challenges aaps claim that punjabis are drugaddicts dares it to prove ',\n",
       " 'tracerequest sending my deepest condolences to the orlando gay families zimbabwe gay community has you at hea touched',\n",
       " 'new selfie guy mato chapones ',\n",
       " 'saturday afternoon chi meet up friends user user user ',\n",
       " 'soed out all my nut amp bolts bloke',\n",
       " 'aww yeah its all good bing bong bing bong ',\n",
       " 'just dawned on me in months will be seeing user live am so excited vfest summer ',\n",
       " ' user happy th bihday shane robe watson bihday shane watson australia cricker ',\n",
       " 'user user you point one finger user millions are pointed right back at you jewishsupremacist',\n",
       " 'sad to hear the announcers say that it may have moved the player to one or two out of the lead whoknows ',\n",
       " 'radio im going to coldplay tonight oh yes',\n",
       " ' think like this too the god who is not coming through for me the god who is not keeping me ',\n",
       " 'user terrorist constitutional rights this is just another excuse by republicans to appease the nra with no gun control measures ',\n",
       " ' user its all about user gloucesterrugby ',\n",
       " ' user very sad user what happened ',\n",
       " 'everyone is everything sad together alone up down fine dandy lonely exuberant depressed halffull halfempty',\n",
       " 'mikeashley sposdirectshame perhapse good example of the need to protect workersrights from within europe euref remain',\n",
       " 'angry birds stella bad princess birds stella bad princess birdsstellabadprincess time post wed ',\n",
       " 'check user incredibly to have made great memories with great people we did an ',\n",
       " 'saw t shi last night that said rip to when cared really',\n",
       " ' user hilarious user im already blocked by user for asking one not paicularly difficult question user',\n",
       " 'devastating news my hea goes out to the victims and their families orlando heabreaking ',\n",
       " 'happiness is not state to arrive at but manner of traveling margaret lee runbeck happiness quotes inspirational',\n",
       " 'safe ways to heal your acne altwaystoheal healthy healing ',\n",
       " 'what am creating right now beats makingbeats thursday work istandard akaipro ',\n",
       " 'wedding number wedding weddingpay love forever weddingdress ',\n",
       " 'were looking forward to attending the cipd ireland conference amp workshop cpd onemoreday user user',\n",
       " 'finally reached followers on twitch follower hypu stream tomorrow ',\n",
       " 'words free its how use em that can cost you verbal abuse hu love adult teen user ',\n",
       " 'after what our country went through this last year to see people bring bomb to the stadium amp come here for everything but football ',\n",
       " 'time to eat with my bae swalscha dejeuner lunch happiness love amoureux ',\n",
       " 'ilovethesecret lawofattraction quiz love happiness motivation success joy life ',\n",
       " 'you might be libtard if libtard sjw liberal politics ',\n",
       " 'its about to go down pole bgp rozthediva blackgirlspole bodyandpole live love ',\n",
       " 'argentina attack bull game d do you really think that his head was empty around the city each side ',\n",
       " 'nohcarolina bull up you will dominate your bull and you will direct it whatever you want it to do whe ',\n",
       " 'building polar bear climb racing angry polar bear climb racing the polar bear living in cold places loo ',\n",
       " 'user user if they want reelection money ksleg ',\n",
       " 'my hea is with orlando right now truly cannot imagine could have easily happened anywhere ',\n",
       " 'alreemgroup aly alshahawy ad cute summer photographerdubai sun hair mydubai ',\n",
       " 'it seems like the only place with action here is montreal ',\n",
       " ' user that and you are old and washed up ',\n",
       " ' am thankful for enteainment thankful positive ',\n",
       " 'user user user this shows truly how bad brisbane are ',\n",
       " 'user cant wait for wimbledon ',\n",
       " 'this really takes the piss im so angry just goes to show who is valued and who isnt you complete and utter moron ',\n",
       " 'user take out the trash america voted against hate voted against voted against vot ',\n",
       " ' fathers day to all the amazing dads out there that give up so much for their families enjoy your ',\n",
       " 'sebbo has said it all user ',\n",
       " ' eg smile smileegsmile torio ',\n",
       " 'user brilliant service at your kettering branch today customer',\n",
       " 'good day new beers at bridpo food amp beer fest back at the campsite drunk the user starstruck amp moved on to user ',\n",
       " ' a s repost from user propey ocean summer life family sydney ',\n",
       " ' am thankful for now thankful positive ',\n",
       " ' user stone roses done now time for user in d club days',\n",
       " 'theres reason why two people stay together they give each other something nobody else can hopelly greats day ',\n",
       " 'you never know who might have crush on you wakow buzz moment ride love crush dating hookup app ',\n",
       " 'my friend just got engaged ',\n",
       " ' days lef b end of classez yay risay risaypls',\n",
       " ' thursday may we watch how we say what needs to be be said ',\n",
       " ' am legendary i am positive affirmation ',\n",
       " 'to the united states of america from the rest of the world think youve proven you dont have the right to own firearms ',\n",
       " 'if you hold open door for woman because shes woman and not because its nice thing to do thats dont even try to deny it',\n",
       " 'when your having good weekend and it shows thankful blessed jeffreycwilliams ',\n",
       " 'when you have good hea and help everyone you always seem to be the one who gets hu buttrue',\n",
       " 'the happiest baby ive ever known cute smiles babygirl beautiful niece blessed xo ',\n",
       " 'cant wait for carowinds ready to see user and user time to rockthepark timetogetmyjesuson',\n",
       " 'already bought my finding dory ticket ',\n",
       " 'for every minute you are you lose sixty seconds of happiness and you should do the same ',\n",
       " 'sanjapan animeconvention see you guys in september ',\n",
       " 'question of the day excited for moto s tech announcements moto s question ',\n",
       " 'happy morning degree with anna classmate friends ',\n",
       " 'user user user thank you very much for this oppounity will cherish it forever ',\n",
       " ' themeowood puppy ',\n",
       " 'few more days till who is ',\n",
       " 'happy by pharrell williams pharrellwilliams lyrics ',\n",
       " 'we lost another member of our family yesterday gutted rosie ',\n",
       " 'yayyy trailer morrow fever super user user user',\n",
       " 'im so ready for tomorrow englishteacher teacher ecuador ',\n",
       " 'in memory of my wonderful dad always missed eternally loved strong greatquotes ',\n",
       " ' user user on dallas shooting the video youre about to see is disturbing so viewer discretion then they play it in loop ove ',\n",
       " 'itakoaloneits fine little ',\n",
       " 'sunshine amp stickers kind of saturday letthembelittle childhoodunplugged ',\n",
       " 'had wonderful day today calm sunny chubbygirl glasses finnishgirl finn ',\n",
       " 'user this man ran for governor of ny the state with the biggest africanamerican population ',\n",
       " 'stereotyping prejudice offer no hope or solutions but create the same old repetitive hate conflict ',\n",
       " 'who can get the pussy quicker these days ',\n",
       " 'ill probably be by the time user comes back home ugh',\n",
       " 'how manypols passed by how many times and said nothing bluelivesmatter draintheswamp ferguson ',\n",
       " 'sequoia is about the weekend ',\n",
       " 'some bitches care more about their eyebrows then how much they makin at the end of the week ',\n",
       " 'bham is pride paradereadybeyou ofbham user user user ',\n",
       " ' bihday to my bogummylove you foreverhope you happy everydaygood night user ',\n",
       " ' positivevibes fresh love you guys get some concord mills mall ',\n",
       " 'the conjuring get ready to be scared tonight its on readyornot truestory ',\n",
       " ' today is the day to make the change eliminate negativity and choose to live positive lifestyle instead ',\n",
       " 'last day at work tomorrow for me self employed from monday scared redditchbizhour',\n",
       " 'user im half boy half man so im dumb too ',\n",
       " 'my happy little boy smiles corbinrayp ',\n",
       " 'never been more appropriate have zero idea of what im feeling right now scared missyou whatwasthat ',\n",
       " ' user have magnificent monday mondaymorning mondaymotivation monday indraloka ',\n",
       " ' just dont understand these designers print animals on fabric just bought user muzlin b sanasafinaz noexchangepolicy',\n",
       " 'littlebear and her friend joy toddlerfriends puresweetness latergram toddlerfun ',\n",
       " 'if you have never lost loved one to senseless violence you dont get fucking opinion on the nd amendment ',\n",
       " 'where is the world heading you could lose your life just for leaving your home orlando ',\n",
       " 'good mood flight with user off to munich for user interviews pharrell ',\n",
       " 'first presentation by user in the netherlands by user ',\n",
       " 'happiness vs joy happiness is temporary and leaves hu joy last forever and never leaves real tru ',\n",
       " 'twinklatinboys na slut snapshot hot nasty naughty sexy horny shy porn nude kinky xxx ',\n",
       " ' user it is not people who are thankful it is thankful people who are happy thankfulthursday ',\n",
       " ' am creative i am positive affirmation ',\n",
       " ' have held back tears have cried happy tears amp finally we leave week tomorrow user user canadianravers ',\n",
       " 'bihday pressie from my mummy and my granny michaelkors luckygirl bihday liverpool ',\n",
       " ' user stuck in athens instead of santorini because user said it was to windy to land shocking service on every level since ',\n",
       " ' user these happy folks had the very first freakshake at the launch freaks yum dalston user ',\n",
       " ' am thankful for saturdays thankful positive ',\n",
       " 'good god why ',\n",
       " ' user enjoying these delicious melons vegan organic fresh fruit organic healthy healthyliving life ',\n",
       " 'first months then weeks now its only days till the beginning of the end of user am both and sad at the same time ',\n",
       " 'its firework weeheeeee ',\n",
       " 'blackpool attack bull game d do you really think that his head was empty around the city each side is ',\n",
       " ' fathersday to all our the amazing fathers out there today ',\n",
       " 'user ready and waiting newblood ',\n",
       " ' horribly ads from that made us cringe ',\n",
       " 'wouldnt mind robsonkanu at s decent player available on free transfer too ',\n",
       " ' user come on user you can do better than this please put yourself in user shoes unnecessary stress h ',\n",
       " 'stalk me watch me im just peon poor disabled kill methis usa is not the usa used b proud of amp the universe doesnt care ',\n",
       " 'stephcurrys outburst begs the question can christians get nbafinals ',\n",
       " 'im so and grateful now that affirmations ',\n",
       " ' more weeks to go then im san antonio bound to see user cant wait to see my little brother missyou mybrotherskeeper',\n",
       " 'user the dying of the light village greentown antisemitism hocoschools columbiamd hocomd',\n",
       " 'sexy as fuck directioner niall nialhoranfacts niallerwins hot justindrewbieber justindb believetou ',\n",
       " ' user fathersday say love you to your dad right now sanya whererefreshingbegins ',\n",
       " 'guess who back back again lifeaftersurgery dog dogslife labrador labradorretriever lifeofsam ',\n",
       " 'hey superspoilt you may want to check for latest updates on glastofest ',\n",
       " 'user user user user user bihday sid god bless you hav successful career',\n",
       " 'check out my production teams webseries episode that was edited by yours truly mep webseries ',\n",
       " 'user you never answered me about your statement on the nazis over hatred amp bigotry being found w ',\n",
       " ' juneteenth independenceday food thought rich ancestral heritage independence hall ',\n",
       " 'river gorilla simulator you need to do to adapt to the environment the need to tear the city material ',\n",
       " 'watching the user leadership embrace amp kiss donalds ass is pathetic amp this is now the user pay pay of racism amp hate ripgop',\n",
       " ' love how am so mature for my age ',\n",
       " ' user its such good feeling when this happens smile instalike instamood instapic ',\n",
       " 'check it graffiti dublin ireland music vimeo movie video europe people flow fun rafalwojcicki',\n",
       " ' user its user iampossible today extraordinaryladyspeaks starawards user user ht ',\n",
       " 'tony sunday tonyawards ',\n",
       " 'happy fathers day to my dad and all of the dads out there fathersday ',\n",
       " ' user theverdict is in im an idiot country rock bluegrass beatles love pop romance ',\n",
       " ' projects of the week june blog silver gold forex',\n",
       " 'wishing this guy bihday blaze says user is the spitting image of a ',\n",
       " ' am thankful for hiking trails thankful positive ',\n",
       " 'all pay meeting to tackle movie which uncovers problem we dont want the world to know ',\n",
       " 'always be paratyphoid ',\n",
       " 'some guys too concerned about their twitter brand to be honest with their followers ',\n",
       " ' hate like of my family was really born into big ass toxic bomb mother fuckers dont give fuck about me cuz got money ',\n",
       " 'get up get get enjoy music today free apps free music ',\n",
       " 'best lawofattraction resources for healing altwaystoheal healthy is idwp ',\n",
       " 'trump ny cochair makes racist remarks about michelle obama p p fyi tcot',\n",
       " 'are you user fan this should make you ',\n",
       " 'how can food make family fight mxm ',\n",
       " 'have fabulous weekend beautiful souls nofilter ',\n",
       " 'when im feeling overwhelmed and look down and see million reasons to be happy again love you craig ',\n",
       " ' hour right now bottles amp drinks from pm user chippewa st buffalo ',\n",
       " 'anas nimra farishta mawia khushal the number of marks obtained is too damn high p',\n",
       " 'my monday is so empty without the bachelorette thebachelorette empty nowine',\n",
       " ' suppoing family god chivalry tradition and pride in ones heritage is now controversial ',\n",
       " 'user the pic says otherwise for young girls confined in that kitchen you are void of meaning beyond cheap publicity topoli ',\n",
       " 'good night faith ever vaitacacommafiasdv',\n",
       " 'do what you love to do simply for the love of it love success work business ',\n",
       " 'lunchtime with mom torrington lunch afterschool instadaily yummy withmom user ',\n",
       " 'ride out ride back done cycling sunset ride bikes fitness cardio dese ',\n",
       " ' user tagsforlikes me foodfriendssummerswagquotes lovegodgirl weekend polaroid followme teen winjob ',\n",
       " 'payintheusa polar bear climb racing angry polar bear climb racing the polar bear living in cold place ',\n",
       " ' healthy fam',\n",
       " 'dream palace can we move in already stellar girls dreamy goodmorning days ',\n",
       " 'im waiting for follow since the factor ',\n",
       " 'user but its your fault you have to use it to pointscore ',\n",
       " ' user forever user young man he luks too hot wen he is in temper ill alwys ur fan till my lst breath h ',\n",
       " 'dont worry bee ',\n",
       " 'double tap and follow me beautiful smooth lifestyle skin instasize f f fashion ',\n",
       " 'lawofattraction for healing loa be healthy well idwp ',\n",
       " ' oil turns flat to eyeing eia inventory data for fuher direction blog silver gold forex',\n",
       " 'training in new employees is fun newblood ',\n",
       " ' first bihday to our puppy eloise sweetbabins dog growingup cute bihdaygirl user ',\n",
       " ' user pigs burn alive in saskatchewan barn fire video ',\n",
       " 'with my beautiful ladies is blessing to know them smile lovethem ',\n",
       " 'today baba siddique ifftar pay at mumbai user amp user dono ayenge to see both again',\n",
       " ' user cant wait to go see warcraft ugh warcraft',\n",
       " 'cousins reunited familyfunuser wellness ',\n",
       " 'at user for an audience with duane henry should be very insightful ',\n",
       " 'my train hasnt moved so im binge tweeting ',\n",
       " 'user when youre blocked by troll because you promise to blacklivesmatter amp let his nonsensical rants boos ',\n",
       " 'sdl am user june user',\n",
       " 'use the power of your mind to heal your body altwaystoheal healthy is ',\n",
       " 'dude im tiger roar tiger annaswelshzoo bihdaycelebrations ',\n",
       " ' user we dont laugh because were happy were because we laugh william james xtra',\n",
       " 'have happy sunday everyone think today is going to be good day positivevibes sunshine sunday ',\n",
       " 'stuck in the rat race find your freedom masterkeyexperience ',\n",
       " ' have to study face pizza stole my roommates idea for taking this pic ',\n",
       " 'dinner with sister sisteradventures sister ilovemysister ',\n",
       " 'who else is planning on watching user tomorrow ',\n",
       " 'usn rifle day snowed out so ar is closest to m ever got user user user navy',\n",
       " 'no elder scrolls for many years wah wah bethesda e e ',\n",
       " ' user poor tiggy and little bit cheeky jax amp soa throwbackthursday user user user ',\n",
       " 'very to work with russellbeckwith soon staytuned my friend lyle tapfoags ',\n",
       " 'why the nazis studied american race laws for inspiration ushistory eugenics',\n",
       " 'nothing like river island sale shopping spree to cheer you up retailtherapy riverisland shoppingqueen alwayscheersyouup ',\n",
       " ' new listings are up ebay woohoo sell selling buy shop shopping ',\n",
       " ' am thankful for my challenges thankful positive ',\n",
       " 'chilled night in with ice creamamp grown up chilled ',\n",
       " 'user biherism absolutely originated in hateful bigotry altright hatred of our african american potus theresistance',\n",
       " ' user sweets instagood idola idol followme selfie ',\n",
       " 'all these tragedies in america first with the killing of christinagrimmie and now orlando america is not safe place to be today ',\n",
       " 'fab amp interesting day at eacbpm now dash to quiet place to dial into iiba emea region meeting busy ',\n",
       " 'kayak sup snorkel swimwhatever your pleasure well put it together alohabeachbus hawaii explore ',\n",
       " ' can hold man down for years and watch him change on over some hear say no loyalty no ',\n",
       " 'well back going to tacloban now see ya later great traveling to tacloban city from catbalogan ',\n",
       " 'user how do you feel about that you havent won any olympics medal ',\n",
       " 'angry birds il film download ita p hdtc birds download film il ita',\n",
       " ' sunday to you all photo by user model urbex topless tits mono retweet sexy heels ace ',\n",
       " 'fo woh officer in viral arrest video was rude not racist chief crime officer ',\n",
       " 'yayyyy my friend got married today congratulations guys shegotmarried ',\n",
       " 'chris is so to be back to soccer after missing most of spring season with broken ',\n",
       " 'train tickets booked for my opera week in wales ',\n",
       " 'its beautiful day sun fun beachpark beach park ',\n",
       " 'the big screen is being fitted right now euros ',\n",
       " 'not all love stories are happy ending anime love story not ending like like ',\n",
       " 'poet bull up you will dominate your bull and you will direct it whatever you want it to do when you sta ',\n",
       " ' am tranquil i am positive affirmation ',\n",
       " 'user is that the name of any upcoming new track pm kpop',\n",
       " 'best essentialoils for anxiety healthy peace altwaystoheal ',\n",
       " 'thinking maybe should have bought user instead of user gettingold becomingboring notborderlands goblizzard',\n",
       " 'ryderrideu see you c c and cum together snapshot young shy kinky wet porn hot xxx horny ',\n",
       " ' snapchat gaby china love girl snapchat flowers instasmile instalove ',\n",
       " ' user true niggas dont go looking for apaments they go look at shoes and jewelry ',\n",
       " 'camping next weekend lovecamping brownwood',\n",
       " 'my forever bestie karaoke friends friendship love nofilter instacool instagood ',\n",
       " 'headed to thealter with my peculiar family ',\n",
       " ' us retail sales control group likely rose mm in may danske bank blog silver gold forex',\n",
       " 'happy fathers day you are love of my life ampthe best father in the world user fathersday love ',\n",
       " ' coolestlifehack worlds smallest snake motivation',\n",
       " ' funny or simply so truestory ',\n",
       " 'happy bihday to me brithday day holidays monday menmodels ',\n",
       " 'ukrainians athletes are not in grosseto for user watching livestream without seeing them its not the same ',\n",
       " 'new season of oitnb stas tonight oitnbseason ',\n",
       " ' user excited to be on the other side of the cuain for once tonight looking forward to seeing user on broadway ',\n",
       " 'when quay collab with user says sold out noooo whyyyy loveyoudesi ',\n",
       " ' am impressive i am positive affirmation ',\n",
       " ' fathers day to all the fathers out there out there making it happen salute to yall ',\n",
       " 'our view from the th floor nyc newyorkcity myview girl wine fridaynight ',\n",
       " 'discussing republicans is the same thing as critiquing we cant ignore the consequences',\n",
       " 'got school tomorrow my last integration ',\n",
       " 'amen truth always lt lt love blessed ',\n",
       " 'user and the stamford kid got months for rapebut that wasnt boredomit was minutes of action ',\n",
       " 'lets colorized your life rainbow danian love colour rainbow depok ',\n",
       " 'aiel aielmaharashtra rude customer care executive makes me want to switch my loyalty to another provider irritated',\n",
       " 'hi teddy corpuz rocksteddy band enjoy idol omg ',\n",
       " 'user wow what great daughter you are to send that to your father right before fathers day cheapshot lowblow shame',\n",
       " ' reasons to be happy when your kid is midtantrum parenting tantrum toddler calm mindfulness strong',\n",
       " ' am truthful i am positive affirmation ',\n",
       " 'yup siri on macos wwdc woot next did they work on her listening skills ',\n",
       " 'are you black amp feel like the are stomping on you retweet tampa miami ',\n",
       " 'if youre not with your choices this fall you can always write candidate in ',\n",
       " 'user ending ',\n",
       " 'get to know the team behind the app thats keeping our tummies in our june issue user bazaarmag ',\n",
       " 'actually going fishing today somewhere nice ',\n",
       " 'how cute they both look like dolls ',\n",
       " 'user did and im ',\n",
       " 'love this vacation enjoy greece crete sabinedrift chillinn blondegirl bluedress ',\n",
       " 'user unreal advisors refuse to take my payment and say wait for pcn is this customer service when ur site wasnt working ',\n",
       " 'user im gameready for forza horizon on the pc what time we live in ',\n",
       " ' user life better in tahiti summer life no school tahiti like',\n",
       " ' know their males but thought they had vagina like in video games xd stupidthoughts quote lmao',\n",
       " 'pa of the pack was taken and brainwashed by cheetahs downasquadmember treeouts',\n",
       " ' japan domestic corporate goods price index yoy in line with expectations in may blog silver ',\n",
       " 'user allahsoil the more familiar we become the more difficult it is to stereotype ',\n",
       " ' user good morning if you want to live life tie it to goal not to people or things ',\n",
       " ' user friday lt fridayfeeling relax user bristol ',\n",
       " ' days porn movie pussy pay pics ',\n",
       " 'it looked easy till my turn rap hiphop rock funny comedy pop kanyewest ',\n",
       " 'banner merry christmas and new year freepik ad decoration newyear',\n",
       " 'in my exam room testing tired annoyed why ',\n",
       " 'best homeopathic remedies for anxiety altwaystoheal healing peace ',\n",
       " 'rest in peace christina ',\n",
       " 'those bamas you fool around with might be raising your child ppl dont think that far in advance they just see fun or whatever ',\n",
       " 'anti racist is codeword for antiwhite asia for the asians africa for the africans white countries for everyon ',\n",
       " 'fellowship lifegroup ',\n",
       " 'user you praised cleveland police during rnc the police are under consent decree are white tamirrice rip',\n",
       " 'everything you need for surfday fathersday to all the dads out there from novysposnovytowelsurfgear ',\n",
       " 'user agree ',\n",
       " 'user no swimming signs everywhere parents werent watching year old ',\n",
       " 'mitchellrattle mitchell goodson ',\n",
       " ' user getting ready for saturdays jeep run with nbjc days until showyourjeepday jeepmafia jeeplife jeep htt ',\n",
       " 'user attempt at czech fury only for croatia to score their second ',\n",
       " 'the latest dairy ks thanks to user user user ',\n",
       " ' user yep grateful for everyday gratitude laurasworld ',\n",
       " 'ive had the ebook for awhile but its so nice to have the hard copy ',\n",
       " 'nba finals game what more could basketball fan ask for nbafinals',\n",
       " 'user that doesnt prevent you from being and bigot',\n",
       " 'dear uot despite our attempts to savecharity regret to announce that weve lost her tragic rip angelic friend we will miss u',\n",
       " ' space place color blue fabricsourcing or finished pillow cushions use us ',\n",
       " 'perfect moment of the day ',\n",
       " 'waited for user for an hour to come out just for an autograph finally walk awayhe comes out of course disappointing ',\n",
       " ' fathersday gift your dad secured financial future save insure invest ',\n",
       " ' girls in the world sexy mature housewife ',\n",
       " 'to my awesome dads my almighty father my lord my darling dad rip sweethea my husband my babies daddy st son fathersday',\n",
       " 'owens football tornament football ',\n",
       " 'come on ee piss poor reception today month and struggle to get signal in buxton put more masts up or im switching grumpy',\n",
       " 'excited na me ',\n",
       " 'work fusiona wolves in last stage development chase user user now ',\n",
       " 'user dont like the blacklivesmatter slogan talk about being ',\n",
       " 'rip little bear bear hamster rip imissyou ',\n",
       " 'give me hug love my cats moment ',\n",
       " 'life isnt race allow yourself to be in the present user fun',\n",
       " 'dental testimonials from our lichfield clients ',\n",
       " 'thank you soo much pretty user feel soo blessed amp luckyplz do keep showering ur lyks on me surprised likes unexpected',\n",
       " 'user user user nice c susanna smiling daywho needs false promises of flying dragons when shes got ben ',\n",
       " 'user d not back yet ',\n",
       " ' got the call yesterday mom was diagnosed with stage ovarian cancer im terrified shes terrified just dont know what to do ',\n",
       " 'user feminismiscancer feminismisterrorism feminismmuktbharat why malevote is ignored user',\n",
       " 'user user user is on the other side of history and our allies on this issue embarrassing ',\n",
       " 'fox new just coming out and saying it bluntly one of the most things ive read ',\n",
       " 'good morning all internationaldayofyoga yogalove yoga relax healthy positive ',\n",
       " ' user new plants from user are here and ready for the garden at gardening know how ',\n",
       " ' user coldplay last night with my fave coldplay conce hampden fave couple cute ',\n",
       " ' flagday heres mine in this gorgeous texas sky householdname takingover ',\n",
       " 'user yes lets do thissuppoing openly prowar anti islamichomophobicrapistwho advocates more of samehypocrite',\n",
       " ' cat furry persiancat pixion wallpapers images ',\n",
       " ' user enjoy everything already given to you rather than always needing more blessed thankful ',\n",
       " 'for fathers day too should take your dad to user for the for he will love it ',\n",
       " 'berlin before and after thank you so much user that was incredible theriveourberlin theboss ',\n",
       " 'why listen incubus never hus nowplaying sick little world nissan live set de user ',\n",
       " 'user anderson cooper amp don lemon will not like gays being thrown off buildings by sharia ndamendment ',\n",
       " 'bei is on field for dogwalking dogs ',\n",
       " 'who would steal awork from user boohiss ',\n",
       " 'competing for listing today whenrealtorscompeteyouwin callme gotheextramile ',\n",
       " 'user great park but totally disorganised one poaventura whatajoke ',\n",
       " 'ive got news for you bernie wasnt winning dc even if the vote was held last month dcvotes ',\n",
       " 'poor pup animals puppy vine magic subscribe youtube vine by user ',\n",
       " 'rare pic of superstar user with user bihday sivakoratala ',\n",
       " 'user and user how is it and am moving just outside of downtown gr mi and neither of you offer better than mbps ',\n",
       " ' user wishing all the dad s happy father s day dads fathersday intellicred ',\n",
       " 'that face says it all pwcproud ',\n",
       " ' u y love instagood user tbt cute me beautiful followme ',\n",
       " 'enjoy this weekend with your family at your home happy weekend my dear friends weekend family home ',\n",
       " 'another senseless tragedy tragic pulse orlandostaystrong thoughtsandprayers ',\n",
       " 'captain felix at rutland water the little boat behind is about to go on very grand adventure ',\n",
       " 'binge watching series of thekilling so as to completely avoid football ',\n",
       " ' porn vids wwwsmallgirlsexcom',\n",
       " ' user tuesday jackie quote taketime to do what makes your soul enjoylife smile believe dream havefun ',\n",
       " 'play england vs russia in marseille at what did they expect high risk game and plenty of time to drink ',\n",
       " ' am thankful for sweater weather thankful positive ',\n",
       " 'haunting atmospherics studiotime ',\n",
       " 'user user become fan does not give the right to criticize the personal life of an idol ',\n",
       " 'the latest obsidian radio daily thanks to user user user latesnews',\n",
       " 'mindblown learning so much in this google forms workshop user cfisdrrr',\n",
       " ' user so sexy prettypussy sexybbw realmvp ',\n",
       " ' user back to user after v traumatic few months damage not as bad as thought proof the plan works onwards amp upwards excit ',\n",
       " ' just more overwhelming evidence that the company trump keeps echoes his sentiments amp ideals dumptrump ',\n",
       " 'how to be have the answer ',\n",
       " ' orb independent brexit poll shows leave vote ahead gbpusd slumps blog silver gold forex',\n",
       " ' user user user mm mm no washout no flooding good take and all set for another days golf ',\n",
       " 'user ya ever since zayne left theyve never been the same ',\n",
       " 'happy fathers day loveyou fathersday sunday father daddy day ',\n",
       " 'big shock on mondayneeded to find new home yeah found my dream cottage on tuesday ',\n",
       " 'save thousands free search logins brokers actor seeklearning stafresh ',\n",
       " 'actually ordered kylie lip kit ',\n",
       " ' hope the family made arrangements to make sure that bastard user can t get access ',\n",
       " ' socialmedia us firm to build nuclear reactors in india ',\n",
       " 'smaphone bull up you will dominate your bull and you will direct it whatever you want it to do when ',\n",
       " 'lifeisbeautiful loveit workhard trainhard no matter where you go blessed fitlife ',\n",
       " 'oscar tabarez talks luis suarez s angry reaction spos during luis oscar ',\n",
       " 'now playing on njoyhit hitmusicstation us uk eur user join us on nice nyc user',\n",
       " ' user only weeks to go and im personaltrainer full time will have new slots available from june pls spread t ',\n",
       " ' mother can take care of ten childrens but sometime ten children cant take care of their mother ',\n",
       " ' am thankful for good nights sleep thankful positive ',\n",
       " 'now playing the bride nocturne on melancholy melancholymusic',\n",
       " ' am thankful for my friends thankful positive ',\n",
       " ' am thankful for mason jars thankful positive ',\n",
       " 'nigger lifelessons of white kid who grew up in the s blogpost whitepeople respect ',\n",
       " 'user user user congrats for user',\n",
       " 'via jts user love sinkthepink music instagay celebspot ',\n",
       " 'user ready for user at ccmf mychurch frontrow upshow ',\n",
       " 'how utterly people with incurable stupidity in africa albino killings in malawi spark education campaign ',\n",
       " ' gold off highs back around blog silver gold forex',\n",
       " 'shocking events in orlando now will the usa review their gun laws or do more innocents have to die first horrific unforgiveable ',\n",
       " ' am knowledgeable i am positive affirmation ',\n",
       " 'with le sister instatraveling instamoment igdaily instagramhub instagood instalike ',\n",
       " 'the factor does your mobile app make the user want more factors click to download aricent whitepaper ',\n",
       " 'user meanwhile google violates freespeech at will ',\n",
       " ' user rochester attack bull chase when you leave the lot despite the fact that youre strong source of ',\n",
       " 'im in the user competition ',\n",
       " 'tattoosleeves gorilla simulator you need to do to adapt to the environment the need to tear the city ',\n",
       " 'ima go cry for few hours brb ',\n",
       " ' tell my sorrow to the river so that the river taught me how to flow without the complain sepatu dahlan philosophy proverb',\n",
       " ' am thankful for memories thankful positive ',\n",
       " 'user you surely are nasty piece of work lmao ',\n",
       " 'today is perfect day to be happiness lifecoach reinventimpossible ',\n",
       " ' after sex over sex nake women ',\n",
       " ' am thankful for cocktails thankful positive ',\n",
       " 'dont wait outside thepeel work homophobic taxi driver guys kiss there gay melbourne cabs ',\n",
       " 'great morning deborah user smiles and kindness day ',\n",
       " ' windows split screen browser customcasetab noedit ',\n",
       " ' user people use tragedy like this to fuel their hate agenda towards entire groups of people and thats the opposite of helpful ',\n",
       " 'taeyeon unnie is on fire btw really hope that her album cover is not yellow lol why ',\n",
       " 'john micahow the hell are people like you elected user user totalpolitician outoftouch disgraceful ',\n",
       " 'oh she blocked me at least have love island to look forward to on sunday ',\n",
       " 'now playing suzanne ciani oclock in the morning on music song ',\n",
       " 'help bubble attack winter bathtime cozy ',\n",
       " 'the thing is no matter how many laws and regulations there are with guns people will still find way to get their hands on them ',\n",
       " 'user didnt stay for long had an emergency at home my daughter was not well soo had to rush home and missed ur set ',\n",
       " ' user great insights on trusted professions in emea at growth hacking conference at growthwithhubspot ',\n",
       " 'carolyn cooper ugly poor ignorant and black ',\n",
       " 'franklin is dog in the sunshine dogsoftwitter ',\n",
       " 'perfect day buy real furniture hiking user for dinner user for desse sleepnumber bonustolongrest dnd ',\n",
       " ' love you sunday weekend selfie longhair girl selfporait love ',\n",
       " 'nature perfection bull hill climb you have to reach the target to complete the task to survive with str ',\n",
       " 'orlando gay men angry they canamp t donate blood after massacre ',\n",
       " ' user golinglobal golinuntern fresh air trail running and soul keeping the golinuntern life balance ',\n",
       " ' user user monroeampnick best friends amp rosaleeampaddie and now kellyampbabymonrosale grimm families nadalind',\n",
       " 'you know what find incredibly disrespectful taking personal call during meeting frustrated ',\n",
       " 'date night friday pub ilovehim instagay beer billys on burnet ',\n",
       " 'this is so hea wrenching what would be the state of the mother when she knows her son is about to die ',\n",
       " ' user how times fly less than week to go until the brilliant user leads our summer conference ',\n",
       " ' so sad ones gtgtgt ',\n",
       " 'sirf ashiq log follow karen iqbal galib wasi faraz mohsin ki full poetry no add follow user',\n",
       " 'thank god for the royals of because without it kansas city is right down there with cleveland disgraced ',\n",
       " 'will get to see my favorite person tmrrw ',\n",
       " 'latina buffalo simulation buffalo for you to take in the vicinity of their homes to do in this way you ',\n",
       " 'what world we live in orlando ',\n",
       " ' user now the vacation has begun triathlete triathlon coach vacation fearless rul htt ',\n",
       " 'user bit of heabreak too reflective ',\n",
       " 'hardcore girls videos birday sex xxx ',\n",
       " 'takalot book order arrives in time for long weekend away in the bush bengreenfield ',\n",
       " 'saysomething bull up you will dominate your bull and you will direct it whatever you want it to do when ',\n",
       " 'steph san kana your s are badly needed please ',\n",
       " ' user another hands amp feet complete berachah you are the best amptired ',\n",
       " 'user on my way over ctf to have book talk with the inmates paicipating in the user book club program slugg ',\n",
       " 'ready for this awesome beat cool dj dance edm house goodmusic madness ',\n",
       " ' jpy negative external environment remains suppoive mufg blog silver gold forex',\n",
       " ' mkf collection jasmine and moira crossbody bags wednesday',\n",
       " 'currently out to eat at steakandshake and ive been here for minutes and not gotten the shake ordered not ',\n",
       " 'gray is very sad color it makes me feel grayneedstogo',\n",
       " 'difficult roads often lead to beautiful destinations anon leadership inspiration quote inspirational ',\n",
       " ' usd long positions added eur shos increased anz blog silver gold forex',\n",
       " 'its r rockalldayer on user for me its user day noise',\n",
       " 'user no he was definitely mexican fakenewsale',\n",
       " 'user when is the new album being released about user and your break up loveherbreakups hotgoss',\n",
       " 'standing up to racism and hate by americad not curse out congress and all haters who are deplorable hate ',\n",
       " 'you are my sunshine my only sunshine you make me when skies are gray ',\n",
       " 'something wanted to say something that makes me happy gaming gamer xboxone playstation user e ',\n",
       " 'the football is actually the only thing on at mo thats watchable bringbackgladiators',\n",
       " 'happy hump day humpday life lifestyle wednesday midweek snapchat walrus funny ',\n",
       " 'let me just say love being me ',\n",
       " 'dont worry be happy via user archiveday weekendblogshare happiness quotes tshis',\n",
       " 'happy puppy london puppy thursdaymotivation ',\n",
       " ' dont know where youre going but do you have room for one more troubled soul drawing blackandwhite ',\n",
       " 'we recommend these dark amp romances horror moviegenres ambiance',\n",
       " 'user trump used hate and putin to win the white house trump presses attack on khan family and gop leaders ',\n",
       " 'one of my bucket list items ticked tonight finally saw ice cube live tonight wildlifefestival today was good day ',\n",
       " 'my friends magical potion ewabeach magicalhappydrinks ewa beach house ',\n",
       " 'everytime wear soccer shis joie fries me and says look mexican as fuck ',\n",
       " 'its been weird few months but finally feeling more positive about life lately pleasedontchange ',\n",
       " 'checked in holiday croatia daystogo',\n",
       " 'user night sweet dreams',\n",
       " 'fashionblog rooster simulation want to climb the vast expanse of mountains it reached the leakage coc ',\n",
       " 'in the best mood ever becauseofhim inlove ',\n",
       " 'be happy dont worry smile love iminlove iam im in nice day ',\n",
       " ' user monacorestochezedgardgrandprixf essaissunlewissuppo user amour love ',\n",
       " 'just bought launch using design thinkingby user amp user via user toread letsmake ',\n",
       " 'so mad that chose dj snake over zedd at edc ',\n",
       " 'the danger of white liberalism to oveurning applies to liberal men and feminism too ',\n",
       " ' user user user truly truly pathetic in so many ways user user user nothing learned from the coverin ',\n",
       " 'monday mornings working by the lake scottieandrussell work love picoftheday ',\n",
       " 'im loving this rain hope it hangs around while rain water tbt me weather bribieisland ',\n",
       " 'user you have chosen the wrong horse and unless you change your mind soon it will be the end of your political career ',\n",
       " ' user weddings are impoant because they celebrate life and possibility anne hathaway wedding love ',\n",
       " 'icymi shooting at orlando nightclub kills about police say debeloping guns ',\n",
       " 'user user snatched some of these this past week schoolsupplies',\n",
       " 'great aicle right on the money starspangledbanner slavery apaheid usa ',\n",
       " 'babies was born welcome to new world cats babiescat cat newborn congratulations ',\n",
       " ' user user user user user evening my dear cutys ',\n",
       " 'user user its all about me mentality of our culture mentalhealth',\n",
       " ' user wishing all of us very weekend ',\n",
       " ' am thankful for freezers thankful positive ',\n",
       " ' user ready for ltagt full day of lthtmlgt from user to user cssday',\n",
       " 'user thank you the power of social media user aande ',\n",
       " ' user this made me smile bigbang babies cto ',\n",
       " 'sending good vibes your way happy friday tgifriday goodvibesonly becauseimhappy smilemore ',\n",
       " 'letsgo agents tooeasy more days till dlc know im gamingforeveryone ',\n",
       " ' user what did you decide fowoh goldenretriever lcck comfodog workingdog ',\n",
       " 'user gets him angry muslim assassinating not so much ',\n",
       " ' we out hereeeee user ericprydz edc music musiclife edm dance girls ',\n",
       " 'funny thing about humankind we watch the news feel bad etc then back to open for business as usual not good re the future',\n",
       " 'user and you keep telling that only aryans are allowed to rape women youre just troll eod user user',\n",
       " ' user speechless when it comes to all the shootings recently guess people have nothing to lose and dont have any respect ',\n",
       " ' user as forecasted the beautiful waves of raalhugandu has disappeared due to construction of the bridgeamp theres no hope of it com ',\n",
       " 'user any minute trump will condemn the vile bigoted comments of his surrogate carlpaladino endhate ',\n",
       " 'wishing all wonderful dads fathers daylets rock today at red rascals ',\n",
       " 'user allahsoil vps got multimillion dollar bonuses while average americans lost their homes ',\n",
       " ' love abrahamhicks and lawofattraction healthy healing joytrain ',\n",
       " 'signed up for my first bikram yoga class ',\n",
       " 'think thoughts and they will shine from your face like sun beams quote smile ',\n",
       " ' jan interested in how discrimination and has affected the criminal justice system ',\n",
       " 'friends forever friendsswedenreunion gratefullove egna hem ',\n",
       " 'keep up the opposition to user endthenation',\n",
       " 'my two loves beer craftbeee dog malinoislovers malinois passion friend ',\n",
       " ' fathersday father s day dad skinny and single buy things about h ',\n",
       " 'user rickityrick rickityrick as the same ole broken down wagon is looking to find the next mateen to jump on board ',\n",
       " ' guess user is talking about progress in the advancement of misogyny homophobia bigotry',\n",
       " 'to everyone going through any struggle or pain right now keep your head up and keep on smiling youll get through it hope so ',\n",
       " 'good evening my darling instagram babies blessed lipstick makeup fun grateful share ',\n",
       " 'user jake is right many ppl lack the will power to take stand amp drown the small minded amp oft evil tendencies of past ',\n",
       " ' really hate hipocrit politicians which is just about all on all sides we deserve better as citizens ',\n",
       " ' user user user where is environmental wellbeing the plan is only about sites nothng todo with w ',\n",
       " ' bihday sway bihday sway bihday bihday ',\n",
       " ' saturday morning now go back to sleep thetrust comusic indie faded away johnmaun listen user ',\n",
       " ' was founate to have this man in my life every single day father day to all ',\n",
       " 'user user gutted didnt know that you were here tonight would have been there good luck ',\n",
       " 'beginning to think user is tom brady hater the way he goes on about the man ',\n",
       " 'the attack in orlando has caused lot of pain to many people vengeance is not an option we are all very lets comfo each other',\n",
       " 'cuteness overloaded let your life fills with love and sweetness live long married life ',\n",
       " 'heading to graduation user mechtechplumbing futureplumber proudmama ',\n",
       " 'user user is it possible for you to speak in any topic without bringing race into it you bigot user ',\n",
       " 'ours too so much terribly news over the weekend orlando christinagrimmie prayers ',\n",
       " 'do more of what makes you innovative nous',\n",
       " ' update social analytics instalike tbt yoga summer fun ',\n",
       " 'rushlimbaugh does his incredibly obama impression via user',\n",
       " 'user user we the people are failing our fellow citizens ',\n",
       " 'staing to pack for my move newflat',\n",
       " 'he is my first love may not be his but he makes me feel like am love cheese shotermlongdistance ',\n",
       " 'user just youtu bed them two and they dont get on now friendship',\n",
       " 'if you want to be be kind to the poor it is sin to despise anyone jesus faith believe wisdom',\n",
       " 'have nice life im done trying to be in it lovequotes',\n",
       " 'the latest positivementalattitude thanks to user user user positive ',\n",
       " 'just arrived in blagoevgrad fo zaz conce feeling under the umbrelas ',\n",
       " 'user number of our leaders are coming ',\n",
       " 'great way to spend saturday relaxation positivevibes california cakesbytheocean ',\n",
       " ' eurusd could test nearterm westpac blog silver gold forex',\n",
       " 'he has no money campaign asking for k donations by midnight to fight hrcs ad buy brokedonald lyindon ',\n",
       " 'today calls for champagne friday fridayfeeling friyay goodweek clients hair ',\n",
       " 'just the of us me selfie myfriend loveher giannena smile thecomeback ',\n",
       " 'now playing yiruma kiss the rain on music song ',\n",
       " 'backwho missed megreatfultogod beendoinggreat selfie ',\n",
       " 'do not repeat do not put dog in hot car and leave them there in the heat keep them home for fucks sake dogs',\n",
       " 'what splendid nosie me probably not this year wrc rallypoland user user ',\n",
       " ' hours to go until our music video is released music edinburgh scotland band user musicvideo user',\n",
       " 'look at journeys left and right foot stage ',\n",
       " 'black professor makes assumptions about an entire race whilst speaking for entire race next week the jews ',\n",
       " 'back to musicnow playing michael jacksonthe lost children unificationsdayand may god all the children amp their families smile',\n",
       " 'drakeandjosh buffalo simulation buffalo for you to take in the vicinity of their homes to do in this wa ',\n",
       " 'trumpusa when they call us homophobic misogynist they are really saying they are jealous of us w ',\n",
       " 'user think you should suspend indefininetly that racist staff ',\n",
       " 'she sat alone and let out sad sigh openrp bored',\n",
       " 'good morning manchester quick preview of new gin that well be launching very soon about this one ',\n",
       " 'kiki felt ignored today user make kiki dance again kikidance miabbook ',\n",
       " ' user the source of inspiration my ideal my lyf my baba fathers days',\n",
       " ' user congrats to the thomas on your new beautiful home in tehaleh welcome to the lennar family homeowner ',\n",
       " ' miss the days when my friends played xbox ',\n",
       " 'user loving our dincwear mums da word user for straight up on saturday brickingit',\n",
       " 'user hes the only one where the majority of fans like him salty gsw fans just needed someone to be about',\n",
       " 'user when is this coming to singapore ',\n",
       " 'sma baby socks gbp get here shop cool home fun ',\n",
       " ' liked user video from user sjw retard wants more ',\n",
       " ' user so woh the wait user doubledown my wife user is user veganbeerfest vegan ',\n",
       " 'user lmfao deadass ',\n",
       " 'what an amazing interview bjmckenzie born win bjmuzic ',\n",
       " 'boasty tuesday last night boom boom and harry hype say get ',\n",
       " ' bihday balayya even at that age mass lookcraze in fanson screen romancehe is legend jaibalayya',\n",
       " 'outlining my themes for my wouldbe poems haha ',\n",
       " 'decors buffalo simulation buffalo for you to take in the vicinity of their homes to do in this way you ',\n",
       " 'sold one of two paintings that are going to get beautiful new home this week sold ',\n",
       " 'user msg of hope for newyear business to end endof tedtalks tedatibm user user',\n",
       " 'safe to say im missing marbs sitting at home on your own watching euro listening to the rain is depressing bringbackhappiness ',\n",
       " 'gd morning gdragon gd kwonjiyong jiyong vip bigbang handsome cute love ',\n",
       " ' friendszxc ',\n",
       " ' more days till vacation ',\n",
       " ' the secret of happy marriage is all about finding other people less attractive and those who repo ',\n",
       " 'python and concurrency are not best friends all the code have restructure to get concurrency with celery developers python',\n",
       " 'womenareamazing we think so induoevents superwomen follow dowhatyoulove ',\n",
       " 'let the season binge begin oitnb myfavorite season weekendplans ',\n",
       " ' picture is woh thousand words sundayrewind hongkong travel lady lawyer ',\n",
       " 'relax ingers followme follow follow follow beach pool relax enjoy couple ',\n",
       " ' user countdown has begunfamilyfreeeventfestival enteainment foodstalls ',\n",
       " ' awesome beginner gopro mounts super to use ',\n",
       " 'dear istore please dont crash down due to heavy overload on booktime muchlove ',\n",
       " 'never underestimate the power of good book good wine good food and great patio summerevening patioweather',\n",
       " 'istg this is the best cheese ta but dayum expensive ',\n",
       " 'my morning office routine will never be the same without my bff imy ',\n",
       " 'user non stop election blame cspan for hiding for years pittsburgh california ',\n",
       " ' minutes and counting wwdc wwdc ',\n",
       " 'user user he has to play ball now the state of our politics its now all facade as weve lost principality',\n",
       " 'its great day to just be nothing but happy blessedthankful',\n",
       " 'have happy sunday everyone sundaymorning sunday peace love',\n",
       " ' always help others never myself because other people matter and clearly dont quotes latenights ',\n",
       " ' my bihday weekend even better xx ',\n",
       " 'happy fathers day boys father sweet love memory user ',\n",
       " 'life is most impoant for human spirit truth love give spirituality thinkbigsundaywithmarsha ',\n",
       " 'to the father of my babies love happiest of fathers days father via ',\n",
       " ' user current mood about user web developer meet amp hire on ',\n",
       " ' user bride woman with fine prospect of happiness behind her ambrose bierce wedding love ',\n",
       " ' friday xoxosamantha via ',\n",
       " 'user stop robbing innocent customers of their hard earned aiime which you guys have no idea on how dey managed to recharge ',\n",
       " 'grab your bestie amp swing by for hour weve missed you fun eat ',\n",
       " ' is not an opinion racism is degrading people based on race to justify discrimination or open violence against them stopracism',\n",
       " ' user user and user im on my way can we say blogger vlogger ',\n",
       " 'user user yay fantastic for edinburgh',\n",
       " 'lemme find out have to put on my boiler in the month of june ',\n",
       " 'pre user gig drinks passthecourvoisier user ',\n",
       " 'so we rescued pup meet rexy rescuepup rexy pupsofsg suicidegirls beautiful puppylove ',\n",
       " 'these videos will get you excited for the future tech augmented future mobile ',\n",
       " ' hellosunday hope you all have beautiful sunday sundayfunday sunnday ',\n",
       " ' once did that gifdidt listen to this song since ages ',\n",
       " ' nzdusd rises to eyeing gdt price index and fomc statement blog silver gold forex',\n",
       " 'happy bihday to one of the wests greatest tupac shakur bihday rip tupac ',\n",
       " ' hrs to go fl motionposter to be revealed mupparimanam feeling nervous stay tuned ',\n",
       " 'user had little taste it was for sure ',\n",
       " 'appletstag compleanno toa cake family bday selfie me smile girl summer ',\n",
       " 'anime animea treefriends tags anime fana pixiv happy tree ',\n",
       " 'after slow sta had productive day getting back into routine after bout of fatigue and flareup is hard spoonieproblems ',\n",
       " ' love ramdan and fastingi love the iftars feeling and love the way feel during ramadan with praying and reading quran blessed',\n",
       " ' eurgbp subdued trading action around blog silver gold forex',\n",
       " ' with user ngitingtagumpay ',\n",
       " 'its an unusual cloudy day election day and picnic with friends sunday to everyone welcomeludovica ',\n",
       " 'cloudchaser gorilla simulator you need to do to adapt to the environment the need to tear the city mat ',\n",
       " ' wants leak of udta punjab probed suspects political jobs jobsearch chandigarh makers of udt ',\n",
       " 'yesterday ozen restaurant eatallyoucan ',\n",
       " ' can already tell that next weeks episode is gonna give me intense anxiety nervous gameofthrones ',\n",
       " ' user may lights triumph over darkness may this ramadan bring peace harmony and joy ramadan ramadankareem ',\n",
       " 'user user any else notice most of the suppoers pageant girls wyears to internalize female oppressive system ',\n",
       " ' hate online applications because you dont even get your foot in the door before they tell you no we dont need you ',\n",
       " ' am thankful for flowers thankful positive ',\n",
       " 'beautiful love living at the beach beach loveit ',\n",
       " ' user omg bitch knew you was gone do lil kim actually look like music video ',\n",
       " 'user user user man even have bunch of coupons too ',\n",
       " 'way to sta the day goodmorning ',\n",
       " 'lking forward our watering holes watchtowers foresses user user user ',\n",
       " 'user allahsoil the next best seller book isis islam in worlds in words terrorists gwot ',\n",
       " 'this a fantastic rub for steak yum thespicesndteaexchange dc healthy ',\n",
       " ' followme touch my tits ',\n",
       " 'feels like summer love like live life enjoy healthy sun tan bikini summer ',\n",
       " 'user dont forget user research shows that sexist men have psychological problems tuckercarlson ',\n",
       " 'nice any specific pedagogical changes ',\n",
       " 'user typical city fan ',\n",
       " 'no im not attracted to asian ppl bc im not asian what if tell you no im not attracted to bc im not inse race here hoe ',\n",
       " 'user awlrite mol jealous better than being at cricket pitch all my life getalife',\n",
       " 'prayers go out to eddie and his family ',\n",
       " 'closeencounters of the fatkind fatkid dese sick tired maybemono ',\n",
       " 'gymmorgon gym morning strength energy training wingym ',\n",
       " 'glad it all arrived safely user ',\n",
       " 'who defines historically oppressed or historic oppressorsprivileged',\n",
       " 'are you really or just pretending to be truthseekers empowerment selfimprovement healing ihearadio',\n",
       " ' finally found way how to delete old tweets you might find it useful as well deletetweets',\n",
       " ' user what view oregon poland usa unitedstates holiday dj producer house ',\n",
       " 'have you put in your vote yet if you havent do it and share so we can see what makes you smile poll ',\n",
       " ' user next chapter in life stas soon looking at house today with my fianc ',\n",
       " 'just booked our trip to europe user user travelwise europe london paris',\n",
       " ' am thankful for oxygen thankful positive ',\n",
       " 'the latest the volatile daily thanks to user user user space',\n",
       " 'someone explain why user is being so moody ',\n",
       " 'very and worrying ',\n",
       " 'today is national smile power day show those pearly whites to someone deserving and make their day one ',\n",
       " 'user radicalism shouldnt be countered with terrorists see us as inhumans but we the free cant judge by color ',\n",
       " 'user great appreciations frm everyone for performance soo happy sir hrs to go for me to watch the film gentleman ',\n",
       " 'its the end of an era amazon finally took down the final fantasy versus xiii entry in their database ',\n",
       " ' user lot of pakistani twitter folk make out like they are totally liberal amp open minded and having any so of deen imaa ',\n",
       " 'little anya is having fun waiting for the milers to arrive for their ride neotour ',\n",
       " ' daddy days to user user ',\n",
       " ' user sad to be leaving our first house today but looking forward to making memories in the new house with user movinghou ',\n",
       " ' tend to expose my moods through aists name or song titles music',\n",
       " 'user cnnelection user what nice parroting of user racist talking points repoed last night onpoint ',\n",
       " 'more stuff crazy fashion fun color gowns fashiondesign design illustration ',\n",
       " 'dont give in to depression get busy with any positive movement that puts you in good mood fitness fresh ',\n",
       " 'wheres his other half want to indulge myself with lot of yunho esp him dancing keep you head up today ',\n",
       " 'for the fact that you keep watching makes it more interesting ',\n",
       " 'like this sis regrann from fffwithjanelle liberated ',\n",
       " 'last day of normalcy before we star summer camp ',\n",
       " 'turning year younger newyear newblessings bihday to me thankful grateful ',\n",
       " 'can not wait for wales vs nz tonight at eden park cymruambyth user come on user ',\n",
       " 'buzzing that this time weeks user and will be lying on beach in phuket hurryup ',\n",
       " 'happiness realtimechem chemistry education very sma and practical ',\n",
       " 'rooftops sunday weekend drinks la night views summer fullmoon dtla fun ',\n",
       " 'if these are the scenes at euro then fear for the next user ',\n",
       " ' windows split screen browser lumia xl lg ',\n",
       " 'can lighttherapy help with or depression altwaystoheal healthy is happy ',\n",
       " ' quote of the day bless thankful optimistic positive faith strong motivation ',\n",
       " 'vmin makes me so happy but at the same time hate it',\n",
       " ' fathers day lovvvvvvvveeeeeeee dear father',\n",
       " 'user user but look how passionate they are about ivankatrump on the plane which was fake yet ignore adamsaleh ra ',\n",
       " ' williams companies will energy transfer paners heiraten texaspoker im pipelinesektor blog silver ',\n",
       " 'thanks for pouring tea over my razer blackwidow chroma kids destruction',\n",
       " 'todays donkey zionazi is proud of murdering real palestinian semitic children thats what call ',\n",
       " 'and its done cantwait latvia hereicome midsummers familly friends ',\n",
       " 'find out about making schools places user user and educationfest ',\n",
       " 'reminds me of tough choice between nigeria and india in had to choose india for the mental health research ',\n",
       " ' jumat ma ppleeyan ytinny ',\n",
       " ' user never more relevant than now rest in peace johnlennon inspiration ',\n",
       " 'no mojo man lol week one over from this new program teammacb fitmom fitlife ',\n",
       " ' user couldnt get this song out of my head today songgreat rhythm figure id share it',\n",
       " ' snapchat barbiets tranny ladyboy asianladyboy thailand usa lasvegas ',\n",
       " 'binge watching and im off next week too lol',\n",
       " 'when when when this happens loop shopping vine ',\n",
       " 'ohmybooks its so beautiful oh the feels all the feels coverlove bookporn user user ',\n",
       " 'yes lovely such sad sick timesbe glad when its friday when all the post euref whingeing begins bhblxxx ',\n",
       " ' am secure i am positive affirmation ',\n",
       " 'heal yourself naturally healthy is idwp joytrain ',\n",
       " 'keeping the shape lol running time running park summer exercise fitness helthy ',\n",
       " 'user and this gif it describe exactly how we feel x',\n",
       " 'user user has expanded wars thru out the me amp made america weaker he then abandons vets when they return home ',\n",
       " ' fixed the washing machine ',\n",
       " 'user when ea knows everyone hates there game with constant surveys of what you dont like about the game',\n",
       " 'do what makes you be with who makes you smilelaugh as much as you breathelove as long as you ',\n",
       " 'user the fn is seeking to rid of its antisemitic xenophobic image but majority of its sympathisers still describe the ',\n",
       " 'awake neighbours alarm clock beeping for last minutes driving me crazy cant get back to sleep tired',\n",
       " ' amazing my pussy is all wet ',\n",
       " ' am intelligent i am positive affirmation ',\n",
       " 'euro day to go till kickoff whos englishlearning ireland ',\n",
       " 'got house viewing for potential house no on monday ',\n",
       " ' week till bridesmaid weeks till holiday bestfriendswedding sun turkey hull',\n",
       " 'be all the time kiss kiss from me waiting for other works ',\n",
       " 'frame grab for day of our user shoot such touching story with very ending cant wait to share ',\n",
       " 'adventure time theme played very quickly adventuretime themesong music caoon ukelele ',\n",
       " ' user always ',\n",
       " ' freedom day lgbt weho ',\n",
       " 'user cant wait for new maslowmusic ',\n",
       " 'its that easy folks ',\n",
       " ' bihday brother cool thebomb ',\n",
       " 'your family can be happy family ',\n",
       " 'watching live tonight boy george and the culture club memories ',\n",
       " 'dogs are bathed and flea free new beds and sprayed mommyduties furbabies kimber ',\n",
       " ' nite was sad bc ordered fries dennys amp they sucked until tonight had never had bad fry assumed all fries were delicious ',\n",
       " 'tomorrow is my bihday pay ',\n",
       " ' fathers day love papa ',\n",
       " 'some days are better than others today was one of them givethanksforlife feelingmyself hardwork ',\n",
       " 'great weekend love peace',\n",
       " 'music is my drug',\n",
       " 'happy at work conference right mindset leads to cultureofdevelopment organizations work mindset',\n",
       " 'user all happy for lbgt familybut what dont get is the incessant but thin veiled against other gay minorities',\n",
       " ' user getting into the mood ready for user performance of pippin pippin ',\n",
       " ' user tonight in under an hour brand new chicagofire season returns on user finally ',\n",
       " 'if someone over stimulates the internet on how theyre always second guess it why do need satisfaction from others',\n",
       " ' user heres my pizza for tonights stream what bout you whats your favorite pizza food gamer fun hungry ',\n",
       " ' might be ugly but used to be uglier true story ',\n",
       " 'user just saw you will play user was so hoping for that to happengreat choice thank you awesome music live',\n",
       " 'no racist intent is this guy joking via user trump barackobama michelleobama',\n",
       " 'just smilemore blessedsundays weekend dope latino hispanic lit spiky young felizdomingo fly la ',\n",
       " 'lol watched novela with my parents ',\n",
       " 'idiot dances on the graves of dead americans and is proud of it ',\n",
       " 'user bestseller inspiration motivation never go to bed without dream or wakeup without hope ',\n",
       " 'add my snapchat guys going on business trip to texas ',\n",
       " 'user really wanted to come but my daughter really put her foot down ',\n",
       " 'user user ah thank you ',\n",
       " 'its his only defense deflect from the fact there is no defense for trumpgeorge showed his true colors neverump ',\n",
       " 'boobies happy to show happy to show pron porn nude sex ',\n",
       " ' champions trophy coach roelant oltmans happy with indias nextgen hockey players london indias ho ',\n",
       " 'user us singer christina grimmie shot dead yfmghana such huge talent wasted ',\n",
       " 'two days dancingqueenonly annakahnuielsen annukah ',\n",
       " 'how quebecs humanrights amp justice system fail to protect victims of police user user ',\n",
       " 'loved that season trailer for telltales the walking dead been quite while since finished season clementine e ',\n",
       " 'its the weekend and long weekend for me friday weekend wine cape town south ',\n",
       " 'great things are coming my way inlove stronger than ever so humble ready ',\n",
       " 'be it s one way of being wise by the way nickname is also ',\n",
       " 'sick verbal irony of the left equaling homophobe amp islamophobe protecting both the viper amp the mouse as the viper eats the mouse ',\n",
       " 'wokeup this morning tears so thoughtswithorlando prayforhumanity prayfoheworld world struggle love ',\n",
       " 'canny wair for oitnb to come back on girl crushing so bad user so ',\n",
       " 'trip trip bike free time crazy noba day nice sun picture on streetstyle ',\n",
       " 'ukraine does not need jeanne ukraine needs to louis xi ukraine senseandsensibility pov',\n",
       " ' bihday dad gbu srk stay happy celebrating my dads bihday',\n",
       " 'user so you going to sta humiliating now dont have all day soslow ',\n",
       " ' user dental testimonials from our lichfield clients ',\n",
       " 'she couldnt have said it better love is all you need stopthehate bethechange ripchristinagrimmie ',\n",
       " 'so sad waltdisneyworld alligator attacks yearold boy at disney world recovery effo continues ',\n",
       " 'oh thats lovely user healthy day to you my friend pete',\n",
       " 'user would have never guessed would be so disappointed in city berlin ',\n",
       " 'po gorilla simulator you need to do to adapt to the environment the need to tear the city material ',\n",
       " 'great view muscari with daffodils and tulips spring memories ',\n",
       " 'daily affirmation motivation inspiration purpose love peace ',\n",
       " 'rip anton yelchinmet him back at san diego comiccon when he was promoting terminator salvation sdcc ',\n",
       " 'user this makes me ',\n",
       " ' user traditions are impoant in mlb congrats to the cardinals for drafting player with failed drug test for peds the cardi ',\n",
       " 'have nice weekend love romance sea selfie ',\n",
       " ' via curb is back for season thank you mr larry david best news of user ',\n",
       " 'happy feet kidcolorwithgranny feetbabysweetwelcomechampcanon mmnepalkathmandu ',\n",
       " ' user goodmorning bihdaygirl lhasaapso dog puppy bihday furbaby furkid cute with user ',\n",
       " 'ahhhh tenerife in days ',\n",
       " 'this how works in uk if id been white amp those politician impoed thieves black theyd investigate amp prosecute returnmyvinyl ',\n",
       " ' australia paicipation rate came in at below expectations in may blog silver gold fo ',\n",
       " ' childrens day lets make today special for kids of all ages',\n",
       " 'if youre daddy not just someone who crewed up amp ran away fathersday god bless you',\n",
       " 'user user user going over the script right now ',\n",
       " 'were you to go to work today please answer this quick survey leadership',\n",
       " ' after sex amateur callsign lookup ',\n",
       " 'needed little bit of arizona to put in my car arizona ',\n",
       " 'im actually really hu game once loved is totally fake to the user be careful its getting obvious and truly nbafinals',\n",
       " ' friyay lets get this day staed lipstick mascara caffeineaddict dowhatyoulove letsdothis school ',\n",
       " 'hello friday hello euro england threelions woysboys',\n",
       " 'the imprint of the father remains forever on the life of the child fathersday',\n",
       " 'user so here the countdown begins sonasays days to go for akira release ',\n",
       " 'lol just feel and useless',\n",
       " ' user play maison johnny user user user user more ',\n",
       " 'user gunman kills at least people amp injures others in crowded gay nightclub in florida america ',\n",
       " 'im letting my piercer decide what my new piercing so well find out friday what new addition im adding ',\n",
       " ' user model love take with all the time in ur ',\n",
       " 'be have success in that order ',\n",
       " 'motivation monday mondaymotivation fitandfierce ',\n",
       " 'buffalo bull up you will dominate your bull and you will direct it whatever you want it to do when you ',\n",
       " 'cheating is so much fun fitness cheatday vacation star fish company market amp ',\n",
       " 'kejriwal must accept role in making of udtapunjab conspiracy to defame punjab ',\n",
       " 'peppa pig birds lollipop finger family nursery rhymes lyric qua user',\n",
       " 'bihday girl goes to mykonos bihday bihday isthenew ',\n",
       " 'user we are looking forward to meeting you and your performance countrymusic ssms ',\n",
       " 'you can tell lot about an organization by the type of people they promote leadership leadershipfreak quote inspirational ',\n",
       " 'an afternoon well spent on the water goodtimesgoodfriends ampthankful lifewellspent',\n",
       " 'on brighter note tomorrow im looking after puppy lab amber and mad max the spaniel for weeks mayhem',\n",
       " 'when youre own mother stands you up for your pretheatre lunch date ',\n",
       " 'happy saturday new vapefam saturday vapegirl vapinglifestyle vapehappy ',\n",
       " 'the latest the maryland daily thanks to user user chrismukkah ',\n",
       " 'lifes not about how fast you run its about how high you bounce user forestpark xtremeair k stl ',\n",
       " 'fish bull up you will dominate your bull and you will direct it whatever you want it to do when you sta ',\n",
       " ' audusd failures apparent at key resistance dma next stop blog silver gold forex',\n",
       " 'because am happy happiness minions ',\n",
       " 'when someone is doing the effo to make people and fans happy by her talend and there it goes ripchristinagrimmie ommmy justice',\n",
       " 'also keyboard is when type cause coopting terrorists reg syria it autocorrects to cause colored terrorists',\n",
       " 'im super hungry but dont feel like cooking haha lazy singlelife',\n",
       " 'new bikini from my amazon list big to paul thank you bikini abs sexy bikinibody love model ',\n",
       " 'happy monday everyone lets make it good week mondaymotivation freshsta healthy ',\n",
       " ' after sex sex video free tube ',\n",
       " 'looks like knowledge is power and happiness loveit ',\n",
       " 'on our way to the cmtredcarpet tunein user user ',\n",
       " ' am calm i am positive affirmation ',\n",
       " 'multiconnexions how are you is difficult to ask in many languages so how can we measure happiness un ',\n",
       " 'my baby girl is sleeping by herself tonight might go get her from her room lol missmycuddlebuddy',\n",
       " 'so my manager invited to his wedding ',\n",
       " 'sma aliens amp or clever clogs have devided afghan nation into two political entities namely afghans amp taliban pak love poorafghans',\n",
       " 'the strange and magical ways people make themselves personalizedrecovery ',\n",
       " ' user what disgrace poor kids already have tough life ',\n",
       " 'the socks that make you smile weenie dog love dachshund love socks feet ',\n",
       " 'the oprah winfrey show th anniversary collection came in today hours of footage cant wait ',\n",
       " ' user user user the simple things the past administration deliberately ignored ',\n",
       " 'thankful for the life live and the direction im going ',\n",
       " 'stay tuned saint issue is at the printers comics makecomics ',\n",
       " 'lots of stuff confirmed and booked in for our open day few more details to finalise biggestever ',\n",
       " 'user although am not a bigot or misogynist so hope that still qualify keepyoureyesontheprizemlk',\n",
       " 'so to be performing tonight for pridela alongside with these amazing girls be sure ',\n",
       " 'user now im fully blocked lol dam didnt know had pissed ur pants lmao ',\n",
       " 'user what america owes blacks africanamerican reparations now',\n",
       " 'happy super duper blated to this girl bihday friends ',\n",
       " 'user its laughable to see all these celebrities at the ali funeral when did funeral service become pr oppounity ',\n",
       " 'if potus were white hed still be the worst president ever and most likely the most president ever trump israel happynewyear',\n",
       " ' user user on periscope personal development fitmom tikila bellyburningbootcamp fitness health htt ',\n",
       " 'decolonizing the curriculum the only way through the process is together decolonization ',\n",
       " 'floating towards happiness floatationtherapy floating happiness health wellness ',\n",
       " ' work another double tomorrow yes woohoo',\n",
       " 'dwd wetterwarnung starkes gewitter in schwandorfchwandorf warnung wetter',\n",
       " 'youre the sister never had love friends bestfriends cute girl ',\n",
       " 'do you think that caitlyn jenner still gets fathers day presents worldsbreastdad number dad usedtobeafathersday',\n",
       " 'everybodys got somebody but me single vain ',\n",
       " 'oitnb bitchezzzz season is here netflix yaaay ',\n",
       " ' user so true behappy ',\n",
       " 'youre only young once so stop worrying and be ',\n",
       " 'if you are with the business you are in then why concern yourself with where others might be going ',\n",
       " ' user in man in minneapolis was hit by the same car times and he was alone the whole time poorguy ',\n",
       " 'engerland engerland engerland woohoo come on boys do us proud euro england football russia englandrussia ',\n",
       " 'the time when you sing ole ole ole seeing the rain outside noida delhi rain ',\n",
       " 'omg hope you had fun seeing selena gomez live if you went sorry if you didnt go ',\n",
       " ' fathers day these dogdads really know how to show some spirit for their best friends dogs',\n",
       " 'soon it seems all food will be gmo if they dont labelit how do you keep you and yours safe healthy amp ',\n",
       " 'hello sunglasses notmine darkerhair explodedhair boom hairdresser ',\n",
       " ' is very profitable thing im america ',\n",
       " 'user disagree nba user should have been suspended too he even had words with user gofigure',\n",
       " 'repost user with repostapp guests at your ',\n",
       " 'smark friend shopping smark ',\n",
       " ' feeling just staed my own avon business message me to order products or learn how you can sta your business myavonstory',\n",
       " 'user beautiful kelly ',\n",
       " ' user come see brooklyn user amp user host the user parade on user sat pride htt ',\n",
       " ' bihday lunch with my dear friend sammaki have lovely afternoon bihday ',\n",
       " 'woke up with butterflies this morning one sleep to go user ',\n",
       " 'looking forwards to sneaky peek user new extension tomorrow user huddersfield',\n",
       " 'pack of pay gbp get here shop cool home fun ',\n",
       " 'omg luckily we have got our gym onsite london pillbox workspace cake eastlondon treatyourself ',\n",
       " 'cant wait to hear how crookedhillary describes pulse incident since she is incapable of using the words radical islamic terrorism ',\n",
       " 'user its workingthe social media divide is growing by the minute ',\n",
       " ...]"
      ]
     },
     "execution_count": 33,
     "metadata": {},
     "output_type": "execute_result"
    }
   ],
   "source": [
    "no_punctuation_and_no_stop_words"
   ]
  },
  {
   "cell_type": "markdown",
   "id": "TsrtsfgsmDwj",
   "metadata": {
    "id": "TsrtsfgsmDwj"
   },
   "source": [
    "## Removing stop words"
   ]
  },
  {
   "cell_type": "code",
   "execution_count": 34,
   "id": "VFFKFOoIQr8j",
   "metadata": {
    "id": "VFFKFOoIQr8j"
   },
   "outputs": [],
   "source": [
    "# removing stop words\n",
    "tokenized_words = [word_tokenize(str(i)) for i in no_punctuation_and_no_stop_words]\n",
    "stopset = set(stopwords.words('english'))\n",
    "clean_model = []\n",
    "for m in range(len(tokenized_words)):\n",
    "      stop_m = [i for i in tokenized_words[m] if i not in stopset]\n",
    "      clean_model.append(' '.join(stop_m))"
   ]
  },
  {
   "cell_type": "markdown",
   "id": "Vqha1ygwr-3x",
   "metadata": {
    "id": "Vqha1ygwr-3x"
   },
   "source": [
    "## Clean sentences model"
   ]
  },
  {
   "cell_type": "code",
   "execution_count": 35,
   "id": "OKQoeBTdUNFF",
   "metadata": {
    "colab": {
     "base_uri": "https://localhost:8080/"
    },
    "id": "OKQoeBTdUNFF",
    "outputId": "1caab67c-8804-49e7-e617-611cc5230335"
   },
   "outputs": [
    {
     "data": {
      "text/plain": [
       "['user father dysfunctional selfish drags kids dysfunction run',\n",
       " 'user user thanks lyft credit cant use cause dont offer wheelchair vans pdx disapointed getthanked',\n",
       " 'model love take time ur',\n",
       " 'factsguide society motivation',\n",
       " 'huge fan fare big talking leave chaos pay disputes get allshowandnogo',\n",
       " 'user camping tomorrow user user user user user user user danny',\n",
       " 'next school year year exams cant think school exams hate imagine actorslife revolutionschool girl',\n",
       " 'love land allin cavs champions cleveland clevelandcavaliers',\n",
       " 'user user welcome im gr',\n",
       " 'ireland consumer price index mom climbed previous may blog silver gold forex',\n",
       " 'get see daddy today days gettingfed',\n",
       " 'user cnn calls michigan middle school build wall chant tcot',\n",
       " 'comment australia opkillingbay seashepherd helpcovedolphins thecove helpcovedolphins',\n",
       " 'ouchjunior angry got junior yugyoem omg',\n",
       " 'thankful paner thankful positive',\n",
       " 'retweet agree',\n",
       " 'friday smiles around via ig user user cookies make people',\n",
       " 'know essential oils made chemicals',\n",
       " 'euro people blaming ha conceded goal fat rooney gave away free kick knowing bale hit',\n",
       " 'sad little dude badday coneofshame cats pissed funny laughs',\n",
       " 'user user lumpy says prove lumpy',\n",
       " 'user tgif ff gamedev indiedev indiegamedev squad user user user user user',\n",
       " 'beautiful sign vendor upsideofflorida shopalyssas love',\n",
       " 'people went nightclub good night mans actions means people lost families forever riporlando',\n",
       " 'alohafriday time exist positivevibes hawaiian user user user user',\n",
       " 'user rip fellow nohern ireland fan sadley passed away tonight gawa forever singing cheering fire',\n",
       " 'hard monday due cloudy weather disabling oxygen production today goodnight badmonday',\n",
       " 'unbelievable st century wed need something like neverump xenophobia',\n",
       " 'taylorswift bull dominate bull direct whatever want',\n",
       " 'morning travelingram dalat ripinkylife',\n",
       " 'finally finish book youve working awhile bookworm ontothenextnovel',\n",
       " 'lovely echeveria bloomsflowers grow gardening iphonesia bliss blooms basilicabotanica',\n",
       " 'whenever im something goes wrong',\n",
       " 'feeling blue illustration',\n",
       " 'best pa life knowing',\n",
       " 'user let scumbaggery begin',\n",
       " 'thank super love zpamdelacruz wedding dolores capas tarlac',\n",
       " 'scourge playing baroque pieces piano beyond belief',\n",
       " 'user lets fight love peace',\n",
       " 'happy father day mr rayos video fathers day rayos world hotvideo videos',\n",
       " 'user ascot times babe ascot fashion monochrome style instahappyday',\n",
       " 'weekendis selfie yolo xoxo like like',\n",
       " 'happy work conference right mindset leads cultureofdevelopment organizations work mindset',\n",
       " 'christina grimmies last performance shot via user christinarip voice christinagrimmie',\n",
       " 'ready dance roar preschoolers students proud',\n",
       " 'youve really hu feelings',\n",
       " 'user wife adore miss poland show surgery name bridget amp shes everything',\n",
       " 'user jealous right chatiado',\n",
       " 'celebrate every man played fatherly role fathers day',\n",
       " 'im sure happy hour',\n",
       " 'white establishment cant blk folx running around loving promoting greatness',\n",
       " 'good morning journey begins travel yeah thejourneybegins hello',\n",
       " 'user luv hottweets like venusexchange',\n",
       " 'new brochures arrived exciting aworks solutions',\n",
       " 'much stuff happening florida first orlando shooting disneygatorattack two year old kid',\n",
       " 'user ferrari sake championship gp clearly turning point rb ferrarimercs',\n",
       " 'aced first test proud',\n",
       " 'seeks probe udtapunjab leak points finger amarinder aap',\n",
       " 'user wrapping senseaboutmaths user th user user user',\n",
       " 'user hey white people call people white user race identity med',\n",
       " 'sometimes raise brows raise bar golfstrengthandconditioning strong felixfoisgolf',\n",
       " 'greathonour careerconvos user user',\n",
       " 'altright uses amp insecurity lure men whitesupremacy',\n",
       " 'carrying gun wouldnt helped cant take gun control wont stop black market terrorism get worse',\n",
       " 'use power mind heal body altwaystoheal healthy peace',\n",
       " 'woohoo weeks go',\n",
       " 'far away place family members hus',\n",
       " 'ready rehearse tonight new music new videos look announcement midweek newmusic watchthisspace guitar',\n",
       " 'monday nights pm channel finally get see fuss',\n",
       " 'watching new episodes user user',\n",
       " 'user offline nice long night snapchat user redhead vermillionred',\n",
       " 'daughter riding bike around driveway son playing guitar us enjoy campfire summeime memories',\n",
       " 'user ill always hope one day ill get hug dont think gon na happen anytime soon',\n",
       " 'couple sex fat naked japanese girls',\n",
       " 'hump hump day humpers edwardsville pennsylvania',\n",
       " 'truly sick ppl',\n",
       " 'trump calling obama resign orlando shootings boy point years talk change',\n",
       " 'going la tomorrow',\n",
       " 'thankful good friends thankful positive',\n",
       " 'received dis user cant wait sta baking eyelids',\n",
       " 'playing vigilfororlando harp clonakilty rip via user',\n",
       " 'user yes yes yes ihavenofriends someonecomewithme',\n",
       " 'sunday weekend relax icon woman sundaymorning sunday marilynmonroe',\n",
       " 'user im interested linguistics doesnt address race amp racism power raciolinguistics brings',\n",
       " 'one beloved long lost cds recovered thanks apple music',\n",
       " 'marvel song musica weed ripchristina adele dance vine user',\n",
       " 'user user mocked obama black user user user user brexit',\n",
       " 'amazing health benefits cucumbers healthy altwaystoheal',\n",
       " 'work ofw pinoy followme igers instagood smile love',\n",
       " 'toradora anime animeedit made breakups alone lonely',\n",
       " 'laps pool k ride done picked gym membership form',\n",
       " 'nochebuena lasvegas usa las vegas strip',\n",
       " 'fleurette instaboyinstamansefieseptumfriend smilesblackandwhite',\n",
       " 'sad branches rainy day writing tears flying birds haiku lines micropoetry',\n",
       " 'yeah new buttons mail pretty jewelrymaking buttons',\n",
       " 'user driver hit female moose river rd weston moose killed driver ok crews removing animal',\n",
       " 'afterpas made japan madeinjapan eos cute fun cawaii love strawberry tomato',\n",
       " 'people arent protesting trump republican wonthey trump fuhered amp',\n",
       " 'need find way spend time always mind boy guy',\n",
       " 'update social analytics photooftheday igers likes',\n",
       " 'stupidity makes even negligencewhy put sachintendulkar installation going take',\n",
       " 'bihday thbihday bestfriend love',\n",
       " 'user impoant thing enjoy life matters life sho pooh u',\n",
       " 'happy bihday chris evans great actor human chrisevans bihday',\n",
       " 'heas thoughts prayers go people murdered gay nightclub florida',\n",
       " 'user demoing guitars new album newalbum indie guitars echobelly',\n",
       " 'retweeted lion pro user tgif webmareting seo community management weekend',\n",
       " 'user ive pretty bad bihday weeks far worst ever bihdayweeksucks bithday',\n",
       " 'blessed worked sas best leading ladies',\n",
       " 'found user user id exclaiming user gr blains hair nite',\n",
       " 'user lt listen beautiful best friend user singing amazing voice lt lt lt lt',\n",
       " 'know yall aint going know love commitment trust faithful',\n",
       " 'yes call michelleobama gorilla racists long thought black people bet',\n",
       " 'newarkfestival us year waiting show sta rd year running',\n",
       " 'internet broken cant watch netflix mochithepug puglife',\n",
       " 'hbd dick suckin tequila lovin slut wouldnt want way justalillate butstillontime',\n",
       " 'smaller hands show barry probably lied knicks game sucked golf',\n",
       " 'good morning friday everyone weekend goodmorning friday girls love florida',\n",
       " 'challenges aaps claim punjabis drugaddicts dares prove',\n",
       " 'tracerequest sending deepest condolences orlando gay families zimbabwe gay community hea touched',\n",
       " 'new selfie guy mato chapones',\n",
       " 'saturday afternoon chi meet friends user user user',\n",
       " 'soed nut amp bolts bloke',\n",
       " 'aww yeah good bing bong bing bong',\n",
       " 'dawned months seeing user live excited vfest summer',\n",
       " 'user happy th bihday shane robe watson bihday shane watson australia cricker',\n",
       " 'user user point one finger user millions pointed right back jewishsupremacist',\n",
       " 'sad hear announcers say may moved player one two lead whoknows',\n",
       " 'radio im going coldplay tonight oh yes',\n",
       " 'think like god coming god keeping',\n",
       " 'user terrorist constitutional rights another excuse republicans appease nra gun control measures',\n",
       " 'user user gloucesterrugby',\n",
       " 'user sad user happened',\n",
       " 'everyone everything sad together alone fine dandy lonely exuberant depressed halffull halfempty',\n",
       " 'mikeashley sposdirectshame perhapse good example need protect workersrights within europe euref remain',\n",
       " 'angry birds stella bad princess birds stella bad princess birdsstellabadprincess time post wed',\n",
       " 'check user incredibly made great memories great people',\n",
       " 'saw shi last night said rip cared really',\n",
       " 'user hilarious user im already blocked user asking one paicularly difficult question user',\n",
       " 'devastating news hea goes victims families orlando heabreaking',\n",
       " 'happiness state arrive manner traveling margaret lee runbeck happiness quotes inspirational',\n",
       " 'safe ways heal acne altwaystoheal healthy healing',\n",
       " 'creating right beats makingbeats thursday work istandard akaipro',\n",
       " 'wedding number wedding weddingpay love forever weddingdress',\n",
       " 'looking forward attending cipd ireland conference amp workshop cpd onemoreday user user',\n",
       " 'finally reached followers twitch follower hypu stream tomorrow',\n",
       " 'words free use em cost verbal abuse hu love adult teen user',\n",
       " 'country went last year see people bring bomb stadium amp come everything football',\n",
       " 'time eat bae swalscha dejeuner lunch happiness love amoureux',\n",
       " 'ilovethesecret lawofattraction quiz love happiness motivation success joy life',\n",
       " 'might libtard libtard sjw liberal politics',\n",
       " 'go pole bgp rozthediva blackgirlspole bodyandpole live love',\n",
       " 'argentina attack bull game really think head empty around city side',\n",
       " 'nohcarolina bull dominate bull direct whatever want whe',\n",
       " 'building polar bear climb racing angry polar bear climb racing polar bear living cold places loo',\n",
       " 'user user want reelection money ksleg',\n",
       " 'hea orlando right truly imagine could easily happened anywhere',\n",
       " 'alreemgroup aly alshahawy ad cute summer photographerdubai sun hair mydubai',\n",
       " 'seems like place action montreal',\n",
       " 'user old washed',\n",
       " 'thankful enteainment thankful positive',\n",
       " 'user user user shows truly bad brisbane',\n",
       " 'user cant wait wimbledon',\n",
       " 'really takes piss im angry goes show valued isnt complete utter moron',\n",
       " 'user take trash america voted hate voted voted vot',\n",
       " 'fathers day amazing dads give much families enjoy',\n",
       " 'sebbo said user',\n",
       " 'eg smile smileegsmile torio',\n",
       " 'user brilliant service kettering branch today customer',\n",
       " 'good day new beers bridpo food amp beer fest back campsite drunk user starstruck amp moved user',\n",
       " 'repost user propey ocean summer life family sydney',\n",
       " 'thankful thankful positive',\n",
       " 'user stone roses done time user club days',\n",
       " 'theres reason two people stay together give something nobody else hopelly greats day',\n",
       " 'never know might crush wakow buzz moment ride love crush dating hookup app',\n",
       " 'friend got engaged',\n",
       " 'days lef b end classez yay risay risaypls',\n",
       " 'thursday may watch say needs said',\n",
       " 'legendary positive affirmation',\n",
       " 'united states america rest world think youve proven dont right firearms',\n",
       " 'hold open door woman shes woman nice thing thats dont even try deny',\n",
       " 'good weekend shows thankful blessed jeffreycwilliams',\n",
       " 'good hea help everyone always seem one gets hu buttrue',\n",
       " 'happiest baby ive ever known cute smiles babygirl beautiful niece blessed xo',\n",
       " 'cant wait carowinds ready see user user time rockthepark timetogetmyjesuson',\n",
       " 'already bought finding dory ticket',\n",
       " 'every minute lose sixty seconds happiness',\n",
       " 'sanjapan animeconvention see guys september',\n",
       " 'question day excited moto tech announcements moto question',\n",
       " 'happy morning degree anna classmate friends',\n",
       " 'user user user thank much oppounity cherish forever',\n",
       " 'themeowood puppy',\n",
       " 'days till',\n",
       " 'happy pharrell williams pharrellwilliams lyrics',\n",
       " 'lost another member family yesterday gutted rosie',\n",
       " 'yayyy trailer morrow fever super user user user',\n",
       " 'im ready tomorrow englishteacher teacher ecuador',\n",
       " 'memory wonderful dad always missed eternally loved strong greatquotes',\n",
       " 'user user dallas shooting video youre see disturbing viewer discretion play loop ove',\n",
       " 'itakoaloneits fine little',\n",
       " 'sunshine amp stickers kind saturday letthembelittle childhoodunplugged',\n",
       " 'wonderful day today calm sunny chubbygirl glasses finnishgirl finn',\n",
       " 'user man ran governor ny state biggest africanamerican population',\n",
       " 'stereotyping prejudice offer hope solutions create old repetitive hate conflict',\n",
       " 'get pussy quicker days',\n",
       " 'ill probably time user comes back home ugh',\n",
       " 'manypols passed many times said nothing bluelivesmatter draintheswamp ferguson',\n",
       " 'sequoia weekend',\n",
       " 'bitches care eyebrows much makin end week',\n",
       " 'bham pride paradereadybeyou ofbham user user user',\n",
       " 'bihday bogummylove foreverhope happy everydaygood night user',\n",
       " 'positivevibes fresh love guys get concord mills mall',\n",
       " 'conjuring get ready scared tonight readyornot truestory',\n",
       " 'today day make change eliminate negativity choose live positive lifestyle instead',\n",
       " 'last day work tomorrow self employed monday scared redditchbizhour',\n",
       " 'user im half boy half man im dumb',\n",
       " 'happy little boy smiles corbinrayp',\n",
       " 'never appropriate zero idea im feeling right scared missyou whatwasthat',\n",
       " 'user magnificent monday mondaymorning mondaymotivation monday indraloka',\n",
       " 'dont understand designers print animals fabric bought user muzlin b sanasafinaz noexchangepolicy',\n",
       " 'littlebear friend joy toddlerfriends puresweetness latergram toddlerfun',\n",
       " 'never lost loved one senseless violence dont get fucking opinion nd amendment',\n",
       " 'world heading could lose life leaving home orlando',\n",
       " 'good mood flight user munich user interviews pharrell',\n",
       " 'first presentation user netherlands user',\n",
       " 'happiness vs joy happiness temporary leaves hu joy last forever never leaves real tru',\n",
       " 'twinklatinboys na slut snapshot hot nasty naughty sexy horny shy porn nude kinky xxx',\n",
       " 'user people thankful thankful people happy thankfulthursday',\n",
       " 'creative positive affirmation',\n",
       " 'held back tears cried happy tears amp finally leave week tomorrow user user canadianravers',\n",
       " 'bihday pressie mummy granny michaelkors luckygirl bihday liverpool',\n",
       " 'user stuck athens instead santorini user said windy land shocking service every level since',\n",
       " 'user happy folks first freakshake launch freaks yum dalston user',\n",
       " 'thankful saturdays thankful positive',\n",
       " 'good god',\n",
       " 'user enjoying delicious melons vegan organic fresh fruit organic healthy healthyliving life',\n",
       " 'first months weeks days till beginning end user sad time',\n",
       " 'firework weeheeeee',\n",
       " 'blackpool attack bull game really think head empty around city side',\n",
       " 'fathersday amazing fathers today',\n",
       " 'user ready waiting newblood',\n",
       " 'horribly ads made us cringe',\n",
       " 'wouldnt mind robsonkanu decent player available free transfer',\n",
       " 'user come user better please put user shoes unnecessary stress h',\n",
       " 'stalk watch im peon poor disabled kill methis usa usa used b proud amp universe doesnt care',\n",
       " 'stephcurrys outburst begs question christians get nbafinals',\n",
       " 'im grateful affirmations',\n",
       " 'weeks go im san antonio bound see user cant wait see little brother missyou mybrotherskeeper',\n",
       " 'user dying light village greentown antisemitism hocoschools columbiamd hocomd',\n",
       " 'sexy fuck directioner niall nialhoranfacts niallerwins hot justindrewbieber justindb believetou',\n",
       " 'user fathersday say love dad right sanya whererefreshingbegins',\n",
       " 'guess back back lifeaftersurgery dog dogslife labrador labradorretriever lifeofsam',\n",
       " 'hey superspoilt may want check latest updates glastofest',\n",
       " 'user user user user user bihday sid god bless hav successful career',\n",
       " 'check production teams webseries episode edited truly mep webseries',\n",
       " 'user never answered statement nazis hatred amp bigotry found w',\n",
       " 'juneteenth independenceday food thought rich ancestral heritage independence hall',\n",
       " 'river gorilla simulator need adapt environment need tear city material',\n",
       " 'watching user leadership embrace amp kiss donalds ass pathetic amp user pay pay racism amp hate ripgop',\n",
       " 'love mature age',\n",
       " 'user good feeling happens smile instalike instamood instapic',\n",
       " 'check graffiti dublin ireland music vimeo movie video europe people flow fun rafalwojcicki',\n",
       " 'user user iampossible today extraordinaryladyspeaks starawards user user ht',\n",
       " 'tony sunday tonyawards',\n",
       " 'happy fathers day dad dads fathersday',\n",
       " 'user theverdict im idiot country rock bluegrass beatles love pop romance',\n",
       " 'projects week june blog silver gold forex',\n",
       " 'wishing guy bihday blaze says user spitting image',\n",
       " 'thankful hiking trails thankful positive',\n",
       " 'pay meeting tackle movie uncovers problem dont want world know',\n",
       " 'always paratyphoid',\n",
       " 'guys concerned twitter brand honest followers',\n",
       " 'hate like family really born big ass toxic bomb mother fuckers dont give fuck cuz got money',\n",
       " 'get get get enjoy music today free apps free music',\n",
       " 'best lawofattraction resources healing altwaystoheal healthy idwp',\n",
       " 'trump ny cochair makes racist remarks michelle obama p p fyi tcot',\n",
       " 'user fan make',\n",
       " 'food make family fight mxm',\n",
       " 'fabulous weekend beautiful souls nofilter',\n",
       " 'im feeling overwhelmed look see million reasons happy love craig',\n",
       " 'hour right bottles amp drinks pm user chippewa st buffalo',\n",
       " 'anas nimra farishta mawia khushal number marks obtained damn high p',\n",
       " 'monday empty without bachelorette thebachelorette empty nowine',\n",
       " 'suppoing family god chivalry tradition pride ones heritage controversial',\n",
       " 'user pic says otherwise young girls confined kitchen void meaning beyond cheap publicity topoli',\n",
       " 'good night faith ever vaitacacommafiasdv',\n",
       " 'love simply love love success work business',\n",
       " 'lunchtime mom torrington lunch afterschool instadaily yummy withmom user',\n",
       " 'ride ride back done cycling sunset ride bikes fitness cardio dese',\n",
       " 'user tagsforlikes foodfriendssummerswagquotes lovegodgirl weekend polaroid followme teen winjob',\n",
       " 'payintheusa polar bear climb racing angry polar bear climb racing polar bear living cold place',\n",
       " 'healthy fam',\n",
       " 'dream palace move already stellar girls dreamy goodmorning days',\n",
       " 'im waiting follow since factor',\n",
       " 'user fault use pointscore',\n",
       " 'user forever user young man luks hot wen temper ill alwys ur fan till lst breath h',\n",
       " 'dont worry bee',\n",
       " 'double tap follow beautiful smooth lifestyle skin instasize f f fashion',\n",
       " 'lawofattraction healing loa healthy well idwp',\n",
       " 'oil turns flat eyeing eia inventory data fuher direction blog silver gold forex',\n",
       " 'training new employees fun newblood',\n",
       " 'first bihday puppy eloise sweetbabins dog growingup cute bihdaygirl user',\n",
       " 'user pigs burn alive saskatchewan barn fire video',\n",
       " 'beautiful ladies blessing know smile lovethem',\n",
       " 'today baba siddique ifftar pay mumbai user amp user dono ayenge see',\n",
       " 'user cant wait go see warcraft ugh warcraft',\n",
       " 'cousins reunited familyfunuser wellness',\n",
       " 'user audience duane henry insightful',\n",
       " 'train hasnt moved im binge tweeting',\n",
       " 'user youre blocked troll promise blacklivesmatter amp let nonsensical rants boos',\n",
       " 'sdl user june user',\n",
       " 'use power mind heal body altwaystoheal healthy',\n",
       " 'dude im tiger roar tiger annaswelshzoo bihdaycelebrations',\n",
       " 'user dont laugh happy laugh william james xtra',\n",
       " 'happy sunday everyone think today going good day positivevibes sunshine sunday',\n",
       " 'stuck rat race find freedom masterkeyexperience',\n",
       " 'study face pizza stole roommates idea taking pic',\n",
       " 'dinner sister sisteradventures sister ilovemysister',\n",
       " 'else planning watching user tomorrow',\n",
       " 'usn rifle day snowed ar closest ever got user user user navy',\n",
       " 'elder scrolls many years wah wah bethesda e e',\n",
       " 'user poor tiggy little bit cheeky jax amp soa throwbackthursday user user user',\n",
       " 'work russellbeckwith soon staytuned friend lyle tapfoags',\n",
       " 'nazis studied american race laws inspiration ushistory eugenics',\n",
       " 'nothing like river island sale shopping spree cheer retailtherapy riverisland shoppingqueen alwayscheersyouup',\n",
       " 'new listings ebay woohoo sell selling buy shop shopping',\n",
       " 'thankful challenges thankful positive',\n",
       " 'chilled night ice creamamp grown chilled',\n",
       " 'user biherism absolutely originated hateful bigotry altright hatred african american potus theresistance',\n",
       " 'user sweets instagood idola idol followme selfie',\n",
       " 'tragedies america first killing christinagrimmie orlando america safe place today',\n",
       " 'fab amp interesting day eacbpm dash quiet place dial iiba emea region meeting busy',\n",
       " 'kayak sup snorkel swimwhatever pleasure well put together alohabeachbus hawaii explore',\n",
       " 'hold man years watch change hear say loyalty',\n",
       " 'well back going tacloban see ya later great traveling tacloban city catbalogan',\n",
       " 'user feel havent olympics medal',\n",
       " 'angry birds il film download ita p hdtc birds download film il ita',\n",
       " 'sunday photo user model urbex topless tits mono retweet sexy heels ace',\n",
       " 'fo woh officer viral arrest video rude racist chief crime officer',\n",
       " 'yayyyy friend got married today congratulations guys shegotmarried',\n",
       " 'chris back soccer missing spring season broken',\n",
       " 'train tickets booked opera week wales',\n",
       " 'beautiful day sun fun beachpark beach park',\n",
       " 'big screen fitted right euros',\n",
       " 'love stories happy ending anime love story ending like like',\n",
       " 'poet bull dominate bull direct whatever want sta',\n",
       " 'tranquil positive affirmation',\n",
       " 'user name upcoming new track pm kpop',\n",
       " 'best essentialoils anxiety healthy peace altwaystoheal',\n",
       " 'thinking maybe bought user instead user gettingold becomingboring notborderlands goblizzard',\n",
       " 'ryderrideu see c c cum together snapshot young shy kinky wet porn hot xxx horny',\n",
       " 'snapchat gaby china love girl snapchat flowers instasmile instalove',\n",
       " 'user true niggas dont go looking apaments go look shoes jewelry',\n",
       " 'camping next weekend lovecamping brownwood',\n",
       " 'forever bestie karaoke friends friendship love nofilter instacool instagood',\n",
       " 'headed thealter peculiar family',\n",
       " 'us retail sales control group likely rose mm may danske bank blog silver gold forex',\n",
       " 'happy fathers day love life ampthe best father world user fathersday love',\n",
       " 'coolestlifehack worlds smallest snake motivation',\n",
       " 'funny simply truestory',\n",
       " 'happy bihday brithday day holidays monday menmodels',\n",
       " 'ukrainians athletes grosseto user watching livestream without seeing',\n",
       " 'new season oitnb stas tonight oitnbseason',\n",
       " 'user excited side cuain tonight looking forward seeing user broadway',\n",
       " 'quay collab user says sold noooo whyyyy loveyoudesi',\n",
       " 'impressive positive affirmation',\n",
       " 'fathers day fathers making happen salute yall',\n",
       " 'view th floor nyc newyorkcity myview girl wine fridaynight',\n",
       " 'discussing republicans thing critiquing cant ignore consequences',\n",
       " 'got school tomorrow last integration',\n",
       " 'amen truth always lt lt love blessed',\n",
       " 'user stamford kid got months rapebut wasnt boredomit minutes action',\n",
       " 'lets colorized life rainbow danian love colour rainbow depok',\n",
       " 'aiel aielmaharashtra rude customer care executive makes want switch loyalty another provider irritated',\n",
       " 'hi teddy corpuz rocksteddy band enjoy idol omg',\n",
       " 'user wow great daughter send father right fathers day cheapshot lowblow shame',\n",
       " 'reasons happy kid midtantrum parenting tantrum toddler calm mindfulness strong',\n",
       " 'truthful positive affirmation',\n",
       " 'yup siri macos wwdc woot next work listening skills',\n",
       " 'black amp feel like stomping retweet tampa miami',\n",
       " 'youre choices fall always write candidate',\n",
       " 'user ending',\n",
       " 'get know team behind app thats keeping tummies june issue user bazaarmag',\n",
       " 'actually going fishing today somewhere nice',\n",
       " 'cute look like dolls',\n",
       " 'user im',\n",
       " 'love vacation enjoy greece crete sabinedrift chillinn blondegirl bluedress',\n",
       " 'user unreal advisors refuse take payment say wait pcn customer service ur site wasnt working',\n",
       " 'user im gameready forza horizon pc time live',\n",
       " 'user life better tahiti summer life school tahiti like',\n",
       " 'know males thought vagina like video games xd stupidthoughts quote lmao',\n",
       " 'pa pack taken brainwashed cheetahs downasquadmember treeouts',\n",
       " 'japan domestic corporate goods price index yoy line expectations may blog silver',\n",
       " 'user allahsoil familiar become difficult stereotype',\n",
       " 'user good morning want live life tie goal people things',\n",
       " 'user friday lt fridayfeeling relax user bristol',\n",
       " 'days porn movie pussy pay pics',\n",
       " 'looked easy till turn rap hiphop rock funny comedy pop kanyewest',\n",
       " 'banner merry christmas new year freepik ad decoration newyear',\n",
       " 'exam room testing tired annoyed',\n",
       " 'best homeopathic remedies anxiety altwaystoheal healing peace',\n",
       " 'rest peace christina',\n",
       " 'bamas fool around might raising child ppl dont think far advance see fun whatever',\n",
       " 'anti racist codeword antiwhite asia asians africa africans white countries everyon',\n",
       " 'fellowship lifegroup',\n",
       " 'user praised cleveland police rnc police consent decree white tamirrice rip',\n",
       " 'everything need surfday fathersday dads novysposnovytowelsurfgear',\n",
       " 'user agree',\n",
       " 'user swimming signs everywhere parents werent watching year old',\n",
       " 'mitchellrattle mitchell goodson',\n",
       " 'user getting ready saturdays jeep run nbjc days showyourjeepday jeepmafia jeeplife jeep htt',\n",
       " 'user attempt czech fury croatia score second',\n",
       " 'latest dairy ks thanks user user user',\n",
       " 'user yep grateful everyday gratitude laurasworld',\n",
       " 'ive ebook awhile nice hard copy',\n",
       " 'nba finals game could basketball fan ask nbafinals',\n",
       " 'user doesnt prevent bigot',\n",
       " 'dear uot despite attempts savecharity regret announce weve lost tragic rip angelic friend miss u',\n",
       " 'space place color blue fabricsourcing finished pillow cushions use us',\n",
       " 'perfect moment day',\n",
       " 'waited user hour come autograph finally walk awayhe comes course disappointing',\n",
       " 'fathersday gift dad secured financial future save insure invest',\n",
       " 'girls world sexy mature housewife',\n",
       " 'awesome dads almighty father lord darling dad rip sweethea husband babies daddy st son fathersday',\n",
       " 'owens football tornament football',\n",
       " 'come ee piss poor reception today month struggle get signal buxton put masts im switching grumpy',\n",
       " 'excited na',\n",
       " 'work fusiona wolves last stage development chase user user',\n",
       " 'user dont like blacklivesmatter slogan talk',\n",
       " 'rip little bear bear hamster rip imissyou',\n",
       " 'give hug love cats moment',\n",
       " 'life isnt race allow present user fun',\n",
       " 'dental testimonials lichfield clients',\n",
       " 'thank soo much pretty user feel soo blessed amp luckyplz keep showering ur lyks surprised likes unexpected',\n",
       " 'user user user nice c susanna smiling daywho needs false promises flying dragons shes got ben',\n",
       " 'user back yet',\n",
       " 'got call yesterday mom diagnosed stage ovarian cancer im terrified shes terrified dont know',\n",
       " 'user feminismiscancer feminismisterrorism feminismmuktbharat malevote ignored user',\n",
       " 'user user user side history allies issue embarrassing',\n",
       " 'fox new coming saying bluntly one things ive read',\n",
       " 'good morning internationaldayofyoga yogalove yoga relax healthy positive',\n",
       " 'user new plants user ready garden gardening know',\n",
       " 'user coldplay last night fave coldplay conce hampden fave couple cute',\n",
       " 'flagday heres mine gorgeous texas sky householdname takingover',\n",
       " 'user yes lets thissuppoing openly prowar anti islamichomophobicrapistwho advocates samehypocrite',\n",
       " 'cat furry persiancat pixion wallpapers images',\n",
       " 'user enjoy everything already given rather always needing blessed thankful',\n",
       " 'fathers day take dad user love',\n",
       " 'berlin thank much user incredible theriveourberlin theboss',\n",
       " 'listen incubus never hus nowplaying sick little world nissan live set de user',\n",
       " 'user anderson cooper amp lemon like gays thrown buildings sharia ndamendment',\n",
       " 'bei field dogwalking dogs',\n",
       " 'would steal awork user boohiss',\n",
       " 'competing listing today whenrealtorscompeteyouwin callme gotheextramile',\n",
       " 'user great park totally disorganised one poaventura whatajoke',\n",
       " 'ive got news bernie wasnt winning dc even vote held last month dcvotes',\n",
       " 'poor pup animals puppy vine magic subscribe youtube vine user',\n",
       " 'rare pic superstar user user bihday sivakoratala',\n",
       " 'user user moving outside downtown gr mi neither offer better mbps',\n",
       " 'user wishing dad happy father day dads fathersday intellicred',\n",
       " 'face says pwcproud',\n",
       " 'u love instagood user tbt cute beautiful followme',\n",
       " 'enjoy weekend family home happy weekend dear friends weekend family home',\n",
       " 'another senseless tragedy tragic pulse orlandostaystrong thoughtsandprayers',\n",
       " 'captain felix rutland water little boat behind go grand adventure',\n",
       " 'binge watching series thekilling completely avoid football',\n",
       " 'porn vids wwwsmallgirlsexcom',\n",
       " 'user tuesday jackie quote taketime makes soul enjoylife smile believe dream havefun',\n",
       " 'play england vs russia marseille expect high risk game plenty time drink',\n",
       " 'thankful sweater weather thankful positive',\n",
       " 'haunting atmospherics studiotime',\n",
       " 'user user become fan give right criticize personal life idol',\n",
       " 'latest obsidian radio daily thanks user user user latesnews',\n",
       " 'mindblown learning much google forms workshop user cfisdrrr',\n",
       " 'user sexy prettypussy sexybbw realmvp',\n",
       " 'user back user v traumatic months damage bad thought proof plan works onwards amp upwards excit',\n",
       " 'overwhelming evidence company trump keeps echoes sentiments amp ideals dumptrump',\n",
       " 'answer',\n",
       " 'orb independent brexit poll shows leave vote ahead gbpusd slumps blog silver gold forex',\n",
       " 'user user user mm mm washout flooding good take set another days golf',\n",
       " 'user ya ever since zayne left theyve never',\n",
       " 'happy fathers day loveyou fathersday sunday father daddy day',\n",
       " 'big shock mondayneeded find new home yeah found dream cottage tuesday',\n",
       " 'save thousands free search logins brokers actor seeklearning stafresh',\n",
       " 'actually ordered kylie lip kit',\n",
       " 'hope family made arrangements make sure bastard user get access',\n",
       " 'socialmedia us firm build nuclear reactors india',\n",
       " 'smaphone bull dominate bull direct whatever want',\n",
       " 'lifeisbeautiful loveit workhard trainhard matter go blessed fitlife',\n",
       " 'oscar tabarez talks luis suarez angry reaction spos luis oscar',\n",
       " 'playing njoyhit hitmusicstation us uk eur user join us nice nyc user',\n",
       " 'user weeks go im personaltrainer full time new slots available june pls spread',\n",
       " 'mother take care ten childrens sometime ten children cant take care mother',\n",
       " 'thankful good nights sleep thankful positive',\n",
       " 'playing bride nocturne melancholy melancholymusic',\n",
       " 'thankful friends thankful positive',\n",
       " 'thankful mason jars thankful positive',\n",
       " 'nigger lifelessons white kid grew blogpost whitepeople respect',\n",
       " 'user user user congrats user',\n",
       " 'via jts user love sinkthepink music instagay celebspot',\n",
       " 'user ready user ccmf mychurch frontrow upshow',\n",
       " 'utterly people incurable stupidity africa albino killings malawi spark education campaign',\n",
       " 'gold highs back around blog silver gold forex',\n",
       " 'shocking events orlando usa review gun laws innocents die first horrific unforgiveable',\n",
       " 'knowledgeable positive affirmation',\n",
       " 'le sister instatraveling instamoment igdaily instagramhub instagood instalike',\n",
       " 'factor mobile app make user want factors click download aricent whitepaper',\n",
       " 'user meanwhile google violates freespeech',\n",
       " 'user rochester attack bull chase leave lot despite fact youre strong source',\n",
       " 'im user competition',\n",
       " 'tattoosleeves gorilla simulator need adapt environment need tear city',\n",
       " 'ima go cry hours brb',\n",
       " 'tell sorrow river river taught flow without complain sepatu dahlan philosophy proverb',\n",
       " 'thankful memories thankful positive',\n",
       " 'user surely nasty piece work lmao',\n",
       " 'today perfect day happiness lifecoach reinventimpossible',\n",
       " 'sex sex nake women',\n",
       " 'thankful cocktails thankful positive',\n",
       " 'dont wait outside thepeel work homophobic taxi driver guys kiss gay melbourne cabs',\n",
       " 'great morning deborah user smiles kindness day',\n",
       " 'windows split screen browser customcasetab noedit',\n",
       " 'user people use tragedy like fuel hate agenda towards entire groups people thats opposite helpful',\n",
       " 'taeyeon unnie fire btw really hope album cover yellow lol',\n",
       " 'john micahow hell people like elected user user totalpolitician outoftouch disgraceful',\n",
       " 'oh blocked least love island look forward sunday',\n",
       " 'playing suzanne ciani oclock morning music song',\n",
       " 'help bubble attack winter bathtime cozy',\n",
       " 'thing matter many laws regulations guns people still find way get hands',\n",
       " 'user didnt stay long emergency home daughter well soo rush home missed ur set',\n",
       " 'user great insights trusted professions emea growth hacking conference growthwithhubspot',\n",
       " 'carolyn cooper ugly poor ignorant black',\n",
       " 'franklin dog sunshine dogsoftwitter',\n",
       " 'perfect day buy real furniture hiking user dinner user desse sleepnumber bonustolongrest dnd',\n",
       " 'love sunday weekend selfie longhair girl selfporait love',\n",
       " 'nature perfection bull hill climb reach target complete task survive str',\n",
       " 'orlando gay men angry canamp donate blood massacre',\n",
       " 'user golinglobal golinuntern fresh air trail running soul keeping golinuntern life balance',\n",
       " 'user user monroeampnick best friends amp rosaleeampaddie kellyampbabymonrosale grimm families nadalind',\n",
       " 'know find incredibly disrespectful taking personal call meeting frustrated',\n",
       " 'date night friday pub ilovehim instagay beer billys burnet',\n",
       " 'hea wrenching would state mother knows son die',\n",
       " 'user times fly less week go brilliant user leads summer conference',\n",
       " 'sad ones gtgtgt',\n",
       " 'sirf ashiq log follow karen iqbal galib wasi faraz mohsin ki full poetry add follow user',\n",
       " 'thank god royals without kansas city right cleveland disgraced',\n",
       " 'get see favorite person tmrrw',\n",
       " 'latina buffalo simulation buffalo take vicinity homes way',\n",
       " 'world live orlando',\n",
       " 'user vacation begun triathlete triathlon coach vacation fearless rul htt',\n",
       " 'user bit heabreak reflective',\n",
       " 'hardcore girls videos birday sex xxx',\n",
       " 'takalot book order arrives time long weekend away bush bengreenfield',\n",
       " 'saysomething bull dominate bull direct whatever want',\n",
       " 'steph san kana badly needed please',\n",
       " 'user another hands amp feet complete berachah best amptired',\n",
       " 'user way ctf book talk inmates paicipating user book club program slugg',\n",
       " 'ready awesome beat cool dj dance edm house goodmusic madness',\n",
       " 'jpy negative external environment remains suppoive mufg blog silver gold forex',\n",
       " 'mkf collection jasmine moira crossbody bags wednesday',\n",
       " 'currently eat steakandshake ive minutes gotten shake ordered',\n",
       " 'gray sad color makes feel grayneedstogo',\n",
       " 'difficult roads often lead beautiful destinations anon leadership inspiration quote inspirational',\n",
       " 'usd long positions added eur shos increased anz blog silver gold forex',\n",
       " 'r rockalldayer user user day noise',\n",
       " 'user definitely mexican fakenewsale',\n",
       " 'user new album released user break loveherbreakups hotgoss',\n",
       " 'standing racism hate americad curse congress haters deplorable hate',\n",
       " 'sunshine sunshine make skies gray',\n",
       " 'something wanted say something makes happy gaming gamer xboxone playstation user e',\n",
       " 'football actually thing mo thats watchable bringbackgladiators',\n",
       " 'happy hump day humpday life lifestyle wednesday midweek snapchat walrus funny',\n",
       " 'let say love',\n",
       " 'dont worry happy via user archiveday weekendblogshare happiness quotes tshis',\n",
       " 'happy puppy london puppy thursdaymotivation',\n",
       " 'dont know youre going room one troubled soul drawing blackandwhite',\n",
       " 'recommend dark amp romances horror moviegenres ambiance',\n",
       " 'user trump used hate putin win white house trump presses attack khan family gop leaders',\n",
       " 'one bucket list items ticked tonight finally saw ice cube live tonight wildlifefestival today good day',\n",
       " 'friends magical potion ewabeach magicalhappydrinks ewa beach house',\n",
       " 'everytime wear soccer shis joie fries says look mexican fuck',\n",
       " 'weird months finally feeling positive life lately pleasedontchange',\n",
       " 'checked holiday croatia daystogo',\n",
       " 'user night sweet dreams',\n",
       " 'fashionblog rooster simulation want climb vast expanse mountains reached leakage coc',\n",
       " 'best mood ever becauseofhim inlove',\n",
       " 'happy dont worry smile love iminlove iam im nice day',\n",
       " 'user monacorestochezedgardgrandprixf essaissunlewissuppo user amour love',\n",
       " 'bought launch using design thinkingby user amp user via user toread letsmake',\n",
       " 'mad chose dj snake zedd edc',\n",
       " 'danger white liberalism oveurning applies liberal men feminism',\n",
       " 'user user user truly truly pathetic many ways user user user nothing learned coverin',\n",
       " 'monday mornings working lake scottieandrussell work love picoftheday',\n",
       " 'im loving rain hope hangs around rain water tbt weather bribieisland',\n",
       " 'user chosen wrong horse unless change mind soon end political career',\n",
       " 'user weddings impoant celebrate life possibility anne hathaway wedding love',\n",
       " 'icymi shooting orlando nightclub kills police say debeloping guns',\n",
       " 'user user snatched past week schoolsupplies',\n",
       " 'great aicle right money starspangledbanner slavery apaheid usa',\n",
       " 'babies born welcome new world cats babiescat cat newborn congratulations',\n",
       " 'user user user user user evening dear cutys',\n",
       " 'user user mentality culture mentalhealth',\n",
       " 'user wishing us weekend',\n",
       " 'thankful freezers thankful positive',\n",
       " 'user ready ltagt full day lthtmlgt user user cssday',\n",
       " 'user thank power social media user aande',\n",
       " 'user made smile bigbang babies cto',\n",
       " 'sending good vibes way happy friday tgifriday goodvibesonly becauseimhappy smilemore',\n",
       " 'letsgo agents tooeasy days till dlc know im gamingforeveryone',\n",
       " 'user decide fowoh goldenretriever lcck comfodog workingdog',\n",
       " 'user gets angry muslim assassinating much',\n",
       " 'hereeeee user ericprydz edc music musiclife edm dance girls',\n",
       " 'funny thing humankind watch news feel bad etc back open business usual good future',\n",
       " 'user keep telling aryans allowed rape women youre troll eod user user',\n",
       " 'user speechless comes shootings recently guess people nothing lose dont respect',\n",
       " 'user forecasted beautiful waves raalhugandu disappeared due construction bridgeamp theres hope com',\n",
       " 'user minute trump condemn vile bigoted comments surrogate carlpaladino endhate',\n",
       " 'wishing wonderful dads fathers daylets rock today red rascals',\n",
       " 'user allahsoil vps got multimillion dollar bonuses average americans lost homes',\n",
       " 'love abrahamhicks lawofattraction healthy healing joytrain',\n",
       " 'signed first bikram yoga class',\n",
       " 'think thoughts shine face like sun beams quote smile',\n",
       " 'jan interested discrimination affected criminal justice system',\n",
       " 'friends forever friendsswedenreunion gratefullove egna hem',\n",
       " 'keep opposition user endthenation',\n",
       " 'two loves beer craftbeee dog malinoislovers malinois passion friend',\n",
       " 'fathersday father day dad skinny single buy things h',\n",
       " 'user rickityrick rickityrick ole broken wagon looking find next mateen jump board',\n",
       " 'guess user talking progress advancement misogyny homophobia bigotry',\n",
       " 'everyone going struggle pain right keep head keep smiling youll get hope',\n",
       " 'good evening darling instagram babies blessed lipstick makeup fun grateful share',\n",
       " 'user jake right many ppl lack power take stand amp drown small minded amp oft evil tendencies past',\n",
       " 'really hate hipocrit politicians sides deserve better citizens',\n",
       " 'user user user environmental wellbeing plan sites nothng todo w',\n",
       " 'bihday sway bihday sway bihday bihday',\n",
       " 'saturday morning go back sleep thetrust comusic indie faded away johnmaun listen user',\n",
       " 'founate man life every single day father day',\n",
       " 'user user gutted didnt know tonight would good luck',\n",
       " 'beginning think user tom brady hater way goes man',\n",
       " 'attack orlando caused lot pain many people vengeance option lets comfo',\n",
       " 'cuteness overloaded let life fills love sweetness live long married life',\n",
       " 'heading graduation user mechtechplumbing futureplumber proudmama',\n",
       " 'user user possible speak topic without bringing race bigot user',\n",
       " 'much terribly news weekend orlando christinagrimmie prayers',\n",
       " 'makes innovative nous',\n",
       " 'update social analytics instalike tbt yoga summer fun',\n",
       " 'rushlimbaugh incredibly obama impression via user',\n",
       " 'user user people failing fellow citizens',\n",
       " 'staing pack move newflat',\n",
       " 'first love may makes feel like love cheese shotermlongdistance',\n",
       " 'user youtu bed two dont get friendship',\n",
       " 'want kind poor sin despise anyone jesus faith believe wisdom',\n",
       " 'nice life im done trying lovequotes',\n",
       " 'latest positivementalattitude thanks user user user positive',\n",
       " 'arrived blagoevgrad fo zaz conce feeling umbrelas',\n",
       " 'user number leaders coming',\n",
       " 'great way spend saturday relaxation positivevibes california cakesbytheocean',\n",
       " 'eurusd could test nearterm westpac blog silver gold forex',\n",
       " 'money campaign asking k donations midnight fight hrcs ad buy brokedonald lyindon',\n",
       " 'today calls champagne friday fridayfeeling friyay goodweek clients hair',\n",
       " 'us selfie myfriend loveher giannena smile thecomeback',\n",
       " 'playing yiruma kiss rain music song',\n",
       " 'backwho missed megreatfultogod beendoinggreat selfie',\n",
       " 'repeat put dog hot car leave heat keep home fucks sake dogs',\n",
       " 'splendid nosie probably year wrc rallypoland user user',\n",
       " 'hours go music video released music edinburgh scotland band user musicvideo user',\n",
       " 'look journeys left right foot stage',\n",
       " 'black professor makes assumptions entire race whilst speaking entire race next week jews',\n",
       " 'back musicnow playing michael jacksonthe lost children unificationsdayand may god children amp families smile',\n",
       " 'drakeandjosh buffalo simulation buffalo take vicinity homes wa',\n",
       " 'trumpusa call us homophobic misogynist really saying jealous us w',\n",
       " 'user think suspend indefininetly racist staff',\n",
       " 'sat alone let sad sigh openrp bored',\n",
       " 'good morning manchester quick preview new gin well launching soon one',\n",
       " 'kiki felt ignored today user make kiki dance kikidance miabbook',\n",
       " 'user source inspiration ideal lyf baba fathers days',\n",
       " 'user congrats thomas new beautiful home tehaleh welcome lennar family homeowner',\n",
       " 'miss days friends played xbox',\n",
       " 'user loving dincwear mums da word user straight saturday brickingit',\n",
       " 'user hes one majority fans like salty gsw fans needed someone',\n",
       " 'user coming singapore',\n",
       " 'sma baby socks gbp get shop cool home fun',\n",
       " 'liked user video user sjw retard wants',\n",
       " 'user woh wait user doubledown wife user user veganbeerfest vegan',\n",
       " 'user lmfao deadass',\n",
       " 'amazing interview bjmckenzie born win bjmuzic',\n",
       " 'boasty tuesday last night boom boom harry hype say get',\n",
       " 'bihday balayya even age mass lookcraze fanson screen romancehe legend jaibalayya',\n",
       " 'outlining themes wouldbe poems haha',\n",
       " 'decors buffalo simulation buffalo take vicinity homes way',\n",
       " 'sold one two paintings going get beautiful new home week sold',\n",
       " 'user msg hope newyear business end endof tedtalks tedatibm user user',\n",
       " 'safe say im missing marbs sitting home watching euro listening rain depressing bringbackhappiness',\n",
       " 'gd morning gdragon gd kwonjiyong jiyong vip bigbang handsome cute love',\n",
       " 'friendszxc',\n",
       " 'days till vacation',\n",
       " 'secret happy marriage finding people less attractive repo',\n",
       " 'python concurrency best friends code restructure get concurrency celery developers python',\n",
       " 'womenareamazing think induoevents superwomen follow dowhatyoulove',\n",
       " 'let season binge begin oitnb myfavorite season weekendplans',\n",
       " 'picture woh thousand words sundayrewind hongkong travel lady lawyer',\n",
       " 'relax ingers followme follow follow follow beach pool relax enjoy couple',\n",
       " 'user countdown begunfamilyfreeeventfestival enteainment foodstalls',\n",
       " 'awesome beginner gopro mounts super use',\n",
       " 'dear istore please dont crash due heavy overload booktime muchlove',\n",
       " 'never underestimate power good book good wine good food great patio summerevening patioweather',\n",
       " 'istg best cheese ta dayum expensive',\n",
       " 'morning office routine never without bff imy',\n",
       " 'user non stop election blame cspan hiding years pittsburgh california',\n",
       " 'minutes counting wwdc wwdc',\n",
       " 'user user play ball state politics facade weve lost principality',\n",
       " 'great day nothing happy blessedthankful',\n",
       " 'happy sunday everyone sundaymorning sunday peace love',\n",
       " 'always help others never people matter clearly dont quotes latenights',\n",
       " 'bihday weekend even better xx',\n",
       " 'happy fathers day boys father sweet love memory user',\n",
       " 'life impoant human spirit truth love give spirituality thinkbigsundaywithmarsha',\n",
       " 'father babies love happiest fathers days father via',\n",
       " 'user current mood user web developer meet amp hire',\n",
       " 'user bride woman fine prospect happiness behind ambrose bierce wedding love',\n",
       " 'friday xoxosamantha via',\n",
       " 'user stop robbing innocent customers hard earned aiime guys idea dey managed recharge',\n",
       " 'grab bestie amp swing hour weve missed fun eat',\n",
       " 'opinion racism degrading people based race justify discrimination open violence stopracism',\n",
       " 'user user user im way say blogger vlogger',\n",
       " 'user user yay fantastic edinburgh',\n",
       " 'lem find put boiler month june',\n",
       " 'pre user gig drinks passthecourvoisier user',\n",
       " 'rescued pup meet rexy rescuepup rexy pupsofsg suicidegirls beautiful puppylove',\n",
       " 'videos get excited future tech augmented future mobile',\n",
       " 'hellosunday hope beautiful sunday sundayfunday sunnday',\n",
       " 'gifdidt listen song since ages',\n",
       " 'nzdusd rises eyeing gdt price index fomc statement blog silver gold forex',\n",
       " 'happy bihday one wests greatest tupac shakur bihday rip tupac',\n",
       " 'hrs go fl motionposter revealed mupparimanam feeling nervous stay tuned',\n",
       " 'user little taste sure',\n",
       " 'appletstag compleanno toa cake family bday selfie smile girl summer',\n",
       " 'anime animea treefriends tags anime fana pixiv happy tree',\n",
       " 'slow sta productive day getting back routine bout fatigue flareup hard spoonieproblems',\n",
       " 'love ramdan fastingi love iftars feeling love way feel ramadan praying reading quran blessed',\n",
       " 'eurgbp subdued trading action around blog silver gold forex',\n",
       " 'user ngitingtagumpay',\n",
       " 'unusual cloudy day election day picnic friends sunday everyone welcomeludovica',\n",
       " 'cloudchaser gorilla simulator need adapt environment need tear city mat',\n",
       " 'wants leak udta punjab probed suspects political jobs jobsearch chandigarh makers udt',\n",
       " 'yesterday ozen restaurant eatallyoucan',\n",
       " 'already tell next weeks episode gon na give intense anxiety nervous gameofthrones',\n",
       " 'user may lights triumph darkness may ramadan bring peace harmony joy ramadan ramadankareem',\n",
       " 'user user else notice suppoers pageant girls wyears internalize female oppressive system',\n",
       " 'hate online applications dont even get foot door tell dont need',\n",
       " 'thankful flowers thankful positive',\n",
       " 'beautiful love living beach beach loveit',\n",
       " 'user omg bitch knew gone lil kim actually look like music video',\n",
       " 'user user user man even bunch coupons',\n",
       " 'way sta day goodmorning',\n",
       " 'lking forward watering holes watchtowers foresses user user user',\n",
       " 'user allahsoil next best seller book isis islam worlds words terrorists gwot',\n",
       " 'fantastic rub steak yum thespicesndteaexchange dc healthy',\n",
       " 'followme touch tits',\n",
       " 'feels like summer love like live life enjoy healthy sun tan bikini summer',\n",
       " 'user dont forget user research shows sexist men psychological problems tuckercarlson',\n",
       " 'nice specific pedagogical changes',\n",
       " 'user typical city fan',\n",
       " 'im attracted asian ppl bc im asian tell im attracted bc im inse race hoe',\n",
       " 'user awlrite mol jealous better cricket pitch life getalife',\n",
       " 'prayers go eddie family',\n",
       " 'closeencounters fatkind fatkid dese sick tired maybemono',\n",
       " 'gymmorgon gym morning strength energy training wingym',\n",
       " 'glad arrived safely user',\n",
       " 'defines historically oppressed historic oppressorsprivileged',\n",
       " 'really pretending truthseekers empowerment selfimprovement healing ihearadio',\n",
       " 'finally found way delete old tweets might find useful well deletetweets',\n",
       " 'user view oregon poland usa unitedstates holiday dj producer house',\n",
       " 'put vote yet havent share see makes smile poll',\n",
       " 'user next chapter life stas soon looking house today fianc',\n",
       " 'booked trip europe user user travelwise europe london paris',\n",
       " 'thankful oxygen thankful positive',\n",
       " 'latest volatile daily thanks user user user space',\n",
       " 'someone explain user moody',\n",
       " 'worrying',\n",
       " 'today national smile power day show pearly whites someone deserving make day one',\n",
       " 'user radicalism shouldnt countered terrorists see us inhumans free cant judge color',\n",
       " 'user great appreciations frm everyone performance soo happy sir hrs go watch film gentleman',\n",
       " 'end era amazon finally took final fantasy versus xiii entry database',\n",
       " 'user lot pakistani twitter folk make like totally liberal amp open minded deen imaa',\n",
       " 'little anya fun waiting milers arrive ride neotour',\n",
       " 'daddy days user user',\n",
       " 'user sad leaving first house today looking forward making memories new house user movinghou',\n",
       " 'tend expose moods aists name song titles music',\n",
       " 'user cnnelection user nice parroting user racist talking points repoed last night onpoint',\n",
       " 'stuff crazy fashion fun color gowns fashiondesign design illustration',\n",
       " 'dont give depression get busy positive movement puts good mood fitness fresh',\n",
       " 'wheres half want indulge lot yunho esp dancing keep head today',\n",
       " 'fact keep watching makes interesting',\n",
       " 'like sis regrann fffwithjanelle liberated',\n",
       " 'last day normalcy star summer camp',\n",
       " 'turning year younger newyear newblessings bihday thankful grateful',\n",
       " 'wait wales vs nz tonight eden park cymruambyth user come user',\n",
       " 'buzzing time weeks user lying beach phuket hurryup',\n",
       " 'happiness realtimechem chemistry education sma practical',\n",
       " 'rooftops sunday weekend drinks la night views summer fullmoon dtla fun',\n",
       " 'scenes euro fear next user',\n",
       " 'windows split screen browser lumia xl lg',\n",
       " 'lighttherapy help depression altwaystoheal healthy happy',\n",
       " 'quote day bless thankful optimistic positive faith strong motivation',\n",
       " 'vmin makes happy time hate',\n",
       " 'fathers day lovvvvvvvveeeeeeee dear father',\n",
       " 'user user look passionate ivankatrump plane fake yet ignore adamsaleh ra',\n",
       " 'williams companies energy transfer paners heiraten texaspoker im pipelinesektor blog silver',\n",
       " 'thanks pouring tea razer blackwidow chroma kids destruction',\n",
       " 'todays donkey zionazi proud murdering real palestinian semitic children thats call',\n",
       " 'done cantwait latvia hereicome midsummers familly friends',\n",
       " 'find making schools places user user educationfest',\n",
       " 'reminds tough choice nigeria india choose india mental health research',\n",
       " 'jumat ppleeyan ytinny',\n",
       " 'user never relevant rest peace johnlennon inspiration',\n",
       " 'mojo man lol week one new program teammacb fitmom fitlife',\n",
       " 'user couldnt get song head today songgreat rhythm figure id share',\n",
       " 'snapchat barbiets tranny ladyboy asianladyboy thailand usa lasvegas',\n",
       " 'binge watching im next week lol',\n",
       " 'happens loop shopping vine',\n",
       " 'ohmybooks beautiful oh feels feels coverlove bookporn user user',\n",
       " 'yes lovely sad sick timesbe glad friday post euref whingeing begins bhblxxx',\n",
       " 'secure positive affirmation',\n",
       " 'heal naturally healthy idwp joytrain',\n",
       " 'keeping shape lol running time running park summer exercise fitness helthy',\n",
       " 'user gif describe exactly feel x',\n",
       " 'user user expanded wars thru amp made america weaker abandons vets return home',\n",
       " 'fixed washing machine',\n",
       " 'user ea knows everyone hates game constant surveys dont like game',\n",
       " 'makes makes smilelaugh much breathelove long',\n",
       " 'user fn seeking rid antisemitic xenophobic image majority sympathisers still describe',\n",
       " 'awake neighbours alarm clock beeping last minutes driving crazy cant get back sleep tired',\n",
       " 'amazing pussy wet',\n",
       " 'intelligent positive affirmation',\n",
       " 'euro day go till kickoff whos englishlearning ireland',\n",
       " 'got house viewing potential house monday',\n",
       " 'week till bridesmaid weeks till holiday bestfriendswedding sun turkey hull',\n",
       " 'time kiss kiss waiting works',\n",
       " 'frame grab day user shoot touching story ending cant wait share',\n",
       " 'adventure time theme played quickly adventuretime themesong music caoon ukelele',\n",
       " 'user always',\n",
       " 'freedom day lgbt weho',\n",
       " 'user cant wait new maslowmusic',\n",
       " 'easy folks',\n",
       " 'bihday brother cool thebomb',\n",
       " 'family happy family',\n",
       " 'watching live tonight boy george culture club memories',\n",
       " 'dogs bathed flea free new beds sprayed mommyduties furbabies kimber',\n",
       " 'nite sad bc ordered fries dennys amp sucked tonight never bad fry assumed fries delicious',\n",
       " 'tomorrow bihday pay',\n",
       " 'fathers day love papa',\n",
       " 'days better others today one givethanksforlife feelingmyself hardwork',\n",
       " 'great weekend love peace',\n",
       " 'music drug',\n",
       " 'happy work conference right mindset leads cultureofdevelopment organizations work mindset',\n",
       " 'user happy lbgt familybut dont get incessant thin veiled gay minorities',\n",
       " 'user getting mood ready user performance pippin pippin',\n",
       " 'user tonight hour brand new chicagofire season returns user finally',\n",
       " 'someone stimulates internet theyre always second guess need satisfaction others',\n",
       " 'user heres pizza tonights stream bout whats favorite pizza food gamer fun hungry',\n",
       " 'might ugly used uglier true story',\n",
       " 'user saw play user hoping happengreat choice thank awesome music live',\n",
       " 'racist intent guy joking via user trump barackobama michelleobama',\n",
       " 'smilemore blessedsundays weekend dope latino hispanic lit spiky young felizdomingo fly la',\n",
       " 'lol watched novela parents',\n",
       " 'idiot dances graves dead americans proud',\n",
       " 'user bestseller inspiration motivation never go bed without dream wakeup without hope',\n",
       " 'add snapchat guys going business trip texas',\n",
       " 'user really wanted come daughter really put foot',\n",
       " 'user user ah thank',\n",
       " 'defense deflect fact defense trumpgeorge showed true colors neverump',\n",
       " 'boobies happy show happy show pron porn nude sex',\n",
       " 'champions trophy coach roelant oltmans happy indias nextgen hockey players london indias ho',\n",
       " 'user us singer christina grimmie shot dead yfmghana huge talent wasted',\n",
       " 'two days dancingqueenonly annakahnuielsen annukah',\n",
       " 'quebecs humanrights amp justice system fail protect victims police user user',\n",
       " 'loved season trailer telltales walking dead quite since finished season clementine e',\n",
       " 'weekend long weekend friday weekend wine cape town south',\n",
       " 'great things coming way inlove stronger ever humble ready',\n",
       " 'one way wise way nickname also',\n",
       " 'sick verbal irony left equaling homophobe amp islamophobe protecting viper amp mouse viper eats mouse',\n",
       " 'wokeup morning tears thoughtswithorlando prayforhumanity prayfoheworld world struggle love',\n",
       " 'canny wair oitnb come back girl crushing bad user',\n",
       " 'trip trip bike free time crazy noba day nice sun picture streetstyle',\n",
       " 'ukraine need jeanne ukraine needs louis xi ukraine senseandsensibility pov',\n",
       " 'bihday dad gbu srk stay happy celebrating dads bihday',\n",
       " 'user going sta humiliating dont day soslow',\n",
       " 'user dental testimonials lichfield clients',\n",
       " 'couldnt said better love need stopthehate bethechange ripchristinagrimmie',\n",
       " 'sad waltdisneyworld alligator attacks yearold boy disney world recovery effo continues',\n",
       " 'oh thats lovely user healthy day friend pete',\n",
       " 'user would never guessed would disappointed city berlin',\n",
       " 'po gorilla simulator need adapt environment need tear city material',\n",
       " 'great view muscari daffodils tulips spring memories',\n",
       " 'daily affirmation motivation inspiration purpose love peace',\n",
       " 'rip anton yelchinmet back san diego comiccon promoting terminator salvation sdcc',\n",
       " 'user makes',\n",
       " 'user traditions impoant mlb congrats cardinals drafting player failed drug test peds cardi',\n",
       " 'nice weekend love romance sea selfie',\n",
       " 'via curb back season thank mr larry david best news user',\n",
       " 'happy feet kidcolorwithgranny feetbabysweetwelcomechampcanon mmnepalkathmandu',\n",
       " 'user goodmorning bihdaygirl lhasaapso dog puppy bihday furbaby furkid cute user',\n",
       " 'ahhhh tenerife days',\n",
       " 'works uk id white amp politician impoed thieves black theyd investigate amp prosecute returnmyvinyl',\n",
       " 'australia paicipation rate came expectations may blog silver gold fo',\n",
       " 'childrens day lets make today special kids ages',\n",
       " 'youre daddy someone crewed amp ran away fathersday god bless',\n",
       " 'user user user going script right',\n",
       " 'go work today please answer quick survey leadership',\n",
       " 'sex amateur callsign lookup',\n",
       " 'needed little bit arizona put car arizona',\n",
       " 'im actually really hu game loved totally fake user careful getting obvious truly nbafinals',\n",
       " 'friyay lets get day staed lipstick mascara caffeineaddict dowhatyoulove letsdothis school',\n",
       " 'hello friday hello euro england threelions woysboys',\n",
       " 'imprint father remains forever life child fathersday',\n",
       " 'user countdown begins sonasays days go akira release',\n",
       " 'lol feel useless',\n",
       " 'user play maison johnny user user user user',\n",
       " 'user gunman kills least people amp injures others crowded gay nightclub florida america',\n",
       " 'im letting piercer decide new piercing well find friday new addition im adding',\n",
       " 'user model love take time ur',\n",
       " 'success order',\n",
       " 'motivation monday mondaymotivation fitandfierce',\n",
       " 'buffalo bull dominate bull direct whatever want',\n",
       " 'cheating much fun fitness cheatday vacation star fish company market amp',\n",
       " 'kejriwal must accept role making udtapunjab conspiracy defame punjab',\n",
       " 'peppa pig birds lollipop finger family nursery rhymes lyric qua user',\n",
       " 'bihday girl goes mykonos bihday bihday isthenew',\n",
       " 'user looking forward meeting performance countrymusic ssms',\n",
       " 'tell lot organization type people promote leadership leadershipfreak quote inspirational',\n",
       " 'afternoon well spent water goodtimesgoodfriends ampthankful lifewellspent',\n",
       " 'brighter note tomorrow im looking puppy lab amber mad max spaniel weeks mayhem',\n",
       " 'youre mother stands pretheatre lunch date',\n",
       " 'happy saturday new vapefam saturday vapegirl vapinglifestyle vapehappy',\n",
       " 'latest maryland daily thanks user user chrismukkah',\n",
       " 'lifes fast run high bounce user forestpark xtremeair k stl',\n",
       " 'fish bull dominate bull direct whatever want sta',\n",
       " 'audusd failures apparent key resistance dma next stop blog silver gold forex',\n",
       " 'happy happiness minions',\n",
       " 'someone effo make people fans happy talend goes ripchristinagrimmie ommmy justice',\n",
       " 'also keyboard type cause coopting terrorists reg syria autocorrects cause colored terrorists',\n",
       " 'im super hungry dont feel like cooking haha lazy singlelife',\n",
       " 'new bikini amazon list big paul thank bikini abs sexy bikinibody love model',\n",
       " 'happy monday everyone lets make good week mondaymotivation freshsta healthy',\n",
       " 'sex sex video free tube',\n",
       " 'looks like knowledge power happiness loveit',\n",
       " 'way cmtredcarpet tunein user user',\n",
       " 'calm positive affirmation',\n",
       " 'multiconnexions difficult ask many languages measure happiness un',\n",
       " 'baby girl sleeping tonight might go get room lol missmycuddlebuddy',\n",
       " 'manager invited wedding',\n",
       " 'sma aliens amp clever clogs devided afghan nation two political entities namely afghans amp taliban pak love poorafghans',\n",
       " 'strange magical ways people make personalizedrecovery',\n",
       " 'user disgrace poor kids already tough life',\n",
       " 'socks make smile weenie dog love dachshund love socks feet',\n",
       " 'oprah winfrey show th anniversary collection came today hours footage cant wait',\n",
       " 'user user user simple things past administration deliberately ignored',\n",
       " 'thankful life live direction im going',\n",
       " 'stay tuned saint issue printers comics makecomics',\n",
       " 'lots stuff confirmed booked open day details finalise biggestever',\n",
       " 'user although bigot misogynist hope still qualify keepyoureyesontheprizemlk',\n",
       " 'performing tonight pridela alongside amazing girls sure',\n",
       " 'user im fully blocked lol dam didnt know pissed ur pants lmao',\n",
       " 'user america owes blacks africanamerican reparations',\n",
       " 'happy super duper blated girl bihday friends',\n",
       " 'user laughable see celebrities ali funeral funeral service become pr oppounity',\n",
       " 'potus white hed still worst president ever likely president ever trump israel happynewyear',\n",
       " 'user user periscope personal development fitmom tikila bellyburningbootcamp fitness health htt',\n",
       " 'decolonizing curriculum way process together decolonization',\n",
       " 'floating towards happiness floatationtherapy floating happiness health wellness',\n",
       " 'work another double tomorrow yes woohoo',\n",
       " 'dwd wetterwarnung starkes gewitter schwandorfchwandorf warnung wetter',\n",
       " 'youre sister never love friends bestfriends cute girl',\n",
       " 'think caitlyn jenner still gets fathers day presents worldsbreastdad number dad usedtobeafathersday',\n",
       " 'everybodys got somebody single vain',\n",
       " 'oitnb bitchezzzz season netflix yaaay',\n",
       " 'user true behappy',\n",
       " 'youre young stop worrying',\n",
       " 'business concern others might going',\n",
       " 'user man minneapolis hit car times alone whole time poorguy',\n",
       " 'engerland engerland engerland woohoo come boys us proud euro england football russia englandrussia',\n",
       " 'time sing ole ole ole seeing rain outside noida delhi rain',\n",
       " 'omg hope fun seeing selena gomez live went sorry didnt go',\n",
       " 'fathers day dogdads really know show spirit best friends dogs',\n",
       " 'soon seems food gmo dont labelit keep safe healthy amp',\n",
       " 'hello sunglasses notmine darkerhair explodedhair boom hairdresser',\n",
       " 'profitable thing im america',\n",
       " 'user disagree nba user suspended even words user gofigure',\n",
       " 'repost user repostapp guests',\n",
       " 'smark friend shopping smark',\n",
       " 'feeling staed avon business message order products learn sta business myavonstory',\n",
       " 'user beautiful kelly',\n",
       " 'user come see brooklyn user amp user host user parade user sat pride htt',\n",
       " 'bihday lunch dear friend sammaki lovely afternoon bihday',\n",
       " 'woke butterflies morning one sleep go user',\n",
       " 'looking forwards sneaky peek user new extension tomorrow user huddersfield',\n",
       " 'pack pay gbp get shop cool home fun',\n",
       " 'omg luckily got gym onsite london pillbox workspace cake eastlondon treatyourself',\n",
       " 'cant wait hear crookedhillary describes pulse incident since incapable using words radical islamic terrorism',\n",
       " 'user workingthe social media divide growing minute',\n",
       " ...]"
      ]
     },
     "execution_count": 35,
     "metadata": {},
     "output_type": "execute_result"
    }
   ],
   "source": [
    "clean_model"
   ]
  },
  {
   "cell_type": "markdown",
   "id": "nvATdjTB-UZP",
   "metadata": {
    "id": "nvATdjTB-UZP"
   },
   "source": [
    "## Replacing words starting with not with there antonym (Will do after to see if further improvements can be made)"
   ]
  },
  {
   "cell_type": "code",
   "execution_count": 36,
   "id": "Co2Lb3Hi-UZY",
   "metadata": {
    "id": "Co2Lb3Hi-UZY"
   },
   "outputs": [
    {
     "data": {
      "text/plain": [
       "'\\ntokenized_words = [word_tokenize(str(i)) for i in clean_model]\\ntemp_word = \"\"\\nmodel_after_antonyms_replacement = []\\nfor m in range(len(tokenized_words)):\\n   final_word = []\\n   for n in range(len(tokenized_words[m])):\\n     antonyms = []\\n     # replacing not with not_\\n     if tokenized_words[m][n] == \"not\":\\n       temp_word = \"not_\"\\n     # replacing word starting with not_ with its antonym\\n     elif temp_word == \"not_\":\\n       for sys in wordnet.synsets(tokenized_words[m][n]):  \\n         for s in sys.lemmas():\\n           for a in s.antonyms(): \\n             antonyms.append(a.name())\\n       # adding antonym word to original word\\n       if len(antonyms) >= 1:\\n           tokenized_words[m][n] = antonyms[0]\\n       # adding not_ to original word\\n       else:\\n         if tokenized_words[m][n] != tokenized_words[m][-1]:\\n           tokenized_words[m][n+1] = temp_word + tokenized_words[m][n+1]\\n       temp_word = \"\"\\n     if tokenized_words[m][n] != \"not\":\\n           final_word.append(tokenized_words[m][n])\\n   model_after_antonyms_replacement.append(\\' \\'.join(final_word))  \\n   '"
      ]
     },
     "execution_count": 36,
     "metadata": {},
     "output_type": "execute_result"
    }
   ],
   "source": [
    "\"\"\"\n",
    "tokenized_words = [word_tokenize(str(i)) for i in clean_model]\n",
    "temp_word = \"\"\n",
    "model_after_antonyms_replacement = []\n",
    "for m in range(len(tokenized_words)):\n",
    "   final_word = []\n",
    "   for n in range(len(tokenized_words[m])):\n",
    "     antonyms = []\n",
    "     # replacing not with not_\n",
    "     if tokenized_words[m][n] == \"not\":\n",
    "       temp_word = \"not_\"\n",
    "     # replacing word starting with not_ with its antonym\n",
    "     elif temp_word == \"not_\":\n",
    "       for sys in wordnet.synsets(tokenized_words[m][n]):  \n",
    "         for s in sys.lemmas():\n",
    "           for a in s.antonyms(): \n",
    "             antonyms.append(a.name())\n",
    "       # adding antonym word to original word\n",
    "       if len(antonyms) >= 1:\n",
    "           tokenized_words[m][n] = antonyms[0]\n",
    "       # adding not_ to original word\n",
    "       else:\n",
    "         if tokenized_words[m][n] != tokenized_words[m][-1]:\n",
    "           tokenized_words[m][n+1] = temp_word + tokenized_words[m][n+1]\n",
    "       temp_word = \"\"\n",
    "     if tokenized_words[m][n] != \"not\":\n",
    "           final_word.append(tokenized_words[m][n])\n",
    "   model_after_antonyms_replacement.append(' '.join(final_word))  \n",
    "   \"\"\""
   ]
  },
  {
   "cell_type": "code",
   "execution_count": 37,
   "id": "lhQP_6Lv_cm6",
   "metadata": {
    "id": "lhQP_6Lv_cm6"
   },
   "outputs": [
    {
     "ename": "NameError",
     "evalue": "name 'model_after_antonyms_replacement' is not defined",
     "output_type": "error",
     "traceback": [
      "\u001b[1;31m---------------------------------------------------------------------------\u001b[0m",
      "\u001b[1;31mNameError\u001b[0m                                 Traceback (most recent call last)",
      "\u001b[1;32m<ipython-input-37-9f958c75d6fe>\u001b[0m in \u001b[0;36m<module>\u001b[1;34m\u001b[0m\n\u001b[1;32m----> 1\u001b[1;33m \u001b[0mclean_model\u001b[0m \u001b[1;33m=\u001b[0m \u001b[0mmodel_after_antonyms_replacement\u001b[0m\u001b[1;33m\u001b[0m\u001b[1;33m\u001b[0m\u001b[0m\n\u001b[0m\u001b[0;32m      2\u001b[0m \u001b[0mclean_model\u001b[0m\u001b[1;33m\u001b[0m\u001b[1;33m\u001b[0m\u001b[0m\n",
      "\u001b[1;31mNameError\u001b[0m: name 'model_after_antonyms_replacement' is not defined"
     ]
    }
   ],
   "source": [
    "clean_model = model_after_antonyms_replacement\n",
    "clean_model"
   ]
  },
  {
   "cell_type": "markdown",
   "id": "gs6mmxypa8dT",
   "metadata": {
    "id": "gs6mmxypa8dT"
   },
   "source": [
    "## Lemmatization"
   ]
  },
  {
   "cell_type": "code",
   "execution_count": 38,
   "id": "yXgxLXntlpMz",
   "metadata": {
    "id": "yXgxLXntlpMz"
   },
   "outputs": [],
   "source": [
    "tokenized_words = [word_tokenize(str(i)) for i in clean_model]\n",
    "lemmatizer = WordNetLemmatizer()\n",
    "lematized_model = []\n",
    "for m in range(len(tokenized_words)):\n",
    "      lema_m = [lemmatizer.lemmatize(word) for word in tokenized_words[m]]\n",
    "      lematized_model.append(' '.join(lema_m))"
   ]
  },
  {
   "cell_type": "markdown",
   "id": "VMOhzTEesydl",
   "metadata": {
    "id": "VMOhzTEesydl"
   },
   "source": [
    "## Lemmatized model"
   ]
  },
  {
   "cell_type": "code",
   "execution_count": null,
   "id": "avQzpjUQnqIg",
   "metadata": {
    "colab": {
     "base_uri": "https://localhost:8080/"
    },
    "id": "avQzpjUQnqIg",
    "outputId": "96fcb723-bb92-4be7-dd58-5786be6c6d52"
   },
   "outputs": [],
   "source": [
    "lematized_model"
   ]
  },
  {
   "cell_type": "code",
   "execution_count": null,
   "id": "SYlJl6Nk5n5T",
   "metadata": {
    "colab": {
     "base_uri": "https://localhost:8080/"
    },
    "id": "SYlJl6Nk5n5T",
    "outputId": "13f79be1-3411-471e-b4ee-5d487c358229"
   },
   "outputs": [],
   "source": [
    "print(lematized_model)"
   ]
  },
  {
   "cell_type": "code",
   "execution_count": null,
   "id": "hk5IR2H66WUF",
   "metadata": {
    "colab": {
     "base_uri": "https://localhost:8080/"
    },
    "id": "hk5IR2H66WUF",
    "outputId": "eaa9bccb-6ce6-4207-d67e-1ea1331e1b10"
   },
   "outputs": [],
   "source": [
    "type(lematized_model)"
   ]
  },
  {
   "cell_type": "code",
   "execution_count": null,
   "id": "b142fcfb",
   "metadata": {},
   "outputs": [],
   "source": [
    "type(y)"
   ]
  },
  {
   "cell_type": "code",
   "execution_count": null,
   "id": "0pdsBkVDQo-Q",
   "metadata": {
    "colab": {
     "base_uri": "https://localhost:8080/"
    },
    "id": "0pdsBkVDQo-Q",
    "outputId": "f9abd84b-eb8f-47a5-bec2-de0576e6f528"
   },
   "outputs": [],
   "source": [
    "len(lematized_model)"
   ]
  },
  {
   "cell_type": "code",
   "execution_count": null,
   "id": "TdaVW6hcQtUN",
   "metadata": {
    "colab": {
     "base_uri": "https://localhost:8080/"
    },
    "id": "TdaVW6hcQtUN",
    "outputId": "0ad72408-717f-43a7-d204-eb1c1994dc03"
   },
   "outputs": [],
   "source": [
    "len(y)"
   ]
  },
  {
   "cell_type": "code",
   "execution_count": null,
   "id": "bb5c6d79",
   "metadata": {},
   "outputs": [],
   "source": [
    "print(y)"
   ]
  },
  {
   "cell_type": "code",
   "execution_count": null,
   "id": "07ab33b3",
   "metadata": {},
   "outputs": [],
   "source": [
    "flat_list = [item for sublist in y for item in sublist]\n",
    "print(len(flat_list))"
   ]
  },
  {
   "cell_type": "code",
   "execution_count": null,
   "id": "46a6524a",
   "metadata": {},
   "outputs": [],
   "source": [
    "NewDf = pd.DataFrame(\n",
    "    {   'Labels': flat_list,\n",
    "        'Tweets': lematized_model\n",
    "     \n",
    "    })"
   ]
  },
  {
   "cell_type": "code",
   "execution_count": null,
   "id": "2e235fc4",
   "metadata": {},
   "outputs": [],
   "source": [
    "NewDf"
   ]
  },
  {
   "cell_type": "code",
   "execution_count": null,
   "id": "93af4c8f",
   "metadata": {},
   "outputs": [],
   "source": [
    "print(47848 / 2)\n",
    "print(23924 / 4)\n",
    "print(5981+5981)"
   ]
  },
  {
   "cell_type": "code",
   "execution_count": null,
   "id": "a6df6db3",
   "metadata": {},
   "outputs": [],
   "source": [
    "d1 = NewDf[NewDf['Labels']==0]"
   ]
  },
  {
   "cell_type": "code",
   "execution_count": null,
   "id": "eed6669a",
   "metadata": {},
   "outputs": [],
   "source": [
    "d1.head(3)"
   ]
  },
  {
   "cell_type": "code",
   "execution_count": null,
   "id": "811190f3",
   "metadata": {},
   "outputs": [],
   "source": [
    "d2 = NewDf[NewDf['Labels']==1]"
   ]
  },
  {
   "cell_type": "code",
   "execution_count": null,
   "id": "4676c449",
   "metadata": {},
   "outputs": [],
   "source": [
    "d2.head(3)"
   ]
  },
  {
   "cell_type": "code",
   "execution_count": null,
   "id": "ca3a4860",
   "metadata": {},
   "outputs": [],
   "source": [
    "newdf1 = d1.head(500)"
   ]
  },
  {
   "cell_type": "code",
   "execution_count": null,
   "id": "1d281440",
   "metadata": {},
   "outputs": [],
   "source": [
    "newdf1.shape[0]"
   ]
  },
  {
   "cell_type": "code",
   "execution_count": null,
   "id": "e9b2de38",
   "metadata": {},
   "outputs": [],
   "source": [
    "newdf2 = d2.head(500)"
   ]
  },
  {
   "cell_type": "code",
   "execution_count": null,
   "id": "1eb67c9e",
   "metadata": {},
   "outputs": [],
   "source": [
    "newdf2.shape[0]"
   ]
  },
  {
   "cell_type": "code",
   "execution_count": null,
   "id": "6a015f53",
   "metadata": {},
   "outputs": [],
   "source": [
    "finaldf1 = pd.concat([newdf2, newdf1], ignore_index=True)"
   ]
  },
  {
   "cell_type": "code",
   "execution_count": null,
   "id": "e8c16178",
   "metadata": {},
   "outputs": [],
   "source": [
    "finaldf1.shape[0]"
   ]
  },
  {
   "cell_type": "code",
   "execution_count": null,
   "id": "f6ba7bbe",
   "metadata": {},
   "outputs": [],
   "source": [
    "finaldf1.tail(5)"
   ]
  },
  {
   "cell_type": "code",
   "execution_count": null,
   "id": "0967dd88",
   "metadata": {},
   "outputs": [],
   "source": [
    "finaldf1.head(5)"
   ]
  },
  {
   "cell_type": "code",
   "execution_count": null,
   "id": "3478b3f4",
   "metadata": {},
   "outputs": [],
   "source": [
    "finaldf1 = finaldf1.sample(frac=1).reset_index(drop=True)"
   ]
  },
  {
   "cell_type": "code",
   "execution_count": null,
   "id": "0d219e94",
   "metadata": {},
   "outputs": [],
   "source": [
    "finaldf1.head(5)"
   ]
  },
  {
   "cell_type": "code",
   "execution_count": null,
   "id": "c8c63a09",
   "metadata": {},
   "outputs": [],
   "source": [
    "freq = sum(pd.Series(' '.join(finaldf1['Tweets']).split()).value_counts())\n",
    "freq"
   ]
  },
  {
   "cell_type": "markdown",
   "id": "3uyxs20fg-T7",
   "metadata": {
    "id": "3uyxs20fg-T7"
   },
   "source": [
    "## Removing the rare words"
   ]
  },
  {
   "cell_type": "code",
   "execution_count": null,
   "id": "mFPrpQrvj2b3",
   "metadata": {
    "colab": {
     "base_uri": "https://localhost:8080/"
    },
    "id": "mFPrpQrvj2b3",
    "outputId": "9ac5506f-875f-4282-e407-27a44909591f"
   },
   "outputs": [],
   "source": [
    "# freq = pd.Series(' '.join(finaldf1['Tweets']).split()).value_counts()[-15:]\n",
    "# freq"
   ]
  },
  {
   "cell_type": "code",
   "execution_count": null,
   "id": "hRfS1OoZnFXW",
   "metadata": {
    "colab": {
     "base_uri": "https://localhost:8080/",
     "height": 206
    },
    "id": "hRfS1OoZnFXW",
    "outputId": "af4b14cc-b4fd-4ab1-cff6-175595b9bdde"
   },
   "outputs": [],
   "source": [
    "# finaldf1['Tweets'] = finaldf1['Tweets'].apply(lambda x: \" \".join(x for x in x.split() if x not in freq))\n",
    "# finaldf1.head()"
   ]
  },
  {
   "cell_type": "markdown",
   "id": "f4f6b536",
   "metadata": {
    "id": "3uyxs20fg-T7"
   },
   "source": [
    "## Removing the most frequent words"
   ]
  },
  {
   "cell_type": "code",
   "execution_count": null,
   "id": "7bc2ac7b",
   "metadata": {},
   "outputs": [],
   "source": [
    "#freq = pd.Series(' '.join(finaldf1['Tweets']).split()).value_counts()[:55]\n",
    "#freq"
   ]
  },
  {
   "cell_type": "code",
   "execution_count": null,
   "id": "26ae0b2a",
   "metadata": {},
   "outputs": [],
   "source": [
    "#sum(freq)"
   ]
  },
  {
   "cell_type": "code",
   "execution_count": null,
   "id": "472b11c3",
   "metadata": {},
   "outputs": [],
   "source": [
    "#finaldf1['Tweets'] = finaldf1['Tweets'].apply(lambda x: \" \".join(x for x in x.split() if x not in freq))\n",
    "#finaldf1.head()"
   ]
  },
  {
   "cell_type": "markdown",
   "id": "64046887",
   "metadata": {
    "id": "3uyxs20fg-T7"
   },
   "source": [
    "## Removing words by occurance"
   ]
  },
  {
   "cell_type": "code",
   "execution_count": null,
   "id": "016fd650",
   "metadata": {},
   "outputs": [],
   "source": [
    "from collections import Counter\n",
    "from itertools import chain\n",
    "\n",
    "# split words into lists\n",
    "v = finaldf1['Tweets'].str.split().tolist() # [s.split() for s in df['Col2'].tolist()]\n",
    "# compute global word frequency\n",
    "c = Counter(chain.from_iterable(v))\n",
    "# filter, join, and re-assign\n",
    "finaldf1['Tweets'] = [' '.join([j for j in i if c[j] > 6]) for i in v]\n"
   ]
  },
  {
   "cell_type": "code",
   "execution_count": null,
   "id": "f811352e",
   "metadata": {},
   "outputs": [],
   "source": [
    "freq = sum(pd.Series(' '.join(finaldf1['Tweets']).split()).value_counts())\n",
    "freq"
   ]
  },
  {
   "cell_type": "code",
   "execution_count": null,
   "id": "7b1e9fc2",
   "metadata": {},
   "outputs": [],
   "source": []
  },
  {
   "cell_type": "code",
   "execution_count": null,
   "id": "5e11cf08",
   "metadata": {},
   "outputs": [],
   "source": []
  },
  {
   "cell_type": "code",
   "execution_count": null,
   "id": "fb7488bc",
   "metadata": {},
   "outputs": [],
   "source": []
  },
  {
   "cell_type": "code",
   "execution_count": null,
   "id": "0053fe20",
   "metadata": {},
   "outputs": [],
   "source": [
    "finaldf1 = finaldf1.sample(frac=1).reset_index(drop=True)"
   ]
  },
  {
   "cell_type": "markdown",
   "id": "5b5384ac",
   "metadata": {
    "id": "F72wEqBeHXWs"
   },
   "source": [
    "## Spliting X and y variables."
   ]
  },
  {
   "cell_type": "code",
   "execution_count": null,
   "id": "da07b3cc",
   "metadata": {
    "id": "W1HZyHbJHV-c"
   },
   "outputs": [],
   "source": [
    "X = finaldf1.iloc[:, -1].values  # selecting the values for the X variable."
   ]
  },
  {
   "cell_type": "code",
   "execution_count": null,
   "id": "34eecd4e",
   "metadata": {
    "id": "JFumALt6HqvO"
   },
   "outputs": [],
   "source": [
    "y = finaldf1.iloc[:, :-1].values # selecting the values for the Y variable. # done using .to_numpy and not \n",
    "                                                       # .iloc as .to_numpy creates a horizontal bar while .iloc creates a \n",
    "                                                       # horizontal bar which will not alighn with the x values."
   ]
  },
  {
   "cell_type": "code",
   "execution_count": null,
   "id": "958f3b1d",
   "metadata": {
    "colab": {
     "base_uri": "https://localhost:8080/"
    },
    "id": "4NISLP6ZJFsE",
    "outputId": "d1b4340b-a523-469a-dc5d-a15b03cd6d5e"
   },
   "outputs": [],
   "source": [
    "print(\"X \", X, \"y \", y)  # priting arrays"
   ]
  },
  {
   "cell_type": "code",
   "execution_count": null,
   "id": "80107c11",
   "metadata": {},
   "outputs": [],
   "source": [
    "from tqdm.notebook import tqdm"
   ]
  },
  {
   "cell_type": "code",
   "execution_count": null,
   "id": "2eb13c9e",
   "metadata": {},
   "outputs": [],
   "source": [
    "# conda install -c anaconda gensim\n",
    "#!pip install -U gensim"
   ]
  },
  {
   "cell_type": "code",
   "execution_count": null,
   "id": "f0571854",
   "metadata": {},
   "outputs": [],
   "source": []
  },
  {
   "cell_type": "code",
   "execution_count": null,
   "id": "af3b95a1",
   "metadata": {},
   "outputs": [],
   "source": [
    "\"\"\"from gensim.models import Word2Vec, KeyedVectors\n",
    "import nltk\n",
    "X_train, X_test, y_train, y_test = train_test_split(X, y, test_size = 0.2, random_state = 1)\n",
    "embeddingsSize=100\n",
    "model = Word2Vec(sentences=X_train, vector_size=embeddingsSize, window=5, min_count=1, workers=2)\"\"\""
   ]
  },
  {
   "cell_type": "code",
   "execution_count": null,
   "id": "de10fe50",
   "metadata": {},
   "outputs": [],
   "source": [
    "def Classifier_function(model, X_train, y_train,X_test,y_test, title):  # function takes the name of the \n",
    "    \n",
    "    \n",
    "  \"\"\"\n",
    "    The Classifier_function Checks, predicted/actual results , checks testing and traning scores, \n",
    "    Checks Actual values classified correctly and wrongly Checks accuracy, precision, recall,  f1 \n",
    "    scores and area under the curve.\n",
    "    It plots a confusion matix with accuracy, precision, recall,  f1 scores given.\n",
    "    \n",
    "    The first parameter is model the model to evaluate.\n",
    "    \n",
    "    The secound parameter X_train is the variable contaning training datas features.\n",
    "    \n",
    "    The third parameter y_train is the variable contaning training datas label.\n",
    "    \n",
    "    The fourth parameter X_test is the variable contaning testing datas features.\n",
    "    \n",
    "    The fifth parameter y_test is the variable contaning testing datas label.\n",
    "    \n",
    "    The sixth parameter is the string which will be used as the title for the confusion matrix.\n",
    "    \n",
    "    The Classifier_function function returns the train_accuracy,test_accuracy , precision, recall,\n",
    "    f1_score and Area_under_the_curve of a given model. \n",
    "    \n",
    "  \"\"\"\n",
    "\n",
    "\n",
    "                                                               # model used, the x and y traning and testing sets.\n",
    "  model.fit(X_train, y_train)  # Building the k-nearest neighbors classification model.\n",
    "\n",
    "  \n",
    "  \n",
    "  \n",
    "\n",
    "  y_test_p = model.predict(X_test)  # Predicted results.\n",
    "  print(\"  results\\npred-Actual\")  # printing predicted and real values.\n",
    "  print(np.concatenate((y_test_p.reshape(len(y_test_p),1),y_test.reshape(len(y_test),1)),1))  # Predicted results and \n",
    "                                                                                       #  real results in a np array.\n",
    "   \n",
    "\n",
    "  train_accuracy = round(model.score(X_train,y_train),2 ) * 100  # Getting traing accuracy multipling it by 100 after \n",
    "                                                                # rounding it by 2 to get a score between 0 to 100\n",
    "  test_accuracy = round(model.score(X_test,y_test),2) * 100  # Getting testing accuracy multipling it by 100 after \n",
    "                                                                # rounding it by 2 to get a score between 0 to 100\n",
    "\n",
    "  print(\"Model train accuracy: \", train_accuracy, \"%\")  # printing the model accurcy. \n",
    "  print(\"Model test accuracy: \", test_accuracy, \"%\")  # printing the model accurcy. \n",
    "\n",
    "\n",
    "  print(\"\\n\\n\")  # printing a new line.\n",
    "  # getting Accuracy or recall or precision or specificity\n",
    "  y_test_pred = model.predict(X_test)  # predicted results\n",
    "  \n",
    "  cReport = classification_report(y_test,y_test_pred)  # creating a Classification report\n",
    "  print(cReport)  # creating a Classification report\n",
    "  \n",
    "  cm = confusion_matrix(y_test, y_test_p)  # creating the confusion matrix\n",
    "  cm2 = multilabel_confusion_matrix(y_test, y_test_pred)  # creating a mutable confusion matrix\n",
    "\n",
    "\n",
    "  precision, recall, f1_score, support = precision_recall_fscore_support(y_test, y_test_pred)  # getting the precision,\n",
    "                                                                                          # recall and f1score for later use.\n",
    "  accuracy  = round(np.trace(cm) / float(np.sum(cm)), 2) * 100  # getting aaccuracy and multipling it by 100 after \n",
    "                                                                # rounding it by 2 to get a score between 0 to 100.\n",
    "  precision = round(np.mean(precision),2) * 100  # multipling precision variables mean by 100 after rounding it by\n",
    "                                                #  2 to get a score between 0 to 100.\n",
    "  recall = round(np.mean(recall),2) * 100  # multipling recall variables mean by 100 after rounding it by 2 to \n",
    "                                           # get a score between 0 to 100.\n",
    "  f1_score = round(np.mean(f1_score),2) * 100  # multipling f1_score variables mean by 100 after rounding \n",
    "                                               # it by 2 to get a score between 0 to 100.\n",
    "\n",
    "  lable_list = []  # creating a empty list\n",
    "\n",
    "  for i in range(len(cm)):  # looping in the range of the length of the confusion matrix.\n",
    "    for j in range(len(cm)):  # looping in the range of the length of the confusion matrix.\n",
    "        if j == i:  # if the value of j is equal to the value of i.\n",
    "            # the below code appends the Actual Values Classified correctly to the variable lable_list.\n",
    "            lable_list.append(\"Actual \"+ str(i) +\"\\n\" + \"calssified as \"+ str(j) +\"\\n\" + str(cm[i][j]) + \"\\n\"+ \\\n",
    "                              str(round(cm[i][j]/np.sum(cm),2)) + \" %\")\n",
    "\n",
    "        else:   # otherwise\n",
    "            #  the below function appends the actual values classified wrongly to the variable lable list.\n",
    "            lable_list.append(\"Actual \"+ str(i) +\"\\n\" + \"calssified as \"+ str(j) + \"\\n\"  + str(cm[i][j]) + \"\\n\"+ \\\n",
    "                              str(round(cm[i][j]/np.sum(cm),2)) + \" %\")\n",
    "\n",
    "            \n",
    "  lable_list = np.asarray(lable_list).reshape(len(cm),len(cm))  # resahping the label list as a numpy array to be \n",
    "                                                                # used in plotting the confusion matrix\n",
    "  \n",
    "  #  the variable function will be will be used to display the results of the evaluation to the confusion matrix.\n",
    "  total_score = (\"Accuracy:   \" + str(accuracy) +\" %\" + \"\\nPrecison:    \"  + str(precision)  +\" %\" + \"\\nRecall:        \" +\\\n",
    "                 str(recall)  +\" %\" + \"\\nF1 score:    \"  + str(f1_score) +\" %\") \n",
    "\n",
    "\n",
    "  # Below is the code used to plot the confusion matrix.\n",
    "  plt.figure()  # sets the size of the matrix\n",
    "  disp = sns.heatmap(cm, annot=lable_list, fmt='', cmap='Blues')  # displays the results of the actual values \n",
    "                                                                 #  classified wrongly and correctly.                       \n",
    "  disp.plot()  # displaying data in plot\n",
    "  plt.title(title, fontsize=25)  # adding a title to plot\n",
    "  plt.ylabel('True label', fontsize=20)  # adding a y axis to the plot.\n",
    "  plt.xlabel('Predicted label' +\"\\n\\nScores\\n\" +total_score, fontsize=20)  # adding a x axis to the plot\n",
    "  plt.show()  # showing the plot\n",
    "\n",
    "\n",
    "  plt.figure()\n",
    "  fpr, tpr, _ =  metrics.roc_curve(y_test,  y_test_pred)\n",
    "  auc = metrics.roc_auc_score(y_test, y_test_pred)\n",
    "  plt.plot(fpr,tpr,label= title +\", auc=\"+str(auc))\n",
    "  plt.xlabel('False Positive Rate')\n",
    "  plt.ylabel('True Positive Rate')\n",
    "  plt.legend(loc=4)\n",
    "  plt.show()\n",
    "    \n",
    "  print(\"Area under the curve: \", auc) \n",
    "    \n",
    "  result_list = train_accuracy,test_accuracy , precision, recall, f1_score,auc  # returning the results\n",
    "\n",
    "\n",
    "\n",
    "  \n",
    "\n",
    "  return result_list  # returns the results from the model."
   ]
  },
  {
   "cell_type": "markdown",
   "id": "be88ca26",
   "metadata": {},
   "source": [
    "# Sub function to preform Grid Search"
   ]
  },
  {
   "cell_type": "code",
   "execution_count": null,
   "id": "06972bba",
   "metadata": {},
   "outputs": [],
   "source": [
    "solver_list = ['svd', 'lsqr', 'eigen']\n",
    "shrinkage_list = [0, 0.1, 0.2, 0.3, 0.4, 0.5, 0.6, 0.7, 0.8, 0.9, 1]\n",
    "n_components_list = [None, 1, 2, 5, 8, 13, 21, 34, 55]\n",
    "store_covariance_list =  [True, False]\n",
    "tol_list = [1e-2, 1e-3, 1e-4, 1e-5, 1e-6, 1e-7, 1e-8, 1e-9, 1e-10, 1e-11, 1e-12, 1e-13, 1e-14, 1e-15]\n",
    "\n",
    "para_grid = dict(shrinkage = shrinkage_list, solver = solver_list, n_components = n_components_list, store_covariance = store_covariance_list, tol = tol_list)  # adding the above "
   ]
  },
  {
   "cell_type": "code",
   "execution_count": null,
   "id": "6fd20d89",
   "metadata": {
    "scrolled": true
   },
   "outputs": [],
   "source": [
    "def rand_search_fun(typeofmodelandprams, dict_prams,crossval, X, y):  # Function takes in the model type, \n",
    "                                                            # number of crossvalidation sand X and y values as hyperparameters.\n",
    "        \n",
    "\n",
    "    \"\"\"\n",
    "    The function rand_search_fun performs random search on a model. It prints the best results and \n",
    "    the hyperparametrs used to obtain those results and then it plots those results.\n",
    "    \n",
    "    The first parameter typeofmodelandprams is the type of model used on which random search is performed on.\n",
    "    \n",
    "    The secound parameter dict_prams is a dictinory of hyperparameters to be used in the random search.\n",
    "    \n",
    "    The third parameter crossval is the number of cross validations to be performed.\n",
    "    \n",
    "    The fourth parameter X is the features.\n",
    "    \n",
    "    The fifth parameter y is the labels.\n",
    "    \n",
    "    \n",
    "    The function rand_search_fun returns the results of the random search.\n",
    "    \n",
    "    \"\"\"\n",
    "\n",
    "    model = typeofmodelandprams  # creating an instance of the object.\n",
    "    parameters = [dict_prams]  # hyper parameters for the random search \n",
    "    rand_search = RandomizedSearchCV(\n",
    "                           model,\n",
    "        #estimator = model,  # model\n",
    "                           #param_distributions = parameters,  # hyper paramaters \n",
    "                           parameters,\n",
    "                           scoring = 'f1_micro',  # score measurement\n",
    "                           cv = crossval, # number of cross validations \n",
    "                           n_jobs = -1, # selecting all possible paramaters to go through to get the best model possible \n",
    "                           return_train_score=False, # train score is false as it can be computationaly \n",
    "                                                  # expensive. without storing the traning score the grd search is fater\n",
    "                           n_iter=10,  # setting the number of iterations\n",
    "                           random_state=5)  \n",
    "    rand_search.fit(X, y)  # applying the search on our model.\n",
    "    #print(pd.DataFrame(rand_search.cv_results_)[[\"mean_test_score\",\"params\"]])\n",
    "\n",
    "    best_accuracy = rand_search.best_score_  # the best accuracy \n",
    "    best_parameters = rand_search.best_params_  # the best paramaters that gave the best accurecy\n",
    "    print(\"Best Accuracy: {:.2f} %\".format(best_accuracy*100))  # printing best accuracy\n",
    "    print(\"Best Parameters:\", best_parameters)  # printing the best parameters\n",
    "    \n",
    "\n",
    "\n",
    "    return rand_search  # return random search value.\n",
    "    \n",
    "\n"
   ]
  },
  {
   "cell_type": "code",
   "execution_count": null,
   "id": "a2b9d1de",
   "metadata": {},
   "outputs": [],
   "source": [
    " def bagofwordsgrid(n,n1):\n",
    "        \n",
    "  model = TfidfVectorizer(ngram_range=(n,n1)) \n",
    "  cv_X = model.fit_transform(X).toarray()\n",
    "    \n",
    "  #cv = CountVectorizer(ngram_range=(n,n1))\n",
    "  #cv_X = cv.fit_transform(X).toarray()\n",
    "  \n",
    "  rand_search_fun(LinearDiscriminantAnalysis(), para_grid, 5, cv_X, y) \n",
    "                                                                                                       # lists in a dictinary.\n",
    "  #grid_search = Grid_search_fun(DecisionTreeClassifier(min_samples_leaf = 1, min_samples_split = 2, max_leaf_nodes = None, \\\n",
    "                                    #min_weight_fraction_leaf = 0.0,criterion = 'entropy', \\\n",
    "                                    #max_features = None), para_grid, 5, cv_X, y)  # Using the grid search gunction with\n",
    "\n",
    "# DecisionTreeClassifier()\n",
    "# GaussianNB()     \n"
   ]
  },
  {
   "cell_type": "markdown",
   "id": "L-uZDsald4HE",
   "metadata": {
    "id": "L-uZDsald4HE"
   },
   "source": [
    "# N-gram Model"
   ]
  },
  {
   "cell_type": "code",
   "execution_count": null,
   "id": "VEdMi995Ovcw",
   "metadata": {
    "id": "VEdMi995Ovcw"
   },
   "outputs": [],
   "source": [
    "from sklearn.feature_extraction.text import CountVectorizer  # bag of words model."
   ]
  },
  {
   "cell_type": "markdown",
   "id": "2f55879d",
   "metadata": {
    "id": "L-uZDsald4HE"
   },
   "source": [
    "## Bag of words gird"
   ]
  },
  {
   "cell_type": "code",
   "execution_count": null,
   "id": "7e4a0ff4",
   "metadata": {},
   "outputs": [],
   "source": [
    "bagofwordsgrid(1,1)"
   ]
  },
  {
   "cell_type": "code",
   "execution_count": null,
   "id": "1573fd94",
   "metadata": {},
   "outputs": [],
   "source": [
    "from sklearn.discriminant_analysis import LinearDiscriminantAnalysis\n",
    "from sklearn.naive_bayes import BernoulliNB\n",
    "from sklearn.naive_bayes import MultinomialNB\n",
    "from sklearn.ensemble import RandomForestClassifier\n",
    "from sklearn.ensemble import ExtraTreesClassifier\n",
    "from sklearn.linear_model import SGDClassifier"
   ]
  },
  {
   "cell_type": "code",
   "execution_count": null,
   "id": "0d9828c5",
   "metadata": {},
   "outputs": [],
   "source": [
    "from sklearn.svm import LinearSVC\n",
    "from sklearn.pipeline import make_pipeline\n",
    "from sklearn.preprocessing import StandardScaler\n",
    "from sklearn.datasets import make_classification\n",
    "from sklearn.preprocessing import OneHotEncoder  # Does onehotencode.\n",
    "enc = OneHotEncoder()"
   ]
  },
  {
   "cell_type": "markdown",
   "id": "82f7e99b",
   "metadata": {
    "id": "L-uZDsald4HE"
   },
   "source": [
    "## Bag of words function"
   ]
  },
  {
   "cell_type": "code",
   "execution_count": null,
   "id": "XOwQn6C3dxn1",
   "metadata": {
    "id": "XOwQn6C3dxn1"
   },
   "outputs": [],
   "source": [
    " def bagofwords(n,n1):\n",
    "        \n",
    "  cv = CountVectorizer(ngram_range=(n,n1))\n",
    "  cv_X = cv.fit_transform(X).toarray()\n",
    "  \n",
    "  cv_X_train, cv_X_test, cv_y_train, cv_y_test = train_test_split(cv_X, y, test_size = 0.2, random_state = 1)\n",
    "  # test_size = 0.2               # splitting the data into 80 and 20 percent between the training and test set           \n",
    "                                              # to get the best results.                                                           \n",
    "  # random_state = 1         # resetting the  random seed\n",
    "  # print the lenghth of both test and train set to see if there equally split.\n",
    "  print(\"The length of X_train is \",len(cv_X_train), \" and the length of y_train is \", len(cv_y_train))  \n",
    "  print(\"The length of X_test is \",len(cv_X_test), \" and the length of y_test is \", len(cv_y_test))\n",
    "  Classifier_function(BernoulliNB(), cv_X_train, cv_y_train, cv_X_test, cv_y_test, \"Bernoulli NB\")\n",
    "\n",
    "# fit_intercept = 'True',average = 'False'\n",
    "\n",
    "# make_pipeline(StandardScaler(),SGDClassifier(max_iter=1000, tol=1e-3))\n",
    "# make_pipeline(StandardScaler(), LinearSVC(random_state=0, tol=1e-5))\n",
    "\n",
    "# ExtraTreesClassifier()\n",
    "# MultinomialNB()\n",
    "# LinearDiscriminantAnalysis()\n",
    "#BernoulliNB()\n",
    "                                                                                                       # lists in a dictinary.\n",
    "  #grid_search = Grid_search_fun(DecisionTreeClassifier(min_samples_leaf = 1, min_samples_split = 2, max_leaf_nodes = None, \\\n",
    "                                    #min_weight_fraction_leaf = 0.0,criterion = 'entropy', \\\n",
    "                                    #max_features = None), para_grid, 5, cv_X, y)  # Using the grid search gunction with \n",
    "# DecisionTreeClassifier()\n",
    "# GaussianNB()     \n"
   ]
  },
  {
   "cell_type": "code",
   "execution_count": null,
   "id": "f8df235c",
   "metadata": {},
   "outputs": [],
   "source": [
    "# conda install -c conda-forge scikit-multiflow"
   ]
  },
  {
   "cell_type": "code",
   "execution_count": null,
   "id": "e3720b0b",
   "metadata": {},
   "outputs": [],
   "source": [
    "# pip install -U scikit-multiflow"
   ]
  },
  {
   "cell_type": "code",
   "execution_count": null,
   "id": "b33703ca",
   "metadata": {},
   "outputs": [],
   "source": [
    "%matplotlib notebook"
   ]
  },
  {
   "cell_type": "markdown",
   "id": "rMA3q5Lwdcty",
   "metadata": {
    "id": "rMA3q5Lwdcty"
   },
   "source": [
    "## uni-gram"
   ]
  },
  {
   "cell_type": "code",
   "execution_count": null,
   "id": "Sw7nx8qMeWaw",
   "metadata": {
    "id": "Sw7nx8qMeWaw",
    "scrolled": false
   },
   "outputs": [],
   "source": [
    "bagofwords(1,1)"
   ]
  },
  {
   "cell_type": "markdown",
   "id": "xUQBPuWFdVvo",
   "metadata": {
    "id": "xUQBPuWFdVvo"
   },
   "source": [
    "## Bi-gram"
   ]
  },
  {
   "cell_type": "code",
   "execution_count": null,
   "id": "3z4qhipIdros",
   "metadata": {
    "colab": {
     "base_uri": "https://localhost:8080/",
     "height": 658
    },
    "id": "3z4qhipIdros",
    "outputId": "95bf645c-81e7-463e-cbec-43fc9bdd6129"
   },
   "outputs": [],
   "source": [
    "bagofwords(2,2)"
   ]
  },
  {
   "cell_type": "markdown",
   "id": "22Epy9R8dihU",
   "metadata": {
    "id": "22Epy9R8dihU"
   },
   "source": [
    "## Tri-gram"
   ]
  },
  {
   "cell_type": "code",
   "execution_count": null,
   "id": "cdZ9TR2Aee-h",
   "metadata": {
    "colab": {
     "background_save": true,
     "base_uri": "https://localhost:8080/"
    },
    "id": "cdZ9TR2Aee-h",
    "outputId": "7ee1b567-e4a1-4500-91f1-bcd5aaf54c39"
   },
   "outputs": [],
   "source": [
    "bagofwords(3,3)"
   ]
  },
  {
   "cell_type": "markdown",
   "id": "qVwgT2aObnpY",
   "metadata": {
    "id": "qVwgT2aObnpY"
   },
   "source": [
    "## TF-IDF fuction"
   ]
  },
  {
   "cell_type": "code",
   "execution_count": null,
   "id": "G4TJd49Mb7Bm",
   "metadata": {
    "id": "G4TJd49Mb7Bm"
   },
   "outputs": [],
   "source": [
    " def TFIDFfunction(n,n1):\n",
    "  model = TfidfVectorizer(ngram_range=(n,n1))\n",
    "  x = model.fit_transform(X).toarray()\n",
    "  print(\"shape of X is \", np.shape(x))\n",
    "  X_train, X_test, y_train, y_test = train_test_split(x, y, test_size = 0.2, random_state = 1)\n",
    "  # test_size = 0.2               # splitting the data into 80 and 20 percent between the training and test set           \n",
    "                                              # to get the best results.                                                           \n",
    "  # random_state = 1         # resetting the  random seed\n",
    "  # print the lenghth of both test and train set to see if there equally split.\n",
    "  print(\"The length of X_train is \",len(X_train), \" and the length of y_train is \", len(y_train))  \n",
    "  print(\"The length of X_test is \",len(X_test), \" and the length of y_test is \", len(y_test))\n",
    "  Classifier_function(BernoulliNB(), X_train, y_train, X_test, y_test, \"Bernoulli NB\")\n",
    "# DecisionTreeClassifier()\n",
    "# GaussianNB()"
   ]
  },
  {
   "cell_type": "markdown",
   "id": "lhfuNqn3BJXK",
   "metadata": {
    "id": "lhfuNqn3BJXK"
   },
   "source": [
    "# TF-IDF model"
   ]
  },
  {
   "cell_type": "code",
   "execution_count": null,
   "id": "QT4agmJ3dZBw",
   "metadata": {
    "id": "QT4agmJ3dZBw"
   },
   "outputs": [],
   "source": [
    "from sklearn.feature_extraction.text import TfidfVectorizer"
   ]
  },
  {
   "cell_type": "code",
   "execution_count": null,
   "id": "4iDGDUiaZMiN",
   "metadata": {
    "colab": {
     "base_uri": "https://localhost:8080/",
     "height": 658
    },
    "id": "4iDGDUiaZMiN",
    "outputId": "f58fb966-6c04-44a0-affc-99dc29e9fd4b"
   },
   "outputs": [],
   "source": [
    "TFIDFfunction(1,1)"
   ]
  },
  {
   "cell_type": "code",
   "execution_count": null,
   "id": "ZhcjpIsXvVDL",
   "metadata": {
    "colab": {
     "base_uri": "https://localhost:8080/",
     "height": 626
    },
    "id": "ZhcjpIsXvVDL",
    "outputId": "98c69274-23f9-426f-b42e-dc389cf65554"
   },
   "outputs": [],
   "source": [
    "TFIDFfunction(2,2)"
   ]
  },
  {
   "cell_type": "code",
   "execution_count": null,
   "id": "nVB2tOKnvZyt",
   "metadata": {
    "id": "nVB2tOKnvZyt"
   },
   "outputs": [],
   "source": [
    "TFIDFfunction(3,3)"
   ]
  },
  {
   "cell_type": "code",
   "execution_count": null,
   "id": "zK9mJKQqXJHp",
   "metadata": {
    "colab": {
     "base_uri": "https://localhost:8080/"
    },
    "id": "zK9mJKQqXJHp",
    "outputId": "d4181b73-f6c0-4a77-a197-6eca855e9e93"
   },
   "outputs": [],
   "source": [
    "model = TfidfVectorizer(ngram_range=(1,1), max_features = 10000)\n",
    "X = model.fit_transform(lematized_model).toarray()\n",
    "print(\"shape of X is \", np.shape(X))\n",
    "X_train, X_test, y_train, y_test = train_test_split(X, y, test_size = 0.2, random_state = 1)\n",
    "# test_size = 0.2               # splitting the data into 80 and 20 percent between the training and test set           \n",
    "                                            # to get the best results.                                                           \n",
    "# random_state = 1         # resetting the  random seed\n",
    "# print the lenghth of both test and train set to see if there equally split.\n",
    "print(\"The length of X_train is \",len(X_train), \" and the length of y_train is \", len(y_train))  \n",
    "print(\"The length of X_test is \",len(X_test), \" and the length of y_test is \", len(y_test))\n",
    "\n",
    "\n",
    "# fitting the model\n",
    "automl = autosklearn.classification.AutoSklearnClassifier()\n",
    "automl.fit(X_train, y_train)\n",
    "\n",
    "\n",
    "classfiersUsed = automl.cv_results_['param_classifier:__choice__']\n",
    "print(\"\\nclassifiers used: \", classfiersUsed)\n",
    "meanTestScore = automl.cv_results_['mean_test_score']\n",
    "print(\"\\nmean test score: \", meanTestScore)\n",
    "\n",
    "for i in range(len(classfiersUsed)):\n",
    "  print(classfiersUsed[i], \"==\", meanTestScore[i])"
   ]
  },
  {
   "cell_type": "markdown",
   "id": "ILRbfVxUknYQ",
   "metadata": {
    "id": "ILRbfVxUknYQ"
   },
   "source": [
    "## Removing most frequent words"
   ]
  },
  {
   "cell_type": "code",
   "execution_count": null,
   "id": "0sDBdy9Xj2EN",
   "metadata": {
    "colab": {
     "base_uri": "https://localhost:8080/"
    },
    "id": "0sDBdy9Xj2EN",
    "outputId": "34d49c39-4b51-498d-fe6c-5f86740781ce"
   },
   "outputs": [],
   "source": [
    "freq = pd.Series(' '.join(DataFrame['tweet']).split()).value_counts()[:10]\n",
    "freq"
   ]
  },
  {
   "cell_type": "code",
   "execution_count": null,
   "id": "LaE6EDGAmMWH",
   "metadata": {
    "colab": {
     "base_uri": "https://localhost:8080/"
    },
    "id": "LaE6EDGAmMWH",
    "outputId": "e9b42081-fe49-4f31-d25b-90d26ddea989"
   },
   "outputs": [],
   "source": [
    "freq = pd.Series(' '.join(DataFrame['tweet']).split()).value_counts()[:5]\n",
    "freq"
   ]
  },
  {
   "cell_type": "code",
   "execution_count": null,
   "id": "qKWzAxP3j2Qo",
   "metadata": {
    "colab": {
     "base_uri": "https://localhost:8080/",
     "height": 206
    },
    "id": "qKWzAxP3j2Qo",
    "outputId": "79e5a39d-9161-4219-d1cc-9919fc88cc9b"
   },
   "outputs": [],
   "source": [
    "DataFrame['tweet'] = DataFrame['tweet'].apply(lambda x: \" \".join(x for x in x.split() if x not in freq))\n",
    "DataFrame.head()"
   ]
  },
  {
   "cell_type": "markdown",
   "id": "6cf297ed",
   "metadata": {
    "id": "3uyxs20fg-T7"
   },
   "source": [
    "## Removing the rare words"
   ]
  },
  {
   "cell_type": "code",
   "execution_count": null,
   "id": "34face34",
   "metadata": {
    "colab": {
     "base_uri": "https://localhost:8080/"
    },
    "id": "mFPrpQrvj2b3",
    "outputId": "9ac5506f-875f-4282-e407-27a44909591f"
   },
   "outputs": [],
   "source": [
    "freq = pd.Series(' '.join(DataFrame['tweet']).split()).value_counts()[-15:]\n",
    "freq"
   ]
  },
  {
   "cell_type": "code",
   "execution_count": null,
   "id": "hRfS1OoZnFXW",
   "metadata": {
    "colab": {
     "base_uri": "https://localhost:8080/",
     "height": 206
    },
    "id": "hRfS1OoZnFXW",
    "outputId": "af4b14cc-b4fd-4ab1-cff6-175595b9bdde"
   },
   "outputs": [],
   "source": [
    "DataFrame['tweet'] = DataFrame['tweet'].apply(lambda x: \" \".join(x for x in x.split() if x not in freq))\n",
    "DataFrame.head()"
   ]
  },
  {
   "cell_type": "code",
   "execution_count": null,
   "id": "874ef63d",
   "metadata": {},
   "outputs": [],
   "source": [
    "from sklearn.model_selection import cross_val_score  # performs cross validation. Helps in model selection."
   ]
  },
  {
   "cell_type": "code",
   "execution_count": null,
   "id": "dfae469a",
   "metadata": {},
   "outputs": [],
   "source": [
    "def crossvalscore(model, X, y, cv_val):  # function to perform cross validation with model X, y and cv_val as parameters\n",
    "    \"\"\"\n",
    "    The crossvalscore function prints the avarage coross validation accuracy of a model and its standard deveation.\n",
    "    \n",
    "    The first parameter model is the type of model to perform the cross validation on.\n",
    "    \n",
    "    The second parameter X is the features.\n",
    "    \n",
    "    The third parameter y is the labels.\n",
    "    \n",
    "    the foruth parameter cv_val is the number of times to cross validate the given model.\n",
    "    \n",
    "    The crossvalscore function returns the mean accuracy of the model.\n",
    "    \n",
    "    \"\"\"\n",
    "    score = cross_val_score(estimator = model, X = X, y = y, cv = cv_val, scoring = 'f1_micro')   # performs different tests to get best accurecy.\n",
    "    print(\"Accuracy: {:.2f} %\".format(score.mean()*100))  # accuracy printed.\n",
    "    print(\"Standard Deviation: {:.2f} %\".format(score.std()*100))  # standard deveation printed (std -avarage or std+ avarage )\n",
    "    return round(score.mean(),2)*100, round(score.std(),2)*100 "
   ]
  },
  {
   "cell_type": "code",
   "execution_count": null,
   "id": "b3dc0efd",
   "metadata": {},
   "outputs": [],
   "source": []
  },
  {
   "cell_type": "markdown",
   "id": "0d0e7871",
   "metadata": {
    "id": "3uyxs20fg-T7"
   },
   "source": [
    "## autoskleanrn if neeed be"
   ]
  },
  {
   "cell_type": "code",
   "execution_count": null,
   "id": "84b0cf61",
   "metadata": {},
   "outputs": [],
   "source": [
    "pip install auto-sklearn"
   ]
  },
  {
   "cell_type": "code",
   "execution_count": null,
   "id": "950e4638",
   "metadata": {},
   "outputs": [],
   "source": [
    "!sudo apt-get install build-essential swig"
   ]
  },
  {
   "cell_type": "code",
   "execution_count": null,
   "id": "e3a768a7",
   "metadata": {},
   "outputs": [],
   "source": [
    "!curl https://raw.githubusercontent.com/automl/auto-sklearn/master/requirements.txt | xargs -n 1 -L 1 pip install"
   ]
  },
  {
   "cell_type": "code",
   "execution_count": null,
   "id": "22d96268",
   "metadata": {},
   "outputs": [],
   "source": [
    "!pip install auto-sklearn"
   ]
  },
  {
   "cell_type": "code",
   "execution_count": null,
   "id": "5fbddca2",
   "metadata": {},
   "outputs": [],
   "source": [
    "import autosklearn.classification # autosklearn classifier "
   ]
  },
  {
   "cell_type": "code",
   "execution_count": null,
   "id": "8a8603fe",
   "metadata": {},
   "outputs": [],
   "source": [
    " def bagofwords(n,n1):\n",
    "  cv = CountVectorizer(ngram_range=(n,n1))\n",
    "  cv_X = cv.fit_transform(lematized_model).toarray()\n",
    "  cv_X_train, cv_X_test, cv_y_train, cv_y_test = train_test_split(cv_X, y, test_size = 0.2, random_state = 1)\n",
    "  # test_size = 0.2               # splitting the data into 80 and 20 percent between the training and test set           \n",
    "                                              # to get the best results.                                                           \n",
    "  # random_state = 1         # resetting the  random seed\n",
    "  # print the lenghth of both test and train set to see if there equally split.\n",
    "  print(\"The length of X_train is \",len(cv_X_train), \" and the length of y_train is \", len(cv_y_train))  \n",
    "  print(\"The length of X_test is \",len(cv_X_test), \" and the length of y_test is \", len(cv_y_test))\n",
    "  sklearn_automl_fun(cv_X_train, cv_y_train,  cv_X_test, cv_y_test)\n",
    "## Removing the rare words"
   ]
  },
  {
   "cell_type": "code",
   "execution_count": null,
   "id": "664c51b1",
   "metadata": {},
   "outputs": [],
   "source": [
    " def TFIDFfunction(n,n1):\n",
    "  model = TfidfVectorizer(ngram_range=(n,n1), max_features = 10000)\n",
    "  X = model.fit_transform(lematized_model).toarray()\n",
    "  print(\"shape of X is \", np.shape(X))\n",
    "  X_train, X_test, y_train, y_test = train_test_split(X, y, test_size = 0.2, random_state = 1)\n",
    "  # test_size = 0.2               # splitting the data into 80 and 20 percent between the training and test set           \n",
    "                                              # to get the best results.                                                           \n",
    "  # random_state = 1         # resetting the  random seed\n",
    "  # print the lenghth of both test and train set to see if there equally split.\n",
    "  print(\"The length of X_train is \",len(X_train), \" and the length of y_train is \", len(y_train))  \n",
    "  print(\"The length of X_test is \",len(X_test), \" and the length of y_test is \", len(y_test))\n",
    "  sklearn_automl_fun(X_train, y_train,  X_test, y_test)\n"
   ]
  },
  {
   "cell_type": "code",
   "execution_count": null,
   "id": "ced9996e",
   "metadata": {
    "scrolled": false
   },
   "outputs": [],
   "source": [
    "for i in range(10): \n",
    "    d1 = NewDf[NewDf['Labels']==0]\n",
    "\n",
    "    d1.head(3)\n",
    "\n",
    "    d2 = NewDf[NewDf['Labels']==1]\n",
    "\n",
    "    d2.head(3)\n",
    "\n",
    "    newdf1 = d1.head(500)\n",
    "\n",
    "    newdf1.shape[0]\n",
    "\n",
    "    newdf2 = d2.head(500)\n",
    "\n",
    "    newdf2.shape[0]\n",
    "\n",
    "    finaldf1 = pd.concat([newdf2, newdf1], ignore_index=True)\n",
    "\n",
    "    finaldf1.shape[0]\n",
    "\n",
    "    finaldf1.tail(5)\n",
    "\n",
    "    finaldf1.head(5)\n",
    "\n",
    "    finaldf1 = finaldf1.sample(frac=1).reset_index(drop=True)\n",
    "\n",
    "    finaldf1.head(5)\n",
    "\n",
    "    freq = sum(pd.Series(' '.join(finaldf1['Tweets']).split()).value_counts())\n",
    "    freq\n",
    "\n",
    "    ## Removing the rare words\n",
    "\n",
    "    # freq = pd.Series(' '.join(finaldf1['Tweets']).split()).value_counts()[-15:]\n",
    "    # freq\n",
    "\n",
    "    # finaldf1['Tweets'] = finaldf1['Tweets'].apply(lambda x: \" \".join(x for x in x.split() if x not in freq))\n",
    "    # finaldf1.head()\n",
    "\n",
    "    ## Removing the most frequent words\n",
    "\n",
    "    freq = pd.Series(' '.join(finaldf1['Tweets']).split()).value_counts()[:55]\n",
    "    freq\n",
    "\n",
    "    sum(freq)\n",
    "\n",
    "    finaldf1['Tweets'] = finaldf1['Tweets'].apply(lambda x: \" \".join(x for x in x.split() if x not in freq))\n",
    "    finaldf1.head()\n",
    "\n",
    "    ## Removing words by occurance\n",
    "\n",
    "    '''\n",
    "    from collections import Counter\n",
    "    from itertools import chain\n",
    "\n",
    "    # split words into lists\n",
    "    v = finaldf1['Tweets'].str.split().tolist() # [s.split() for s in df['Col2'].tolist()]\n",
    "    # compute global word frequency\n",
    "    c = Counter(chain.from_iterable(v))\n",
    "    # filter, join, and re-assign\n",
    "    finaldf1['Tweets'] = [' '.join([j for j in i if c[j] > 4]) for i in v]\n",
    "    '''\n",
    "\n",
    "    freq = sum(pd.Series(' '.join(finaldf1['Tweets']).split()).value_counts())\n",
    "    freq\n",
    "\n",
    "\n",
    "\n",
    "\n",
    "\n",
    "\n",
    "\n",
    "    finaldf1 = finaldf1.sample(frac=1).reset_index(drop=True)\n",
    "\n",
    "    ## Spliting X and y variables.\n",
    "\n",
    "    X = finaldf1.iloc[:, -1].values  # selecting the values for the X variable.\n",
    "\n",
    "    y = finaldf1.iloc[:, :-1].values # selecting the values for the Y variable. # done using .to_numpy and not \n",
    "                                                           # .iloc as .to_numpy creates a horizontal bar while .iloc creates a \n",
    "                                                           # horizontal bar which will not alighn with the x values.\n",
    "    bagofwords(1,1)"
   ]
  },
  {
   "cell_type": "code",
   "execution_count": null,
   "id": "6ecd82ab",
   "metadata": {},
   "outputs": [],
   "source": [
    "0.8081091930951425 - 0.8075070252910478"
   ]
  },
  {
   "cell_type": "code",
   "execution_count": null,
   "id": "34b036cb",
   "metadata": {},
   "outputs": [],
   "source": []
  }
 ],
 "metadata": {
  "colab": {
   "collapsed_sections": [],
   "name": "Detecting_toxic_language.ipynb",
   "provenance": []
  },
  "kernelspec": {
   "display_name": "Python 3",
   "language": "python",
   "name": "python3"
  },
  "language_info": {
   "codemirror_mode": {
    "name": "ipython",
    "version": 3
   },
   "file_extension": ".py",
   "mimetype": "text/x-python",
   "name": "python",
   "nbconvert_exporter": "python",
   "pygments_lexer": "ipython3",
   "version": "3.8.8"
  }
 },
 "nbformat": 4,
 "nbformat_minor": 5
}
