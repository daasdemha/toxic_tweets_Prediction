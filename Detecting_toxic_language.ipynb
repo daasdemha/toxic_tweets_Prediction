{
 "cells": [
  {
   "cell_type": "code",
   "execution_count": 53,
   "id": "897394ee",
   "metadata": {
    "colab": {
     "base_uri": "https://localhost:8080/"
    },
    "id": "897394ee",
    "outputId": "ef01f0a8-d104-4aaa-b598-1042d72f1fb5"
   },
   "outputs": [
    {
     "name": "stdout",
     "output_type": "stream",
     "text": [
      "3.8.8\n"
     ]
    }
   ],
   "source": [
    "from platform import python_version\n",
    "\n",
    "print(python_version())"
   ]
  },
  {
   "cell_type": "markdown",
   "id": "bcbed2e0",
   "metadata": {
    "id": "bcbed2e0"
   },
   "source": [
    "# Make sure the version of anaconda is the latest "
   ]
  },
  {
   "cell_type": "code",
   "execution_count": 54,
   "id": "ad63095a",
   "metadata": {
    "colab": {
     "base_uri": "https://localhost:8080/"
    },
    "id": "ad63095a",
    "outputId": "d7c7511a-eda3-4b26-d4f5-6464d939b037",
    "scrolled": true
   },
   "outputs": [
    {
     "name": "stdout",
     "output_type": "stream",
     "text": [
      "0.24.1\n"
     ]
    }
   ],
   "source": [
    "import sklearn  # importing sklearn\n",
    "print(sklearn.__version__)  # printing sklearn version"
   ]
  },
  {
   "cell_type": "markdown",
   "id": "d46355d5",
   "metadata": {
    "id": "d46355d5"
   },
   "source": [
    "## Importing the relevent libraries"
   ]
  },
  {
   "cell_type": "code",
   "execution_count": 55,
   "id": "76ce7b57",
   "metadata": {
    "id": "76ce7b57"
   },
   "outputs": [],
   "source": [
    "import nltk # importing natural language processing toolkit \n",
    "from nltk.corpus import stopwords  # helps remove stopwords\n",
    "from nltk.stem import WordNetLemmatizer # lemmantizes words\n",
    "from nltk.corpus import wordnet  # will be used to replace words with there antonyms\n",
    "from nltk.stem import PorterStemmer  # stemms words"
   ]
  },
  {
   "cell_type": "code",
   "execution_count": 56,
   "id": "bWb6HhhSaaLu",
   "metadata": {
    "colab": {
     "base_uri": "https://localhost:8080/"
    },
    "id": "bWb6HhhSaaLu",
    "outputId": "fe5ce52e-8e41-487c-e30f-98be8a5b96f5"
   },
   "outputs": [
    {
     "name": "stdout",
     "output_type": "stream",
     "text": [
      "showing info https://raw.githubusercontent.com/nltk/nltk_data/gh-pages/index.xml\n"
     ]
    },
    {
     "data": {
      "text/plain": [
       "True"
      ]
     },
     "execution_count": 56,
     "metadata": {},
     "output_type": "execute_result"
    }
   ],
   "source": [
    "# nltk.download()"
   ]
  },
  {
   "cell_type": "code",
   "execution_count": 57,
   "id": "j57mgL-7aaWx",
   "metadata": {
    "colab": {
     "base_uri": "https://localhost:8080/"
    },
    "id": "j57mgL-7aaWx",
    "outputId": "1843c13d-190a-4cf6-ee02-b38889deab39"
   },
   "outputs": [
    {
     "name": "stderr",
     "output_type": "stream",
     "text": [
      "[nltk_data] Downloading package stopwords to\n",
      "[nltk_data]     C:\\Users\\User\\AppData\\Roaming\\nltk_data...\n",
      "[nltk_data]   Package stopwords is already up-to-date!\n"
     ]
    },
    {
     "data": {
      "text/plain": [
       "True"
      ]
     },
     "execution_count": 57,
     "metadata": {},
     "output_type": "execute_result"
    }
   ],
   "source": [
    "nltk.download('stopwords')"
   ]
  },
  {
   "cell_type": "code",
   "execution_count": 58,
   "id": "BDHDJpaVaafR",
   "metadata": {
    "colab": {
     "base_uri": "https://localhost:8080/"
    },
    "id": "BDHDJpaVaafR",
    "outputId": "b598656f-c5e7-482f-a128-3c74a451baf3"
   },
   "outputs": [
    {
     "name": "stderr",
     "output_type": "stream",
     "text": [
      "[nltk_data] Downloading package punkt to\n",
      "[nltk_data]     C:\\Users\\User\\AppData\\Roaming\\nltk_data...\n",
      "[nltk_data]   Package punkt is already up-to-date!\n"
     ]
    },
    {
     "data": {
      "text/plain": [
       "True"
      ]
     },
     "execution_count": 58,
     "metadata": {},
     "output_type": "execute_result"
    }
   ],
   "source": [
    "nltk.download('punkt')"
   ]
  },
  {
   "cell_type": "code",
   "execution_count": 59,
   "id": "_3Fo21_Baapo",
   "metadata": {
    "colab": {
     "base_uri": "https://localhost:8080/"
    },
    "id": "_3Fo21_Baapo",
    "outputId": "a9d09584-2ada-4844-95be-954ecec8f228"
   },
   "outputs": [
    {
     "name": "stderr",
     "output_type": "stream",
     "text": [
      "[nltk_data] Downloading package wordnet to\n",
      "[nltk_data]     C:\\Users\\User\\AppData\\Roaming\\nltk_data...\n",
      "[nltk_data]   Package wordnet is already up-to-date!\n"
     ]
    },
    {
     "data": {
      "text/plain": [
       "True"
      ]
     },
     "execution_count": 59,
     "metadata": {},
     "output_type": "execute_result"
    }
   ],
   "source": [
    "nltk.download('wordnet')"
   ]
  },
  {
   "cell_type": "code",
   "execution_count": 60,
   "id": "pfQAqNZhmMBa",
   "metadata": {
    "colab": {
     "base_uri": "https://localhost:8080/"
    },
    "id": "pfQAqNZhmMBa",
    "outputId": "1b4acd12-20be-4fb1-fda2-c9051641a65d"
   },
   "outputs": [
    {
     "name": "stdout",
     "output_type": "stream",
     "text": [
      "Collecting auto-sklearn\n",
      "  Using cached auto-sklearn-0.14.2.tar.gz (6.3 MB)\n",
      "  Using cached auto-sklearn-0.14.1.tar.gz (6.3 MB)\n",
      "  Using cached auto-sklearn-0.14.0.tar.gz (6.3 MB)\n",
      "  Using cached auto-sklearn-0.13.0.tar.gz (6.3 MB)\n",
      "  Using cached auto-sklearn-0.12.7.tar.gz (6.3 MB)\n",
      "  Using cached auto-sklearn-0.12.6.tar.gz (6.1 MB)\n",
      "  Using cached auto-sklearn-0.12.5.tar.gz (6.1 MB)\n",
      "  Using cached auto-sklearn-0.12.4.tar.gz (6.1 MB)\n",
      "  Using cached auto-sklearn-0.12.3.tar.gz (6.1 MB)\n",
      "  Using cached auto-sklearn-0.12.2.tar.gz (6.1 MB)\n",
      "  Using cached auto-sklearn-0.12.1.tar.gz (6.1 MB)\n",
      "  Using cached auto-sklearn-0.12.0.tar.gz (4.1 MB)\n",
      "  Using cached auto-sklearn-0.11.1.tar.gz (3.9 MB)\n",
      "  Using cached auto-sklearn-0.11.0.tar.gz (3.9 MB)\n",
      "  Using cached auto-sklearn-0.10.0.tar.gz (4.1 MB)\n",
      "  Using cached auto-sklearn-0.9.0.tar.gz (4.7 MB)\n",
      "  Using cached auto-sklearn-0.8.0.tar.gz (4.6 MB)\n",
      "  Using cached auto-sklearn-0.7.1.tar.gz (4.6 MB)\n",
      "  Using cached auto-sklearn-0.7.0.tar.gz (4.6 MB)\n",
      "  Using cached auto-sklearn-0.6.0.tar.gz (3.9 MB)\n",
      "  Using cached auto-sklearn-0.5.2.tar.gz (3.4 MB)\n",
      "  Using cached auto-sklearn-0.5.1.tar.gz (3.4 MB)\n",
      "  Using cached auto-sklearn-0.5.0.tar.gz (3.4 MB)\n",
      "  Using cached auto-sklearn-0.4.2.tar.gz (3.4 MB)\n",
      "  Using cached auto-sklearn-0.4.1.tar.gz (3.4 MB)\n",
      "  Using cached auto-sklearn-0.4.0.tar.gz (3.4 MB)\n",
      "  Using cached auto-sklearn-0.3.0.tar.gz (3.4 MB)\n",
      "Requirement already satisfied: setuptools in c:\\users\\user\\anaconda3\\lib\\site-packages (from auto-sklearn) (52.0.0.post20210125)\n",
      "Requirement already satisfied: nose in c:\\users\\user\\anaconda3\\lib\\site-packages (from auto-sklearn) (1.3.7)\n",
      "Requirement already satisfied: six in c:\\users\\user\\anaconda3\\lib\\site-packages (from auto-sklearn) (1.15.0)\n",
      "Requirement already satisfied: Cython in c:\\users\\user\\anaconda3\\lib\\site-packages (from auto-sklearn) (0.29.23)\n",
      "Requirement already satisfied: numpy>=1.9.0 in c:\\users\\user\\anaconda3\\lib\\site-packages (from auto-sklearn) (1.20.1)\n",
      "Requirement already satisfied: scipy>=0.14.1 in c:\\users\\user\\anaconda3\\lib\\site-packages (from auto-sklearn) (1.6.2)\n",
      "Collecting scikit-learn<0.20,>=0.19\n",
      "  Using cached scikit-learn-0.19.2.tar.gz (9.7 MB)\n",
      "Collecting lockfile\n",
      "  Using cached lockfile-0.12.2-py2.py3-none-any.whl (13 kB)\n",
      "Requirement already satisfied: joblib in c:\\users\\user\\anaconda3\\lib\\site-packages (from auto-sklearn) (1.0.1)\n",
      "Requirement already satisfied: psutil in c:\\users\\user\\anaconda3\\lib\\site-packages (from auto-sklearn) (5.8.0)\n",
      "Requirement already satisfied: pyyaml in c:\\users\\user\\anaconda3\\lib\\site-packages (from auto-sklearn) (5.4.1)\n",
      "Collecting liac-arff\n",
      "  Using cached liac_arff-2.5.0-py3-none-any.whl\n",
      "Requirement already satisfied: pandas in c:\\users\\user\\anaconda3\\lib\\site-packages (from auto-sklearn) (1.2.4)\n",
      "Collecting ConfigSpace<0.5,>=0.4.0\n",
      "  Using cached ConfigSpace-0.4.20.tar.gz (103 kB)\n",
      "  Installing build dependencies: started\n",
      "  Installing build dependencies: finished with status 'done'\n",
      "  Getting requirements to build wheel: started\n",
      "  Getting requirements to build wheel: finished with status 'done'\n",
      "    Preparing wheel metadata: started\n",
      "    Preparing wheel metadata: finished with status 'done'\n",
      "Collecting pynisher<0.5,>=0.4\n",
      "  Using cached pynisher-0.4.2-py3-none-any.whl\n",
      "Collecting pyrfr<0.8,>=0.6.1\n",
      "  Using cached pyrfr-0.7.4.tar.gz (291 kB)\n",
      "Collecting smac<0.9,>=0.8\n",
      "  Using cached smac-0.8.0-py3-none-any.whl\n",
      "Requirement already satisfied: pyparsing in c:\\users\\user\\anaconda3\\lib\\site-packages (from ConfigSpace<0.5,>=0.4.0->auto-sklearn) (2.4.7)\n",
      "Requirement already satisfied: docutils>=0.3 in c:\\users\\user\\anaconda3\\lib\\site-packages (from pynisher<0.5,>=0.4->auto-sklearn) (0.17)\n",
      "Collecting typing\n",
      "  Using cached typing-3.7.4.3-py3-none-any.whl\n",
      "Collecting sphinx-rtd-theme\n",
      "  Using cached sphinx_rtd_theme-1.0.0-py2.py3-none-any.whl (2.8 MB)\n",
      "Requirement already satisfied: sphinx in c:\\users\\user\\anaconda3\\lib\\site-packages (from smac<0.9,>=0.8->auto-sklearn) (4.0.1)\n",
      "Requirement already satisfied: python-dateutil>=2.7.3 in c:\\users\\user\\anaconda3\\lib\\site-packages (from pandas->auto-sklearn) (2.8.1)\n",
      "Requirement already satisfied: pytz>=2017.3 in c:\\users\\user\\anaconda3\\lib\\site-packages (from pandas->auto-sklearn) (2021.1)\n",
      "Requirement already satisfied: sphinxcontrib-htmlhelp in c:\\users\\user\\anaconda3\\lib\\site-packages (from sphinx->smac<0.9,>=0.8->auto-sklearn) (1.0.3)\n",
      "Requirement already satisfied: sphinxcontrib-qthelp in c:\\users\\user\\anaconda3\\lib\\site-packages (from sphinx->smac<0.9,>=0.8->auto-sklearn) (1.0.3)\n",
      "Requirement already satisfied: sphinxcontrib-devhelp in c:\\users\\user\\anaconda3\\lib\\site-packages (from sphinx->smac<0.9,>=0.8->auto-sklearn) (1.0.2)\n",
      "Requirement already satisfied: MarkupSafe<2.0 in c:\\users\\user\\anaconda3\\lib\\site-packages (from sphinx->smac<0.9,>=0.8->auto-sklearn) (1.1.1)\n",
      "Requirement already satisfied: sphinxcontrib-applehelp in c:\\users\\user\\anaconda3\\lib\\site-packages (from sphinx->smac<0.9,>=0.8->auto-sklearn) (1.0.2)\n",
      "Requirement already satisfied: Jinja2<3.0,>=2.3 in c:\\users\\user\\anaconda3\\lib\\site-packages (from sphinx->smac<0.9,>=0.8->auto-sklearn) (2.11.3)\n",
      "Requirement already satisfied: snowballstemmer>=1.1 in c:\\users\\user\\anaconda3\\lib\\site-packages (from sphinx->smac<0.9,>=0.8->auto-sklearn) (2.1.0)\n",
      "Requirement already satisfied: requests>=2.5.0 in c:\\users\\user\\anaconda3\\lib\\site-packages (from sphinx->smac<0.9,>=0.8->auto-sklearn) (2.25.1)\n",
      "Requirement already satisfied: babel>=1.3 in c:\\users\\user\\anaconda3\\lib\\site-packages (from sphinx->smac<0.9,>=0.8->auto-sklearn) (2.9.0)\n",
      "Requirement already satisfied: sphinxcontrib-jsmath in c:\\users\\user\\anaconda3\\lib\\site-packages (from sphinx->smac<0.9,>=0.8->auto-sklearn) (1.0.1)\n",
      "Requirement already satisfied: sphinxcontrib-serializinghtml in c:\\users\\user\\anaconda3\\lib\\site-packages (from sphinx->smac<0.9,>=0.8->auto-sklearn) (1.1.4)\n",
      "Requirement already satisfied: Pygments>=2.0 in c:\\users\\user\\anaconda3\\lib\\site-packages (from sphinx->smac<0.9,>=0.8->auto-sklearn) (2.8.1)\n",
      "Requirement already satisfied: alabaster<0.8,>=0.7 in c:\\users\\user\\anaconda3\\lib\\site-packages (from sphinx->smac<0.9,>=0.8->auto-sklearn) (0.7.12)\n",
      "Requirement already satisfied: colorama>=0.3.5 in c:\\users\\user\\anaconda3\\lib\\site-packages (from sphinx->smac<0.9,>=0.8->auto-sklearn) (0.4.4)\n",
      "Requirement already satisfied: imagesize in c:\\users\\user\\anaconda3\\lib\\site-packages (from sphinx->smac<0.9,>=0.8->auto-sklearn) (1.2.0)\n",
      "Requirement already satisfied: packaging in c:\\users\\user\\anaconda3\\lib\\site-packages (from sphinx->smac<0.9,>=0.8->auto-sklearn) (20.9)\n",
      "Requirement already satisfied: idna<3,>=2.5 in c:\\users\\user\\anaconda3\\lib\\site-packages (from requests>=2.5.0->sphinx->smac<0.9,>=0.8->auto-sklearn) (2.10)\n",
      "Requirement already satisfied: urllib3<1.27,>=1.21.1 in c:\\users\\user\\anaconda3\\lib\\site-packages (from requests>=2.5.0->sphinx->smac<0.9,>=0.8->auto-sklearn) (1.26.4)\n",
      "Requirement already satisfied: chardet<5,>=3.0.2 in c:\\users\\user\\anaconda3\\lib\\site-packages (from requests>=2.5.0->sphinx->smac<0.9,>=0.8->auto-sklearn) (4.0.0)\n",
      "Requirement already satisfied: certifi>=2017.4.17 in c:\\users\\user\\anaconda3\\lib\\site-packages (from requests>=2.5.0->sphinx->smac<0.9,>=0.8->auto-sklearn) (2020.12.5)\n",
      "Building wheels for collected packages: auto-sklearn, ConfigSpace, pyrfr, scikit-learn\n",
      "  Building wheel for auto-sklearn (setup.py): started\n",
      "  Building wheel for auto-sklearn (setup.py): finished with status 'error'\n",
      "  Running setup.py clean for auto-sklearn\n",
      "  Building wheel for ConfigSpace (PEP 517): started\n",
      "  Building wheel for ConfigSpace (PEP 517): finished with status 'error'\n",
      "  Building wheel for pyrfr (setup.py): started\n",
      "  Building wheel for pyrfr (setup.py): finished with status 'error'\n",
      "  Running setup.py clean for pyrfr\n",
      "  Building wheel for scikit-learn (setup.py): started\n",
      "  Building wheel for scikit-learn (setup.py): finished with status 'error'\n",
      "  Running setup.py clean for scikit-learn\n",
      "Failed to build auto-sklearn ConfigSpace pyrfr scikit-learn\n",
      "Note: you may need to restart the kernel to use updated packages.\n"
     ]
    },
    {
     "name": "stderr",
     "output_type": "stream",
     "text": [
      "    ERROR: Command errored out with exit status 1:\n",
      "     command: 'C:\\Users\\User\\anaconda3\\python.exe' -c 'import sys, setuptools, tokenize; sys.argv[0] = '\"'\"'C:\\\\Users\\\\User\\\\AppData\\\\Local\\\\Temp\\\\pip-install-bkgpdkkr\\\\auto-sklearn_06c53985df82414da78517b48d25888e\\\\setup.py'\"'\"'; __file__='\"'\"'C:\\\\Users\\\\User\\\\AppData\\\\Local\\\\Temp\\\\pip-install-bkgpdkkr\\\\auto-sklearn_06c53985df82414da78517b48d25888e\\\\setup.py'\"'\"';f=getattr(tokenize, '\"'\"'open'\"'\"', open)(__file__);code=f.read().replace('\"'\"'\\r\\n'\"'\"', '\"'\"'\\n'\"'\"');f.close();exec(compile(code, __file__, '\"'\"'exec'\"'\"'))' egg_info --egg-base 'C:\\Users\\User\\AppData\\Local\\Temp\\pip-pip-egg-info-fsf4hfgz'\n",
      "         cwd: C:\\Users\\User\\AppData\\Local\\Temp\\pip-install-bkgpdkkr\\auto-sklearn_06c53985df82414da78517b48d25888e\\\n",
      "    Complete output (5 lines):\n",
      "    Traceback (most recent call last):\n",
      "      File \"<string>\", line 1, in <module>\n",
      "      File \"C:\\Users\\User\\AppData\\Local\\Temp\\pip-install-bkgpdkkr\\auto-sklearn_06c53985df82414da78517b48d25888e\\setup.py\", line 9, in <module>\n",
      "        raise ValueError(\n",
      "    ValueError: Detected unsupported operating system: win32. Please check the compability information of auto-sklearn: https://automl.github.io/auto-sklearn/master/installation.html#windows-osx-compatibility\n",
      "    ----------------------------------------\n",
      "WARNING: Discarding https://files.pythonhosted.org/packages/08/a4/a34327516da9319c926706bdf5e421b3207c6228ba6a847847709233cb4f/auto-sklearn-0.14.2.tar.gz#sha256=cd26d0c7be4f7392d49ec343683111a4d0572c860cb48d98a8e17797bb714081 (from https://pypi.org/simple/auto-sklearn/) (requires-python:>=3.7). Command errored out with exit status 1: python setup.py egg_info Check the logs for full command output.\n",
      "    ERROR: Command errored out with exit status 1:\n",
      "     command: 'C:\\Users\\User\\anaconda3\\python.exe' -c 'import sys, setuptools, tokenize; sys.argv[0] = '\"'\"'C:\\\\Users\\\\User\\\\AppData\\\\Local\\\\Temp\\\\pip-install-bkgpdkkr\\\\auto-sklearn_c44635c5ff18413790543b4dbf8f10b6\\\\setup.py'\"'\"'; __file__='\"'\"'C:\\\\Users\\\\User\\\\AppData\\\\Local\\\\Temp\\\\pip-install-bkgpdkkr\\\\auto-sklearn_c44635c5ff18413790543b4dbf8f10b6\\\\setup.py'\"'\"';f=getattr(tokenize, '\"'\"'open'\"'\"', open)(__file__);code=f.read().replace('\"'\"'\\r\\n'\"'\"', '\"'\"'\\n'\"'\"');f.close();exec(compile(code, __file__, '\"'\"'exec'\"'\"'))' egg_info --egg-base 'C:\\Users\\User\\AppData\\Local\\Temp\\pip-pip-egg-info-nd6hottu'\n",
      "         cwd: C:\\Users\\User\\AppData\\Local\\Temp\\pip-install-bkgpdkkr\\auto-sklearn_c44635c5ff18413790543b4dbf8f10b6\\\n",
      "    Complete output (5 lines):\n",
      "    Traceback (most recent call last):\n",
      "      File \"<string>\", line 1, in <module>\n",
      "      File \"C:\\Users\\User\\AppData\\Local\\Temp\\pip-install-bkgpdkkr\\auto-sklearn_c44635c5ff18413790543b4dbf8f10b6\\setup.py\", line 9, in <module>\n",
      "        raise ValueError(\n",
      "    ValueError: Detected unsupported operating system: win32. Please check the compability information of auto-sklearn: https://automl.github.io/auto-sklearn/master/installation.html#windows-osx-compatibility\n",
      "    ----------------------------------------\n",
      "WARNING: Discarding https://files.pythonhosted.org/packages/03/3d/756ccd5548d54e4bbb7d89cfdb695d172ee7adcda1e9ca5aa4e1d4efff5e/auto-sklearn-0.14.1.tar.gz#sha256=04db7e67b61994bd276d461a9cf6476528dad447f0da287738d9405b2e6cb4ac (from https://pypi.org/simple/auto-sklearn/) (requires-python:>=3.7). Command errored out with exit status 1: python setup.py egg_info Check the logs for full command output.\n",
      "    ERROR: Command errored out with exit status 1:\n",
      "     command: 'C:\\Users\\User\\anaconda3\\python.exe' -c 'import sys, setuptools, tokenize; sys.argv[0] = '\"'\"'C:\\\\Users\\\\User\\\\AppData\\\\Local\\\\Temp\\\\pip-install-bkgpdkkr\\\\auto-sklearn_cf3f654354c34346ae3473f95a48eb9c\\\\setup.py'\"'\"'; __file__='\"'\"'C:\\\\Users\\\\User\\\\AppData\\\\Local\\\\Temp\\\\pip-install-bkgpdkkr\\\\auto-sklearn_cf3f654354c34346ae3473f95a48eb9c\\\\setup.py'\"'\"';f=getattr(tokenize, '\"'\"'open'\"'\"', open)(__file__);code=f.read().replace('\"'\"'\\r\\n'\"'\"', '\"'\"'\\n'\"'\"');f.close();exec(compile(code, __file__, '\"'\"'exec'\"'\"'))' egg_info --egg-base 'C:\\Users\\User\\AppData\\Local\\Temp\\pip-pip-egg-info-rcm1c87a'\n",
      "         cwd: C:\\Users\\User\\AppData\\Local\\Temp\\pip-install-bkgpdkkr\\auto-sklearn_cf3f654354c34346ae3473f95a48eb9c\\\n",
      "    Complete output (5 lines):\n",
      "    Traceback (most recent call last):\n",
      "      File \"<string>\", line 1, in <module>\n",
      "      File \"C:\\Users\\User\\AppData\\Local\\Temp\\pip-install-bkgpdkkr\\auto-sklearn_cf3f654354c34346ae3473f95a48eb9c\\setup.py\", line 9, in <module>\n",
      "        raise ValueError(\n",
      "    ValueError: Detected unsupported operating system: win32. Please check the compability information of auto-sklearn: https://automl.github.io/auto-sklearn/master/installation.html#windows-osx-compatibility\n",
      "    ----------------------------------------\n",
      "WARNING: Discarding https://files.pythonhosted.org/packages/66/f6/3c2218b5a3302a2db56178ef6363c27e7a2bf74f85593421fe6a3c8fcc95/auto-sklearn-0.14.0.tar.gz#sha256=c574720c787efba36c6a734f10af747c73aa369a0a0046e37d5bcdd8c7ef94d6 (from https://pypi.org/simple/auto-sklearn/) (requires-python:>=3.7). Command errored out with exit status 1: python setup.py egg_info Check the logs for full command output.\n",
      "    ERROR: Command errored out with exit status 1:\n",
      "     command: 'C:\\Users\\User\\anaconda3\\python.exe' -c 'import sys, setuptools, tokenize; sys.argv[0] = '\"'\"'C:\\\\Users\\\\User\\\\AppData\\\\Local\\\\Temp\\\\pip-install-bkgpdkkr\\\\auto-sklearn_601a809672bd4471b9cba3da1be91da5\\\\setup.py'\"'\"'; __file__='\"'\"'C:\\\\Users\\\\User\\\\AppData\\\\Local\\\\Temp\\\\pip-install-bkgpdkkr\\\\auto-sklearn_601a809672bd4471b9cba3da1be91da5\\\\setup.py'\"'\"';f=getattr(tokenize, '\"'\"'open'\"'\"', open)(__file__);code=f.read().replace('\"'\"'\\r\\n'\"'\"', '\"'\"'\\n'\"'\"');f.close();exec(compile(code, __file__, '\"'\"'exec'\"'\"'))' egg_info --egg-base 'C:\\Users\\User\\AppData\\Local\\Temp\\pip-pip-egg-info-mkmqq0w2'\n",
      "         cwd: C:\\Users\\User\\AppData\\Local\\Temp\\pip-install-bkgpdkkr\\auto-sklearn_601a809672bd4471b9cba3da1be91da5\\\n",
      "    Complete output (5 lines):\n",
      "    Traceback (most recent call last):\n",
      "      File \"<string>\", line 1, in <module>\n",
      "      File \"C:\\Users\\User\\AppData\\Local\\Temp\\pip-install-bkgpdkkr\\auto-sklearn_601a809672bd4471b9cba3da1be91da5\\setup.py\", line 9, in <module>\n",
      "        raise ValueError(\n",
      "    ValueError: Detected unsupported operating system: win32. Please check the compability information of auto-sklearn: https://automl.github.io/auto-sklearn/master/installation.html#windows-osx-compatibility\n",
      "    ----------------------------------------\n",
      "WARNING: Discarding https://files.pythonhosted.org/packages/09/ce/91da344d8c52012299c0ab0458a8789d3fa886450bec7ac41c15ca61b451/auto-sklearn-0.13.0.tar.gz#sha256=0939a55f60ec36a31ab80f58f2d0c30d4129c6ae524ebf9a5789a46dfb5c8d22 (from https://pypi.org/simple/auto-sklearn/) (requires-python:>=3.7). Command errored out with exit status 1: python setup.py egg_info Check the logs for full command output.\n",
      "    ERROR: Command errored out with exit status 1:\n",
      "     command: 'C:\\Users\\User\\anaconda3\\python.exe' -c 'import sys, setuptools, tokenize; sys.argv[0] = '\"'\"'C:\\\\Users\\\\User\\\\AppData\\\\Local\\\\Temp\\\\pip-install-bkgpdkkr\\\\auto-sklearn_bde77acf4b9445afababef171b0c1871\\\\setup.py'\"'\"'; __file__='\"'\"'C:\\\\Users\\\\User\\\\AppData\\\\Local\\\\Temp\\\\pip-install-bkgpdkkr\\\\auto-sklearn_bde77acf4b9445afababef171b0c1871\\\\setup.py'\"'\"';f=getattr(tokenize, '\"'\"'open'\"'\"', open)(__file__);code=f.read().replace('\"'\"'\\r\\n'\"'\"', '\"'\"'\\n'\"'\"');f.close();exec(compile(code, __file__, '\"'\"'exec'\"'\"'))' egg_info --egg-base 'C:\\Users\\User\\AppData\\Local\\Temp\\pip-pip-egg-info-3c_xkytg'\n",
      "         cwd: C:\\Users\\User\\AppData\\Local\\Temp\\pip-install-bkgpdkkr\\auto-sklearn_bde77acf4b9445afababef171b0c1871\\\n",
      "    Complete output (5 lines):\n",
      "    Traceback (most recent call last):\n",
      "      File \"<string>\", line 1, in <module>\n",
      "      File \"C:\\Users\\User\\AppData\\Local\\Temp\\pip-install-bkgpdkkr\\auto-sklearn_bde77acf4b9445afababef171b0c1871\\setup.py\", line 9, in <module>\n",
      "        raise ValueError(\n",
      "    ValueError: Detected unsupported operating system: win32. Please check the compability information of auto-sklearn: https://automl.github.io/auto-sklearn/master/installation.html#windows-osx-compatibility\n",
      "    ----------------------------------------\n",
      "WARNING: Discarding https://files.pythonhosted.org/packages/21/1d/ef6578e45970bbc56ed81fa5e64e8542b4c32da0a50136306b21a4ccf0fe/auto-sklearn-0.12.7.tar.gz#sha256=60d7ff9d31d5eca8a87981b76d24df2ff93d65b326489bbb653f146a8b371626 (from https://pypi.org/simple/auto-sklearn/) (requires-python:>=3.6). Command errored out with exit status 1: python setup.py egg_info Check the logs for full command output.\n",
      "    ERROR: Command errored out with exit status 1:\n",
      "     command: 'C:\\Users\\User\\anaconda3\\python.exe' -c 'import sys, setuptools, tokenize; sys.argv[0] = '\"'\"'C:\\\\Users\\\\User\\\\AppData\\\\Local\\\\Temp\\\\pip-install-bkgpdkkr\\\\auto-sklearn_b05654eea16c4d62a863558b5559b776\\\\setup.py'\"'\"'; __file__='\"'\"'C:\\\\Users\\\\User\\\\AppData\\\\Local\\\\Temp\\\\pip-install-bkgpdkkr\\\\auto-sklearn_b05654eea16c4d62a863558b5559b776\\\\setup.py'\"'\"';f=getattr(tokenize, '\"'\"'open'\"'\"', open)(__file__);code=f.read().replace('\"'\"'\\r\\n'\"'\"', '\"'\"'\\n'\"'\"');f.close();exec(compile(code, __file__, '\"'\"'exec'\"'\"'))' egg_info --egg-base 'C:\\Users\\User\\AppData\\Local\\Temp\\pip-pip-egg-info-9kt82k84'\n",
      "         cwd: C:\\Users\\User\\AppData\\Local\\Temp\\pip-install-bkgpdkkr\\auto-sklearn_b05654eea16c4d62a863558b5559b776\\\n",
      "    Complete output (5 lines):\n",
      "    Traceback (most recent call last):\n",
      "      File \"<string>\", line 1, in <module>\n",
      "      File \"C:\\Users\\User\\AppData\\Local\\Temp\\pip-install-bkgpdkkr\\auto-sklearn_b05654eea16c4d62a863558b5559b776\\setup.py\", line 9, in <module>\n",
      "        raise ValueError(\n",
      "    ValueError: Detected unsupported operating system: win32. Please check the compability information of auto-sklearn: https://automl.github.io/auto-sklearn/master/installation.html#windows-osx-compatibility\n",
      "    ----------------------------------------\n",
      "WARNING: Discarding https://files.pythonhosted.org/packages/a5/1b/9249f7d4498cbdb0130352a838e02ca7d7bebbcacde74d1f4f26a5d9202b/auto-sklearn-0.12.6.tar.gz#sha256=bdd0c6885f7d575169a2dad01efe6fef8d73f627b9b288c86c8134a2c48ee71d (from https://pypi.org/simple/auto-sklearn/) (requires-python:>=3.6). Command errored out with exit status 1: python setup.py egg_info Check the logs for full command output.\n",
      "    ERROR: Command errored out with exit status 1:\n",
      "     command: 'C:\\Users\\User\\anaconda3\\python.exe' -c 'import sys, setuptools, tokenize; sys.argv[0] = '\"'\"'C:\\\\Users\\\\User\\\\AppData\\\\Local\\\\Temp\\\\pip-install-bkgpdkkr\\\\auto-sklearn_58fd09e5634a4cb1ad71cf89c58ff3c7\\\\setup.py'\"'\"'; __file__='\"'\"'C:\\\\Users\\\\User\\\\AppData\\\\Local\\\\Temp\\\\pip-install-bkgpdkkr\\\\auto-sklearn_58fd09e5634a4cb1ad71cf89c58ff3c7\\\\setup.py'\"'\"';f=getattr(tokenize, '\"'\"'open'\"'\"', open)(__file__);code=f.read().replace('\"'\"'\\r\\n'\"'\"', '\"'\"'\\n'\"'\"');f.close();exec(compile(code, __file__, '\"'\"'exec'\"'\"'))' egg_info --egg-base 'C:\\Users\\User\\AppData\\Local\\Temp\\pip-pip-egg-info-qj1vhwzq'\n",
      "         cwd: C:\\Users\\User\\AppData\\Local\\Temp\\pip-install-bkgpdkkr\\auto-sklearn_58fd09e5634a4cb1ad71cf89c58ff3c7\\\n",
      "    Complete output (5 lines):\n",
      "    Traceback (most recent call last):\n",
      "      File \"<string>\", line 1, in <module>\n",
      "      File \"C:\\Users\\User\\AppData\\Local\\Temp\\pip-install-bkgpdkkr\\auto-sklearn_58fd09e5634a4cb1ad71cf89c58ff3c7\\setup.py\", line 9, in <module>\n",
      "        raise ValueError(\n",
      "    ValueError: Detected unsupported operating system: win32. Please check the compability information of auto-sklearn: https://automl.github.io/auto-sklearn/master/installation.html#windows-osx-compatibility\n",
      "    ----------------------------------------\n",
      "WARNING: Discarding https://files.pythonhosted.org/packages/1d/5c/31808f406cd52ccec551ff22f43647866db64bb57897f4fc6deac25e09ce/auto-sklearn-0.12.5.tar.gz#sha256=f7468c07a3d75018bbee16e2aeed33d63bd395935cda30d831b014a8bbe1a086 (from https://pypi.org/simple/auto-sklearn/) (requires-python:>=3.6). Command errored out with exit status 1: python setup.py egg_info Check the logs for full command output.\n",
      "    ERROR: Command errored out with exit status 1:\n",
      "     command: 'C:\\Users\\User\\anaconda3\\python.exe' -c 'import sys, setuptools, tokenize; sys.argv[0] = '\"'\"'C:\\\\Users\\\\User\\\\AppData\\\\Local\\\\Temp\\\\pip-install-bkgpdkkr\\\\auto-sklearn_64bd886daf804d169657b6d8ef30fa86\\\\setup.py'\"'\"'; __file__='\"'\"'C:\\\\Users\\\\User\\\\AppData\\\\Local\\\\Temp\\\\pip-install-bkgpdkkr\\\\auto-sklearn_64bd886daf804d169657b6d8ef30fa86\\\\setup.py'\"'\"';f=getattr(tokenize, '\"'\"'open'\"'\"', open)(__file__);code=f.read().replace('\"'\"'\\r\\n'\"'\"', '\"'\"'\\n'\"'\"');f.close();exec(compile(code, __file__, '\"'\"'exec'\"'\"'))' egg_info --egg-base 'C:\\Users\\User\\AppData\\Local\\Temp\\pip-pip-egg-info-fcg_t2_4'\n",
      "         cwd: C:\\Users\\User\\AppData\\Local\\Temp\\pip-install-bkgpdkkr\\auto-sklearn_64bd886daf804d169657b6d8ef30fa86\\\n",
      "    Complete output (5 lines):\n",
      "    Traceback (most recent call last):\n",
      "      File \"<string>\", line 1, in <module>\n",
      "      File \"C:\\Users\\User\\AppData\\Local\\Temp\\pip-install-bkgpdkkr\\auto-sklearn_64bd886daf804d169657b6d8ef30fa86\\setup.py\", line 9, in <module>\n",
      "        raise ValueError(\n",
      "    ValueError: Detected unsupported operating system: win32. Please check the compability information of auto-sklearn: https://automl.github.io/auto-sklearn/master/installation.html#windows-osx-compatibility\n",
      "    ----------------------------------------\n",
      "WARNING: Discarding https://files.pythonhosted.org/packages/bf/be/51cfbd3d0224228e940716a4577839f129e61f3786326c1079774712e150/auto-sklearn-0.12.4.tar.gz#sha256=7741feee59a5dff12ae52cbc6df6c500bd094a76480a0a8f99ccd1c9d807aefd (from https://pypi.org/simple/auto-sklearn/) (requires-python:>=3.6). Command errored out with exit status 1: python setup.py egg_info Check the logs for full command output.\n",
      "    ERROR: Command errored out with exit status 1:\n",
      "     command: 'C:\\Users\\User\\anaconda3\\python.exe' -c 'import sys, setuptools, tokenize; sys.argv[0] = '\"'\"'C:\\\\Users\\\\User\\\\AppData\\\\Local\\\\Temp\\\\pip-install-bkgpdkkr\\\\auto-sklearn_d2991a26d3694e698fdda3ef4c0f6d0b\\\\setup.py'\"'\"'; __file__='\"'\"'C:\\\\Users\\\\User\\\\AppData\\\\Local\\\\Temp\\\\pip-install-bkgpdkkr\\\\auto-sklearn_d2991a26d3694e698fdda3ef4c0f6d0b\\\\setup.py'\"'\"';f=getattr(tokenize, '\"'\"'open'\"'\"', open)(__file__);code=f.read().replace('\"'\"'\\r\\n'\"'\"', '\"'\"'\\n'\"'\"');f.close();exec(compile(code, __file__, '\"'\"'exec'\"'\"'))' egg_info --egg-base 'C:\\Users\\User\\AppData\\Local\\Temp\\pip-pip-egg-info-d6q9sbmv'\n",
      "         cwd: C:\\Users\\User\\AppData\\Local\\Temp\\pip-install-bkgpdkkr\\auto-sklearn_d2991a26d3694e698fdda3ef4c0f6d0b\\\n",
      "    Complete output (5 lines):\n",
      "    Traceback (most recent call last):\n",
      "      File \"<string>\", line 1, in <module>\n",
      "      File \"C:\\Users\\User\\AppData\\Local\\Temp\\pip-install-bkgpdkkr\\auto-sklearn_d2991a26d3694e698fdda3ef4c0f6d0b\\setup.py\", line 9, in <module>\n",
      "        raise ValueError(\n",
      "    ValueError: Detected unsupported operating system: win32. Please check the compability information of auto-sklearn: https://automl.github.io/auto-sklearn/master/installation.html#windows-osx-compatibility\n",
      "    ----------------------------------------\n",
      "WARNING: Discarding https://files.pythonhosted.org/packages/83/38/4bffa24065793f5b4101db83b9b1d89199df9ba5c4651104e292702f2bef/auto-sklearn-0.12.3.tar.gz#sha256=1222e39596b2d9cc129cfcaa2106467b5f11479f49e8b09fbf78750dd3dfcfab (from https://pypi.org/simple/auto-sklearn/) (requires-python:>=3.6). Command errored out with exit status 1: python setup.py egg_info Check the logs for full command output.\n",
      "    ERROR: Command errored out with exit status 1:\n",
      "     command: 'C:\\Users\\User\\anaconda3\\python.exe' -c 'import sys, setuptools, tokenize; sys.argv[0] = '\"'\"'C:\\\\Users\\\\User\\\\AppData\\\\Local\\\\Temp\\\\pip-install-bkgpdkkr\\\\auto-sklearn_2c545183116a4d4180146f1fb4a6f9ff\\\\setup.py'\"'\"'; __file__='\"'\"'C:\\\\Users\\\\User\\\\AppData\\\\Local\\\\Temp\\\\pip-install-bkgpdkkr\\\\auto-sklearn_2c545183116a4d4180146f1fb4a6f9ff\\\\setup.py'\"'\"';f=getattr(tokenize, '\"'\"'open'\"'\"', open)(__file__);code=f.read().replace('\"'\"'\\r\\n'\"'\"', '\"'\"'\\n'\"'\"');f.close();exec(compile(code, __file__, '\"'\"'exec'\"'\"'))' egg_info --egg-base 'C:\\Users\\User\\AppData\\Local\\Temp\\pip-pip-egg-info-05z0lj02'\n",
      "         cwd: C:\\Users\\User\\AppData\\Local\\Temp\\pip-install-bkgpdkkr\\auto-sklearn_2c545183116a4d4180146f1fb4a6f9ff\\\n",
      "    Complete output (5 lines):\n",
      "    Traceback (most recent call last):\n",
      "      File \"<string>\", line 1, in <module>\n",
      "      File \"C:\\Users\\User\\AppData\\Local\\Temp\\pip-install-bkgpdkkr\\auto-sklearn_2c545183116a4d4180146f1fb4a6f9ff\\setup.py\", line 9, in <module>\n",
      "        raise ValueError(\n",
      "    ValueError: Detected unsupported operating system: win32. Please check the compability information of auto-sklearn: https://automl.github.io/auto-sklearn/master/installation.html#windows-osx-compatibility\n",
      "    ----------------------------------------\n",
      "WARNING: Discarding https://files.pythonhosted.org/packages/ab/08/bfdde4c6ca104c1d694bd28898bb0231bcd04d593c620f67ae7046e12678/auto-sklearn-0.12.2.tar.gz#sha256=e44289fe7456391252b96924def512be5b52cbd311e1c3192319eb2af594d678 (from https://pypi.org/simple/auto-sklearn/) (requires-python:>=3.6). Command errored out with exit status 1: python setup.py egg_info Check the logs for full command output.\n",
      "    ERROR: Command errored out with exit status 1:\n",
      "     command: 'C:\\Users\\User\\anaconda3\\python.exe' -c 'import sys, setuptools, tokenize; sys.argv[0] = '\"'\"'C:\\\\Users\\\\User\\\\AppData\\\\Local\\\\Temp\\\\pip-install-bkgpdkkr\\\\auto-sklearn_15cc153f16c1435289eeff5b7f6fa775\\\\setup.py'\"'\"'; __file__='\"'\"'C:\\\\Users\\\\User\\\\AppData\\\\Local\\\\Temp\\\\pip-install-bkgpdkkr\\\\auto-sklearn_15cc153f16c1435289eeff5b7f6fa775\\\\setup.py'\"'\"';f=getattr(tokenize, '\"'\"'open'\"'\"', open)(__file__);code=f.read().replace('\"'\"'\\r\\n'\"'\"', '\"'\"'\\n'\"'\"');f.close();exec(compile(code, __file__, '\"'\"'exec'\"'\"'))' egg_info --egg-base 'C:\\Users\\User\\AppData\\Local\\Temp\\pip-pip-egg-info-ylf6ps_s'\n",
      "         cwd: C:\\Users\\User\\AppData\\Local\\Temp\\pip-install-bkgpdkkr\\auto-sklearn_15cc153f16c1435289eeff5b7f6fa775\\\n",
      "    Complete output (5 lines):\n",
      "    Traceback (most recent call last):\n",
      "      File \"<string>\", line 1, in <module>\n",
      "      File \"C:\\Users\\User\\AppData\\Local\\Temp\\pip-install-bkgpdkkr\\auto-sklearn_15cc153f16c1435289eeff5b7f6fa775\\setup.py\", line 9, in <module>\n",
      "        raise ValueError(\n",
      "    ValueError: Detected unsupported operating system: win32. Please check the compability information of auto-sklearn: https://automl.github.io/auto-sklearn/master/installation.html#windows-osx-compatibility\n",
      "    ----------------------------------------\n",
      "WARNING: Discarding https://files.pythonhosted.org/packages/18/2b/791ba4aac1ea4209c40266e1e6cd1218144d7d7195f7bfd30724789ea2a6/auto-sklearn-0.12.1.tar.gz#sha256=2a7e5ec240058b72cf5618d37df58a08faefab29544558223e10764a431a648d (from https://pypi.org/simple/auto-sklearn/) (requires-python:>=3.6). Command errored out with exit status 1: python setup.py egg_info Check the logs for full command output.\n",
      "    ERROR: Command errored out with exit status 1:\n",
      "     command: 'C:\\Users\\User\\anaconda3\\python.exe' -c 'import sys, setuptools, tokenize; sys.argv[0] = '\"'\"'C:\\\\Users\\\\User\\\\AppData\\\\Local\\\\Temp\\\\pip-install-bkgpdkkr\\\\auto-sklearn_ec7b10531f2945598127c4e3698f57a2\\\\setup.py'\"'\"'; __file__='\"'\"'C:\\\\Users\\\\User\\\\AppData\\\\Local\\\\Temp\\\\pip-install-bkgpdkkr\\\\auto-sklearn_ec7b10531f2945598127c4e3698f57a2\\\\setup.py'\"'\"';f=getattr(tokenize, '\"'\"'open'\"'\"', open)(__file__);code=f.read().replace('\"'\"'\\r\\n'\"'\"', '\"'\"'\\n'\"'\"');f.close();exec(compile(code, __file__, '\"'\"'exec'\"'\"'))' egg_info --egg-base 'C:\\Users\\User\\AppData\\Local\\Temp\\pip-pip-egg-info-1i3b30_t'\n",
      "         cwd: C:\\Users\\User\\AppData\\Local\\Temp\\pip-install-bkgpdkkr\\auto-sklearn_ec7b10531f2945598127c4e3698f57a2\\\n",
      "    Complete output (5 lines):\n",
      "    Traceback (most recent call last):\n",
      "      File \"<string>\", line 1, in <module>\n",
      "      File \"C:\\Users\\User\\AppData\\Local\\Temp\\pip-install-bkgpdkkr\\auto-sklearn_ec7b10531f2945598127c4e3698f57a2\\setup.py\", line 9, in <module>\n",
      "        raise ValueError(\n",
      "    ValueError: Detected unsupported operating system: win32. Please check the compability information of auto-sklearn: https://automl.github.io/auto-sklearn/master/installation.html#windows-osx-compatibility\n",
      "    ----------------------------------------\n",
      "WARNING: Discarding https://files.pythonhosted.org/packages/55/b7/f20bb1484dcc08ffaf22f294c9f69a4a7a7aa87007787ab0f88fc9992d8e/auto-sklearn-0.12.0.tar.gz#sha256=db332781610eada06c675ad35a52e2dc8641145711dd0fd64152208f803e9905 (from https://pypi.org/simple/auto-sklearn/) (requires-python:>=3.6). Command errored out with exit status 1: python setup.py egg_info Check the logs for full command output.\n",
      "    ERROR: Command errored out with exit status 1:\n",
      "     command: 'C:\\Users\\User\\anaconda3\\python.exe' -c 'import sys, setuptools, tokenize; sys.argv[0] = '\"'\"'C:\\\\Users\\\\User\\\\AppData\\\\Local\\\\Temp\\\\pip-install-bkgpdkkr\\\\auto-sklearn_e453709eb72e45df9a5efb427f3fb846\\\\setup.py'\"'\"'; __file__='\"'\"'C:\\\\Users\\\\User\\\\AppData\\\\Local\\\\Temp\\\\pip-install-bkgpdkkr\\\\auto-sklearn_e453709eb72e45df9a5efb427f3fb846\\\\setup.py'\"'\"';f=getattr(tokenize, '\"'\"'open'\"'\"', open)(__file__);code=f.read().replace('\"'\"'\\r\\n'\"'\"', '\"'\"'\\n'\"'\"');f.close();exec(compile(code, __file__, '\"'\"'exec'\"'\"'))' egg_info --egg-base 'C:\\Users\\User\\AppData\\Local\\Temp\\pip-pip-egg-info-yaj8omkj'\n",
      "         cwd: C:\\Users\\User\\AppData\\Local\\Temp\\pip-install-bkgpdkkr\\auto-sklearn_e453709eb72e45df9a5efb427f3fb846\\\n",
      "    Complete output (5 lines):\n",
      "    Traceback (most recent call last):\n",
      "      File \"<string>\", line 1, in <module>\n",
      "      File \"C:\\Users\\User\\AppData\\Local\\Temp\\pip-install-bkgpdkkr\\auto-sklearn_e453709eb72e45df9a5efb427f3fb846\\setup.py\", line 9, in <module>\n",
      "        raise ValueError(\n",
      "    ValueError: Detected unsupported operating system: win32. Please check the compability information of auto-sklearn: https://automl.github.io/auto-sklearn/master/installation.html#windows-osx-compatibility\n",
      "    ----------------------------------------\n",
      "WARNING: Discarding https://files.pythonhosted.org/packages/63/09/e2311163385861101eb95e765adb74b266a4c1b309b84e3346f043e5f438/auto-sklearn-0.11.1.tar.gz#sha256=d6712aa22f65644d80da2709bbe700735f3b8a264d428fbc3970bf5921317141 (from https://pypi.org/simple/auto-sklearn/) (requires-python:>=3.6). Command errored out with exit status 1: python setup.py egg_info Check the logs for full command output.\n",
      "    ERROR: Command errored out with exit status 1:\n",
      "     command: 'C:\\Users\\User\\anaconda3\\python.exe' -c 'import sys, setuptools, tokenize; sys.argv[0] = '\"'\"'C:\\\\Users\\\\User\\\\AppData\\\\Local\\\\Temp\\\\pip-install-bkgpdkkr\\\\auto-sklearn_73a98c10b37c40f78c140a92915399ef\\\\setup.py'\"'\"'; __file__='\"'\"'C:\\\\Users\\\\User\\\\AppData\\\\Local\\\\Temp\\\\pip-install-bkgpdkkr\\\\auto-sklearn_73a98c10b37c40f78c140a92915399ef\\\\setup.py'\"'\"';f=getattr(tokenize, '\"'\"'open'\"'\"', open)(__file__);code=f.read().replace('\"'\"'\\r\\n'\"'\"', '\"'\"'\\n'\"'\"');f.close();exec(compile(code, __file__, '\"'\"'exec'\"'\"'))' egg_info --egg-base 'C:\\Users\\User\\AppData\\Local\\Temp\\pip-pip-egg-info-xp_brvga'\n",
      "         cwd: C:\\Users\\User\\AppData\\Local\\Temp\\pip-install-bkgpdkkr\\auto-sklearn_73a98c10b37c40f78c140a92915399ef\\\n",
      "    Complete output (5 lines):\n",
      "    Traceback (most recent call last):\n",
      "      File \"<string>\", line 1, in <module>\n",
      "      File \"C:\\Users\\User\\AppData\\Local\\Temp\\pip-install-bkgpdkkr\\auto-sklearn_73a98c10b37c40f78c140a92915399ef\\setup.py\", line 9, in <module>\n",
      "        raise ValueError(\n",
      "    ValueError: Detected unsupported operating system: win32. Please check the compability information of auto-sklearn: https://automl.github.io/auto-sklearn/master/installation.html#windows-osx-compatibility\n",
      "    ----------------------------------------\n",
      "WARNING: Discarding https://files.pythonhosted.org/packages/40/5b/545dfb133bbced94e3133c60a5dbd93756a7c8edd942b0acb76c1e9f474d/auto-sklearn-0.11.0.tar.gz#sha256=3779fce3e954f1830a7d3a18df45d72e1ae0788be3ac9b10d69560aa699f41f5 (from https://pypi.org/simple/auto-sklearn/) (requires-python:>=3.6). Command errored out with exit status 1: python setup.py egg_info Check the logs for full command output.\n",
      "    ERROR: Command errored out with exit status 1:\n",
      "     command: 'C:\\Users\\User\\anaconda3\\python.exe' -c 'import sys, setuptools, tokenize; sys.argv[0] = '\"'\"'C:\\\\Users\\\\User\\\\AppData\\\\Local\\\\Temp\\\\pip-install-bkgpdkkr\\\\auto-sklearn_2265f93f44b14d0c9a312f424b4ca083\\\\setup.py'\"'\"'; __file__='\"'\"'C:\\\\Users\\\\User\\\\AppData\\\\Local\\\\Temp\\\\pip-install-bkgpdkkr\\\\auto-sklearn_2265f93f44b14d0c9a312f424b4ca083\\\\setup.py'\"'\"';f=getattr(tokenize, '\"'\"'open'\"'\"', open)(__file__);code=f.read().replace('\"'\"'\\r\\n'\"'\"', '\"'\"'\\n'\"'\"');f.close();exec(compile(code, __file__, '\"'\"'exec'\"'\"'))' egg_info --egg-base 'C:\\Users\\User\\AppData\\Local\\Temp\\pip-pip-egg-info-cp_pr963'\n",
      "         cwd: C:\\Users\\User\\AppData\\Local\\Temp\\pip-install-bkgpdkkr\\auto-sklearn_2265f93f44b14d0c9a312f424b4ca083\\\n",
      "    Complete output (5 lines):\n",
      "    Traceback (most recent call last):\n",
      "      File \"<string>\", line 1, in <module>\n",
      "      File \"C:\\Users\\User\\AppData\\Local\\Temp\\pip-install-bkgpdkkr\\auto-sklearn_2265f93f44b14d0c9a312f424b4ca083\\setup.py\", line 9, in <module>\n",
      "        raise ValueError(\n",
      "    ValueError: Detected unsupported operating system: win32. Please check the compability information of auto-sklearn: https://automl.github.io/auto-sklearn/master/installation.html#windows-osx-compatibility\n",
      "    ----------------------------------------\n",
      "WARNING: Discarding https://files.pythonhosted.org/packages/21/06/7b01155e9d507b173a4ee64a357957e04965c651cc1c3ff9ff3715930713/auto-sklearn-0.10.0.tar.gz#sha256=1f76dcd7da019bd92ea1234bcdbc947c8af7ac7cdf0245e4687f802eaaffd696 (from https://pypi.org/simple/auto-sklearn/) (requires-python:>=3.6). Command errored out with exit status 1: python setup.py egg_info Check the logs for full command output.\n",
      "    ERROR: Command errored out with exit status 1:\n",
      "     command: 'C:\\Users\\User\\anaconda3\\python.exe' -c 'import sys, setuptools, tokenize; sys.argv[0] = '\"'\"'C:\\\\Users\\\\User\\\\AppData\\\\Local\\\\Temp\\\\pip-install-bkgpdkkr\\\\auto-sklearn_67deb83b385f4f6fa57e496851323366\\\\setup.py'\"'\"'; __file__='\"'\"'C:\\\\Users\\\\User\\\\AppData\\\\Local\\\\Temp\\\\pip-install-bkgpdkkr\\\\auto-sklearn_67deb83b385f4f6fa57e496851323366\\\\setup.py'\"'\"';f=getattr(tokenize, '\"'\"'open'\"'\"', open)(__file__);code=f.read().replace('\"'\"'\\r\\n'\"'\"', '\"'\"'\\n'\"'\"');f.close();exec(compile(code, __file__, '\"'\"'exec'\"'\"'))' egg_info --egg-base 'C:\\Users\\User\\AppData\\Local\\Temp\\pip-pip-egg-info-94_iot16'\n",
      "         cwd: C:\\Users\\User\\AppData\\Local\\Temp\\pip-install-bkgpdkkr\\auto-sklearn_67deb83b385f4f6fa57e496851323366\\\n",
      "    Complete output (5 lines):\n",
      "    Traceback (most recent call last):\n",
      "      File \"<string>\", line 1, in <module>\n",
      "      File \"C:\\Users\\User\\AppData\\Local\\Temp\\pip-install-bkgpdkkr\\auto-sklearn_67deb83b385f4f6fa57e496851323366\\setup.py\", line 9, in <module>\n",
      "        raise ValueError(\n",
      "    ValueError: Detected unsupported operating system: win32. Please check the compability information of auto-sklearn: https://automl.github.io/auto-sklearn/master/installation.html#windows-osx-compatibility\n",
      "    ----------------------------------------\n",
      "WARNING: Discarding https://files.pythonhosted.org/packages/0a/b0/b5b80c2e814f073ce4b3402adb9d8378b673d7895af7a455d6ecca0b9cd5/auto-sklearn-0.9.0.tar.gz#sha256=61983d31cf9573fcd9746c5ae09f9e0add28a02463c6f83f89ff9e6ffd1a0129 (from https://pypi.org/simple/auto-sklearn/) (requires-python:>=3.5.*). Command errored out with exit status 1: python setup.py egg_info Check the logs for full command output.\n",
      "    ERROR: Command errored out with exit status 1:\n",
      "     command: 'C:\\Users\\User\\anaconda3\\python.exe' -c 'import sys, setuptools, tokenize; sys.argv[0] = '\"'\"'C:\\\\Users\\\\User\\\\AppData\\\\Local\\\\Temp\\\\pip-install-bkgpdkkr\\\\auto-sklearn_d0d24b8d3274426ba862aed9040a67ec\\\\setup.py'\"'\"'; __file__='\"'\"'C:\\\\Users\\\\User\\\\AppData\\\\Local\\\\Temp\\\\pip-install-bkgpdkkr\\\\auto-sklearn_d0d24b8d3274426ba862aed9040a67ec\\\\setup.py'\"'\"';f=getattr(tokenize, '\"'\"'open'\"'\"', open)(__file__);code=f.read().replace('\"'\"'\\r\\n'\"'\"', '\"'\"'\\n'\"'\"');f.close();exec(compile(code, __file__, '\"'\"'exec'\"'\"'))' egg_info --egg-base 'C:\\Users\\User\\AppData\\Local\\Temp\\pip-pip-egg-info-7j1zbrh2'\n",
      "         cwd: C:\\Users\\User\\AppData\\Local\\Temp\\pip-install-bkgpdkkr\\auto-sklearn_d0d24b8d3274426ba862aed9040a67ec\\\n",
      "    Complete output (5 lines):\n",
      "    Traceback (most recent call last):\n",
      "      File \"<string>\", line 1, in <module>\n",
      "      File \"C:\\Users\\User\\AppData\\Local\\Temp\\pip-install-bkgpdkkr\\auto-sklearn_d0d24b8d3274426ba862aed9040a67ec\\setup.py\", line 9, in <module>\n",
      "        raise ValueError(\n",
      "    ValueError: Detected unsupported operating system: win32. Please check the compability information of auto-sklearn: http://automl.github.io/auto-sklearn/stable/installation.html#windows-osx-compability\n",
      "    ----------------------------------------\n",
      "WARNING: Discarding https://files.pythonhosted.org/packages/3d/dd/590237d488627a7856fc51d67d2bd801601deecfbb500d6daaf66f641462/auto-sklearn-0.8.0.tar.gz#sha256=cf2805a789bc842030f52abd0949feecc9a6bd8befd4e6968b407c5951c4d1df (from https://pypi.org/simple/auto-sklearn/) (requires-python:>=3.5.*). Command errored out with exit status 1: python setup.py egg_info Check the logs for full command output.\n",
      "    ERROR: Command errored out with exit status 1:\n",
      "     command: 'C:\\Users\\User\\anaconda3\\python.exe' -c 'import sys, setuptools, tokenize; sys.argv[0] = '\"'\"'C:\\\\Users\\\\User\\\\AppData\\\\Local\\\\Temp\\\\pip-install-bkgpdkkr\\\\auto-sklearn_59e9522887e64634847233f9c50f72bf\\\\setup.py'\"'\"'; __file__='\"'\"'C:\\\\Users\\\\User\\\\AppData\\\\Local\\\\Temp\\\\pip-install-bkgpdkkr\\\\auto-sklearn_59e9522887e64634847233f9c50f72bf\\\\setup.py'\"'\"';f=getattr(tokenize, '\"'\"'open'\"'\"', open)(__file__);code=f.read().replace('\"'\"'\\r\\n'\"'\"', '\"'\"'\\n'\"'\"');f.close();exec(compile(code, __file__, '\"'\"'exec'\"'\"'))' egg_info --egg-base 'C:\\Users\\User\\AppData\\Local\\Temp\\pip-pip-egg-info-htb2m3cb'\n",
      "         cwd: C:\\Users\\User\\AppData\\Local\\Temp\\pip-install-bkgpdkkr\\auto-sklearn_59e9522887e64634847233f9c50f72bf\\\n",
      "    Complete output (5 lines):\n",
      "    Traceback (most recent call last):\n",
      "      File \"<string>\", line 1, in <module>\n",
      "      File \"C:\\Users\\User\\AppData\\Local\\Temp\\pip-install-bkgpdkkr\\auto-sklearn_59e9522887e64634847233f9c50f72bf\\setup.py\", line 9, in <module>\n",
      "        raise ValueError(\n",
      "    ValueError: Detected unsupported operating system: win32. Please check the compability information of auto-sklearn: http://automl.github.io/auto-sklearn/stable/installation.html#windows-osx-compability\n",
      "    ----------------------------------------\n",
      "WARNING: Discarding https://files.pythonhosted.org/packages/fe/9b/0addcbab3e26b19e399c0907ff0ce63e4a5d5f868a2b958ef318f248cda9/auto-sklearn-0.7.1.tar.gz#sha256=b34a43c4a96d7fd900286dff4c45321d96234deb0ebcb48a28eab13375bb61c5 (from https://pypi.org/simple/auto-sklearn/) (requires-python:>=3.5.*). Command errored out with exit status 1: python setup.py egg_info Check the logs for full command output.\n",
      "    ERROR: Command errored out with exit status 1:\n",
      "     command: 'C:\\Users\\User\\anaconda3\\python.exe' -c 'import sys, setuptools, tokenize; sys.argv[0] = '\"'\"'C:\\\\Users\\\\User\\\\AppData\\\\Local\\\\Temp\\\\pip-install-bkgpdkkr\\\\auto-sklearn_7df0e2e2ea574d139a2d1d7daca1855c\\\\setup.py'\"'\"'; __file__='\"'\"'C:\\\\Users\\\\User\\\\AppData\\\\Local\\\\Temp\\\\pip-install-bkgpdkkr\\\\auto-sklearn_7df0e2e2ea574d139a2d1d7daca1855c\\\\setup.py'\"'\"';f=getattr(tokenize, '\"'\"'open'\"'\"', open)(__file__);code=f.read().replace('\"'\"'\\r\\n'\"'\"', '\"'\"'\\n'\"'\"');f.close();exec(compile(code, __file__, '\"'\"'exec'\"'\"'))' egg_info --egg-base 'C:\\Users\\User\\AppData\\Local\\Temp\\pip-pip-egg-info-7axw3r82'\n",
      "         cwd: C:\\Users\\User\\AppData\\Local\\Temp\\pip-install-bkgpdkkr\\auto-sklearn_7df0e2e2ea574d139a2d1d7daca1855c\\\n",
      "    Complete output (5 lines):\n",
      "    Traceback (most recent call last):\n",
      "      File \"<string>\", line 1, in <module>\n",
      "      File \"C:\\Users\\User\\AppData\\Local\\Temp\\pip-install-bkgpdkkr\\auto-sklearn_7df0e2e2ea574d139a2d1d7daca1855c\\setup.py\", line 11, in <module>\n",
      "        raise ValueError(\n",
      "    ValueError: Detected unsupported operating system: win32. Please check the compability information of auto-sklearn: http://automl.github.io/auto-sklearn/stable/installation.html#windows-osx-compability\n",
      "    ----------------------------------------\n",
      "WARNING: Discarding https://files.pythonhosted.org/packages/16/8e/74a4bd3f80bfcd25eabe8f31494db1a1cad4520f25cc791b04378fd2d117/auto-sklearn-0.7.0.tar.gz#sha256=ec55c4c2c44f9690e95db318292bf8c7bb9706d133bb759542b573674308701a (from https://pypi.org/simple/auto-sklearn/) (requires-python:>=3.5.*). Command errored out with exit status 1: python setup.py egg_info Check the logs for full command output.\n",
      "    ERROR: Command errored out with exit status 1:\n",
      "     command: 'C:\\Users\\User\\anaconda3\\python.exe' -c 'import sys, setuptools, tokenize; sys.argv[0] = '\"'\"'C:\\\\Users\\\\User\\\\AppData\\\\Local\\\\Temp\\\\pip-install-bkgpdkkr\\\\auto-sklearn_b1e9124556d74f449950dcc9c03a675c\\\\setup.py'\"'\"'; __file__='\"'\"'C:\\\\Users\\\\User\\\\AppData\\\\Local\\\\Temp\\\\pip-install-bkgpdkkr\\\\auto-sklearn_b1e9124556d74f449950dcc9c03a675c\\\\setup.py'\"'\"';f=getattr(tokenize, '\"'\"'open'\"'\"', open)(__file__);code=f.read().replace('\"'\"'\\r\\n'\"'\"', '\"'\"'\\n'\"'\"');f.close();exec(compile(code, __file__, '\"'\"'exec'\"'\"'))' egg_info --egg-base 'C:\\Users\\User\\AppData\\Local\\Temp\\pip-pip-egg-info-jeiio5b3'\n",
      "         cwd: C:\\Users\\User\\AppData\\Local\\Temp\\pip-install-bkgpdkkr\\auto-sklearn_b1e9124556d74f449950dcc9c03a675c\\\n",
      "    Complete output (5 lines):\n",
      "    Traceback (most recent call last):\n",
      "      File \"<string>\", line 1, in <module>\n",
      "      File \"C:\\Users\\User\\AppData\\Local\\Temp\\pip-install-bkgpdkkr\\auto-sklearn_b1e9124556d74f449950dcc9c03a675c\\setup.py\", line 11, in <module>\n",
      "        raise ValueError(\n",
      "    ValueError: Detected unsupported operating system: win32. Please check the compability information of auto-sklearn: http://automl.github.io/auto-sklearn/stable/installation.html#windows-osx-compability\n",
      "    ----------------------------------------\n",
      "WARNING: Discarding https://files.pythonhosted.org/packages/ec/33/670d1074e349c3e501458a8a7072e38b57a89eb720b6768972ae7106e608/auto-sklearn-0.6.0.tar.gz#sha256=32f483c423298c51e8d0f840f09a8521a9bc65c2adadc3633fe8c30d0e4a1a90 (from https://pypi.org/simple/auto-sklearn/) (requires-python:>=3.5.*). Command errored out with exit status 1: python setup.py egg_info Check the logs for full command output.\n",
      "    ERROR: Command errored out with exit status 1:\n",
      "     command: 'C:\\Users\\User\\anaconda3\\python.exe' -c 'import sys, setuptools, tokenize; sys.argv[0] = '\"'\"'C:\\\\Users\\\\User\\\\AppData\\\\Local\\\\Temp\\\\pip-install-bkgpdkkr\\\\auto-sklearn_bb6ed5a93d984c8784c84a9a8f32f354\\\\setup.py'\"'\"'; __file__='\"'\"'C:\\\\Users\\\\User\\\\AppData\\\\Local\\\\Temp\\\\pip-install-bkgpdkkr\\\\auto-sklearn_bb6ed5a93d984c8784c84a9a8f32f354\\\\setup.py'\"'\"';f=getattr(tokenize, '\"'\"'open'\"'\"', open)(__file__);code=f.read().replace('\"'\"'\\r\\n'\"'\"', '\"'\"'\\n'\"'\"');f.close();exec(compile(code, __file__, '\"'\"'exec'\"'\"'))' egg_info --egg-base 'C:\\Users\\User\\AppData\\Local\\Temp\\pip-pip-egg-info-o4pya3or'\n",
      "         cwd: C:\\Users\\User\\AppData\\Local\\Temp\\pip-install-bkgpdkkr\\auto-sklearn_bb6ed5a93d984c8784c84a9a8f32f354\\\n",
      "    Complete output (5 lines):\n",
      "    Traceback (most recent call last):\n",
      "      File \"<string>\", line 1, in <module>\n",
      "      File \"C:\\Users\\User\\AppData\\Local\\Temp\\pip-install-bkgpdkkr\\auto-sklearn_bb6ed5a93d984c8784c84a9a8f32f354\\setup.py\", line 11, in <module>\n",
      "        raise ValueError(\n",
      "    ValueError: Detected unsupported operating system: win32. Please check the compability information of auto-sklearn: http://automl.github.io/auto-sklearn/stable/installation.html#windows-osx-compability\n",
      "    ----------------------------------------\n",
      "WARNING: Discarding https://files.pythonhosted.org/packages/1d/99/27caac4f6804be48722158e31c630e0737110581774df0615a36b21239aa/auto-sklearn-0.5.2.tar.gz#sha256=d9bd91b964664b6e8983d6ecfb757e01af5f0113c2909009ff5b11d503b49c38 (from https://pypi.org/simple/auto-sklearn/). Command errored out with exit status 1: python setup.py egg_info Check the logs for full command output.\n",
      "    ERROR: Command errored out with exit status 1:\n",
      "     command: 'C:\\Users\\User\\anaconda3\\python.exe' -c 'import sys, setuptools, tokenize; sys.argv[0] = '\"'\"'C:\\\\Users\\\\User\\\\AppData\\\\Local\\\\Temp\\\\pip-install-bkgpdkkr\\\\auto-sklearn_a99422be151b4393be1900fc3bbee47a\\\\setup.py'\"'\"'; __file__='\"'\"'C:\\\\Users\\\\User\\\\AppData\\\\Local\\\\Temp\\\\pip-install-bkgpdkkr\\\\auto-sklearn_a99422be151b4393be1900fc3bbee47a\\\\setup.py'\"'\"';f=getattr(tokenize, '\"'\"'open'\"'\"', open)(__file__);code=f.read().replace('\"'\"'\\r\\n'\"'\"', '\"'\"'\\n'\"'\"');f.close();exec(compile(code, __file__, '\"'\"'exec'\"'\"'))' egg_info --egg-base 'C:\\Users\\User\\AppData\\Local\\Temp\\pip-pip-egg-info-pvesq9ah'\n",
      "         cwd: C:\\Users\\User\\AppData\\Local\\Temp\\pip-install-bkgpdkkr\\auto-sklearn_a99422be151b4393be1900fc3bbee47a\\\n",
      "    Complete output (5 lines):\n",
      "    Traceback (most recent call last):\n",
      "      File \"<string>\", line 1, in <module>\n",
      "      File \"C:\\Users\\User\\AppData\\Local\\Temp\\pip-install-bkgpdkkr\\auto-sklearn_a99422be151b4393be1900fc3bbee47a\\setup.py\", line 11, in <module>\n",
      "        raise ValueError(\n",
      "    ValueError: Detected unsupported operating system: win32. Please check the compability information of auto-sklearn: http://automl.github.io/auto-sklearn/stable/installation.html#windows-osx-compability\n",
      "    ----------------------------------------\n",
      "WARNING: Discarding https://files.pythonhosted.org/packages/e6/c3/27e6de9f540ffaf05465b304a3820b947cc57421a4ebb44996ef323758b2/auto-sklearn-0.5.1.tar.gz#sha256=3ec4e1d63a0e2bce47bc12b0b226b8985dcdfea2bb808f4f4273e048df72f158 (from https://pypi.org/simple/auto-sklearn/). Command errored out with exit status 1: python setup.py egg_info Check the logs for full command output.\n",
      "    ERROR: Command errored out with exit status 1:\n",
      "     command: 'C:\\Users\\User\\anaconda3\\python.exe' -c 'import sys, setuptools, tokenize; sys.argv[0] = '\"'\"'C:\\\\Users\\\\User\\\\AppData\\\\Local\\\\Temp\\\\pip-install-bkgpdkkr\\\\auto-sklearn_3b8276d8fd8c49d6bd2611a7592b595f\\\\setup.py'\"'\"'; __file__='\"'\"'C:\\\\Users\\\\User\\\\AppData\\\\Local\\\\Temp\\\\pip-install-bkgpdkkr\\\\auto-sklearn_3b8276d8fd8c49d6bd2611a7592b595f\\\\setup.py'\"'\"';f=getattr(tokenize, '\"'\"'open'\"'\"', open)(__file__);code=f.read().replace('\"'\"'\\r\\n'\"'\"', '\"'\"'\\n'\"'\"');f.close();exec(compile(code, __file__, '\"'\"'exec'\"'\"'))' egg_info --egg-base 'C:\\Users\\User\\AppData\\Local\\Temp\\pip-pip-egg-info-bww8iflb'\n",
      "         cwd: C:\\Users\\User\\AppData\\Local\\Temp\\pip-install-bkgpdkkr\\auto-sklearn_3b8276d8fd8c49d6bd2611a7592b595f\\\n",
      "    Complete output (5 lines):\n",
      "    Traceback (most recent call last):\n",
      "      File \"<string>\", line 1, in <module>\n",
      "      File \"C:\\Users\\User\\AppData\\Local\\Temp\\pip-install-bkgpdkkr\\auto-sklearn_3b8276d8fd8c49d6bd2611a7592b595f\\setup.py\", line 11, in <module>\n",
      "        raise ValueError(\n",
      "    ValueError: Detected unsupported operating system: win32. Please check the compability information of auto-sklearn: http://automl.github.io/auto-sklearn/stable/installation.html#windows-osx-compability\n",
      "    ----------------------------------------\n",
      "WARNING: Discarding https://files.pythonhosted.org/packages/82/91/9c612eff857b740c1ccc55e7b743c0e6156b18412254e6cef8fad1f10382/auto-sklearn-0.5.0.tar.gz#sha256=ea842fc0d6623b981d3816f9df615d11dabed94d201428ef994a7de6e5d7cdf3 (from https://pypi.org/simple/auto-sklearn/). Command errored out with exit status 1: python setup.py egg_info Check the logs for full command output.\n",
      "    ERROR: Command errored out with exit status 1:\n",
      "     command: 'C:\\Users\\User\\anaconda3\\python.exe' -c 'import sys, setuptools, tokenize; sys.argv[0] = '\"'\"'C:\\\\Users\\\\User\\\\AppData\\\\Local\\\\Temp\\\\pip-install-bkgpdkkr\\\\auto-sklearn_e112cc2fb2834880b4a9dba54eaf6028\\\\setup.py'\"'\"'; __file__='\"'\"'C:\\\\Users\\\\User\\\\AppData\\\\Local\\\\Temp\\\\pip-install-bkgpdkkr\\\\auto-sklearn_e112cc2fb2834880b4a9dba54eaf6028\\\\setup.py'\"'\"';f=getattr(tokenize, '\"'\"'open'\"'\"', open)(__file__);code=f.read().replace('\"'\"'\\r\\n'\"'\"', '\"'\"'\\n'\"'\"');f.close();exec(compile(code, __file__, '\"'\"'exec'\"'\"'))' egg_info --egg-base 'C:\\Users\\User\\AppData\\Local\\Temp\\pip-pip-egg-info-zaa3bem8'\n",
      "         cwd: C:\\Users\\User\\AppData\\Local\\Temp\\pip-install-bkgpdkkr\\auto-sklearn_e112cc2fb2834880b4a9dba54eaf6028\\\n",
      "    Complete output (5 lines):\n",
      "    Traceback (most recent call last):\n",
      "      File \"<string>\", line 1, in <module>\n",
      "      File \"C:\\Users\\User\\AppData\\Local\\Temp\\pip-install-bkgpdkkr\\auto-sklearn_e112cc2fb2834880b4a9dba54eaf6028\\setup.py\", line 12, in <module>\n",
      "        raise ValueError(\n",
      "    ValueError: Detected unsupported operating system: win32. Please check the compability information of auto-sklearn: http://automl.github.io/auto-sklearn/stable/installation.html#windows-osx-compability\n",
      "    ----------------------------------------\n",
      "WARNING: Discarding https://files.pythonhosted.org/packages/46/20/587724f41169bb787952eedaa70e021a684feb548a98a3f229ca3bf6f5e9/auto-sklearn-0.4.2.tar.gz#sha256=303bdf7d1fccfdb899a8856bc830ac1d2472251242611776d9718718aa4200e8 (from https://pypi.org/simple/auto-sklearn/). Command errored out with exit status 1: python setup.py egg_info Check the logs for full command output.\n",
      "    ERROR: Command errored out with exit status 1:\n",
      "     command: 'C:\\Users\\User\\anaconda3\\python.exe' -c 'import sys, setuptools, tokenize; sys.argv[0] = '\"'\"'C:\\\\Users\\\\User\\\\AppData\\\\Local\\\\Temp\\\\pip-install-bkgpdkkr\\\\auto-sklearn_6258cdda6f864764a3e495a7f93e7aac\\\\setup.py'\"'\"'; __file__='\"'\"'C:\\\\Users\\\\User\\\\AppData\\\\Local\\\\Temp\\\\pip-install-bkgpdkkr\\\\auto-sklearn_6258cdda6f864764a3e495a7f93e7aac\\\\setup.py'\"'\"';f=getattr(tokenize, '\"'\"'open'\"'\"', open)(__file__);code=f.read().replace('\"'\"'\\r\\n'\"'\"', '\"'\"'\\n'\"'\"');f.close();exec(compile(code, __file__, '\"'\"'exec'\"'\"'))' egg_info --egg-base 'C:\\Users\\User\\AppData\\Local\\Temp\\pip-pip-egg-info-eki5frjj'\n",
      "         cwd: C:\\Users\\User\\AppData\\Local\\Temp\\pip-install-bkgpdkkr\\auto-sklearn_6258cdda6f864764a3e495a7f93e7aac\\\n",
      "    Complete output (5 lines):\n",
      "    Traceback (most recent call last):\n",
      "      File \"<string>\", line 1, in <module>\n",
      "      File \"C:\\Users\\User\\AppData\\Local\\Temp\\pip-install-bkgpdkkr\\auto-sklearn_6258cdda6f864764a3e495a7f93e7aac\\setup.py\", line 12, in <module>\n",
      "        raise ValueError(\n",
      "    ValueError: Detected unsupported operating system: win32. Please check the compability information of auto-sklearn: http://automl.github.io/auto-sklearn/stable/installation.html#windows-osx-compability\n",
      "    ----------------------------------------\n",
      "WARNING: Discarding https://files.pythonhosted.org/packages/92/85/3773dc4908c7a24fbceb425dd103d1879de8e92a1fa644fa45b3c439029b/auto-sklearn-0.4.1.tar.gz#sha256=9b67e58a8f81571ebf060975c5c636f57a106ffcf0d644a4d03167bcc3f9ade5 (from https://pypi.org/simple/auto-sklearn/). Command errored out with exit status 1: python setup.py egg_info Check the logs for full command output.\n",
      "    ERROR: Command errored out with exit status 1:\n",
      "     command: 'C:\\Users\\User\\anaconda3\\python.exe' -c 'import sys, setuptools, tokenize; sys.argv[0] = '\"'\"'C:\\\\Users\\\\User\\\\AppData\\\\Local\\\\Temp\\\\pip-install-bkgpdkkr\\\\auto-sklearn_234d5a26b587407eadf8bfb476217136\\\\setup.py'\"'\"'; __file__='\"'\"'C:\\\\Users\\\\User\\\\AppData\\\\Local\\\\Temp\\\\pip-install-bkgpdkkr\\\\auto-sklearn_234d5a26b587407eadf8bfb476217136\\\\setup.py'\"'\"';f=getattr(tokenize, '\"'\"'open'\"'\"', open)(__file__);code=f.read().replace('\"'\"'\\r\\n'\"'\"', '\"'\"'\\n'\"'\"');f.close();exec(compile(code, __file__, '\"'\"'exec'\"'\"'))' egg_info --egg-base 'C:\\Users\\User\\AppData\\Local\\Temp\\pip-pip-egg-info-cvab8kqd'\n",
      "         cwd: C:\\Users\\User\\AppData\\Local\\Temp\\pip-install-bkgpdkkr\\auto-sklearn_234d5a26b587407eadf8bfb476217136\\\n",
      "    Complete output (5 lines):\n",
      "    Traceback (most recent call last):\n",
      "      File \"<string>\", line 1, in <module>\n",
      "      File \"C:\\Users\\User\\AppData\\Local\\Temp\\pip-install-bkgpdkkr\\auto-sklearn_234d5a26b587407eadf8bfb476217136\\setup.py\", line 12, in <module>\n",
      "        raise ValueError(\n",
      "    ValueError: Detected unsupported operating system: win32. Please check the compability information of auto-sklearn: http://automl.github.io/auto-sklearn/stable/installation.html#windows-osx-compability\n",
      "    ----------------------------------------\n",
      "WARNING: Discarding https://files.pythonhosted.org/packages/0a/a6/cbbff9205cb7dc71d67a6c05ecdd5aa05856bc1638360238d25a4a01d670/auto-sklearn-0.4.0.tar.gz#sha256=895bbdfabe5d7017b86595e81c2286b5a2de8095402652a5f4e9734dc226045f (from https://pypi.org/simple/auto-sklearn/). Command errored out with exit status 1: python setup.py egg_info Check the logs for full command output.\n",
      "  ERROR: Command errored out with exit status 1:\n",
      "   command: 'C:\\Users\\User\\anaconda3\\python.exe' -u -c 'import sys, setuptools, tokenize; sys.argv[0] = '\"'\"'C:\\\\Users\\\\User\\\\AppData\\\\Local\\\\Temp\\\\pip-install-bkgpdkkr\\\\auto-sklearn_b9f232857dc1419a8832986d5ddfa959\\\\setup.py'\"'\"'; __file__='\"'\"'C:\\\\Users\\\\User\\\\AppData\\\\Local\\\\Temp\\\\pip-install-bkgpdkkr\\\\auto-sklearn_b9f232857dc1419a8832986d5ddfa959\\\\setup.py'\"'\"';f=getattr(tokenize, '\"'\"'open'\"'\"', open)(__file__);code=f.read().replace('\"'\"'\\r\\n'\"'\"', '\"'\"'\\n'\"'\"');f.close();exec(compile(code, __file__, '\"'\"'exec'\"'\"'))' bdist_wheel -d 'C:\\Users\\User\\AppData\\Local\\Temp\\pip-wheel-yi3efdol'\n",
      "       cwd: C:\\Users\\User\\AppData\\Local\\Temp\\pip-install-bkgpdkkr\\auto-sklearn_b9f232857dc1419a8832986d5ddfa959\\\n",
      "  Complete output (768 lines):\n",
      "  running bdist_wheel\n",
      "  running build\n",
      "  running build_py\n",
      "  creating build\n",
      "  creating build\\lib.win-amd64-3.8\n",
      "  creating build\\lib.win-amd64-3.8\\autosklearn\n",
      "  copying autosklearn\\automl.py -> build\\lib.win-amd64-3.8\\autosklearn\n",
      "  copying autosklearn\\classification.py -> build\\lib.win-amd64-3.8\\autosklearn\n",
      "  copying autosklearn\\constants.py -> build\\lib.win-amd64-3.8\\autosklearn\n",
      "  copying autosklearn\\ensemble_builder.py -> build\\lib.win-amd64-3.8\\autosklearn\n",
      "  copying autosklearn\\estimators.py -> build\\lib.win-amd64-3.8\\autosklearn\n",
      "  copying autosklearn\\regression.py -> build\\lib.win-amd64-3.8\\autosklearn\n",
      "  copying autosklearn\\smbo.py -> build\\lib.win-amd64-3.8\\autosklearn\n",
      "  copying autosklearn\\__init__.py -> build\\lib.win-amd64-3.8\\autosklearn\n",
      "  copying autosklearn\\__version__.py -> build\\lib.win-amd64-3.8\\autosklearn\n",
      "  creating build\\lib.win-amd64-3.8\\autosklearn\\data\n",
      "  copying autosklearn\\data\\abstract_data_manager.py -> build\\lib.win-amd64-3.8\\autosklearn\\data\n",
      "  copying autosklearn\\data\\competition_data_manager.py -> build\\lib.win-amd64-3.8\\autosklearn\\data\n",
      "  copying autosklearn\\data\\xy_data_manager.py -> build\\lib.win-amd64-3.8\\autosklearn\\data\n",
      "  copying autosklearn\\data\\__init__.py -> build\\lib.win-amd64-3.8\\autosklearn\\data\n",
      "  creating build\\lib.win-amd64-3.8\\autosklearn\\ensembles\n",
      "  copying autosklearn\\ensembles\\abstract_ensemble.py -> build\\lib.win-amd64-3.8\\autosklearn\\ensembles\n",
      "  copying autosklearn\\ensembles\\ensemble_selection.py -> build\\lib.win-amd64-3.8\\autosklearn\\ensembles\n",
      "  copying autosklearn\\ensembles\\__init__.py -> build\\lib.win-amd64-3.8\\autosklearn\\ensembles\n",
      "  creating build\\lib.win-amd64-3.8\\autosklearn\\evaluation\n",
      "  copying autosklearn\\evaluation\\abstract_evaluator.py -> build\\lib.win-amd64-3.8\\autosklearn\\evaluation\n",
      "  copying autosklearn\\evaluation\\test_evaluator.py -> build\\lib.win-amd64-3.8\\autosklearn\\evaluation\n",
      "  copying autosklearn\\evaluation\\train_evaluator.py -> build\\lib.win-amd64-3.8\\autosklearn\\evaluation\n",
      "  copying autosklearn\\evaluation\\util.py -> build\\lib.win-amd64-3.8\\autosklearn\\evaluation\n",
      "  copying autosklearn\\evaluation\\__init__.py -> build\\lib.win-amd64-3.8\\autosklearn\\evaluation\n",
      "  creating build\\lib.win-amd64-3.8\\autosklearn\\metalearning\n",
      "  copying autosklearn\\metalearning\\mismbo.py -> build\\lib.win-amd64-3.8\\autosklearn\\metalearning\n",
      "  copying autosklearn\\metalearning\\__init__.py -> build\\lib.win-amd64-3.8\\autosklearn\\metalearning\n",
      "  creating build\\lib.win-amd64-3.8\\autosklearn\\metrics\n",
      "  copying autosklearn\\metrics\\classification_metrics.py -> build\\lib.win-amd64-3.8\\autosklearn\\metrics\n",
      "  copying autosklearn\\metrics\\util.py -> build\\lib.win-amd64-3.8\\autosklearn\\metrics\n",
      "  copying autosklearn\\metrics\\__init__.py -> build\\lib.win-amd64-3.8\\autosklearn\\metrics\n",
      "  creating build\\lib.win-amd64-3.8\\autosklearn\\pipeline\n",
      "  copying autosklearn\\pipeline\\base.py -> build\\lib.win-amd64-3.8\\autosklearn\\pipeline\n",
      "  copying autosklearn\\pipeline\\classification.py -> build\\lib.win-amd64-3.8\\autosklearn\\pipeline\n",
      "  copying autosklearn\\pipeline\\constants.py -> build\\lib.win-amd64-3.8\\autosklearn\\pipeline\n",
      "  copying autosklearn\\pipeline\\create_searchspace_util.py -> build\\lib.win-amd64-3.8\\autosklearn\\pipeline\n",
      "  copying autosklearn\\pipeline\\regression.py -> build\\lib.win-amd64-3.8\\autosklearn\\pipeline\n",
      "  copying autosklearn\\pipeline\\util.py -> build\\lib.win-amd64-3.8\\autosklearn\\pipeline\n",
      "  copying autosklearn\\pipeline\\__init__.py -> build\\lib.win-amd64-3.8\\autosklearn\\pipeline\n",
      "  creating build\\lib.win-amd64-3.8\\autosklearn\\util\n",
      "  copying autosklearn\\util\\backend.py -> build\\lib.win-amd64-3.8\\autosklearn\\util\n",
      "  copying autosklearn\\util\\common.py -> build\\lib.win-amd64-3.8\\autosklearn\\util\n",
      "  copying autosklearn\\util\\data.py -> build\\lib.win-amd64-3.8\\autosklearn\\util\n",
      "  copying autosklearn\\util\\dependencies.py -> build\\lib.win-amd64-3.8\\autosklearn\\util\n",
      "  copying autosklearn\\util\\hash.py -> build\\lib.win-amd64-3.8\\autosklearn\\util\n",
      "  copying autosklearn\\util\\logging_.py -> build\\lib.win-amd64-3.8\\autosklearn\\util\n",
      "  copying autosklearn\\util\\pipeline.py -> build\\lib.win-amd64-3.8\\autosklearn\\util\n",
      "  copying autosklearn\\util\\stopwatch.py -> build\\lib.win-amd64-3.8\\autosklearn\\util\n",
      "  copying autosklearn\\util\\__init__.py -> build\\lib.win-amd64-3.8\\autosklearn\\util\n",
      "  creating build\\lib.win-amd64-3.8\\autosklearn\\metalearning\\input\n",
      "  copying autosklearn\\metalearning\\input\\aslib_simple.py -> build\\lib.win-amd64-3.8\\autosklearn\\metalearning\\input\n",
      "  copying autosklearn\\metalearning\\input\\__init__.py -> build\\lib.win-amd64-3.8\\autosklearn\\metalearning\\input\n",
      "  creating build\\lib.win-amd64-3.8\\autosklearn\\metalearning\\metafeatures\n",
      "  copying autosklearn\\metalearning\\metafeatures\\metafeature.py -> build\\lib.win-amd64-3.8\\autosklearn\\metalearning\\metafeatures\n",
      "  copying autosklearn\\metalearning\\metafeatures\\metafeatures.py -> build\\lib.win-amd64-3.8\\autosklearn\\metalearning\\metafeatures\n",
      "  copying autosklearn\\metalearning\\metafeatures\\plot_metafeatures.py -> build\\lib.win-amd64-3.8\\autosklearn\\metalearning\\metafeatures\n",
      "  copying autosklearn\\metalearning\\metafeatures\\__init__.py -> build\\lib.win-amd64-3.8\\autosklearn\\metalearning\\metafeatures\n",
      "  creating build\\lib.win-amd64-3.8\\autosklearn\\metalearning\\metalearning\n",
      "  copying autosklearn\\metalearning\\metalearning\\create_datasets.py -> build\\lib.win-amd64-3.8\\autosklearn\\metalearning\\metalearning\n",
      "  copying autosklearn\\metalearning\\metalearning\\meta_base.py -> build\\lib.win-amd64-3.8\\autosklearn\\metalearning\\metalearning\n",
      "  copying autosklearn\\metalearning\\metalearning\\__init__.py -> build\\lib.win-amd64-3.8\\autosklearn\\metalearning\\metalearning\n",
      "  creating build\\lib.win-amd64-3.8\\autosklearn\\metalearning\\optimizers\n",
      "  copying autosklearn\\metalearning\\optimizers\\optimizer_base.py -> build\\lib.win-amd64-3.8\\autosklearn\\metalearning\\optimizers\n",
      "  copying autosklearn\\metalearning\\optimizers\\__init__.py -> build\\lib.win-amd64-3.8\\autosklearn\\metalearning\\optimizers\n",
      "  creating build\\lib.win-amd64-3.8\\autosklearn\\metalearning\\utils\n",
      "  copying autosklearn\\metalearning\\utils\\plot_utils.py -> build\\lib.win-amd64-3.8\\autosklearn\\metalearning\\utils\n",
      "  copying autosklearn\\metalearning\\utils\\__init__.py -> build\\lib.win-amd64-3.8\\autosklearn\\metalearning\\utils\n",
      "  creating build\\lib.win-amd64-3.8\\autosklearn\\metalearning\\metalearning\\clustering\n",
      "  copying autosklearn\\metalearning\\metalearning\\clustering\\cluster_instances.py -> build\\lib.win-amd64-3.8\\autosklearn\\metalearning\\metalearning\\clustering\n",
      "  copying autosklearn\\metalearning\\metalearning\\clustering\\gmeans.py -> build\\lib.win-amd64-3.8\\autosklearn\\metalearning\\metalearning\\clustering\n",
      "  copying autosklearn\\metalearning\\metalearning\\clustering\\__init__.py -> build\\lib.win-amd64-3.8\\autosklearn\\metalearning\\metalearning\\clustering\n",
      "  creating build\\lib.win-amd64-3.8\\autosklearn\\metalearning\\metalearning\\kNearestDatasets\n",
      "  copying autosklearn\\metalearning\\metalearning\\kNearestDatasets\\kND.py -> build\\lib.win-amd64-3.8\\autosklearn\\metalearning\\metalearning\\kNearestDatasets\n",
      "  copying autosklearn\\metalearning\\metalearning\\kNearestDatasets\\kNDEvaluateSurrogate.py -> build\\lib.win-amd64-3.8\\autosklearn\\metalearning\\metalearning\\kNearestDatasets\n",
      "  copying autosklearn\\metalearning\\metalearning\\kNearestDatasets\\kNDFeatureSelection.py -> build\\lib.win-amd64-3.8\\autosklearn\\metalearning\\metalearning\\kNearestDatasets\n",
      "  copying autosklearn\\metalearning\\metalearning\\kNearestDatasets\\__init__.py -> build\\lib.win-amd64-3.8\\autosklearn\\metalearning\\metalearning\\kNearestDatasets\n",
      "  creating build\\lib.win-amd64-3.8\\autosklearn\\metalearning\\metalearning\\metrics\n",
      "  copying autosklearn\\metalearning\\metalearning\\metrics\\misc.py -> build\\lib.win-amd64-3.8\\autosklearn\\metalearning\\metalearning\\metrics\n",
      "  copying autosklearn\\metalearning\\metalearning\\metrics\\result_correlation.py -> build\\lib.win-amd64-3.8\\autosklearn\\metalearning\\metalearning\\metrics\n",
      "  copying autosklearn\\metalearning\\metalearning\\metrics\\__init__.py -> build\\lib.win-amd64-3.8\\autosklearn\\metalearning\\metalearning\\metrics\n",
      "  creating build\\lib.win-amd64-3.8\\autosklearn\\metalearning\\optimizers\\metalearn_optimizer\n",
      "  copying autosklearn\\metalearning\\optimizers\\metalearn_optimizer\\metalearner.py -> build\\lib.win-amd64-3.8\\autosklearn\\metalearning\\optimizers\\metalearn_optimizer\n",
      "  copying autosklearn\\metalearning\\optimizers\\metalearn_optimizer\\metalearn_optimizer.py -> build\\lib.win-amd64-3.8\\autosklearn\\metalearning\\optimizers\\metalearn_optimizer\n",
      "  copying autosklearn\\metalearning\\optimizers\\metalearn_optimizer\\metalearn_optimizer_parser.py -> build\\lib.win-amd64-3.8\\autosklearn\\metalearning\\optimizers\\metalearn_optimizer\n",
      "  copying autosklearn\\metalearning\\optimizers\\metalearn_optimizer\\__init__.py -> build\\lib.win-amd64-3.8\\autosklearn\\metalearning\\optimizers\\metalearn_optimizer\n",
      "  creating build\\lib.win-amd64-3.8\\autosklearn\\pipeline\\components\n",
      "  copying autosklearn\\pipeline\\components\\base.py -> build\\lib.win-amd64-3.8\\autosklearn\\pipeline\\components\n",
      "  copying autosklearn\\pipeline\\components\\__init__.py -> build\\lib.win-amd64-3.8\\autosklearn\\pipeline\\components\n",
      "  creating build\\lib.win-amd64-3.8\\autosklearn\\pipeline\\implementations\n",
      "  copying autosklearn\\pipeline\\implementations\\Imputation.py -> build\\lib.win-amd64-3.8\\autosklearn\\pipeline\\implementations\n",
      "  copying autosklearn\\pipeline\\implementations\\Normalizer.py -> build\\lib.win-amd64-3.8\\autosklearn\\pipeline\\implementations\n",
      "  copying autosklearn\\pipeline\\implementations\\OneHotEncoder.py -> build\\lib.win-amd64-3.8\\autosklearn\\pipeline\\implementations\n",
      "  copying autosklearn\\pipeline\\implementations\\util.py -> build\\lib.win-amd64-3.8\\autosklearn\\pipeline\\implementations\n",
      "  copying autosklearn\\pipeline\\implementations\\__init__.py -> build\\lib.win-amd64-3.8\\autosklearn\\pipeline\\implementations\n",
      "  creating build\\lib.win-amd64-3.8\\autosklearn\\pipeline\\components\\classification\n",
      "  copying autosklearn\\pipeline\\components\\classification\\adaboost.py -> build\\lib.win-amd64-3.8\\autosklearn\\pipeline\\components\\classification\n",
      "  copying autosklearn\\pipeline\\components\\classification\\bernoulli_nb.py -> build\\lib.win-amd64-3.8\\autosklearn\\pipeline\\components\\classification\n",
      "  copying autosklearn\\pipeline\\components\\classification\\decision_tree.py -> build\\lib.win-amd64-3.8\\autosklearn\\pipeline\\components\\classification\n",
      "  copying autosklearn\\pipeline\\components\\classification\\extra_trees.py -> build\\lib.win-amd64-3.8\\autosklearn\\pipeline\\components\\classification\n",
      "  copying autosklearn\\pipeline\\components\\classification\\gaussian_nb.py -> build\\lib.win-amd64-3.8\\autosklearn\\pipeline\\components\\classification\n",
      "  copying autosklearn\\pipeline\\components\\classification\\gradient_boosting.py -> build\\lib.win-amd64-3.8\\autosklearn\\pipeline\\components\\classification\n",
      "  copying autosklearn\\pipeline\\components\\classification\\k_nearest_neighbors.py -> build\\lib.win-amd64-3.8\\autosklearn\\pipeline\\components\\classification\n",
      "  copying autosklearn\\pipeline\\components\\classification\\lda.py -> build\\lib.win-amd64-3.8\\autosklearn\\pipeline\\components\\classification\n",
      "  copying autosklearn\\pipeline\\components\\classification\\liblinear_svc.py -> build\\lib.win-amd64-3.8\\autosklearn\\pipeline\\components\\classification\n",
      "  copying autosklearn\\pipeline\\components\\classification\\libsvm_svc.py -> build\\lib.win-amd64-3.8\\autosklearn\\pipeline\\components\\classification\n",
      "  copying autosklearn\\pipeline\\components\\classification\\multinomial_nb.py -> build\\lib.win-amd64-3.8\\autosklearn\\pipeline\\components\\classification\n",
      "  copying autosklearn\\pipeline\\components\\classification\\passive_aggressive.py -> build\\lib.win-amd64-3.8\\autosklearn\\pipeline\\components\\classification\n",
      "  copying autosklearn\\pipeline\\components\\classification\\qda.py -> build\\lib.win-amd64-3.8\\autosklearn\\pipeline\\components\\classification\n",
      "  copying autosklearn\\pipeline\\components\\classification\\random_forest.py -> build\\lib.win-amd64-3.8\\autosklearn\\pipeline\\components\\classification\n",
      "  copying autosklearn\\pipeline\\components\\classification\\sgd.py -> build\\lib.win-amd64-3.8\\autosklearn\\pipeline\\components\\classification\n",
      "  copying autosklearn\\pipeline\\components\\classification\\xgradient_boosting.py -> build\\lib.win-amd64-3.8\\autosklearn\\pipeline\\components\\classification\n",
      "  copying autosklearn\\pipeline\\components\\classification\\__init__.py -> build\\lib.win-amd64-3.8\\autosklearn\\pipeline\\components\\classification\n",
      "  creating build\\lib.win-amd64-3.8\\autosklearn\\pipeline\\components\\data_preprocessing\n",
      "  copying autosklearn\\pipeline\\components\\data_preprocessing\\__init__.py -> build\\lib.win-amd64-3.8\\autosklearn\\pipeline\\components\\data_preprocessing\n",
      "  creating build\\lib.win-amd64-3.8\\autosklearn\\pipeline\\components\\feature_preprocessing\n",
      "  copying autosklearn\\pipeline\\components\\feature_preprocessing\\densifier.py -> build\\lib.win-amd64-3.8\\autosklearn\\pipeline\\components\\feature_preprocessing\n",
      "  copying autosklearn\\pipeline\\components\\feature_preprocessing\\extra_trees_preproc_for_classification.py -> build\\lib.win-amd64-3.8\\autosklearn\\pipeline\\components\\feature_preprocessing\n",
      "  copying autosklearn\\pipeline\\components\\feature_preprocessing\\extra_trees_preproc_for_regression.py -> build\\lib.win-amd64-3.8\\autosklearn\\pipeline\\components\\feature_preprocessing\n",
      "  copying autosklearn\\pipeline\\components\\feature_preprocessing\\fast_ica.py -> build\\lib.win-amd64-3.8\\autosklearn\\pipeline\\components\\feature_preprocessing\n",
      "  copying autosklearn\\pipeline\\components\\feature_preprocessing\\feature_agglomeration.py -> build\\lib.win-amd64-3.8\\autosklearn\\pipeline\\components\\feature_preprocessing\n",
      "  copying autosklearn\\pipeline\\components\\feature_preprocessing\\kernel_pca.py -> build\\lib.win-amd64-3.8\\autosklearn\\pipeline\\components\\feature_preprocessing\n",
      "  copying autosklearn\\pipeline\\components\\feature_preprocessing\\kitchen_sinks.py -> build\\lib.win-amd64-3.8\\autosklearn\\pipeline\\components\\feature_preprocessing\n",
      "  copying autosklearn\\pipeline\\components\\feature_preprocessing\\liblinear_svc_preprocessor.py -> build\\lib.win-amd64-3.8\\autosklearn\\pipeline\\components\\feature_preprocessing\n",
      "  copying autosklearn\\pipeline\\components\\feature_preprocessing\\no_preprocessing.py -> build\\lib.win-amd64-3.8\\autosklearn\\pipeline\\components\\feature_preprocessing\n",
      "  copying autosklearn\\pipeline\\components\\feature_preprocessing\\nystroem_sampler.py -> build\\lib.win-amd64-3.8\\autosklearn\\pipeline\\components\\feature_preprocessing\n",
      "  copying autosklearn\\pipeline\\components\\feature_preprocessing\\pca.py -> build\\lib.win-amd64-3.8\\autosklearn\\pipeline\\components\\feature_preprocessing\n",
      "  copying autosklearn\\pipeline\\components\\feature_preprocessing\\polynomial.py -> build\\lib.win-amd64-3.8\\autosklearn\\pipeline\\components\\feature_preprocessing\n",
      "  copying autosklearn\\pipeline\\components\\feature_preprocessing\\random_trees_embedding.py -> build\\lib.win-amd64-3.8\\autosklearn\\pipeline\\components\\feature_preprocessing\n",
      "  copying autosklearn\\pipeline\\components\\feature_preprocessing\\select_percentile.py -> build\\lib.win-amd64-3.8\\autosklearn\\pipeline\\components\\feature_preprocessing\n",
      "  copying autosklearn\\pipeline\\components\\feature_preprocessing\\select_percentile_classification.py -> build\\lib.win-amd64-3.8\\autosklearn\\pipeline\\components\\feature_preprocessing\n"
     ]
    },
    {
     "name": "stderr",
     "output_type": "stream",
     "text": [
      "  copying autosklearn\\pipeline\\components\\feature_preprocessing\\select_percentile_regression.py -> build\\lib.win-amd64-3.8\\autosklearn\\pipeline\\components\\feature_preprocessing\n",
      "  copying autosklearn\\pipeline\\components\\feature_preprocessing\\select_rates.py -> build\\lib.win-amd64-3.8\\autosklearn\\pipeline\\components\\feature_preprocessing\n",
      "  copying autosklearn\\pipeline\\components\\feature_preprocessing\\truncatedSVD.py -> build\\lib.win-amd64-3.8\\autosklearn\\pipeline\\components\\feature_preprocessing\n",
      "  copying autosklearn\\pipeline\\components\\feature_preprocessing\\__init__.py -> build\\lib.win-amd64-3.8\\autosklearn\\pipeline\\components\\feature_preprocessing\n",
      "  creating build\\lib.win-amd64-3.8\\autosklearn\\pipeline\\components\\regression\n",
      "  copying autosklearn\\pipeline\\components\\regression\\adaboost.py -> build\\lib.win-amd64-3.8\\autosklearn\\pipeline\\components\\regression\n",
      "  copying autosklearn\\pipeline\\components\\regression\\ard_regression.py -> build\\lib.win-amd64-3.8\\autosklearn\\pipeline\\components\\regression\n",
      "  copying autosklearn\\pipeline\\components\\regression\\decision_tree.py -> build\\lib.win-amd64-3.8\\autosklearn\\pipeline\\components\\regression\n",
      "  copying autosklearn\\pipeline\\components\\regression\\extra_trees.py -> build\\lib.win-amd64-3.8\\autosklearn\\pipeline\\components\\regression\n",
      "  copying autosklearn\\pipeline\\components\\regression\\gaussian_process.py -> build\\lib.win-amd64-3.8\\autosklearn\\pipeline\\components\\regression\n",
      "  copying autosklearn\\pipeline\\components\\regression\\gradient_boosting.py -> build\\lib.win-amd64-3.8\\autosklearn\\pipeline\\components\\regression\n",
      "  copying autosklearn\\pipeline\\components\\regression\\k_nearest_neighbors.py -> build\\lib.win-amd64-3.8\\autosklearn\\pipeline\\components\\regression\n",
      "  copying autosklearn\\pipeline\\components\\regression\\liblinear_svr.py -> build\\lib.win-amd64-3.8\\autosklearn\\pipeline\\components\\regression\n",
      "  copying autosklearn\\pipeline\\components\\regression\\libsvm_svr.py -> build\\lib.win-amd64-3.8\\autosklearn\\pipeline\\components\\regression\n",
      "  copying autosklearn\\pipeline\\components\\regression\\random_forest.py -> build\\lib.win-amd64-3.8\\autosklearn\\pipeline\\components\\regression\n",
      "  copying autosklearn\\pipeline\\components\\regression\\ridge_regression.py -> build\\lib.win-amd64-3.8\\autosklearn\\pipeline\\components\\regression\n",
      "  copying autosklearn\\pipeline\\components\\regression\\sgd.py -> build\\lib.win-amd64-3.8\\autosklearn\\pipeline\\components\\regression\n",
      "  copying autosklearn\\pipeline\\components\\regression\\xgradient_boosting.py -> build\\lib.win-amd64-3.8\\autosklearn\\pipeline\\components\\regression\n",
      "  copying autosklearn\\pipeline\\components\\regression\\__init__.py -> build\\lib.win-amd64-3.8\\autosklearn\\pipeline\\components\\regression\n",
      "  creating build\\lib.win-amd64-3.8\\autosklearn\\pipeline\\components\\data_preprocessing\\balancing\n",
      "  copying autosklearn\\pipeline\\components\\data_preprocessing\\balancing\\balancing.py -> build\\lib.win-amd64-3.8\\autosklearn\\pipeline\\components\\data_preprocessing\\balancing\n",
      "  copying autosklearn\\pipeline\\components\\data_preprocessing\\balancing\\__init__.py -> build\\lib.win-amd64-3.8\\autosklearn\\pipeline\\components\\data_preprocessing\\balancing\n",
      "  creating build\\lib.win-amd64-3.8\\autosklearn\\pipeline\\components\\data_preprocessing\\imputation\n",
      "  copying autosklearn\\pipeline\\components\\data_preprocessing\\imputation\\imputation.py -> build\\lib.win-amd64-3.8\\autosklearn\\pipeline\\components\\data_preprocessing\\imputation\n",
      "  copying autosklearn\\pipeline\\components\\data_preprocessing\\imputation\\__init__.py -> build\\lib.win-amd64-3.8\\autosklearn\\pipeline\\components\\data_preprocessing\\imputation\n",
      "  creating build\\lib.win-amd64-3.8\\autosklearn\\pipeline\\components\\data_preprocessing\\one_hot_encoding\n",
      "  copying autosklearn\\pipeline\\components\\data_preprocessing\\one_hot_encoding\\no_encoding.py -> build\\lib.win-amd64-3.8\\autosklearn\\pipeline\\components\\data_preprocessing\\one_hot_encoding\n",
      "  copying autosklearn\\pipeline\\components\\data_preprocessing\\one_hot_encoding\\one_hot_encoding.py -> build\\lib.win-amd64-3.8\\autosklearn\\pipeline\\components\\data_preprocessing\\one_hot_encoding\n",
      "  copying autosklearn\\pipeline\\components\\data_preprocessing\\one_hot_encoding\\__init__.py -> build\\lib.win-amd64-3.8\\autosklearn\\pipeline\\components\\data_preprocessing\\one_hot_encoding\n",
      "  creating build\\lib.win-amd64-3.8\\autosklearn\\pipeline\\components\\data_preprocessing\\rescaling\n",
      "  copying autosklearn\\pipeline\\components\\data_preprocessing\\rescaling\\abstract_rescaling.py -> build\\lib.win-amd64-3.8\\autosklearn\\pipeline\\components\\data_preprocessing\\rescaling\n",
      "  copying autosklearn\\pipeline\\components\\data_preprocessing\\rescaling\\minmax.py -> build\\lib.win-amd64-3.8\\autosklearn\\pipeline\\components\\data_preprocessing\\rescaling\n",
      "  copying autosklearn\\pipeline\\components\\data_preprocessing\\rescaling\\none.py -> build\\lib.win-amd64-3.8\\autosklearn\\pipeline\\components\\data_preprocessing\\rescaling\n",
      "  copying autosklearn\\pipeline\\components\\data_preprocessing\\rescaling\\normalize.py -> build\\lib.win-amd64-3.8\\autosklearn\\pipeline\\components\\data_preprocessing\\rescaling\n",
      "  copying autosklearn\\pipeline\\components\\data_preprocessing\\rescaling\\quantile_transformer.py -> build\\lib.win-amd64-3.8\\autosklearn\\pipeline\\components\\data_preprocessing\\rescaling\n",
      "  copying autosklearn\\pipeline\\components\\data_preprocessing\\rescaling\\robust_scaler.py -> build\\lib.win-amd64-3.8\\autosklearn\\pipeline\\components\\data_preprocessing\\rescaling\n",
      "  copying autosklearn\\pipeline\\components\\data_preprocessing\\rescaling\\standardize.py -> build\\lib.win-amd64-3.8\\autosklearn\\pipeline\\components\\data_preprocessing\\rescaling\n",
      "  copying autosklearn\\pipeline\\components\\data_preprocessing\\rescaling\\__init__.py -> build\\lib.win-amd64-3.8\\autosklearn\\pipeline\\components\\data_preprocessing\\rescaling\n",
      "  creating build\\lib.win-amd64-3.8\\autosklearn\\pipeline\\components\\data_preprocessing\\variance_threshold\n",
      "  copying autosklearn\\pipeline\\components\\data_preprocessing\\variance_threshold\\variance_threshold.py -> build\\lib.win-amd64-3.8\\autosklearn\\pipeline\\components\\data_preprocessing\\variance_threshold\n",
      "  copying autosklearn\\pipeline\\components\\data_preprocessing\\variance_threshold\\__init__.py -> build\\lib.win-amd64-3.8\\autosklearn\\pipeline\\components\\data_preprocessing\\variance_threshold\n",
      "  running egg_info\n",
      "  writing auto_sklearn.egg-info\\PKG-INFO\n",
      "  writing dependency_links to auto_sklearn.egg-info\\dependency_links.txt\n",
      "  writing requirements to auto_sklearn.egg-info\\requires.txt\n",
      "  writing top-level names to auto_sklearn.egg-info\\top_level.txt\n",
      "  reading manifest file 'auto_sklearn.egg-info\\SOURCES.txt'\n",
      "  reading manifest template 'MANIFEST.in'\n",
      "  writing manifest file 'auto_sklearn.egg-info\\SOURCES.txt'\n",
      "  copying autosklearn\\data\\competition_c_functions.c -> build\\lib.win-amd64-3.8\\autosklearn\\data\n",
      "  copying autosklearn\\data\\competition_c_functions.pyx -> build\\lib.win-amd64-3.8\\autosklearn\\data\n",
      "  creating build\\lib.win-amd64-3.8\\autosklearn\\metalearning\\files\n",
      "  creating build\\lib.win-amd64-3.8\\autosklearn\\metalearning\\files\\accuracy_binary.classification_dense\n",
      "  copying autosklearn\\metalearning\\files\\accuracy_binary.classification_dense\\algorithm_runs.arff -> build\\lib.win-amd64-3.8\\autosklearn\\metalearning\\files\\accuracy_binary.classification_dense\n",
      "  copying autosklearn\\metalearning\\files\\accuracy_binary.classification_dense\\configurations.csv -> build\\lib.win-amd64-3.8\\autosklearn\\metalearning\\files\\accuracy_binary.classification_dense\n",
      "  copying autosklearn\\metalearning\\files\\accuracy_binary.classification_dense\\description.txt -> build\\lib.win-amd64-3.8\\autosklearn\\metalearning\\files\\accuracy_binary.classification_dense\n",
      "  copying autosklearn\\metalearning\\files\\accuracy_binary.classification_dense\\feature_costs.arff -> build\\lib.win-amd64-3.8\\autosklearn\\metalearning\\files\\accuracy_binary.classification_dense\n",
      "  copying autosklearn\\metalearning\\files\\accuracy_binary.classification_dense\\feature_runstatus.arff -> build\\lib.win-amd64-3.8\\autosklearn\\metalearning\\files\\accuracy_binary.classification_dense\n",
      "  copying autosklearn\\metalearning\\files\\accuracy_binary.classification_dense\\feature_values.arff -> build\\lib.win-amd64-3.8\\autosklearn\\metalearning\\files\\accuracy_binary.classification_dense\n",
      "  copying autosklearn\\metalearning\\files\\accuracy_binary.classification_dense\\readme.txt -> build\\lib.win-amd64-3.8\\autosklearn\\metalearning\\files\\accuracy_binary.classification_dense\n",
      "  creating build\\lib.win-amd64-3.8\\autosklearn\\metalearning\\files\\accuracy_binary.classification_sparse\n",
      "  copying autosklearn\\metalearning\\files\\accuracy_binary.classification_sparse\\algorithm_runs.arff -> build\\lib.win-amd64-3.8\\autosklearn\\metalearning\\files\\accuracy_binary.classification_sparse\n",
      "  copying autosklearn\\metalearning\\files\\accuracy_binary.classification_sparse\\configurations.csv -> build\\lib.win-amd64-3.8\\autosklearn\\metalearning\\files\\accuracy_binary.classification_sparse\n",
      "  copying autosklearn\\metalearning\\files\\accuracy_binary.classification_sparse\\description.txt -> build\\lib.win-amd64-3.8\\autosklearn\\metalearning\\files\\accuracy_binary.classification_sparse\n",
      "  copying autosklearn\\metalearning\\files\\accuracy_binary.classification_sparse\\feature_costs.arff -> build\\lib.win-amd64-3.8\\autosklearn\\metalearning\\files\\accuracy_binary.classification_sparse\n",
      "  copying autosklearn\\metalearning\\files\\accuracy_binary.classification_sparse\\feature_runstatus.arff -> build\\lib.win-amd64-3.8\\autosklearn\\metalearning\\files\\accuracy_binary.classification_sparse\n",
      "  copying autosklearn\\metalearning\\files\\accuracy_binary.classification_sparse\\feature_values.arff -> build\\lib.win-amd64-3.8\\autosklearn\\metalearning\\files\\accuracy_binary.classification_sparse\n",
      "  copying autosklearn\\metalearning\\files\\accuracy_binary.classification_sparse\\readme.txt -> build\\lib.win-amd64-3.8\\autosklearn\\metalearning\\files\\accuracy_binary.classification_sparse\n",
      "  creating build\\lib.win-amd64-3.8\\autosklearn\\metalearning\\files\\accuracy_multiclass.classification_dense\n",
      "  copying autosklearn\\metalearning\\files\\accuracy_multiclass.classification_dense\\algorithm_runs.arff -> build\\lib.win-amd64-3.8\\autosklearn\\metalearning\\files\\accuracy_multiclass.classification_dense\n",
      "  copying autosklearn\\metalearning\\files\\accuracy_multiclass.classification_dense\\configurations.csv -> build\\lib.win-amd64-3.8\\autosklearn\\metalearning\\files\\accuracy_multiclass.classification_dense\n",
      "  copying autosklearn\\metalearning\\files\\accuracy_multiclass.classification_dense\\description.txt -> build\\lib.win-amd64-3.8\\autosklearn\\metalearning\\files\\accuracy_multiclass.classification_dense\n",
      "  copying autosklearn\\metalearning\\files\\accuracy_multiclass.classification_dense\\feature_costs.arff -> build\\lib.win-amd64-3.8\\autosklearn\\metalearning\\files\\accuracy_multiclass.classification_dense\n",
      "  copying autosklearn\\metalearning\\files\\accuracy_multiclass.classification_dense\\feature_runstatus.arff -> build\\lib.win-amd64-3.8\\autosklearn\\metalearning\\files\\accuracy_multiclass.classification_dense\n",
      "  copying autosklearn\\metalearning\\files\\accuracy_multiclass.classification_dense\\feature_values.arff -> build\\lib.win-amd64-3.8\\autosklearn\\metalearning\\files\\accuracy_multiclass.classification_dense\n",
      "  copying autosklearn\\metalearning\\files\\accuracy_multiclass.classification_dense\\readme.txt -> build\\lib.win-amd64-3.8\\autosklearn\\metalearning\\files\\accuracy_multiclass.classification_dense\n",
      "  creating build\\lib.win-amd64-3.8\\autosklearn\\metalearning\\files\\accuracy_multiclass.classification_sparse\n",
      "  copying autosklearn\\metalearning\\files\\accuracy_multiclass.classification_sparse\\algorithm_runs.arff -> build\\lib.win-amd64-3.8\\autosklearn\\metalearning\\files\\accuracy_multiclass.classification_sparse\n",
      "  copying autosklearn\\metalearning\\files\\accuracy_multiclass.classification_sparse\\configurations.csv -> build\\lib.win-amd64-3.8\\autosklearn\\metalearning\\files\\accuracy_multiclass.classification_sparse\n",
      "  copying autosklearn\\metalearning\\files\\accuracy_multiclass.classification_sparse\\description.txt -> build\\lib.win-amd64-3.8\\autosklearn\\metalearning\\files\\accuracy_multiclass.classification_sparse\n",
      "  copying autosklearn\\metalearning\\files\\accuracy_multiclass.classification_sparse\\feature_costs.arff -> build\\lib.win-amd64-3.8\\autosklearn\\metalearning\\files\\accuracy_multiclass.classification_sparse\n",
      "  copying autosklearn\\metalearning\\files\\accuracy_multiclass.classification_sparse\\feature_runstatus.arff -> build\\lib.win-amd64-3.8\\autosklearn\\metalearning\\files\\accuracy_multiclass.classification_sparse\n",
      "  copying autosklearn\\metalearning\\files\\accuracy_multiclass.classification_sparse\\feature_values.arff -> build\\lib.win-amd64-3.8\\autosklearn\\metalearning\\files\\accuracy_multiclass.classification_sparse\n",
      "  copying autosklearn\\metalearning\\files\\accuracy_multiclass.classification_sparse\\readme.txt -> build\\lib.win-amd64-3.8\\autosklearn\\metalearning\\files\\accuracy_multiclass.classification_sparse\n",
      "  creating build\\lib.win-amd64-3.8\\autosklearn\\metalearning\\files\\average_precision_binary.classification_dense\n",
      "  copying autosklearn\\metalearning\\files\\average_precision_binary.classification_dense\\algorithm_runs.arff -> build\\lib.win-amd64-3.8\\autosklearn\\metalearning\\files\\average_precision_binary.classification_dense\n",
      "  copying autosklearn\\metalearning\\files\\average_precision_binary.classification_dense\\configurations.csv -> build\\lib.win-amd64-3.8\\autosklearn\\metalearning\\files\\average_precision_binary.classification_dense\n",
      "  copying autosklearn\\metalearning\\files\\average_precision_binary.classification_dense\\description.txt -> build\\lib.win-amd64-3.8\\autosklearn\\metalearning\\files\\average_precision_binary.classification_dense\n",
      "  copying autosklearn\\metalearning\\files\\average_precision_binary.classification_dense\\feature_costs.arff -> build\\lib.win-amd64-3.8\\autosklearn\\metalearning\\files\\average_precision_binary.classification_dense\n",
      "  copying autosklearn\\metalearning\\files\\average_precision_binary.classification_dense\\feature_runstatus.arff -> build\\lib.win-amd64-3.8\\autosklearn\\metalearning\\files\\average_precision_binary.classification_dense\n",
      "  copying autosklearn\\metalearning\\files\\average_precision_binary.classification_dense\\feature_values.arff -> build\\lib.win-amd64-3.8\\autosklearn\\metalearning\\files\\average_precision_binary.classification_dense\n",
      "  copying autosklearn\\metalearning\\files\\average_precision_binary.classification_dense\\readme.txt -> build\\lib.win-amd64-3.8\\autosklearn\\metalearning\\files\\average_precision_binary.classification_dense\n",
      "  creating build\\lib.win-amd64-3.8\\autosklearn\\metalearning\\files\\average_precision_binary.classification_sparse\n",
      "  copying autosklearn\\metalearning\\files\\average_precision_binary.classification_sparse\\algorithm_runs.arff -> build\\lib.win-amd64-3.8\\autosklearn\\metalearning\\files\\average_precision_binary.classification_sparse\n",
      "  copying autosklearn\\metalearning\\files\\average_precision_binary.classification_sparse\\configurations.csv -> build\\lib.win-amd64-3.8\\autosklearn\\metalearning\\files\\average_precision_binary.classification_sparse\n",
      "  copying autosklearn\\metalearning\\files\\average_precision_binary.classification_sparse\\description.txt -> build\\lib.win-amd64-3.8\\autosklearn\\metalearning\\files\\average_precision_binary.classification_sparse\n",
      "  copying autosklearn\\metalearning\\files\\average_precision_binary.classification_sparse\\feature_costs.arff -> build\\lib.win-amd64-3.8\\autosklearn\\metalearning\\files\\average_precision_binary.classification_sparse\n",
      "  copying autosklearn\\metalearning\\files\\average_precision_binary.classification_sparse\\feature_runstatus.arff -> build\\lib.win-amd64-3.8\\autosklearn\\metalearning\\files\\average_precision_binary.classification_sparse\n",
      "  copying autosklearn\\metalearning\\files\\average_precision_binary.classification_sparse\\feature_values.arff -> build\\lib.win-amd64-3.8\\autosklearn\\metalearning\\files\\average_precision_binary.classification_sparse\n",
      "  copying autosklearn\\metalearning\\files\\average_precision_binary.classification_sparse\\readme.txt -> build\\lib.win-amd64-3.8\\autosklearn\\metalearning\\files\\average_precision_binary.classification_sparse\n",
      "  creating build\\lib.win-amd64-3.8\\autosklearn\\metalearning\\files\\average_precision_multiclass.classification_dense\n",
      "  copying autosklearn\\metalearning\\files\\average_precision_multiclass.classification_dense\\algorithm_runs.arff -> build\\lib.win-amd64-3.8\\autosklearn\\metalearning\\files\\average_precision_multiclass.classification_dense\n",
      "  copying autosklearn\\metalearning\\files\\average_precision_multiclass.classification_dense\\configurations.csv -> build\\lib.win-amd64-3.8\\autosklearn\\metalearning\\files\\average_precision_multiclass.classification_dense\n",
      "  copying autosklearn\\metalearning\\files\\average_precision_multiclass.classification_dense\\description.txt -> build\\lib.win-amd64-3.8\\autosklearn\\metalearning\\files\\average_precision_multiclass.classification_dense\n",
      "  copying autosklearn\\metalearning\\files\\average_precision_multiclass.classification_dense\\feature_costs.arff -> build\\lib.win-amd64-3.8\\autosklearn\\metalearning\\files\\average_precision_multiclass.classification_dense\n",
      "  copying autosklearn\\metalearning\\files\\average_precision_multiclass.classification_dense\\feature_runstatus.arff -> build\\lib.win-amd64-3.8\\autosklearn\\metalearning\\files\\average_precision_multiclass.classification_dense\n",
      "  copying autosklearn\\metalearning\\files\\average_precision_multiclass.classification_dense\\feature_values.arff -> build\\lib.win-amd64-3.8\\autosklearn\\metalearning\\files\\average_precision_multiclass.classification_dense\n",
      "  copying autosklearn\\metalearning\\files\\average_precision_multiclass.classification_dense\\readme.txt -> build\\lib.win-amd64-3.8\\autosklearn\\metalearning\\files\\average_precision_multiclass.classification_dense\n",
      "  creating build\\lib.win-amd64-3.8\\autosklearn\\metalearning\\files\\average_precision_multiclass.classification_sparse\n",
      "  copying autosklearn\\metalearning\\files\\average_precision_multiclass.classification_sparse\\algorithm_runs.arff -> build\\lib.win-amd64-3.8\\autosklearn\\metalearning\\files\\average_precision_multiclass.classification_sparse\n",
      "  copying autosklearn\\metalearning\\files\\average_precision_multiclass.classification_sparse\\configurations.csv -> build\\lib.win-amd64-3.8\\autosklearn\\metalearning\\files\\average_precision_multiclass.classification_sparse\n",
      "  copying autosklearn\\metalearning\\files\\average_precision_multiclass.classification_sparse\\description.txt -> build\\lib.win-amd64-3.8\\autosklearn\\metalearning\\files\\average_precision_multiclass.classification_sparse\n",
      "  copying autosklearn\\metalearning\\files\\average_precision_multiclass.classification_sparse\\feature_costs.arff -> build\\lib.win-amd64-3.8\\autosklearn\\metalearning\\files\\average_precision_multiclass.classification_sparse\n",
      "  copying autosklearn\\metalearning\\files\\average_precision_multiclass.classification_sparse\\feature_runstatus.arff -> build\\lib.win-amd64-3.8\\autosklearn\\metalearning\\files\\average_precision_multiclass.classification_sparse\n",
      "  copying autosklearn\\metalearning\\files\\average_precision_multiclass.classification_sparse\\feature_values.arff -> build\\lib.win-amd64-3.8\\autosklearn\\metalearning\\files\\average_precision_multiclass.classification_sparse\n",
      "  copying autosklearn\\metalearning\\files\\average_precision_multiclass.classification_sparse\\readme.txt -> build\\lib.win-amd64-3.8\\autosklearn\\metalearning\\files\\average_precision_multiclass.classification_sparse\n",
      "  creating build\\lib.win-amd64-3.8\\autosklearn\\metalearning\\files\\balanced_accuracy_binary.classification_dense\n",
      "  copying autosklearn\\metalearning\\files\\balanced_accuracy_binary.classification_dense\\algorithm_runs.arff -> build\\lib.win-amd64-3.8\\autosklearn\\metalearning\\files\\balanced_accuracy_binary.classification_dense\n",
      "  copying autosklearn\\metalearning\\files\\balanced_accuracy_binary.classification_dense\\configurations.csv -> build\\lib.win-amd64-3.8\\autosklearn\\metalearning\\files\\balanced_accuracy_binary.classification_dense\n",
      "  copying autosklearn\\metalearning\\files\\balanced_accuracy_binary.classification_dense\\description.txt -> build\\lib.win-amd64-3.8\\autosklearn\\metalearning\\files\\balanced_accuracy_binary.classification_dense\n",
      "  copying autosklearn\\metalearning\\files\\balanced_accuracy_binary.classification_dense\\feature_costs.arff -> build\\lib.win-amd64-3.8\\autosklearn\\metalearning\\files\\balanced_accuracy_binary.classification_dense\n",
      "  copying autosklearn\\metalearning\\files\\balanced_accuracy_binary.classification_dense\\feature_runstatus.arff -> build\\lib.win-amd64-3.8\\autosklearn\\metalearning\\files\\balanced_accuracy_binary.classification_dense\n",
      "  copying autosklearn\\metalearning\\files\\balanced_accuracy_binary.classification_dense\\feature_values.arff -> build\\lib.win-amd64-3.8\\autosklearn\\metalearning\\files\\balanced_accuracy_binary.classification_dense\n",
      "  copying autosklearn\\metalearning\\files\\balanced_accuracy_binary.classification_dense\\readme.txt -> build\\lib.win-amd64-3.8\\autosklearn\\metalearning\\files\\balanced_accuracy_binary.classification_dense\n",
      "  creating build\\lib.win-amd64-3.8\\autosklearn\\metalearning\\files\\balanced_accuracy_binary.classification_sparse\n",
      "  copying autosklearn\\metalearning\\files\\balanced_accuracy_binary.classification_sparse\\algorithm_runs.arff -> build\\lib.win-amd64-3.8\\autosklearn\\metalearning\\files\\balanced_accuracy_binary.classification_sparse\n",
      "  copying autosklearn\\metalearning\\files\\balanced_accuracy_binary.classification_sparse\\configurations.csv -> build\\lib.win-amd64-3.8\\autosklearn\\metalearning\\files\\balanced_accuracy_binary.classification_sparse\n",
      "  copying autosklearn\\metalearning\\files\\balanced_accuracy_binary.classification_sparse\\description.txt -> build\\lib.win-amd64-3.8\\autosklearn\\metalearning\\files\\balanced_accuracy_binary.classification_sparse\n",
      "  copying autosklearn\\metalearning\\files\\balanced_accuracy_binary.classification_sparse\\feature_costs.arff -> build\\lib.win-amd64-3.8\\autosklearn\\metalearning\\files\\balanced_accuracy_binary.classification_sparse\n",
      "  copying autosklearn\\metalearning\\files\\balanced_accuracy_binary.classification_sparse\\feature_runstatus.arff -> build\\lib.win-amd64-3.8\\autosklearn\\metalearning\\files\\balanced_accuracy_binary.classification_sparse\n",
      "  copying autosklearn\\metalearning\\files\\balanced_accuracy_binary.classification_sparse\\feature_values.arff -> build\\lib.win-amd64-3.8\\autosklearn\\metalearning\\files\\balanced_accuracy_binary.classification_sparse\n",
      "  copying autosklearn\\metalearning\\files\\balanced_accuracy_binary.classification_sparse\\readme.txt -> build\\lib.win-amd64-3.8\\autosklearn\\metalearning\\files\\balanced_accuracy_binary.classification_sparse\n",
      "  creating build\\lib.win-amd64-3.8\\autosklearn\\metalearning\\files\\balanced_accuracy_multiclass.classification_dense\n",
      "  copying autosklearn\\metalearning\\files\\balanced_accuracy_multiclass.classification_dense\\algorithm_runs.arff -> build\\lib.win-amd64-3.8\\autosklearn\\metalearning\\files\\balanced_accuracy_multiclass.classification_dense\n",
      "  copying autosklearn\\metalearning\\files\\balanced_accuracy_multiclass.classification_dense\\configurations.csv -> build\\lib.win-amd64-3.8\\autosklearn\\metalearning\\files\\balanced_accuracy_multiclass.classification_dense\n",
      "  copying autosklearn\\metalearning\\files\\balanced_accuracy_multiclass.classification_dense\\description.txt -> build\\lib.win-amd64-3.8\\autosklearn\\metalearning\\files\\balanced_accuracy_multiclass.classification_dense\n",
      "  copying autosklearn\\metalearning\\files\\balanced_accuracy_multiclass.classification_dense\\feature_costs.arff -> build\\lib.win-amd64-3.8\\autosklearn\\metalearning\\files\\balanced_accuracy_multiclass.classification_dense\n",
      "  copying autosklearn\\metalearning\\files\\balanced_accuracy_multiclass.classification_dense\\feature_runstatus.arff -> build\\lib.win-amd64-3.8\\autosklearn\\metalearning\\files\\balanced_accuracy_multiclass.classification_dense\n",
      "  copying autosklearn\\metalearning\\files\\balanced_accuracy_multiclass.classification_dense\\feature_values.arff -> build\\lib.win-amd64-3.8\\autosklearn\\metalearning\\files\\balanced_accuracy_multiclass.classification_dense\n",
      "  copying autosklearn\\metalearning\\files\\balanced_accuracy_multiclass.classification_dense\\readme.txt -> build\\lib.win-amd64-3.8\\autosklearn\\metalearning\\files\\balanced_accuracy_multiclass.classification_dense\n",
      "  creating build\\lib.win-amd64-3.8\\autosklearn\\metalearning\\files\\balanced_accuracy_multiclass.classification_sparse\n",
      "  copying autosklearn\\metalearning\\files\\balanced_accuracy_multiclass.classification_sparse\\algorithm_runs.arff -> build\\lib.win-amd64-3.8\\autosklearn\\metalearning\\files\\balanced_accuracy_multiclass.classification_sparse\n",
      "  copying autosklearn\\metalearning\\files\\balanced_accuracy_multiclass.classification_sparse\\configurations.csv -> build\\lib.win-amd64-3.8\\autosklearn\\metalearning\\files\\balanced_accuracy_multiclass.classification_sparse\n",
      "  copying autosklearn\\metalearning\\files\\balanced_accuracy_multiclass.classification_sparse\\description.txt -> build\\lib.win-amd64-3.8\\autosklearn\\metalearning\\files\\balanced_accuracy_multiclass.classification_sparse\n",
      "  copying autosklearn\\metalearning\\files\\balanced_accuracy_multiclass.classification_sparse\\feature_costs.arff -> build\\lib.win-amd64-3.8\\autosklearn\\metalearning\\files\\balanced_accuracy_multiclass.classification_sparse\n",
      "  copying autosklearn\\metalearning\\files\\balanced_accuracy_multiclass.classification_sparse\\feature_runstatus.arff -> build\\lib.win-amd64-3.8\\autosklearn\\metalearning\\files\\balanced_accuracy_multiclass.classification_sparse\n",
      "  copying autosklearn\\metalearning\\files\\balanced_accuracy_multiclass.classification_sparse\\feature_values.arff -> build\\lib.win-amd64-3.8\\autosklearn\\metalearning\\files\\balanced_accuracy_multiclass.classification_sparse\n",
      "  copying autosklearn\\metalearning\\files\\balanced_accuracy_multiclass.classification_sparse\\readme.txt -> build\\lib.win-amd64-3.8\\autosklearn\\metalearning\\files\\balanced_accuracy_multiclass.classification_sparse\n",
      "  creating build\\lib.win-amd64-3.8\\autosklearn\\metalearning\\files\\f1_binary.classification_dense\n",
      "  copying autosklearn\\metalearning\\files\\f1_binary.classification_dense\\algorithm_runs.arff -> build\\lib.win-amd64-3.8\\autosklearn\\metalearning\\files\\f1_binary.classification_dense\n",
      "  copying autosklearn\\metalearning\\files\\f1_binary.classification_dense\\configurations.csv -> build\\lib.win-amd64-3.8\\autosklearn\\metalearning\\files\\f1_binary.classification_dense\n",
      "  copying autosklearn\\metalearning\\files\\f1_binary.classification_dense\\description.txt -> build\\lib.win-amd64-3.8\\autosklearn\\metalearning\\files\\f1_binary.classification_dense\n",
      "  copying autosklearn\\metalearning\\files\\f1_binary.classification_dense\\feature_costs.arff -> build\\lib.win-amd64-3.8\\autosklearn\\metalearning\\files\\f1_binary.classification_dense\n",
      "  copying autosklearn\\metalearning\\files\\f1_binary.classification_dense\\feature_runstatus.arff -> build\\lib.win-amd64-3.8\\autosklearn\\metalearning\\files\\f1_binary.classification_dense\n",
      "  copying autosklearn\\metalearning\\files\\f1_binary.classification_dense\\feature_values.arff -> build\\lib.win-amd64-3.8\\autosklearn\\metalearning\\files\\f1_binary.classification_dense\n",
      "  copying autosklearn\\metalearning\\files\\f1_binary.classification_dense\\readme.txt -> build\\lib.win-amd64-3.8\\autosklearn\\metalearning\\files\\f1_binary.classification_dense\n",
      "  creating build\\lib.win-amd64-3.8\\autosklearn\\metalearning\\files\\f1_binary.classification_sparse\n",
      "  copying autosklearn\\metalearning\\files\\f1_binary.classification_sparse\\algorithm_runs.arff -> build\\lib.win-amd64-3.8\\autosklearn\\metalearning\\files\\f1_binary.classification_sparse\n",
      "  copying autosklearn\\metalearning\\files\\f1_binary.classification_sparse\\configurations.csv -> build\\lib.win-amd64-3.8\\autosklearn\\metalearning\\files\\f1_binary.classification_sparse\n",
      "  copying autosklearn\\metalearning\\files\\f1_binary.classification_sparse\\description.txt -> build\\lib.win-amd64-3.8\\autosklearn\\metalearning\\files\\f1_binary.classification_sparse\n",
      "  copying autosklearn\\metalearning\\files\\f1_binary.classification_sparse\\feature_costs.arff -> build\\lib.win-amd64-3.8\\autosklearn\\metalearning\\files\\f1_binary.classification_sparse\n",
      "  copying autosklearn\\metalearning\\files\\f1_binary.classification_sparse\\feature_runstatus.arff -> build\\lib.win-amd64-3.8\\autosklearn\\metalearning\\files\\f1_binary.classification_sparse\n",
      "  copying autosklearn\\metalearning\\files\\f1_binary.classification_sparse\\feature_values.arff -> build\\lib.win-amd64-3.8\\autosklearn\\metalearning\\files\\f1_binary.classification_sparse\n",
      "  copying autosklearn\\metalearning\\files\\f1_binary.classification_sparse\\readme.txt -> build\\lib.win-amd64-3.8\\autosklearn\\metalearning\\files\\f1_binary.classification_sparse\n",
      "  creating build\\lib.win-amd64-3.8\\autosklearn\\metalearning\\files\\f1_macro_binary.classification_dense\n",
      "  copying autosklearn\\metalearning\\files\\f1_macro_binary.classification_dense\\algorithm_runs.arff -> build\\lib.win-amd64-3.8\\autosklearn\\metalearning\\files\\f1_macro_binary.classification_dense\n",
      "  copying autosklearn\\metalearning\\files\\f1_macro_binary.classification_dense\\configurations.csv -> build\\lib.win-amd64-3.8\\autosklearn\\metalearning\\files\\f1_macro_binary.classification_dense\n",
      "  copying autosklearn\\metalearning\\files\\f1_macro_binary.classification_dense\\description.txt -> build\\lib.win-amd64-3.8\\autosklearn\\metalearning\\files\\f1_macro_binary.classification_dense\n",
      "  copying autosklearn\\metalearning\\files\\f1_macro_binary.classification_dense\\feature_costs.arff -> build\\lib.win-amd64-3.8\\autosklearn\\metalearning\\files\\f1_macro_binary.classification_dense\n",
      "  copying autosklearn\\metalearning\\files\\f1_macro_binary.classification_dense\\feature_runstatus.arff -> build\\lib.win-amd64-3.8\\autosklearn\\metalearning\\files\\f1_macro_binary.classification_dense\n",
      "  copying autosklearn\\metalearning\\files\\f1_macro_binary.classification_dense\\feature_values.arff -> build\\lib.win-amd64-3.8\\autosklearn\\metalearning\\files\\f1_macro_binary.classification_dense\n",
      "  copying autosklearn\\metalearning\\files\\f1_macro_binary.classification_dense\\readme.txt -> build\\lib.win-amd64-3.8\\autosklearn\\metalearning\\files\\f1_macro_binary.classification_dense\n",
      "  creating build\\lib.win-amd64-3.8\\autosklearn\\metalearning\\files\\f1_macro_binary.classification_sparse\n",
      "  copying autosklearn\\metalearning\\files\\f1_macro_binary.classification_sparse\\algorithm_runs.arff -> build\\lib.win-amd64-3.8\\autosklearn\\metalearning\\files\\f1_macro_binary.classification_sparse\n",
      "  copying autosklearn\\metalearning\\files\\f1_macro_binary.classification_sparse\\configurations.csv -> build\\lib.win-amd64-3.8\\autosklearn\\metalearning\\files\\f1_macro_binary.classification_sparse\n",
      "  copying autosklearn\\metalearning\\files\\f1_macro_binary.classification_sparse\\description.txt -> build\\lib.win-amd64-3.8\\autosklearn\\metalearning\\files\\f1_macro_binary.classification_sparse\n",
      "  copying autosklearn\\metalearning\\files\\f1_macro_binary.classification_sparse\\feature_costs.arff -> build\\lib.win-amd64-3.8\\autosklearn\\metalearning\\files\\f1_macro_binary.classification_sparse\n",
      "  copying autosklearn\\metalearning\\files\\f1_macro_binary.classification_sparse\\feature_runstatus.arff -> build\\lib.win-amd64-3.8\\autosklearn\\metalearning\\files\\f1_macro_binary.classification_sparse\n",
      "  copying autosklearn\\metalearning\\files\\f1_macro_binary.classification_sparse\\feature_values.arff -> build\\lib.win-amd64-3.8\\autosklearn\\metalearning\\files\\f1_macro_binary.classification_sparse\n",
      "  copying autosklearn\\metalearning\\files\\f1_macro_binary.classification_sparse\\readme.txt -> build\\lib.win-amd64-3.8\\autosklearn\\metalearning\\files\\f1_macro_binary.classification_sparse\n",
      "  creating build\\lib.win-amd64-3.8\\autosklearn\\metalearning\\files\\f1_macro_multiclass.classification_dense\n",
      "  copying autosklearn\\metalearning\\files\\f1_macro_multiclass.classification_dense\\algorithm_runs.arff -> build\\lib.win-amd64-3.8\\autosklearn\\metalearning\\files\\f1_macro_multiclass.classification_dense\n",
      "  copying autosklearn\\metalearning\\files\\f1_macro_multiclass.classification_dense\\configurations.csv -> build\\lib.win-amd64-3.8\\autosklearn\\metalearning\\files\\f1_macro_multiclass.classification_dense\n",
      "  copying autosklearn\\metalearning\\files\\f1_macro_multiclass.classification_dense\\description.txt -> build\\lib.win-amd64-3.8\\autosklearn\\metalearning\\files\\f1_macro_multiclass.classification_dense\n",
      "  copying autosklearn\\metalearning\\files\\f1_macro_multiclass.classification_dense\\feature_costs.arff -> build\\lib.win-amd64-3.8\\autosklearn\\metalearning\\files\\f1_macro_multiclass.classification_dense\n",
      "  copying autosklearn\\metalearning\\files\\f1_macro_multiclass.classification_dense\\feature_runstatus.arff -> build\\lib.win-amd64-3.8\\autosklearn\\metalearning\\files\\f1_macro_multiclass.classification_dense\n",
      "  copying autosklearn\\metalearning\\files\\f1_macro_multiclass.classification_dense\\feature_values.arff -> build\\lib.win-amd64-3.8\\autosklearn\\metalearning\\files\\f1_macro_multiclass.classification_dense\n",
      "  copying autosklearn\\metalearning\\files\\f1_macro_multiclass.classification_dense\\readme.txt -> build\\lib.win-amd64-3.8\\autosklearn\\metalearning\\files\\f1_macro_multiclass.classification_dense\n",
      "  creating build\\lib.win-amd64-3.8\\autosklearn\\metalearning\\files\\f1_macro_multiclass.classification_sparse\n",
      "  copying autosklearn\\metalearning\\files\\f1_macro_multiclass.classification_sparse\\algorithm_runs.arff -> build\\lib.win-amd64-3.8\\autosklearn\\metalearning\\files\\f1_macro_multiclass.classification_sparse\n",
      "  copying autosklearn\\metalearning\\files\\f1_macro_multiclass.classification_sparse\\configurations.csv -> build\\lib.win-amd64-3.8\\autosklearn\\metalearning\\files\\f1_macro_multiclass.classification_sparse\n",
      "  copying autosklearn\\metalearning\\files\\f1_macro_multiclass.classification_sparse\\description.txt -> build\\lib.win-amd64-3.8\\autosklearn\\metalearning\\files\\f1_macro_multiclass.classification_sparse\n",
      "  copying autosklearn\\metalearning\\files\\f1_macro_multiclass.classification_sparse\\feature_costs.arff -> build\\lib.win-amd64-3.8\\autosklearn\\metalearning\\files\\f1_macro_multiclass.classification_sparse\n",
      "  copying autosklearn\\metalearning\\files\\f1_macro_multiclass.classification_sparse\\feature_runstatus.arff -> build\\lib.win-amd64-3.8\\autosklearn\\metalearning\\files\\f1_macro_multiclass.classification_sparse\n",
      "  copying autosklearn\\metalearning\\files\\f1_macro_multiclass.classification_sparse\\feature_values.arff -> build\\lib.win-amd64-3.8\\autosklearn\\metalearning\\files\\f1_macro_multiclass.classification_sparse\n",
      "  copying autosklearn\\metalearning\\files\\f1_macro_multiclass.classification_sparse\\readme.txt -> build\\lib.win-amd64-3.8\\autosklearn\\metalearning\\files\\f1_macro_multiclass.classification_sparse"
     ]
    }
   ],
   "source": [
    "pip install auto-sklearn"
   ]
  },
  {
   "cell_type": "code",
   "execution_count": 61,
   "id": "gs_RFjQVmMBb",
   "metadata": {
    "colab": {
     "base_uri": "https://localhost:8080/"
    },
    "id": "gs_RFjQVmMBb",
    "outputId": "474ed377-80f3-4f36-dbb7-c2973af55c48"
   },
   "outputs": [
    {
     "name": "stderr",
     "output_type": "stream",
     "text": [
      "\n",
      "  creating build\\lib.win-amd64-3.8\\autosklearn\\metalearning\\files\\f1_micro_binary.classification_dense\n",
      "  copying autosklearn\\metalearning\\files\\f1_micro_binary.classification_dense\\algorithm_runs.arff -> build\\lib.win-amd64-3.8\\autosklearn\\metalearning\\files\\f1_micro_binary.classification_dense\n",
      "  copying autosklearn\\metalearning\\files\\f1_micro_binary.classification_dense\\configurations.csv -> build\\lib.win-amd64-3.8\\autosklearn\\metalearning\\files\\f1_micro_binary.classification_dense\n",
      "  copying autosklearn\\metalearning\\files\\f1_micro_binary.classification_dense\\description.txt -> build\\lib.win-amd64-3.8\\autosklearn\\metalearning\\files\\f1_micro_binary.classification_dense\n",
      "  copying autosklearn\\metalearning\\files\\f1_micro_binary.classification_dense\\feature_costs.arff -> build\\lib.win-amd64-3.8\\autosklearn\\metalearning\\files\\f1_micro_binary.classification_dense\n",
      "  copying autosklearn\\metalearning\\files\\f1_micro_binary.classification_dense\\feature_runstatus.arff -> build\\lib.win-amd64-3.8\\autosklearn\\metalearning\\files\\f1_micro_binary.classification_dense\n",
      "  copying autosklearn\\metalearning\\files\\f1_micro_binary.classification_dense\\feature_values.arff -> build\\lib.win-amd64-3.8\\autosklearn\\metalearning\\files\\f1_micro_binary.classification_dense\n",
      "  copying autosklearn\\metalearning\\files\\f1_micro_binary.classification_dense\\readme.txt -> build\\lib.win-amd64-3.8\\autosklearn\\metalearning\\files\\f1_micro_binary.classification_dense\n",
      "  creating build\\lib.win-amd64-3.8\\autosklearn\\metalearning\\files\\f1_micro_binary.classification_sparse\n",
      "  copying autosklearn\\metalearning\\files\\f1_micro_binary.classification_sparse\\algorithm_runs.arff -> build\\lib.win-amd64-3.8\\autosklearn\\metalearning\\files\\f1_micro_binary.classification_sparse\n",
      "  copying autosklearn\\metalearning\\files\\f1_micro_binary.classification_sparse\\configurations.csv -> build\\lib.win-amd64-3.8\\autosklearn\\metalearning\\files\\f1_micro_binary.classification_sparse\n",
      "  copying autosklearn\\metalearning\\files\\f1_micro_binary.classification_sparse\\description.txt -> build\\lib.win-amd64-3.8\\autosklearn\\metalearning\\files\\f1_micro_binary.classification_sparse\n",
      "  copying autosklearn\\metalearning\\files\\f1_micro_binary.classification_sparse\\feature_costs.arff -> build\\lib.win-amd64-3.8\\autosklearn\\metalearning\\files\\f1_micro_binary.classification_sparse\n",
      "  copying autosklearn\\metalearning\\files\\f1_micro_binary.classification_sparse\\feature_runstatus.arff -> build\\lib.win-amd64-3.8\\autosklearn\\metalearning\\files\\f1_micro_binary.classification_sparse\n",
      "  copying autosklearn\\metalearning\\files\\f1_micro_binary.classification_sparse\\feature_values.arff -> build\\lib.win-amd64-3.8\\autosklearn\\metalearning\\files\\f1_micro_binary.classification_sparse\n",
      "  copying autosklearn\\metalearning\\files\\f1_micro_binary.classification_sparse\\readme.txt -> build\\lib.win-amd64-3.8\\autosklearn\\metalearning\\files\\f1_micro_binary.classification_sparse\n",
      "  creating build\\lib.win-amd64-3.8\\autosklearn\\metalearning\\files\\f1_micro_multiclass.classification_dense\n",
      "  copying autosklearn\\metalearning\\files\\f1_micro_multiclass.classification_dense\\algorithm_runs.arff -> build\\lib.win-amd64-3.8\\autosklearn\\metalearning\\files\\f1_micro_multiclass.classification_dense\n",
      "  copying autosklearn\\metalearning\\files\\f1_micro_multiclass.classification_dense\\configurations.csv -> build\\lib.win-amd64-3.8\\autosklearn\\metalearning\\files\\f1_micro_multiclass.classification_dense\n",
      "  copying autosklearn\\metalearning\\files\\f1_micro_multiclass.classification_dense\\description.txt -> build\\lib.win-amd64-3.8\\autosklearn\\metalearning\\files\\f1_micro_multiclass.classification_dense\n",
      "  copying autosklearn\\metalearning\\files\\f1_micro_multiclass.classification_dense\\feature_costs.arff -> build\\lib.win-amd64-3.8\\autosklearn\\metalearning\\files\\f1_micro_multiclass.classification_dense\n",
      "  copying autosklearn\\metalearning\\files\\f1_micro_multiclass.classification_dense\\feature_runstatus.arff -> build\\lib.win-amd64-3.8\\autosklearn\\metalearning\\files\\f1_micro_multiclass.classification_dense\n",
      "  copying autosklearn\\metalearning\\files\\f1_micro_multiclass.classification_dense\\feature_values.arff -> build\\lib.win-amd64-3.8\\autosklearn\\metalearning\\files\\f1_micro_multiclass.classification_dense\n",
      "  copying autosklearn\\metalearning\\files\\f1_micro_multiclass.classification_dense\\readme.txt -> build\\lib.win-amd64-3.8\\autosklearn\\metalearning\\files\\f1_micro_multiclass.classification_dense\n",
      "  creating build\\lib.win-amd64-3.8\\autosklearn\\metalearning\\files\\f1_micro_multiclass.classification_sparse\n",
      "  copying autosklearn\\metalearning\\files\\f1_micro_multiclass.classification_sparse\\algorithm_runs.arff -> build\\lib.win-amd64-3.8\\autosklearn\\metalearning\\files\\f1_micro_multiclass.classification_sparse\n",
      "  copying autosklearn\\metalearning\\files\\f1_micro_multiclass.classification_sparse\\configurations.csv -> build\\lib.win-amd64-3.8\\autosklearn\\metalearning\\files\\f1_micro_multiclass.classification_sparse\n",
      "  copying autosklearn\\metalearning\\files\\f1_micro_multiclass.classification_sparse\\description.txt -> build\\lib.win-amd64-3.8\\autosklearn\\metalearning\\files\\f1_micro_multiclass.classification_sparse\n",
      "  copying autosklearn\\metalearning\\files\\f1_micro_multiclass.classification_sparse\\feature_costs.arff -> build\\lib.win-amd64-3.8\\autosklearn\\metalearning\\files\\f1_micro_multiclass.classification_sparse\n",
      "  copying autosklearn\\metalearning\\files\\f1_micro_multiclass.classification_sparse\\feature_runstatus.arff -> build\\lib.win-amd64-3.8\\autosklearn\\metalearning\\files\\f1_micro_multiclass.classification_sparse\n",
      "  copying autosklearn\\metalearning\\files\\f1_micro_multiclass.classification_sparse\\feature_values.arff -> build\\lib.win-amd64-3.8\\autosklearn\\metalearning\\files\\f1_micro_multiclass.classification_sparse\n",
      "  copying autosklearn\\metalearning\\files\\f1_micro_multiclass.classification_sparse\\readme.txt -> build\\lib.win-amd64-3.8\\autosklearn\\metalearning\\files\\f1_micro_multiclass.classification_sparse\n",
      "  creating build\\lib.win-amd64-3.8\\autosklearn\\metalearning\\files\\f1_multiclass.classification_dense\n",
      "  copying autosklearn\\metalearning\\files\\f1_multiclass.classification_dense\\algorithm_runs.arff -> build\\lib.win-amd64-3.8\\autosklearn\\metalearning\\files\\f1_multiclass.classification_dense\n",
      "  copying autosklearn\\metalearning\\files\\f1_multiclass.classification_dense\\configurations.csv -> build\\lib.win-amd64-3.8\\autosklearn\\metalearning\\files\\f1_multiclass.classification_dense\n",
      "  copying autosklearn\\metalearning\\files\\f1_multiclass.classification_dense\\description.txt -> build\\lib.win-amd64-3.8\\autosklearn\\metalearning\\files\\f1_multiclass.classification_dense\n",
      "  copying autosklearn\\metalearning\\files\\f1_multiclass.classification_dense\\feature_costs.arff -> build\\lib.win-amd64-3.8\\autosklearn\\metalearning\\files\\f1_multiclass.classification_dense\n",
      "  copying autosklearn\\metalearning\\files\\f1_multiclass.classification_dense\\feature_runstatus.arff -> build\\lib.win-amd64-3.8\\autosklearn\\metalearning\\files\\f1_multiclass.classification_dense\n",
      "  copying autosklearn\\metalearning\\files\\f1_multiclass.classification_dense\\feature_values.arff -> build\\lib.win-amd64-3.8\\autosklearn\\metalearning\\files\\f1_multiclass.classification_dense\n",
      "  copying autosklearn\\metalearning\\files\\f1_multiclass.classification_dense\\readme.txt -> build\\lib.win-amd64-3.8\\autosklearn\\metalearning\\files\\f1_multiclass.classification_dense\n",
      "  creating build\\lib.win-amd64-3.8\\autosklearn\\metalearning\\files\\f1_multiclass.classification_sparse\n",
      "  copying autosklearn\\metalearning\\files\\f1_multiclass.classification_sparse\\algorithm_runs.arff -> build\\lib.win-amd64-3.8\\autosklearn\\metalearning\\files\\f1_multiclass.classification_sparse\n",
      "  copying autosklearn\\metalearning\\files\\f1_multiclass.classification_sparse\\configurations.csv -> build\\lib.win-amd64-3.8\\autosklearn\\metalearning\\files\\f1_multiclass.classification_sparse\n",
      "  copying autosklearn\\metalearning\\files\\f1_multiclass.classification_sparse\\description.txt -> build\\lib.win-amd64-3.8\\autosklearn\\metalearning\\files\\f1_multiclass.classification_sparse\n",
      "  copying autosklearn\\metalearning\\files\\f1_multiclass.classification_sparse\\feature_costs.arff -> build\\lib.win-amd64-3.8\\autosklearn\\metalearning\\files\\f1_multiclass.classification_sparse\n",
      "  copying autosklearn\\metalearning\\files\\f1_multiclass.classification_sparse\\feature_runstatus.arff -> build\\lib.win-amd64-3.8\\autosklearn\\metalearning\\files\\f1_multiclass.classification_sparse\n",
      "  copying autosklearn\\metalearning\\files\\f1_multiclass.classification_sparse\\feature_values.arff -> build\\lib.win-amd64-3.8\\autosklearn\\metalearning\\files\\f1_multiclass.classification_sparse\n",
      "  copying autosklearn\\metalearning\\files\\f1_multiclass.classification_sparse\\readme.txt -> build\\lib.win-amd64-3.8\\autosklearn\\metalearning\\files\\f1_multiclass.classification_sparse\n",
      "  creating build\\lib.win-amd64-3.8\\autosklearn\\metalearning\\files\\f1_weighted_binary.classification_dense\n",
      "  copying autosklearn\\metalearning\\files\\f1_weighted_binary.classification_dense\\algorithm_runs.arff -> build\\lib.win-amd64-3.8\\autosklearn\\metalearning\\files\\f1_weighted_binary.classification_dense\n",
      "  copying autosklearn\\metalearning\\files\\f1_weighted_binary.classification_dense\\configurations.csv -> build\\lib.win-amd64-3.8\\autosklearn\\metalearning\\files\\f1_weighted_binary.classification_dense\n",
      "  copying autosklearn\\metalearning\\files\\f1_weighted_binary.classification_dense\\description.txt -> build\\lib.win-amd64-3.8\\autosklearn\\metalearning\\files\\f1_weighted_binary.classification_dense\n",
      "  copying autosklearn\\metalearning\\files\\f1_weighted_binary.classification_dense\\feature_costs.arff -> build\\lib.win-amd64-3.8\\autosklearn\\metalearning\\files\\f1_weighted_binary.classification_dense\n",
      "  copying autosklearn\\metalearning\\files\\f1_weighted_binary.classification_dense\\feature_runstatus.arff -> build\\lib.win-amd64-3.8\\autosklearn\\metalearning\\files\\f1_weighted_binary.classification_dense\n",
      "  copying autosklearn\\metalearning\\files\\f1_weighted_binary.classification_dense\\feature_values.arff -> build\\lib.win-amd64-3.8\\autosklearn\\metalearning\\files\\f1_weighted_binary.classification_dense\n",
      "  copying autosklearn\\metalearning\\files\\f1_weighted_binary.classification_dense\\readme.txt -> build\\lib.win-amd64-3.8\\autosklearn\\metalearning\\files\\f1_weighted_binary.classification_dense\n",
      "  creating build\\lib.win-amd64-3.8\\autosklearn\\metalearning\\files\\f1_weighted_binary.classification_sparse\n",
      "  copying autosklearn\\metalearning\\files\\f1_weighted_binary.classification_sparse\\algorithm_runs.arff -> build\\lib.win-amd64-3.8\\autosklearn\\metalearning\\files\\f1_weighted_binary.classification_sparse\n",
      "  copying autosklearn\\metalearning\\files\\f1_weighted_binary.classification_sparse\\configurations.csv -> build\\lib.win-amd64-3.8\\autosklearn\\metalearning\\files\\f1_weighted_binary.classification_sparse\n",
      "  copying autosklearn\\metalearning\\files\\f1_weighted_binary.classification_sparse\\description.txt -> build\\lib.win-amd64-3.8\\autosklearn\\metalearning\\files\\f1_weighted_binary.classification_sparse\n",
      "  copying autosklearn\\metalearning\\files\\f1_weighted_binary.classification_sparse\\feature_costs.arff -> build\\lib.win-amd64-3.8\\autosklearn\\metalearning\\files\\f1_weighted_binary.classification_sparse\n",
      "  copying autosklearn\\metalearning\\files\\f1_weighted_binary.classification_sparse\\feature_runstatus.arff -> build\\lib.win-amd64-3.8\\autosklearn\\metalearning\\files\\f1_weighted_binary.classification_sparse\n",
      "  copying autosklearn\\metalearning\\files\\f1_weighted_binary.classification_sparse\\feature_values.arff -> build\\lib.win-amd64-3.8\\autosklearn\\metalearning\\files\\f1_weighted_binary.classification_sparse\n",
      "  copying autosklearn\\metalearning\\files\\f1_weighted_binary.classification_sparse\\readme.txt -> build\\lib.win-amd64-3.8\\autosklearn\\metalearning\\files\\f1_weighted_binary.classification_sparse\n",
      "  creating build\\lib.win-amd64-3.8\\autosklearn\\metalearning\\files\\f1_weighted_multiclass.classification_dense\n",
      "  copying autosklearn\\metalearning\\files\\f1_weighted_multiclass.classification_dense\\algorithm_runs.arff -> build\\lib.win-amd64-3.8\\autosklearn\\metalearning\\files\\f1_weighted_multiclass.classification_dense\n",
      "  copying autosklearn\\metalearning\\files\\f1_weighted_multiclass.classification_dense\\configurations.csv -> build\\lib.win-amd64-3.8\\autosklearn\\metalearning\\files\\f1_weighted_multiclass.classification_dense\n",
      "  copying autosklearn\\metalearning\\files\\f1_weighted_multiclass.classification_dense\\description.txt -> build\\lib.win-amd64-3.8\\autosklearn\\metalearning\\files\\f1_weighted_multiclass.classification_dense\n",
      "  copying autosklearn\\metalearning\\files\\f1_weighted_multiclass.classification_dense\\feature_costs.arff -> build\\lib.win-amd64-3.8\\autosklearn\\metalearning\\files\\f1_weighted_multiclass.classification_dense\n",
      "  copying autosklearn\\metalearning\\files\\f1_weighted_multiclass.classification_dense\\feature_runstatus.arff -> build\\lib.win-amd64-3.8\\autosklearn\\metalearning\\files\\f1_weighted_multiclass.classification_dense\n",
      "  copying autosklearn\\metalearning\\files\\f1_weighted_multiclass.classification_dense\\feature_values.arff -> build\\lib.win-amd64-3.8\\autosklearn\\metalearning\\files\\f1_weighted_multiclass.classification_dense\n",
      "  copying autosklearn\\metalearning\\files\\f1_weighted_multiclass.classification_dense\\readme.txt -> build\\lib.win-amd64-3.8\\autosklearn\\metalearning\\files\\f1_weighted_multiclass.classification_dense\n",
      "  creating build\\lib.win-amd64-3.8\\autosklearn\\metalearning\\files\\f1_weighted_multiclass.classification_sparse\n",
      "  copying autosklearn\\metalearning\\files\\f1_weighted_multiclass.classification_sparse\\algorithm_runs.arff -> build\\lib.win-amd64-3.8\\autosklearn\\metalearning\\files\\f1_weighted_multiclass.classification_sparse\n",
      "  copying autosklearn\\metalearning\\files\\f1_weighted_multiclass.classification_sparse\\configurations.csv -> build\\lib.win-amd64-3.8\\autosklearn\\metalearning\\files\\f1_weighted_multiclass.classification_sparse\n",
      "  copying autosklearn\\metalearning\\files\\f1_weighted_multiclass.classification_sparse\\description.txt -> build\\lib.win-amd64-3.8\\autosklearn\\metalearning\\files\\f1_weighted_multiclass.classification_sparse\n",
      "  copying autosklearn\\metalearning\\files\\f1_weighted_multiclass.classification_sparse\\feature_costs.arff -> build\\lib.win-amd64-3.8\\autosklearn\\metalearning\\files\\f1_weighted_multiclass.classification_sparse\n",
      "  copying autosklearn\\metalearning\\files\\f1_weighted_multiclass.classification_sparse\\feature_runstatus.arff -> build\\lib.win-amd64-3.8\\autosklearn\\metalearning\\files\\f1_weighted_multiclass.classification_sparse\n",
      "  copying autosklearn\\metalearning\\files\\f1_weighted_multiclass.classification_sparse\\feature_values.arff -> build\\lib.win-amd64-3.8\\autosklearn\\metalearning\\files\\f1_weighted_multiclass.classification_sparse\n",
      "  copying autosklearn\\metalearning\\files\\f1_weighted_multiclass.classification_sparse\\readme.txt -> build\\lib.win-amd64-3.8\\autosklearn\\metalearning\\files\\f1_weighted_multiclass.classification_sparse\n",
      "  creating build\\lib.win-amd64-3.8\\autosklearn\\metalearning\\files\\log_loss_binary.classification_dense\n",
      "  copying autosklearn\\metalearning\\files\\log_loss_binary.classification_dense\\algorithm_runs.arff -> build\\lib.win-amd64-3.8\\autosklearn\\metalearning\\files\\log_loss_binary.classification_dense\n",
      "  copying autosklearn\\metalearning\\files\\log_loss_binary.classification_dense\\configurations.csv -> build\\lib.win-amd64-3.8\\autosklearn\\metalearning\\files\\log_loss_binary.classification_dense\n",
      "  copying autosklearn\\metalearning\\files\\log_loss_binary.classification_dense\\description.txt -> build\\lib.win-amd64-3.8\\autosklearn\\metalearning\\files\\log_loss_binary.classification_dense\n",
      "  copying autosklearn\\metalearning\\files\\log_loss_binary.classification_dense\\feature_costs.arff -> build\\lib.win-amd64-3.8\\autosklearn\\metalearning\\files\\log_loss_binary.classification_dense\n",
      "  copying autosklearn\\metalearning\\files\\log_loss_binary.classification_dense\\feature_runstatus.arff -> build\\lib.win-amd64-3.8\\autosklearn\\metalearning\\files\\log_loss_binary.classification_dense\n",
      "  copying autosklearn\\metalearning\\files\\log_loss_binary.classification_dense\\feature_values.arff -> build\\lib.win-amd64-3.8\\autosklearn\\metalearning\\files\\log_loss_binary.classification_dense\n",
      "  copying autosklearn\\metalearning\\files\\log_loss_binary.classification_dense\\readme.txt -> build\\lib.win-amd64-3.8\\autosklearn\\metalearning\\files\\log_loss_binary.classification_dense\n",
      "  creating build\\lib.win-amd64-3.8\\autosklearn\\metalearning\\files\\log_loss_binary.classification_sparse\n",
      "  copying autosklearn\\metalearning\\files\\log_loss_binary.classification_sparse\\algorithm_runs.arff -> build\\lib.win-amd64-3.8\\autosklearn\\metalearning\\files\\log_loss_binary.classification_sparse\n",
      "  copying autosklearn\\metalearning\\files\\log_loss_binary.classification_sparse\\configurations.csv -> build\\lib.win-amd64-3.8\\autosklearn\\metalearning\\files\\log_loss_binary.classification_sparse\n",
      "  copying autosklearn\\metalearning\\files\\log_loss_binary.classification_sparse\\description.txt -> build\\lib.win-amd64-3.8\\autosklearn\\metalearning\\files\\log_loss_binary.classification_sparse\n",
      "  copying autosklearn\\metalearning\\files\\log_loss_binary.classification_sparse\\feature_costs.arff -> build\\lib.win-amd64-3.8\\autosklearn\\metalearning\\files\\log_loss_binary.classification_sparse\n",
      "  copying autosklearn\\metalearning\\files\\log_loss_binary.classification_sparse\\feature_runstatus.arff -> build\\lib.win-amd64-3.8\\autosklearn\\metalearning\\files\\log_loss_binary.classification_sparse\n",
      "  copying autosklearn\\metalearning\\files\\log_loss_binary.classification_sparse\\feature_values.arff -> build\\lib.win-amd64-3.8\\autosklearn\\metalearning\\files\\log_loss_binary.classification_sparse\n",
      "  copying autosklearn\\metalearning\\files\\log_loss_binary.classification_sparse\\readme.txt -> build\\lib.win-amd64-3.8\\autosklearn\\metalearning\\files\\log_loss_binary.classification_sparse\n",
      "  creating build\\lib.win-amd64-3.8\\autosklearn\\metalearning\\files\\log_loss_multiclass.classification_dense\n",
      "  copying autosklearn\\metalearning\\files\\log_loss_multiclass.classification_dense\\algorithm_runs.arff -> build\\lib.win-amd64-3.8\\autosklearn\\metalearning\\files\\log_loss_multiclass.classification_dense\n",
      "  copying autosklearn\\metalearning\\files\\log_loss_multiclass.classification_dense\\configurations.csv -> build\\lib.win-amd64-3.8\\autosklearn\\metalearning\\files\\log_loss_multiclass.classification_dense\n",
      "  copying autosklearn\\metalearning\\files\\log_loss_multiclass.classification_dense\\description.txt -> build\\lib.win-amd64-3.8\\autosklearn\\metalearning\\files\\log_loss_multiclass.classification_dense\n",
      "  copying autosklearn\\metalearning\\files\\log_loss_multiclass.classification_dense\\feature_costs.arff -> build\\lib.win-amd64-3.8\\autosklearn\\metalearning\\files\\log_loss_multiclass.classification_dense\n",
      "  copying autosklearn\\metalearning\\files\\log_loss_multiclass.classification_dense\\feature_runstatus.arff -> build\\lib.win-amd64-3.8\\autosklearn\\metalearning\\files\\log_loss_multiclass.classification_dense\n",
      "  copying autosklearn\\metalearning\\files\\log_loss_multiclass.classification_dense\\feature_values.arff -> build\\lib.win-amd64-3.8\\autosklearn\\metalearning\\files\\log_loss_multiclass.classification_dense\n",
      "  copying autosklearn\\metalearning\\files\\log_loss_multiclass.classification_dense\\readme.txt -> build\\lib.win-amd64-3.8\\autosklearn\\metalearning\\files\\log_loss_multiclass.classification_dense\n",
      "  creating build\\lib.win-amd64-3.8\\autosklearn\\metalearning\\files\\log_loss_multiclass.classification_sparse\n",
      "  copying autosklearn\\metalearning\\files\\log_loss_multiclass.classification_sparse\\algorithm_runs.arff -> build\\lib.win-amd64-3.8\\autosklearn\\metalearning\\files\\log_loss_multiclass.classification_sparse\n",
      "  copying autosklearn\\metalearning\\files\\log_loss_multiclass.classification_sparse\\configurations.csv -> build\\lib.win-amd64-3.8\\autosklearn\\metalearning\\files\\log_loss_multiclass.classification_sparse\n",
      "  copying autosklearn\\metalearning\\files\\log_loss_multiclass.classification_sparse\\description.txt -> build\\lib.win-amd64-3.8\\autosklearn\\metalearning\\files\\log_loss_multiclass.classification_sparse\n",
      "  copying autosklearn\\metalearning\\files\\log_loss_multiclass.classification_sparse\\feature_costs.arff -> build\\lib.win-amd64-3.8\\autosklearn\\metalearning\\files\\log_loss_multiclass.classification_sparse\n",
      "  copying autosklearn\\metalearning\\files\\log_loss_multiclass.classification_sparse\\feature_runstatus.arff -> build\\lib.win-amd64-3.8\\autosklearn\\metalearning\\files\\log_loss_multiclass.classification_sparse\n",
      "  copying autosklearn\\metalearning\\files\\log_loss_multiclass.classification_sparse\\feature_values.arff -> build\\lib.win-amd64-3.8\\autosklearn\\metalearning\\files\\log_loss_multiclass.classification_sparse\n",
      "  copying autosklearn\\metalearning\\files\\log_loss_multiclass.classification_sparse\\readme.txt -> build\\lib.win-amd64-3.8\\autosklearn\\metalearning\\files\\log_loss_multiclass.classification_sparse\n",
      "  creating build\\lib.win-amd64-3.8\\autosklearn\\metalearning\\files\\pac_score_binary.classification_dense\n",
      "  copying autosklearn\\metalearning\\files\\pac_score_binary.classification_dense\\algorithm_runs.arff -> build\\lib.win-amd64-3.8\\autosklearn\\metalearning\\files\\pac_score_binary.classification_dense\n",
      "  copying autosklearn\\metalearning\\files\\pac_score_binary.classification_dense\\configurations.csv -> build\\lib.win-amd64-3.8\\autosklearn\\metalearning\\files\\pac_score_binary.classification_dense\n",
      "  copying autosklearn\\metalearning\\files\\pac_score_binary.classification_dense\\description.txt -> build\\lib.win-amd64-3.8\\autosklearn\\metalearning\\files\\pac_score_binary.classification_dense\n",
      "  copying autosklearn\\metalearning\\files\\pac_score_binary.classification_dense\\feature_costs.arff -> build\\lib.win-amd64-3.8\\autosklearn\\metalearning\\files\\pac_score_binary.classification_dense\n",
      "  copying autosklearn\\metalearning\\files\\pac_score_binary.classification_dense\\feature_runstatus.arff -> build\\lib.win-amd64-3.8\\autosklearn\\metalearning\\files\\pac_score_binary.classification_dense\n",
      "  copying autosklearn\\metalearning\\files\\pac_score_binary.classification_dense\\feature_values.arff -> build\\lib.win-amd64-3.8\\autosklearn\\metalearning\\files\\pac_score_binary.classification_dense\n",
      "  copying autosklearn\\metalearning\\files\\pac_score_binary.classification_dense\\readme.txt -> build\\lib.win-amd64-3.8\\autosklearn\\metalearning\\files\\pac_score_binary.classification_dense\n",
      "  creating build\\lib.win-amd64-3.8\\autosklearn\\metalearning\\files\\pac_score_binary.classification_sparse\n",
      "  copying autosklearn\\metalearning\\files\\pac_score_binary.classification_sparse\\algorithm_runs.arff -> build\\lib.win-amd64-3.8\\autosklearn\\metalearning\\files\\pac_score_binary.classification_sparse\n",
      "  copying autosklearn\\metalearning\\files\\pac_score_binary.classification_sparse\\configurations.csv -> build\\lib.win-amd64-3.8\\autosklearn\\metalearning\\files\\pac_score_binary.classification_sparse\n",
      "  copying autosklearn\\metalearning\\files\\pac_score_binary.classification_sparse\\description.txt -> build\\lib.win-amd64-3.8\\autosklearn\\metalearning\\files\\pac_score_binary.classification_sparse\n",
      "  copying autosklearn\\metalearning\\files\\pac_score_binary.classification_sparse\\feature_costs.arff -> build\\lib.win-amd64-3.8\\autosklearn\\metalearning\\files\\pac_score_binary.classification_sparse\n",
      "  copying autosklearn\\metalearning\\files\\pac_score_binary.classification_sparse\\feature_runstatus.arff -> build\\lib.win-amd64-3.8\\autosklearn\\metalearning\\files\\pac_score_binary.classification_sparse\n",
      "  copying autosklearn\\metalearning\\files\\pac_score_binary.classification_sparse\\feature_values.arff -> build\\lib.win-amd64-3.8\\autosklearn\\metalearning\\files\\pac_score_binary.classification_sparse\n",
      "  copying autosklearn\\metalearning\\files\\pac_score_binary.classification_sparse\\readme.txt -> build\\lib.win-amd64-3.8\\autosklearn\\metalearning\\files\\pac_score_binary.classification_sparse\n",
      "  creating build\\lib.win-amd64-3.8\\autosklearn\\metalearning\\files\\pac_score_multiclass.classification_dense\n",
      "  copying autosklearn\\metalearning\\files\\pac_score_multiclass.classification_dense\\algorithm_runs.arff -> build\\lib.win-amd64-3.8\\autosklearn\\metalearning\\files\\pac_score_multiclass.classification_dense\n",
      "  copying autosklearn\\metalearning\\files\\pac_score_multiclass.classification_dense\\configurations.csv -> build\\lib.win-amd64-3.8\\autosklearn\\metalearning\\files\\pac_score_multiclass.classification_dense\n",
      "  copying autosklearn\\metalearning\\files\\pac_score_multiclass.classification_dense\\description.txt -> build\\lib.win-amd64-3.8\\autosklearn\\metalearning\\files\\pac_score_multiclass.classification_dense\n",
      "  copying autosklearn\\metalearning\\files\\pac_score_multiclass.classification_dense\\feature_costs.arff -> build\\lib.win-amd64-3.8\\autosklearn\\metalearning\\files\\pac_score_multiclass.classification_dense\n",
      "  copying autosklearn\\metalearning\\files\\pac_score_multiclass.classification_dense\\feature_runstatus.arff -> build\\lib.win-amd64-3.8\\autosklearn\\metalearning\\files\\pac_score_multiclass.classification_dense\n",
      "  copying autosklearn\\metalearning\\files\\pac_score_multiclass.classification_dense\\feature_values.arff -> build\\lib.win-amd64-3.8\\autosklearn\\metalearning\\files\\pac_score_multiclass.classification_dense\n",
      "  copying autosklearn\\metalearning\\files\\pac_score_multiclass.classification_dense\\readme.txt -> build\\lib.win-amd64-3.8\\autosklearn\\metalearning\\files\\pac_score_multiclass.classification_dense\n",
      "  creating build\\lib.win-amd64-3.8\\autosklearn\\metalearning\\files\\pac_score_multiclass.classification_sparse\n",
      "  copying autosklearn\\metalearning\\files\\pac_score_multiclass.classification_sparse\\algorithm_runs.arff -> build\\lib.win-amd64-3.8\\autosklearn\\metalearning\\files\\pac_score_multiclass.classification_sparse\n",
      "  copying autosklearn\\metalearning\\files\\pac_score_multiclass.classification_sparse\\configurations.csv -> build\\lib.win-amd64-3.8\\autosklearn\\metalearning\\files\\pac_score_multiclass.classification_sparse\n",
      "  copying autosklearn\\metalearning\\files\\pac_score_multiclass.classification_sparse\\description.txt -> build\\lib.win-amd64-3.8\\autosklearn\\metalearning\\files\\pac_score_multiclass.classification_sparse\n",
      "  copying autosklearn\\metalearning\\files\\pac_score_multiclass.classification_sparse\\feature_costs.arff -> build\\lib.win-amd64-3.8\\autosklearn\\metalearning\\files\\pac_score_multiclass.classification_sparse\n",
      "  copying autosklearn\\metalearning\\files\\pac_score_multiclass.classification_sparse\\feature_runstatus.arff -> build\\lib.win-amd64-3.8\\autosklearn\\metalearning\\files\\pac_score_multiclass.classification_sparse\n",
      "  copying autosklearn\\metalearning\\files\\pac_score_multiclass.classification_sparse\\feature_values.arff -> build\\lib.win-amd64-3.8\\autosklearn\\metalearning\\files\\pac_score_multiclass.classification_sparse\n",
      "  copying autosklearn\\metalearning\\files\\pac_score_multiclass.classification_sparse\\readme.txt -> build\\lib.win-amd64-3.8\\autosklearn\\metalearning\\files\\pac_score_multiclass.classification_sparse\n",
      "  creating build\\lib.win-amd64-3.8\\autosklearn\\metalearning\\files\\precision_binary.classification_dense\n",
      "  copying autosklearn\\metalearning\\files\\precision_binary.classification_dense\\algorithm_runs.arff -> build\\lib.win-amd64-3.8\\autosklearn\\metalearning\\files\\precision_binary.classification_dense\n",
      "  copying autosklearn\\metalearning\\files\\precision_binary.classification_dense\\configurations.csv -> build\\lib.win-amd64-3.8\\autosklearn\\metalearning\\files\\precision_binary.classification_dense\n",
      "  copying autosklearn\\metalearning\\files\\precision_binary.classification_dense\\description.txt -> build\\lib.win-amd64-3.8\\autosklearn\\metalearning\\files\\precision_binary.classification_dense\n",
      "  copying autosklearn\\metalearning\\files\\precision_binary.classification_dense\\feature_costs.arff -> build\\lib.win-amd64-3.8\\autosklearn\\metalearning\\files\\precision_binary.classification_dense\n",
      "  copying autosklearn\\metalearning\\files\\precision_binary.classification_dense\\feature_runstatus.arff -> build\\lib.win-amd64-3.8\\autosklearn\\metalearning\\files\\precision_binary.classification_dense\n",
      "  copying autosklearn\\metalearning\\files\\precision_binary.classification_dense\\feature_values.arff -> build\\lib.win-amd64-3.8\\autosklearn\\metalearning\\files\\precision_binary.classification_dense\n",
      "  copying autosklearn\\metalearning\\files\\precision_binary.classification_dense\\readme.txt -> build\\lib.win-amd64-3.8\\autosklearn\\metalearning\\files\\precision_binary.classification_dense\n",
      "  creating build\\lib.win-amd64-3.8\\autosklearn\\metalearning\\files\\precision_binary.classification_sparse\n",
      "  copying autosklearn\\metalearning\\files\\precision_binary.classification_sparse\\algorithm_runs.arff -> build\\lib.win-amd64-3.8\\autosklearn\\metalearning\\files\\precision_binary.classification_sparse\n",
      "  copying autosklearn\\metalearning\\files\\precision_binary.classification_sparse\\configurations.csv -> build\\lib.win-amd64-3.8\\autosklearn\\metalearning\\files\\precision_binary.classification_sparse\n",
      "  copying autosklearn\\metalearning\\files\\precision_binary.classification_sparse\\description.txt -> build\\lib.win-amd64-3.8\\autosklearn\\metalearning\\files\\precision_binary.classification_sparse\n",
      "  copying autosklearn\\metalearning\\files\\precision_binary.classification_sparse\\feature_costs.arff -> build\\lib.win-amd64-3.8\\autosklearn\\metalearning\\files\\precision_binary.classification_sparse\n",
      "  copying autosklearn\\metalearning\\files\\precision_binary.classification_sparse\\feature_runstatus.arff -> build\\lib.win-amd64-3.8\\autosklearn\\metalearning\\files\\precision_binary.classification_sparse\n",
      "  copying autosklearn\\metalearning\\files\\precision_binary.classification_sparse\\feature_values.arff -> build\\lib.win-amd64-3.8\\autosklearn\\metalearning\\files\\precision_binary.classification_sparse\n",
      "  copying autosklearn\\metalearning\\files\\precision_binary.classification_sparse\\readme.txt -> build\\lib.win-amd64-3.8\\autosklearn\\metalearning\\files\\precision_binary.classification_sparse\n",
      "  creating build\\lib.win-amd64-3.8\\autosklearn\\metalearning\\files\\precision_macro_binary.classification_dense\n",
      "  copying autosklearn\\metalearning\\files\\precision_macro_binary.classification_dense\\algorithm_runs.arff -> build\\lib.win-amd64-3.8\\autosklearn\\metalearning\\files\\precision_macro_binary.classification_dense\n",
      "  copying autosklearn\\metalearning\\files\\precision_macro_binary.classification_dense\\configurations.csv -> build\\lib.win-amd64-3.8\\autosklearn\\metalearning\\files\\precision_macro_binary.classification_dense\n",
      "  copying autosklearn\\metalearning\\files\\precision_macro_binary.classification_dense\\description.txt -> build\\lib.win-amd64-3.8\\autosklearn\\metalearning\\files\\precision_macro_binary.classification_dense\n",
      "  copying autosklearn\\metalearning\\files\\precision_macro_binary.classification_dense\\feature_costs.arff -> build\\lib.win-amd64-3.8\\autosklearn\\metalearning\\files\\precision_macro_binary.classification_dense\n",
      "  copying autosklearn\\metalearning\\files\\precision_macro_binary.classification_dense\\feature_runstatus.arff -> build\\lib.win-amd64-3.8\\autosklearn\\metalearning\\files\\precision_macro_binary.classification_dense\n",
      "  copying autosklearn\\metalearning\\files\\precision_macro_binary.classification_dense\\feature_values.arff -> build\\lib.win-amd64-3.8\\autosklearn\\metalearning\\files\\precision_macro_binary.classification_dense\n",
      "  copying autosklearn\\metalearning\\files\\precision_macro_binary.classification_dense\\readme.txt -> build\\lib.win-amd64-3.8\\autosklearn\\metalearning\\files\\precision_macro_binary.classification_dense\n",
      "  creating build\\lib.win-amd64-3.8\\autosklearn\\metalearning\\files\\precision_macro_binary.classification_sparse\n",
      "  copying autosklearn\\metalearning\\files\\precision_macro_binary.classification_sparse\\algorithm_runs.arff -> build\\lib.win-amd64-3.8\\autosklearn\\metalearning\\files\\precision_macro_binary.classification_sparse\n",
      "  copying autosklearn\\metalearning\\files\\precision_macro_binary.classification_sparse\\configurations.csv -> build\\lib.win-amd64-3.8\\autosklearn\\metalearning\\files\\precision_macro_binary.classification_sparse\n",
      "  copying autosklearn\\metalearning\\files\\precision_macro_binary.classification_sparse\\description.txt -> build\\lib.win-amd64-3.8\\autosklearn\\metalearning\\files\\precision_macro_binary.classification_sparse\n",
      "  copying autosklearn\\metalearning\\files\\precision_macro_binary.classification_sparse\\feature_costs.arff -> build\\lib.win-amd64-3.8\\autosklearn\\metalearning\\files\\precision_macro_binary.classification_sparse\n",
      "  copying autosklearn\\metalearning\\files\\precision_macro_binary.classification_sparse\\feature_runstatus.arff -> build\\lib.win-amd64-3.8\\autosklearn\\metalearning\\files\\precision_macro_binary.classification_sparse\n",
      "  copying autosklearn\\metalearning\\files\\precision_macro_binary.classification_sparse\\feature_values.arff -> build\\lib.win-amd64-3.8\\autosklearn\\metalearning\\files\\precision_macro_binary.classification_sparse\n",
      "  copying autosklearn\\metalearning\\files\\precision_macro_binary.classification_sparse\\readme.txt -> build\\lib.win-amd64-3.8\\autosklearn\\metalearning\\files\\precision_macro_binary.classification_sparse\n",
      "  creating build\\lib.win-amd64-3.8\\autosklearn\\metalearning\\files\\precision_macro_multiclass.classification_dense\n",
      "  copying autosklearn\\metalearning\\files\\precision_macro_multiclass.classification_dense\\algorithm_runs.arff -> build\\lib.win-amd64-3.8\\autosklearn\\metalearning\\files\\precision_macro_multiclass.classification_dense\n",
      "  copying autosklearn\\metalearning\\files\\precision_macro_multiclass.classification_dense\\configurations.csv -> build\\lib.win-amd64-3.8\\autosklearn\\metalearning\\files\\precision_macro_multiclass.classification_dense\n",
      "  copying autosklearn\\metalearning\\files\\precision_macro_multiclass.classification_dense\\description.txt -> build\\lib.win-amd64-3.8\\autosklearn\\metalearning\\files\\precision_macro_multiclass.classification_dense\n",
      "  copying autosklearn\\metalearning\\files\\precision_macro_multiclass.classification_dense\\feature_costs.arff -> build\\lib.win-amd64-3.8\\autosklearn\\metalearning\\files\\precision_macro_multiclass.classification_dense\n",
      "  copying autosklearn\\metalearning\\files\\precision_macro_multiclass.classification_dense\\feature_runstatus.arff -> build\\lib.win-amd64-3.8\\autosklearn\\metalearning\\files\\precision_macro_multiclass.classification_dense\n",
      "  copying autosklearn\\metalearning\\files\\precision_macro_multiclass.classification_dense\\feature_values.arff -> build\\lib.win-amd64-3.8\\autosklearn\\metalearning\\files\\precision_macro_multiclass.classification_dense\n",
      "  copying autosklearn\\metalearning\\files\\precision_macro_multiclass.classification_dense\\readme.txt -> build\\lib.win-amd64-3.8\\autosklearn\\metalearning\\files\\precision_macro_multiclass.classification_dense\n",
      "  creating build\\lib.win-amd64-3.8\\autosklearn\\metalearning\\files\\precision_macro_multiclass.classification_sparse\n",
      "  copying autosklearn\\metalearning\\files\\precision_macro_multiclass.classification_sparse\\algorithm_runs.arff -> build\\lib.win-amd64-3.8\\autosklearn\\metalearning\\files\\precision_macro_multiclass.classification_sparse\n",
      "  copying autosklearn\\metalearning\\files\\precision_macro_multiclass.classification_sparse\\configurations.csv -> build\\lib.win-amd64-3.8\\autosklearn\\metalearning\\files\\precision_macro_multiclass.classification_sparse\n",
      "  copying autosklearn\\metalearning\\files\\precision_macro_multiclass.classification_sparse\\description.txt -> build\\lib.win-amd64-3.8\\autosklearn\\metalearning\\files\\precision_macro_multiclass.classification_sparse\n",
      "  copying autosklearn\\metalearning\\files\\precision_macro_multiclass.classification_sparse\\feature_costs.arff -> build\\lib.win-amd64-3.8\\autosklearn\\metalearning\\files\\precision_macro_multiclass.classification_sparse\n",
      "  copying autosklearn\\metalearning\\files\\precision_macro_multiclass.classification_sparse\\feature_runstatus.arff -> build\\lib.win-amd64-3.8\\autosklearn\\metalearning\\files\\precision_macro_multiclass.classification_sparse\n",
      "  copying autosklearn\\metalearning\\files\\precision_macro_multiclass.classification_sparse\\feature_values.arff -> build\\lib.win-amd64-3.8\\autosklearn\\metalearning\\files\\precision_macro_multiclass.classification_sparse\n",
      "  copying autosklearn\\metalearning\\files\\precision_macro_multiclass.classification_sparse\\readme.txt -> build\\lib.win-amd64-3.8\\autosklearn\\metalearning\\files\\precision_macro_multiclass.classification_sparse\n",
      "  creating build\\lib.win-amd64-3.8\\autosklearn\\metalearning\\files\\precision_micro_binary.classification_dense\n",
      "  copying autosklearn\\metalearning\\files\\precision_micro_binary.classification_dense\\algorithm_runs.arff -> build\\lib.win-amd64-3.8\\autosklearn\\metalearning\\files\\precision_micro_binary.classification_dense\n",
      "  copying autosklearn\\metalearning\\files\\precision_micro_binary.classification_dense\\configurations.csv -> build\\lib.win-amd64-3.8\\autosklearn\\metalearning\\files\\precision_micro_binary.classification_dense\n",
      "  copying autosklearn\\metalearning\\files\\precision_micro_binary.classification_dense\\description.txt -> build\\lib.win-amd64-3.8\\autosklearn\\metalearning\\files\\precision_micro_binary.classification_dense\n",
      "  copying autosklearn\\metalearning\\files\\precision_micro_binary.classification_dense\\feature_costs.arff -> build\\lib.win-amd64-3.8\\autosklearn\\metalearning\\files\\precision_micro_binary.classification_dense\n",
      "  copying autosklearn\\metalearning\\files\\precision_micro_binary.classification_dense\\feature_runstatus.arff -> build\\lib.win-amd64-3.8\\autosklearn\\metalearning\\files\\precision_micro_binary.classification_dense\n",
      "  copying autosklearn\\metalearning\\files\\precision_micro_binary.classification_dense\\feature_values.arff -> build\\lib.win-amd64-3.8\\autosklearn\\metalearning\\files\\precision_micro_binary.classification_dense\n",
      "  copying autosklearn\\metalearning\\files\\precision_micro_binary.classification_dense\\readme.txt -> build\\lib.win-amd64-3.8\\autosklearn\\metalearning\\files\\precision_micro_binary.classification_dense\n",
      "  creating build\\lib.win-amd64-3.8\\autosklearn\\metalearning\\files\\precision_micro_binary.classification_sparse\n",
      "  copying autosklearn\\metalearning\\files\\precision_micro_binary.classification_sparse\\algorithm_runs.arff -> build\\lib.win-amd64-3.8\\autosklearn\\metalearning\\files\\precision_micro_binary.classification_sparse\n",
      "  copying autosklearn\\metalearning\\files\\precision_micro_binary.classification_sparse\\configurations.csv -> build\\lib.win-amd64-3.8\\autosklearn\\metalearning\\files\\precision_micro_binary.classification_sparse\n",
      "  copying autosklearn\\metalearning\\files\\precision_micro_binary.classification_sparse\\description.txt -> build\\lib.win-amd64-3.8\\autosklearn\\metalearning\\files\\precision_micro_binary.classification_sparse\n",
      "  copying autosklearn\\metalearning\\files\\precision_micro_binary.classification_sparse\\feature_costs.arff -> build\\lib.win-amd64-3.8\\autosklearn\\metalearning\\files\\precision_micro_binary.classification_sparse\n",
      "  copying autosklearn\\metalearning\\files\\precision_micro_binary.classification_sparse\\feature_runstatus.arff -> build\\lib.win-amd64-3.8\\autosklearn\\metalearning\\files\\precision_micro_binary.classification_sparse\n",
      "  copying autosklearn\\metalearning\\files\\precision_micro_binary.classification_sparse\\feature_values.arff -> build\\lib.win-amd64-3.8\\autosklearn\\metalearning\\files\\precision_micro_binary.classification_sparse\n",
      "  copying autosklearn\\metalearning\\files\\precision_micro_binary.classification_sparse\\readme.txt -> build\\lib.win-amd64-3.8\\autosklearn\\metalearning\\files\\precision_micro_binary.classification_sparse\n",
      "  creating build\\lib.win-amd64-3.8\\autosklearn\\metalearning\\files\\precision_micro_multiclass.classification_dense\n",
      "  copying autosklearn\\metalearning\\files\\precision_micro_multiclass.classification_dense\\algorithm_runs.arff -> build\\lib.win-amd64-3.8\\autosklearn\\metalearning\\files\\precision_micro_multiclass.classification_dense\n",
      "  copying autosklearn\\metalearning\\files\\precision_micro_multiclass.classification_dense\\configurations.csv -> build\\lib.win-amd64-3.8\\autosklearn\\metalearning\\files\\precision_micro_multiclass.classification_dense\n",
      "  copying autosklearn\\metalearning\\files\\precision_micro_multiclass.classification_dense\\description.txt -> build\\lib.win-amd64-3.8\\autosklearn\\metalearning\\files\\precision_micro_multiclass.classification_dense\n",
      "  copying autosklearn\\metalearning\\files\\precision_micro_multiclass.classification_dense\\feature_costs.arff -> build\\lib.win-amd64-3.8\\autosklearn\\metalearning\\files\\precision_micro_multiclass.classification_dense\n",
      "  copying autosklearn\\metalearning\\files\\precision_micro_multiclass.classification_dense\\feature_runstatus.arff -> build\\lib.win-amd64-3.8\\autosklearn\\metalearning\\files\\precision_micro_multiclass.classification_dense\n",
      "  copying autosklearn\\metalearning\\files\\precision_micro_multiclass.classification_dense\\feature_values.arff -> build\\lib.win-amd64-3.8\\autosklearn\\metalearning\\files\\precision_micro_multiclass.classification_dense\n",
      "  copying autosklearn\\metalearning\\files\\precision_micro_multiclass.classification_dense\\readme.txt -> build\\lib.win-amd64-3.8\\autosklearn\\metalearning\\files\\precision_micro_multiclass.classification_dense\n",
      "  creating build\\lib.win-amd64-3.8\\autosklearn\\metalearning\\files\\precision_micro_multiclass.classification_sparse\n",
      "  copying autosklearn\\metalearning\\files\\precision_micro_multiclass.classification_sparse\\algorithm_runs.arff -> build\\lib.win-amd64-3.8\\autosklearn\\metalearning\\files\\precision_micro_multiclass.classification_sparse\n",
      "  copying autosklearn\\metalearning\\files\\precision_micro_multiclass.classification_sparse\\configurations.csv -> build\\lib.win-amd64-3.8\\autosklearn\\metalearning\\files\\precision_micro_multiclass.classification_sparse\n",
      "  copying autosklearn\\metalearning\\files\\precision_micro_multiclass.classification_sparse\\description.txt -> build\\lib.win-amd64-3.8\\autosklearn\\metalearning\\files\\precision_micro_multiclass.classification_sparse\n",
      "  copying autosklearn\\metalearning\\files\\precision_micro_multiclass.classification_sparse\\feature_costs.arff -> build\\lib.win-amd64-3.8\\autosklearn\\metalearning\\files\\precision_micro_multiclass.classification_sparse\n",
      "  copying autosklearn\\metalearning\\files\\precision_micro_multiclass.classification_sparse\\feature_runstatus.arff -> build\\lib.win-amd64-3.8\\autosklearn\\metalearning\\files\\precision_micro_multiclass.classification_sparse\n",
      "  copying autosklearn\\metalearning\\files\\precision_micro_multiclass.classification_sparse\\feature_values.arff -> build\\lib.win-amd64-3.8\\autosklearn\\metalearning\\files\\precision_micro_multiclass.classification_sparse\n",
      "  copying autosklearn\\metalearning\\files\\precision_micro_multiclass.classification_sparse\\readme.txt -> build\\lib.win-amd64-3.8\\autosklearn\\metalearning\\files\\precision_micro_multiclass.classification_sparse\n",
      "  creating build\\lib.win-amd64-3.8\\autosklearn\\metalearning\\files\\precision_multiclass.classification_dense\n",
      "  copying autosklearn\\metalearning\\files\\precision_multiclass.classification_dense\\algorithm_runs.arff -> build\\lib.win-amd64-3.8\\autosklearn\\metalearning\\files\\precision_multiclass.classification_dense\n",
      "  copying autosklearn\\metalearning\\files\\precision_multiclass.classification_dense\\configurations.csv -> build\\lib.win-amd64-3.8\\autosklearn\\metalearning\\files\\precision_multiclass.classification_dense\n",
      "  copying autosklearn\\metalearning\\files\\precision_multiclass.classification_dense\\description.txt -> build\\lib.win-amd64-3.8\\autosklearn\\metalearning\\files\\precision_multiclass.classification_dense\n",
      "  copying autosklearn\\metalearning\\files\\precision_multiclass.classification_dense\\feature_costs.arff -> build\\lib.win-amd64-3.8\\autosklearn\\metalearning\\files\\precision_multiclass.classification_dense\n",
      "  copying autosklearn\\metalearning\\files\\precision_multiclass.classification_dense\\feature_runstatus.arff -> build\\lib.win-amd64-3.8\\autosklearn\\metalearning\\files\\precision_multiclass.classification_dense\n",
      "  copying autosklearn\\metalearning\\files\\precision_multiclass.classification_dense\\feature_values.arff -> build\\lib.win-amd64-3.8\\autosklearn\\metalearning\\files\\precision_multiclass.classification_dense\n",
      "  copying autosklearn\\metalearning\\files\\precision_multiclass.classification_dense\\readme.txt -> build\\lib.win-amd64-3.8\\autosklearn\\metalearning\\files\\precision_multiclass.classification_dense\n",
      "  creating build\\lib.win-amd64-3.8\\autosklearn\\metalearning\\files\\precision_multiclass.classification_sparse\n",
      "  copying autosklearn\\metalearning\\files\\precision_multiclass.classification_sparse\\algorithm_runs.arff -> build\\lib.win-amd64-3.8\\autosklearn\\metalearning\\files\\precision_multiclass.classification_sparse\n",
      "  copying autosklearn\\metalearning\\files\\precision_multiclass.classification_sparse\\configurations.csv -> build\\lib.win-amd64-3.8\\autosklearn\\metalearning\\files\\precision_multiclass.classification_sparse\n",
      "  copying autosklearn\\metalearning\\files\\precision_multiclass.classification_sparse\\description.txt -> build\\lib.win-amd64-3.8\\autosklearn\\metalearning\\files\\precision_multiclass.classification_sparse\n",
      "  copying autosklearn\\metalearning\\files\\precision_multiclass.classification_sparse\\feature_costs.arff -> build\\lib.win-amd64-3.8\\autosklearn\\metalearning\\files\\precision_multiclass.classification_sparse\n",
      "  copying autosklearn\\metalearning\\files\\precision_multiclass.classification_sparse\\feature_runstatus.arff -> build\\lib.win-amd64-3.8\\autosklearn\\metalearning\\files\\precision_multiclass.classification_sparse\n",
      "  copying autosklearn\\metalearning\\files\\precision_multiclass.classification_sparse\\feature_values.arff -> build\\lib.win-amd64-3.8\\autosklearn\\metalearning\\files\\precision_multiclass.classification_sparse\n",
      "  copying autosklearn\\metalearning\\files\\precision_multiclass.classification_sparse\\readme.txt -> build\\lib.win-amd64-3.8\\autosklearn\\metalearning\\files\\precision_multiclass.classification_sparse\n",
      "  creating build\\lib.win-amd64-3.8\\autosklearn\\metalearning\\files\\precision_weighted_binary.classification_dense\n",
      "  copying autosklearn\\metalearning\\files\\precision_weighted_binary.classification_dense\\algorithm_runs.arff -> build\\lib.win-amd64-3.8\\autosklearn\\metalearning\\files\\precision_weighted_binary.classification_dense\n",
      "  copying autosklearn\\metalearning\\files\\precision_weighted_binary.classification_dense\\configurations.csv -> build\\lib.win-amd64-3.8\\autosklearn\\metalearning\\files\\precision_weighted_binary.classification_dense\n",
      "  copying autosklearn\\metalearning\\files\\precision_weighted_binary.classification_dense\\description.txt -> build\\lib.win-amd64-3.8\\autosklearn\\metalearning\\files\\precision_weighted_binary.classification_dense\n",
      "  copying autosklearn\\metalearning\\files\\precision_weighted_binary.classification_dense\\feature_costs.arff -> build\\lib.win-amd64-3.8\\autosklearn\\metalearning\\files\\precision_weighted_binary.classification_dense\n",
      "  copying autosklearn\\metalearning\\files\\precision_weighted_binary.classification_dense\\feature_runstatus.arff -> build\\lib.win-amd64-3.8\\autosklearn\\metalearning\\files\\precision_weighted_binary.classification_dense\n",
      "  copying autosklearn\\metalearning\\files\\precision_weighted_binary.classification_dense\\feature_values.arff -> build\\lib.win-amd64-3.8\\autosklearn\\metalearning\\files\\precision_weighted_binary.classification_dense\n",
      "  copying autosklearn\\metalearning\\files\\precision_weighted_binary.classification_dense\\readme.txt -> build\\lib.win-amd64-3.8\\autosklearn\\metalearning\\files\\precision_weighted_binary.classification_dense\n",
      "  creating build\\lib.win-amd64-3.8\\autosklearn\\metalearning\\files\\precision_weighted_binary.classification_sparse\n",
      "  copying autosklearn\\metalearning\\files\\precision_weighted_binary.classification_sparse\\algorithm_runs.arff -> build\\lib.win-amd64-3.8\\autosklearn\\metalearning\\files\\precision_weighted_binary.classification_sparse\n",
      "  copying autosklearn\\metalearning\\files\\precision_weighted_binary.classification_sparse\\configurations.csv -> build\\lib.win-amd64-3.8\\autosklearn\\metalearning\\files\\precision_weighted_binary.classification_sparse\n",
      "  copying autosklearn\\metalearning\\files\\precision_weighted_binary.classification_sparse\\description.txt -> build\\lib.win-amd64-3.8\\autosklearn\\metalearning\\files\\precision_weighted_binary.classification_sparse\n",
      "  copying autosklearn\\metalearning\\files\\precision_weighted_binary.classification_sparse\\feature_costs.arff -> build\\lib.win-amd64-3.8\\autosklearn\\metalearning\\files\\precision_weighted_binary.classification_sparse\n",
      "  copying autosklearn\\metalearning\\files\\precision_weighted_binary.classification_sparse\\feature_runstatus.arff -> build\\lib.win-amd64-3.8\\autosklearn\\metalearning\\files\\precision_weighted_binary.classification_sparse\n",
      "  copying autosklearn\\metalearning\\files\\precision_weighted_binary.classification_sparse\\feature_values.arff -> build\\lib.win-amd64-3.8\\autosklearn\\metalearning\\files\\precision_weighted_binary.classification_sparse\n",
      "  copying autosklearn\\metalearning\\files\\precision_weighted_binary.classification_sparse\\readme.txt -> build\\lib.win-amd64-3.8\\autosklearn\\metalearning\\files\\precision_weighted_binary.classification_sparse\n",
      "  creating build\\lib.win-amd64-3.8\\autosklearn\\metalearning\\files\\precision_weighted_multiclass.classification_dense\n",
      "  copying autosklearn\\metalearning\\files\\precision_weighted_multiclass.classification_dense\\algorithm_runs.arff -> build\\lib.win-amd64-3.8\\autosklearn\\metalearning\\files\\precision_weighted_multiclass.classification_dense\n",
      "  copying autosklearn\\metalearning\\files\\precision_weighted_multiclass.classification_dense\\configurations.csv -> build\\lib.win-amd64-3.8\\autosklearn\\metalearning\\files\\precision_weighted_multiclass.classification_dense\n",
      "  copying autosklearn\\metalearning\\files\\precision_weighted_multiclass.classification_dense\\description.txt -> build\\lib.win-amd64-3.8\\autosklearn\\metalearning\\files\\precision_weighted_multiclass.classification_dense\n",
      "  copying autosklearn\\metalearning\\files\\precision_weighted_multiclass.classification_dense\\feature_costs.arff -> build\\lib.win-amd64-3.8\\autosklearn\\metalearning\\files\\precision_weighted_multiclass.classification_dense\n",
      "  copying autosklearn\\metalearning\\files\\precision_weighted_multiclass.classification_dense\\feature_runstatus.arff -> build\\lib.win-amd64-3.8\\autosklearn\\metalearning\\files\\precision_weighted_multiclass.classification_dense\n",
      "  copying autosklearn\\metalearning\\files\\precision_weighted_multiclass.classification_dense\\feature_values.arff -> build\\lib.win-amd64-3.8\\autosklearn\\metalearning\\files\\precision_weighted_multiclass.classification_dense\n",
      "  copying autosklearn\\metalearning\\files\\precision_weighted_multiclass.classification_dense\\readme.txt -> build\\lib.win-amd64-3.8\\autosklearn\\metalearning\\files\\precision_weighted_multiclass.classification_dense\n",
      "  creating build\\lib.win-amd64-3.8\\autosklearn\\metalearning\\files\\precision_weighted_multiclass.classification_sparse\n",
      "  copying autosklearn\\metalearning\\files\\precision_weighted_multiclass.classification_sparse\\algorithm_runs.arff -> build\\lib.win-amd64-3.8\\autosklearn\\metalearning\\files\\precision_weighted_multiclass.classification_sparse\n",
      "  copying autosklearn\\metalearning\\files\\precision_weighted_multiclass.classification_sparse\\configurations.csv -> build\\lib.win-amd64-3.8\\autosklearn\\metalearning\\files\\precision_weighted_multiclass.classification_sparse\n",
      "  copying autosklearn\\metalearning\\files\\precision_weighted_multiclass.classification_sparse\\description.txt -> build\\lib.win-amd64-3.8\\autosklearn\\metalearning\\files\\precision_weighted_multiclass.classification_sparse\n",
      "  copying autosklearn\\metalearning\\files\\precision_weighted_multiclass.classification_sparse\\feature_costs.arff -> build\\lib.win-amd64-3.8\\autosklearn\\metalearning\\files\\precision_weighted_multiclass.classification_sparse\n",
      "  copying autosklearn\\metalearning\\files\\precision_weighted_multiclass.classification_sparse\\feature_runstatus.arff -> build\\lib.win-amd64-3.8\\autosklearn\\metalearning\\files\\precision_weighted_multiclass.classification_sparse\n",
      "  copying autosklearn\\metalearning\\files\\precision_weighted_multiclass.classification_sparse\\feature_values.arff -> build\\lib.win-amd64-3.8\\autosklearn\\metalearning\\files\\precision_weighted_multiclass.classification_sparse\n",
      "  copying autosklearn\\metalearning\\files\\precision_weighted_multiclass.classification_sparse\\readme.txt -> build\\lib.win-amd64-3.8\\autosklearn\\metalearning\\files\\precision_weighted_multiclass.classification_sparse\n",
      "  creating build\\lib.win-amd64-3.8\\autosklearn\\metalearning\\files\\recall_binary.classification_dense\n",
      "  copying autosklearn\\metalearning\\files\\recall_binary.classification_dense\\algorithm_runs.arff -> build\\lib.win-amd64-3.8\\autosklearn\\metalearning\\files\\recall_binary.classification_dense\n",
      "  copying autosklearn\\metalearning\\files\\recall_binary.classification_dense\\configurations.csv -> build\\lib.win-amd64-3.8\\autosklearn\\metalearning\\files\\recall_binary.classification_dense\n",
      "  copying autosklearn\\metalearning\\files\\recall_binary.classification_dense\\description.txt -> build\\lib.win-amd64-3.8\\autosklearn\\metalearning\\files\\recall_binary.classification_dense\n",
      "  copying autosklearn\\metalearning\\files\\recall_binary.classification_dense\\feature_costs.arff -> build\\lib.win-amd64-3.8\\autosklearn\\metalearning\\files\\recall_binary.classification_dense\n",
      "  copying autosklearn\\metalearning\\files\\recall_binary.classification_dense\\feature_runstatus.arff -> build\\lib.win-amd64-3.8\\autosklearn\\metalearning\\files\\recall_binary.classification_dense\n",
      "  copying autosklearn\\metalearning\\files\\recall_binary.classification_dense\\feature_values.arff -> build\\lib.win-amd64-3.8\\autosklearn\\metalearning\\files\\recall_binary.classification_dense\n",
      "  copying autosklearn\\metalearning\\files\\recall_binary.classification_dense\\readme.txt -> build\\lib.win-amd64-3.8\\autosklearn\\metalearning\\files\\recall_binary.classification_dense\n",
      "  creating build\\lib.win-amd64-3.8\\autosklearn\\metalearning\\files\\recall_binary.classification_sparse\n",
      "  copying autosklearn\\metalearning\\files\\recall_binary.classification_sparse\\algorithm_runs.arff -> build\\lib.win-amd64-3.8\\autosklearn\\metalearning\\files\\recall_binary.classification_sparse\n",
      "  copying autosklearn\\metalearning\\files\\recall_binary.classification_sparse\\configurations.csv -> build\\lib.win-amd64-3.8\\autosklearn\\metalearning\\files\\recall_binary.classification_sparse\n",
      "  copying autosklearn\\metalearning\\files\\recall_binary.classification_sparse\\description.txt -> build\\lib.win-amd64-3.8\\autosklearn\\metalearning\\files\\recall_binary.classification_sparse\n",
      "  copying autosklearn\\metalearning\\files\\recall_binary.classification_sparse\\feature_costs.arff -> build\\lib.win-amd64-3.8\\autosklearn\\metalearning\\files\\recall_binary.classification_sparse\n",
      "  copying autosklearn\\metalearning\\files\\recall_binary.classification_sparse\\feature_runstatus.arff -> build\\lib.win-amd64-3.8\\autosklearn\\metalearning\\files\\recall_binary.classification_sparse\n",
      "  copying autosklearn\\metalearning\\files\\recall_binary.classification_sparse\\feature_values.arff -> build\\lib.win-amd64-3.8\\autosklearn\\metalearning\\files\\recall_binary.classification_sparse\n",
      "  copying autosklearn\\metalearning\\files\\recall_binary.classification_sparse\\readme.txt -> build\\lib.win-amd64-3.8\\autosklearn\\metalearning\\files\\recall_binary.classification_sparse\n",
      "  creating build\\lib.win-amd64-3.8\\autosklearn\\metalearning\\files\\recall_macro_binary.classification_dense\n",
      "  copying autosklearn\\metalearning\\files\\recall_macro_binary.classification_dense\\algorithm_runs.arff -> build\\lib.win-amd64-3.8\\autosklearn\\metalearning\\files\\recall_macro_binary.classification_dense\n",
      "  copying autosklearn\\metalearning\\files\\recall_macro_binary.classification_dense\\configurations.csv -> build\\lib.win-amd64-3.8\\autosklearn\\metalearning\\files\\recall_macro_binary.classification_dense\n",
      "  copying autosklearn\\metalearning\\files\\recall_macro_binary.classification_dense\\description.txt -> build\\lib.win-amd64-3.8\\autosklearn\\metalearning\\files\\recall_macro_binary.classification_dense\n",
      "  copying autosklearn\\metalearning\\files\\recall_macro_binary.classification_dense\\feature_costs.arff -> build\\lib.win-amd64-3.8\\autosklearn\\metalearning\\files\\recall_macro_binary.classification_dense\n",
      "  copying autosklearn\\metalearning\\files\\recall_macro_binary.classification_dense\\feature_runstatus.arff -> build\\lib.win-amd64-3.8\\autosklearn\\metalearning\\files\\recall_macro_binary.classification_dense\n",
      "  copying autosklearn\\metalearning\\files\\recall_macro_binary.classification_dense\\feature_values.arff -> build\\lib.win-amd64-3.8\\autosklearn\\metalearning\\files\\recall_macro_binary.classification_dense\n",
      "  copying autosklearn\\metalearning\\files\\recall_macro_binary.classification_dense\\readme.txt -> build\\lib.win-amd64-3.8\\autosklearn\\metalearning\\files\\recall_macro_binary.classification_dense\n",
      "  creating build\\lib.win-amd64-3.8\\autosklearn\\metalearning\\files\\recall_macro_binary.classification_sparse\n"
     ]
    },
    {
     "name": "stderr",
     "output_type": "stream",
     "text": [
      "  copying autosklearn\\metalearning\\files\\recall_macro_binary.classification_sparse\\algorithm_runs.arff -> build\\lib.win-amd64-3.8\\autosklearn\\metalearning\\files\\recall_macro_binary.classification_sparse\n",
      "  copying autosklearn\\metalearning\\files\\recall_macro_binary.classification_sparse\\configurations.csv -> build\\lib.win-amd64-3.8\\autosklearn\\metalearning\\files\\recall_macro_binary.classification_sparse\n",
      "  copying autosklearn\\metalearning\\files\\recall_macro_binary.classification_sparse\\description.txt -> build\\lib.win-amd64-3.8\\autosklearn\\metalearning\\files\\recall_macro_binary.classification_sparse\n",
      "  copying autosklearn\\metalearning\\files\\recall_macro_binary.classification_sparse\\feature_costs.arff -> build\\lib.win-amd64-3.8\\autosklearn\\metalearning\\files\\recall_macro_binary.classification_sparse\n",
      "  copying autosklearn\\metalearning\\files\\recall_macro_binary.classification_sparse\\feature_runstatus.arff -> build\\lib.win-amd64-3.8\\autosklearn\\metalearning\\files\\recall_macro_binary.classification_sparse\n",
      "  copying autosklearn\\metalearning\\files\\recall_macro_binary.classification_sparse\\feature_values.arff -> build\\lib.win-amd64-3.8\\autosklearn\\metalearning\\files\\recall_macro_binary.classification_sparse\n",
      "  copying autosklearn\\metalearning\\files\\recall_macro_binary.classification_sparse\\readme.txt -> build\\lib.win-amd64-3.8\\autosklearn\\metalearning\\files\\recall_macro_binary.classification_sparse\n",
      "  creating build\\lib.win-amd64-3.8\\autosklearn\\metalearning\\files\\recall_macro_multiclass.classification_dense\n",
      "  copying autosklearn\\metalearning\\files\\recall_macro_multiclass.classification_dense\\algorithm_runs.arff -> build\\lib.win-amd64-3.8\\autosklearn\\metalearning\\files\\recall_macro_multiclass.classification_dense\n",
      "  copying autosklearn\\metalearning\\files\\recall_macro_multiclass.classification_dense\\configurations.csv -> build\\lib.win-amd64-3.8\\autosklearn\\metalearning\\files\\recall_macro_multiclass.classification_dense\n",
      "  copying autosklearn\\metalearning\\files\\recall_macro_multiclass.classification_dense\\description.txt -> build\\lib.win-amd64-3.8\\autosklearn\\metalearning\\files\\recall_macro_multiclass.classification_dense\n",
      "  copying autosklearn\\metalearning\\files\\recall_macro_multiclass.classification_dense\\feature_costs.arff -> build\\lib.win-amd64-3.8\\autosklearn\\metalearning\\files\\recall_macro_multiclass.classification_dense\n",
      "  copying autosklearn\\metalearning\\files\\recall_macro_multiclass.classification_dense\\feature_runstatus.arff -> build\\lib.win-amd64-3.8\\autosklearn\\metalearning\\files\\recall_macro_multiclass.classification_dense\n",
      "  copying autosklearn\\metalearning\\files\\recall_macro_multiclass.classification_dense\\feature_values.arff -> build\\lib.win-amd64-3.8\\autosklearn\\metalearning\\files\\recall_macro_multiclass.classification_dense\n",
      "  copying autosklearn\\metalearning\\files\\recall_macro_multiclass.classification_dense\\readme.txt -> build\\lib.win-amd64-3.8\\autosklearn\\metalearning\\files\\recall_macro_multiclass.classification_dense\n",
      "  creating build\\lib.win-amd64-3.8\\autosklearn\\metalearning\\files\\recall_macro_multiclass.classification_sparse\n",
      "  copying autosklearn\\metalearning\\files\\recall_macro_multiclass.classification_sparse\\algorithm_runs.arff -> build\\lib.win-amd64-3.8\\autosklearn\\metalearning\\files\\recall_macro_multiclass.classification_sparse\n",
      "  copying autosklearn\\metalearning\\files\\recall_macro_multiclass.classification_sparse\\configurations.csv -> build\\lib.win-amd64-3.8\\autosklearn\\metalearning\\files\\recall_macro_multiclass.classification_sparse\n",
      "  copying autosklearn\\metalearning\\files\\recall_macro_multiclass.classification_sparse\\description.txt -> build\\lib.win-amd64-3.8\\autosklearn\\metalearning\\files\\recall_macro_multiclass.classification_sparse\n",
      "  copying autosklearn\\metalearning\\files\\recall_macro_multiclass.classification_sparse\\feature_costs.arff -> build\\lib.win-amd64-3.8\\autosklearn\\metalearning\\files\\recall_macro_multiclass.classification_sparse\n",
      "  copying autosklearn\\metalearning\\files\\recall_macro_multiclass.classification_sparse\\feature_runstatus.arff -> build\\lib.win-amd64-3.8\\autosklearn\\metalearning\\files\\recall_macro_multiclass.classification_sparse\n",
      "  copying autosklearn\\metalearning\\files\\recall_macro_multiclass.classification_sparse\\feature_values.arff -> build\\lib.win-amd64-3.8\\autosklearn\\metalearning\\files\\recall_macro_multiclass.classification_sparse\n",
      "  copying autosklearn\\metalearning\\files\\recall_macro_multiclass.classification_sparse\\readme.txt -> build\\lib.win-amd64-3.8\\autosklearn\\metalearning\\files\\recall_macro_multiclass.classification_sparse\n",
      "  creating build\\lib.win-amd64-3.8\\autosklearn\\metalearning\\files\\recall_micro_binary.classification_dense\n",
      "  copying autosklearn\\metalearning\\files\\recall_micro_binary.classification_dense\\algorithm_runs.arff -> build\\lib.win-amd64-3.8\\autosklearn\\metalearning\\files\\recall_micro_binary.classification_dense\n",
      "  copying autosklearn\\metalearning\\files\\recall_micro_binary.classification_dense\\configurations.csv -> build\\lib.win-amd64-3.8\\autosklearn\\metalearning\\files\\recall_micro_binary.classification_dense\n",
      "  copying autosklearn\\metalearning\\files\\recall_micro_binary.classification_dense\\description.txt -> build\\lib.win-amd64-3.8\\autosklearn\\metalearning\\files\\recall_micro_binary.classification_dense\n",
      "  copying autosklearn\\metalearning\\files\\recall_micro_binary.classification_dense\\feature_costs.arff -> build\\lib.win-amd64-3.8\\autosklearn\\metalearning\\files\\recall_micro_binary.classification_dense\n",
      "  copying autosklearn\\metalearning\\files\\recall_micro_binary.classification_dense\\feature_runstatus.arff -> build\\lib.win-amd64-3.8\\autosklearn\\metalearning\\files\\recall_micro_binary.classification_dense\n",
      "  copying autosklearn\\metalearning\\files\\recall_micro_binary.classification_dense\\feature_values.arff -> build\\lib.win-amd64-3.8\\autosklearn\\metalearning\\files\\recall_micro_binary.classification_dense\n",
      "  copying autosklearn\\metalearning\\files\\recall_micro_binary.classification_dense\\readme.txt -> build\\lib.win-amd64-3.8\\autosklearn\\metalearning\\files\\recall_micro_binary.classification_dense\n",
      "  creating build\\lib.win-amd64-3.8\\autosklearn\\metalearning\\files\\recall_micro_binary.classification_sparse\n",
      "  copying autosklearn\\metalearning\\files\\recall_micro_binary.classification_sparse\\algorithm_runs.arff -> build\\lib.win-amd64-3.8\\autosklearn\\metalearning\\files\\recall_micro_binary.classification_sparse\n",
      "  copying autosklearn\\metalearning\\files\\recall_micro_binary.classification_sparse\\configurations.csv -> build\\lib.win-amd64-3.8\\autosklearn\\metalearning\\files\\recall_micro_binary.classification_sparse\n",
      "  copying autosklearn\\metalearning\\files\\recall_micro_binary.classification_sparse\\description.txt -> build\\lib.win-amd64-3.8\\autosklearn\\metalearning\\files\\recall_micro_binary.classification_sparse\n",
      "  copying autosklearn\\metalearning\\files\\recall_micro_binary.classification_sparse\\feature_costs.arff -> build\\lib.win-amd64-3.8\\autosklearn\\metalearning\\files\\recall_micro_binary.classification_sparse\n",
      "  copying autosklearn\\metalearning\\files\\recall_micro_binary.classification_sparse\\feature_runstatus.arff -> build\\lib.win-amd64-3.8\\autosklearn\\metalearning\\files\\recall_micro_binary.classification_sparse\n",
      "  copying autosklearn\\metalearning\\files\\recall_micro_binary.classification_sparse\\feature_values.arff -> build\\lib.win-amd64-3.8\\autosklearn\\metalearning\\files\\recall_micro_binary.classification_sparse\n",
      "  copying autosklearn\\metalearning\\files\\recall_micro_binary.classification_sparse\\readme.txt -> build\\lib.win-amd64-3.8\\autosklearn\\metalearning\\files\\recall_micro_binary.classification_sparse\n",
      "  creating build\\lib.win-amd64-3.8\\autosklearn\\metalearning\\files\\recall_micro_multiclass.classification_dense\n",
      "  copying autosklearn\\metalearning\\files\\recall_micro_multiclass.classification_dense\\algorithm_runs.arff -> build\\lib.win-amd64-3.8\\autosklearn\\metalearning\\files\\recall_micro_multiclass.classification_dense\n",
      "  copying autosklearn\\metalearning\\files\\recall_micro_multiclass.classification_dense\\configurations.csv -> build\\lib.win-amd64-3.8\\autosklearn\\metalearning\\files\\recall_micro_multiclass.classification_dense\n",
      "  copying autosklearn\\metalearning\\files\\recall_micro_multiclass.classification_dense\\description.txt -> build\\lib.win-amd64-3.8\\autosklearn\\metalearning\\files\\recall_micro_multiclass.classification_dense\n",
      "  copying autosklearn\\metalearning\\files\\recall_micro_multiclass.classification_dense\\feature_costs.arff -> build\\lib.win-amd64-3.8\\autosklearn\\metalearning\\files\\recall_micro_multiclass.classification_dense\n",
      "  copying autosklearn\\metalearning\\files\\recall_micro_multiclass.classification_dense\\feature_runstatus.arff -> build\\lib.win-amd64-3.8\\autosklearn\\metalearning\\files\\recall_micro_multiclass.classification_dense\n",
      "  copying autosklearn\\metalearning\\files\\recall_micro_multiclass.classification_dense\\feature_values.arff -> build\\lib.win-amd64-3.8\\autosklearn\\metalearning\\files\\recall_micro_multiclass.classification_dense\n",
      "  copying autosklearn\\metalearning\\files\\recall_micro_multiclass.classification_dense\\readme.txt -> build\\lib.win-amd64-3.8\\autosklearn\\metalearning\\files\\recall_micro_multiclass.classification_dense\n",
      "  creating build\\lib.win-amd64-3.8\\autosklearn\\metalearning\\files\\recall_micro_multiclass.classification_sparse\n",
      "  copying autosklearn\\metalearning\\files\\recall_micro_multiclass.classification_sparse\\algorithm_runs.arff -> build\\lib.win-amd64-3.8\\autosklearn\\metalearning\\files\\recall_micro_multiclass.classification_sparse\n",
      "  copying autosklearn\\metalearning\\files\\recall_micro_multiclass.classification_sparse\\configurations.csv -> build\\lib.win-amd64-3.8\\autosklearn\\metalearning\\files\\recall_micro_multiclass.classification_sparse\n",
      "  copying autosklearn\\metalearning\\files\\recall_micro_multiclass.classification_sparse\\description.txt -> build\\lib.win-amd64-3.8\\autosklearn\\metalearning\\files\\recall_micro_multiclass.classification_sparse\n",
      "  copying autosklearn\\metalearning\\files\\recall_micro_multiclass.classification_sparse\\feature_costs.arff -> build\\lib.win-amd64-3.8\\autosklearn\\metalearning\\files\\recall_micro_multiclass.classification_sparse\n",
      "  copying autosklearn\\metalearning\\files\\recall_micro_multiclass.classification_sparse\\feature_runstatus.arff -> build\\lib.win-amd64-3.8\\autosklearn\\metalearning\\files\\recall_micro_multiclass.classification_sparse\n",
      "  copying autosklearn\\metalearning\\files\\recall_micro_multiclass.classification_sparse\\feature_values.arff -> build\\lib.win-amd64-3.8\\autosklearn\\metalearning\\files\\recall_micro_multiclass.classification_sparse\n",
      "  copying autosklearn\\metalearning\\files\\recall_micro_multiclass.classification_sparse\\readme.txt -> build\\lib.win-amd64-3.8\\autosklearn\\metalearning\\files\\recall_micro_multiclass.classification_sparse\n",
      "  creating build\\lib.win-amd64-3.8\\autosklearn\\metalearning\\files\\recall_multiclass.classification_dense\n",
      "  copying autosklearn\\metalearning\\files\\recall_multiclass.classification_dense\\algorithm_runs.arff -> build\\lib.win-amd64-3.8\\autosklearn\\metalearning\\files\\recall_multiclass.classification_dense\n",
      "  copying autosklearn\\metalearning\\files\\recall_multiclass.classification_dense\\configurations.csv -> build\\lib.win-amd64-3.8\\autosklearn\\metalearning\\files\\recall_multiclass.classification_dense\n",
      "  copying autosklearn\\metalearning\\files\\recall_multiclass.classification_dense\\description.txt -> build\\lib.win-amd64-3.8\\autosklearn\\metalearning\\files\\recall_multiclass.classification_dense\n",
      "  copying autosklearn\\metalearning\\files\\recall_multiclass.classification_dense\\feature_costs.arff -> build\\lib.win-amd64-3.8\\autosklearn\\metalearning\\files\\recall_multiclass.classification_dense\n",
      "  copying autosklearn\\metalearning\\files\\recall_multiclass.classification_dense\\feature_runstatus.arff -> build\\lib.win-amd64-3.8\\autosklearn\\metalearning\\files\\recall_multiclass.classification_dense\n",
      "  copying autosklearn\\metalearning\\files\\recall_multiclass.classification_dense\\feature_values.arff -> build\\lib.win-amd64-3.8\\autosklearn\\metalearning\\files\\recall_multiclass.classification_dense\n",
      "  copying autosklearn\\metalearning\\files\\recall_multiclass.classification_dense\\readme.txt -> build\\lib.win-amd64-3.8\\autosklearn\\metalearning\\files\\recall_multiclass.classification_dense\n",
      "  creating build\\lib.win-amd64-3.8\\autosklearn\\metalearning\\files\\recall_multiclass.classification_sparse\n",
      "  copying autosklearn\\metalearning\\files\\recall_multiclass.classification_sparse\\algorithm_runs.arff -> build\\lib.win-amd64-3.8\\autosklearn\\metalearning\\files\\recall_multiclass.classification_sparse\n",
      "  copying autosklearn\\metalearning\\files\\recall_multiclass.classification_sparse\\configurations.csv -> build\\lib.win-amd64-3.8\\autosklearn\\metalearning\\files\\recall_multiclass.classification_sparse\n",
      "  copying autosklearn\\metalearning\\files\\recall_multiclass.classification_sparse\\description.txt -> build\\lib.win-amd64-3.8\\autosklearn\\metalearning\\files\\recall_multiclass.classification_sparse\n",
      "  copying autosklearn\\metalearning\\files\\recall_multiclass.classification_sparse\\feature_costs.arff -> build\\lib.win-amd64-3.8\\autosklearn\\metalearning\\files\\recall_multiclass.classification_sparse\n",
      "  copying autosklearn\\metalearning\\files\\recall_multiclass.classification_sparse\\feature_runstatus.arff -> build\\lib.win-amd64-3.8\\autosklearn\\metalearning\\files\\recall_multiclass.classification_sparse\n",
      "  copying autosklearn\\metalearning\\files\\recall_multiclass.classification_sparse\\feature_values.arff -> build\\lib.win-amd64-3.8\\autosklearn\\metalearning\\files\\recall_multiclass.classification_sparse\n",
      "  copying autosklearn\\metalearning\\files\\recall_multiclass.classification_sparse\\readme.txt -> build\\lib.win-amd64-3.8\\autosklearn\\metalearning\\files\\recall_multiclass.classification_sparse\n",
      "  creating build\\lib.win-amd64-3.8\\autosklearn\\metalearning\\files\\recall_weighted_binary.classification_dense\n",
      "  copying autosklearn\\metalearning\\files\\recall_weighted_binary.classification_dense\\algorithm_runs.arff -> build\\lib.win-amd64-3.8\\autosklearn\\metalearning\\files\\recall_weighted_binary.classification_dense\n",
      "  copying autosklearn\\metalearning\\files\\recall_weighted_binary.classification_dense\\configurations.csv -> build\\lib.win-amd64-3.8\\autosklearn\\metalearning\\files\\recall_weighted_binary.classification_dense\n",
      "  copying autosklearn\\metalearning\\files\\recall_weighted_binary.classification_dense\\description.txt -> build\\lib.win-amd64-3.8\\autosklearn\\metalearning\\files\\recall_weighted_binary.classification_dense\n",
      "  copying autosklearn\\metalearning\\files\\recall_weighted_binary.classification_dense\\feature_costs.arff -> build\\lib.win-amd64-3.8\\autosklearn\\metalearning\\files\\recall_weighted_binary.classification_dense\n",
      "  copying autosklearn\\metalearning\\files\\recall_weighted_binary.classification_dense\\feature_runstatus.arff -> build\\lib.win-amd64-3.8\\autosklearn\\metalearning\\files\\recall_weighted_binary.classification_dense\n",
      "  copying autosklearn\\metalearning\\files\\recall_weighted_binary.classification_dense\\feature_values.arff -> build\\lib.win-amd64-3.8\\autosklearn\\metalearning\\files\\recall_weighted_binary.classification_dense\n",
      "  copying autosklearn\\metalearning\\files\\recall_weighted_binary.classification_dense\\readme.txt -> build\\lib.win-amd64-3.8\\autosklearn\\metalearning\\files\\recall_weighted_binary.classification_dense\n",
      "  creating build\\lib.win-amd64-3.8\\autosklearn\\metalearning\\files\\recall_weighted_binary.classification_sparse'sudo' is not recognized as an internal or external command,\n",
      "operable program or batch file.\n"
     ]
    }
   ],
   "source": [
    "!sudo apt-get install build-essential swig"
   ]
  },
  {
   "cell_type": "code",
   "execution_count": 62,
   "id": "uBmJmKLAmMBb",
   "metadata": {
    "colab": {
     "base_uri": "https://localhost:8080/"
    },
    "id": "uBmJmKLAmMBb",
    "outputId": "c2a3a11b-b08b-4bf4-97c2-db8d71f0205b"
   },
   "outputs": [
    {
     "name": "stderr",
     "output_type": "stream",
     "text": [
      "\n",
      "  copying autosklearn\\metalearning\\files\\recall_weighted_binary.classification_sparse\\algorithm_runs.arff -> build\\lib.win-amd64-3.8\\autosklearn\\metalearning\\files\\recall_weighted_binary.classification_sparse\n",
      "  copying autosklearn\\metalearning\\files\\recall_weighted_binary.classification_sparse\\configurations.csv -> build\\lib.win-amd64-3.8\\autosklearn\\metalearning\\files\\recall_weighted_binary.classification_sparse\n",
      "  copying autosklearn\\metalearning\\files\\recall_weighted_binary.classification_sparse\\description.txt -> build\\lib.win-amd64-3.8\\autosklearn\\metalearning\\files\\recall_weighted_binary.classification_sparse\n",
      "  copying autosklearn\\metalearning\\files\\recall_weighted_binary.classification_sparse\\feature_costs.arff -> build\\lib.win-amd64-3.8\\autosklearn\\metalearning\\files\\recall_weighted_binary.classification_sparse\n",
      "  copying autosklearn\\metalearning\\files\\recall_weighted_binary.classification_sparse\\feature_runstatus.arff -> build\\lib.win-amd64-3.8\\autosklearn\\metalearning\\files\\recall_weighted_binary.classification_sparse\n",
      "  copying autosklearn\\metalearning\\files\\recall_weighted_binary.classification_sparse\\feature_values.arff -> build\\lib.win-amd64-3.8\\autosklearn\\metalearning\\files\\recall_weighted_binary.classification_sparse\n",
      "  copying autosklearn\\metalearning\\files\\recall_weighted_binary.classification_sparse\\readme.txt -> build\\lib.win-amd64-3.8\\autosklearn\\metalearning\\files\\recall_weighted_binary.classification_sparse\n",
      "  creating build\\lib.win-amd64-3.8\\autosklearn\\metalearning\\files\\recall_weighted_multiclass.classification_dense\n",
      "  copying autosklearn\\metalearning\\files\\recall_weighted_multiclass.classification_dense\\algorithm_runs.arff -> build\\lib.win-amd64-3.8\\autosklearn\\metalearning\\files\\recall_weighted_multiclass.classification_dense\n",
      "  copying autosklearn\\metalearning\\files\\recall_weighted_multiclass.classification_dense\\configurations.csv -> build\\lib.win-amd64-3.8\\autosklearn\\metalearning\\files\\recall_weighted_multiclass.classification_dense\n",
      "  copying autosklearn\\metalearning\\files\\recall_weighted_multiclass.classification_dense\\description.txt -> build\\lib.win-amd64-3.8\\autosklearn\\metalearning\\files\\recall_weighted_multiclass.classification_dense\n",
      "  copying autosklearn\\metalearning\\files\\recall_weighted_multiclass.classification_dense\\feature_costs.arff -> build\\lib.win-amd64-3.8\\autosklearn\\metalearning\\files\\recall_weighted_multiclass.classification_dense\n",
      "  copying autosklearn\\metalearning\\files\\recall_weighted_multiclass.classification_dense\\feature_runstatus.arff -> build\\lib.win-amd64-3.8\\autosklearn\\metalearning\\files\\recall_weighted_multiclass.classification_dense\n",
      "  copying autosklearn\\metalearning\\files\\recall_weighted_multiclass.classification_dense\\feature_values.arff -> build\\lib.win-amd64-3.8\\autosklearn\\metalearning\\files\\recall_weighted_multiclass.classification_dense\n",
      "  copying autosklearn\\metalearning\\files\\recall_weighted_multiclass.classification_dense\\readme.txt -> build\\lib.win-amd64-3.8\\autosklearn\\metalearning\\files\\recall_weighted_multiclass.classification_dense\n",
      "  creating build\\lib.win-amd64-3.8\\autosklearn\\metalearning\\files\\recall_weighted_multiclass.classification_sparse\n",
      "  copying autosklearn\\metalearning\\files\\recall_weighted_multiclass.classification_sparse\\algorithm_runs.arff -> build\\lib.win-amd64-3.8\\autosklearn\\metalearning\\files\\recall_weighted_multiclass.classification_sparse\n",
      "  copying autosklearn\\metalearning\\files\\recall_weighted_multiclass.classification_sparse\\configurations.csv -> build\\lib.win-amd64-3.8\\autosklearn\\metalearning\\files\\recall_weighted_multiclass.classification_sparse\n",
      "  copying autosklearn\\metalearning\\files\\recall_weighted_multiclass.classification_sparse\\description.txt -> build\\lib.win-amd64-3.8\\autosklearn\\metalearning\\files\\recall_weighted_multiclass.classification_sparse\n",
      "  copying autosklearn\\metalearning\\files\\recall_weighted_multiclass.classification_sparse\\feature_costs.arff -> build\\lib.win-amd64-3.8\\autosklearn\\metalearning\\files\\recall_weighted_multiclass.classification_sparse\n",
      "  copying autosklearn\\metalearning\\files\\recall_weighted_multiclass.classification_sparse\\feature_runstatus.arff -> build\\lib.win-amd64-3.8\\autosklearn\\metalearning\\files\\recall_weighted_multiclass.classification_sparse\n",
      "  copying autosklearn\\metalearning\\files\\recall_weighted_multiclass.classification_sparse\\feature_values.arff -> build\\lib.win-amd64-3.8\\autosklearn\\metalearning\\files\\recall_weighted_multiclass.classification_sparse\n",
      "  copying autosklearn\\metalearning\\files\\recall_weighted_multiclass.classification_sparse\\readme.txt -> build\\lib.win-amd64-3.8\\autosklearn\\metalearning\\files\\recall_weighted_multiclass.classification_sparse\n",
      "  creating build\\lib.win-amd64-3.8\\autosklearn\\metalearning\\files\\roc_auc_binary.classification_dense\n",
      "  copying autosklearn\\metalearning\\files\\roc_auc_binary.classification_dense\\algorithm_runs.arff -> build\\lib.win-amd64-3.8\\autosklearn\\metalearning\\files\\roc_auc_binary.classification_dense\n",
      "  copying autosklearn\\metalearning\\files\\roc_auc_binary.classification_dense\\configurations.csv -> build\\lib.win-amd64-3.8\\autosklearn\\metalearning\\files\\roc_auc_binary.classification_dense\n",
      "  copying autosklearn\\metalearning\\files\\roc_auc_binary.classification_dense\\description.txt -> build\\lib.win-amd64-3.8\\autosklearn\\metalearning\\files\\roc_auc_binary.classification_dense\n",
      "  copying autosklearn\\metalearning\\files\\roc_auc_binary.classification_dense\\feature_costs.arff -> build\\lib.win-amd64-3.8\\autosklearn\\metalearning\\files\\roc_auc_binary.classification_dense\n",
      "  copying autosklearn\\metalearning\\files\\roc_auc_binary.classification_dense\\feature_runstatus.arff -> build\\lib.win-amd64-3.8\\autosklearn\\metalearning\\files\\roc_auc_binary.classification_dense\n",
      "  copying autosklearn\\metalearning\\files\\roc_auc_binary.classification_dense\\feature_values.arff -> build\\lib.win-amd64-3.8\\autosklearn\\metalearning\\files\\roc_auc_binary.classification_dense\n",
      "  copying autosklearn\\metalearning\\files\\roc_auc_binary.classification_dense\\readme.txt -> build\\lib.win-amd64-3.8\\autosklearn\\metalearning\\files\\roc_auc_binary.classification_dense\n",
      "  creating build\\lib.win-amd64-3.8\\autosklearn\\metalearning\\files\\roc_auc_binary.classification_sparse\n",
      "  copying autosklearn\\metalearning\\files\\roc_auc_binary.classification_sparse\\algorithm_runs.arff -> build\\lib.win-amd64-3.8\\autosklearn\\metalearning\\files\\roc_auc_binary.classification_sparse\n",
      "  copying autosklearn\\metalearning\\files\\roc_auc_binary.classification_sparse\\configurations.csv -> build\\lib.win-amd64-3.8\\autosklearn\\metalearning\\files\\roc_auc_binary.classification_sparse\n",
      "  copying autosklearn\\metalearning\\files\\roc_auc_binary.classification_sparse\\description.txt -> build\\lib.win-amd64-3.8\\autosklearn\\metalearning\\files\\roc_auc_binary.classification_sparse\n",
      "  copying autosklearn\\metalearning\\files\\roc_auc_binary.classification_sparse\\feature_costs.arff -> build\\lib.win-amd64-3.8\\autosklearn\\metalearning\\files\\roc_auc_binary.classification_sparse\n",
      "  copying autosklearn\\metalearning\\files\\roc_auc_binary.classification_sparse\\feature_runstatus.arff -> build\\lib.win-amd64-3.8\\autosklearn\\metalearning\\files\\roc_auc_binary.classification_sparse\n",
      "  copying autosklearn\\metalearning\\files\\roc_auc_binary.classification_sparse\\feature_values.arff -> build\\lib.win-amd64-3.8\\autosklearn\\metalearning\\files\\roc_auc_binary.classification_sparse\n",
      "  copying autosklearn\\metalearning\\files\\roc_auc_binary.classification_sparse\\readme.txt -> build\\lib.win-amd64-3.8\\autosklearn\\metalearning\\files\\roc_auc_binary.classification_sparse\n",
      "  creating build\\lib.win-amd64-3.8\\autosklearn\\metalearning\\files\\roc_auc_multiclass.classification_dense\n",
      "  copying autosklearn\\metalearning\\files\\roc_auc_multiclass.classification_dense\\algorithm_runs.arff -> build\\lib.win-amd64-3.8\\autosklearn\\metalearning\\files\\roc_auc_multiclass.classification_dense\n",
      "  copying autosklearn\\metalearning\\files\\roc_auc_multiclass.classification_dense\\configurations.csv -> build\\lib.win-amd64-3.8\\autosklearn\\metalearning\\files\\roc_auc_multiclass.classification_dense\n",
      "  copying autosklearn\\metalearning\\files\\roc_auc_multiclass.classification_dense\\description.txt -> build\\lib.win-amd64-3.8\\autosklearn\\metalearning\\files\\roc_auc_multiclass.classification_dense\n",
      "  copying autosklearn\\metalearning\\files\\roc_auc_multiclass.classification_dense\\feature_costs.arff -> build\\lib.win-amd64-3.8\\autosklearn\\metalearning\\files\\roc_auc_multiclass.classification_dense\n",
      "  copying autosklearn\\metalearning\\files\\roc_auc_multiclass.classification_dense\\feature_runstatus.arff -> build\\lib.win-amd64-3.8\\autosklearn\\metalearning\\files\\roc_auc_multiclass.classification_dense\n",
      "  copying autosklearn\\metalearning\\files\\roc_auc_multiclass.classification_dense\\feature_values.arff -> build\\lib.win-amd64-3.8\\autosklearn\\metalearning\\files\\roc_auc_multiclass.classification_dense\n",
      "  copying autosklearn\\metalearning\\files\\roc_auc_multiclass.classification_dense\\readme.txt -> build\\lib.win-amd64-3.8\\autosklearn\\metalearning\\files\\roc_auc_multiclass.classification_dense\n",
      "  creating build\\lib.win-amd64-3.8\\autosklearn\\metalearning\\files\\roc_auc_multiclass.classification_sparse\n",
      "  copying autosklearn\\metalearning\\files\\roc_auc_multiclass.classification_sparse\\algorithm_runs.arff -> build\\lib.win-amd64-3.8\\autosklearn\\metalearning\\files\\roc_auc_multiclass.classification_sparse\n",
      "  copying autosklearn\\metalearning\\files\\roc_auc_multiclass.classification_sparse\\configurations.csv -> build\\lib.win-amd64-3.8\\autosklearn\\metalearning\\files\\roc_auc_multiclass.classification_sparse\n",
      "  copying autosklearn\\metalearning\\files\\roc_auc_multiclass.classification_sparse\\description.txt -> build\\lib.win-amd64-3.8\\autosklearn\\metalearning\\files\\roc_auc_multiclass.classification_sparse\n",
      "  copying autosklearn\\metalearning\\files\\roc_auc_multiclass.classification_sparse\\feature_costs.arff -> build\\lib.win-amd64-3.8\\autosklearn\\metalearning\\files\\roc_auc_multiclass.classification_sparse\n",
      "  copying autosklearn\\metalearning\\files\\roc_auc_multiclass.classification_sparse\\feature_runstatus.arff -> build\\lib.win-amd64-3.8\\autosklearn\\metalearning\\files\\roc_auc_multiclass.classification_sparse\n",
      "  copying autosklearn\\metalearning\\files\\roc_auc_multiclass.classification_sparse\\feature_values.arff -> build\\lib.win-amd64-3.8\\autosklearn\\metalearning\\files\\roc_auc_multiclass.classification_sparse\n",
      "  copying autosklearn\\metalearning\\files\\roc_auc_multiclass.classification_sparse\\readme.txt -> build\\lib.win-amd64-3.8\\autosklearn\\metalearning\\files\\roc_auc_multiclass.classification_sparse\n",
      "  copying autosklearn\\util\\logging.yaml -> build\\lib.win-amd64-3.8\\autosklearn\\util\n",
      "  running build_ext\n",
      "  building 'autosklearn.data.competition_c_functions' extension\n",
      "  error: Microsoft Visual C++ 14.0 or greater is required. Get it with \"Microsoft C++ Build Tools\": https://visualstudio.microsoft.com/visual-cpp-build-tools/\n",
      "  ----------------------------------------\n",
      "  ERROR: Failed building wheel for auto-sklearn\n",
      "  ERROR: Command errored out with exit status 1:\n",
      "   command: 'C:\\Users\\User\\anaconda3\\python.exe' 'C:\\Users\\User\\anaconda3\\lib\\site-packages\\pip\\_vendor\\pep517\\_in_process.py' build_wheel 'C:\\Users\\User\\AppData\\Local\\Temp\\tmp4ywq65m2'\n",
      "       cwd: C:\\Users\\User\\AppData\\Local\\Temp\\pip-install-bkgpdkkr\\configspace_3ce5046ae9fe41a9863ccedd83a7d7f0\n",
      "  Complete output (33 lines):\n",
      "  running bdist_wheel\n",
      "  running build\n",
      "  running build_py\n",
      "  creating build\n",
      "  creating build\\lib.win-amd64-3.8\n",
      "  creating build\\lib.win-amd64-3.8\\ConfigSpace\n",
      "  copying ConfigSpace\\exceptions.py -> build\\lib.win-amd64-3.8\\ConfigSpace\n",
      "  copying ConfigSpace\\__init__.py -> build\\lib.win-amd64-3.8\\ConfigSpace\n",
      "  copying ConfigSpace\\__version__.py -> build\\lib.win-amd64-3.8\\ConfigSpace\n",
      "  creating build\\lib.win-amd64-3.8\\ConfigSpace\\nx\n",
      "  copying ConfigSpace\\nx\\exception.py -> build\\lib.win-amd64-3.8\\ConfigSpace\\nx\n",
      "  copying ConfigSpace\\nx\\release.py -> build\\lib.win-amd64-3.8\\ConfigSpace\\nx\n",
      "  copying ConfigSpace\\nx\\__init__.py -> build\\lib.win-amd64-3.8\\ConfigSpace\\nx\n",
      "  creating build\\lib.win-amd64-3.8\\ConfigSpace\\read_and_write\n",
      "  copying ConfigSpace\\read_and_write\\json.py -> build\\lib.win-amd64-3.8\\ConfigSpace\\read_and_write\n",
      "  copying ConfigSpace\\read_and_write\\pcs.py -> build\\lib.win-amd64-3.8\\ConfigSpace\\read_and_write\n",
      "  copying ConfigSpace\\read_and_write\\pcs_new.py -> build\\lib.win-amd64-3.8\\ConfigSpace\\read_and_write\n",
      "  copying ConfigSpace\\read_and_write\\__init__.py -> build\\lib.win-amd64-3.8\\ConfigSpace\\read_and_write\n",
      "  creating build\\lib.win-amd64-3.8\\ConfigSpace\\nx\\algorithms\n",
      "  copying ConfigSpace\\nx\\algorithms\\cycles.py -> build\\lib.win-amd64-3.8\\ConfigSpace\\nx\\algorithms\n",
      "  copying ConfigSpace\\nx\\algorithms\\dag.py -> build\\lib.win-amd64-3.8\\ConfigSpace\\nx\\algorithms\n",
      "  copying ConfigSpace\\nx\\algorithms\\__init__.py -> build\\lib.win-amd64-3.8\\ConfigSpace\\nx\\algorithms\n",
      "  creating build\\lib.win-amd64-3.8\\ConfigSpace\\nx\\classes\n",
      "  copying ConfigSpace\\nx\\classes\\digraph.py -> build\\lib.win-amd64-3.8\\ConfigSpace\\nx\\classes\n",
      "  copying ConfigSpace\\nx\\classes\\graph.py -> build\\lib.win-amd64-3.8\\ConfigSpace\\nx\\classes\n",
      "  copying ConfigSpace\\nx\\classes\\__init__.py -> build\\lib.win-amd64-3.8\\ConfigSpace\\nx\\classes\n",
      "  creating build\\lib.win-amd64-3.8\\ConfigSpace\\nx\\algorithms\\components\n",
      "  copying ConfigSpace\\nx\\algorithms\\components\\strongly_connected.py -> build\\lib.win-amd64-3.8\\ConfigSpace\\nx\\algorithms\\components\n",
      "  copying ConfigSpace\\nx\\algorithms\\components\\__init__.py -> build\\lib.win-amd64-3.8\\ConfigSpace\\nx\\algorithms\\components\n",
      "  running build_ext\n",
      "  C:\\Users\\User\\AppData\\Local\\Temp\\pip-build-env-vjf6fd_n\\overlay\\Lib\\site-packages\\setuptools\\dist.py:723: UserWarning: Usage of dash-separated 'description-file' will not be supported in future versions. Please use the underscore name 'description_file' instead\n",
      "    warnings.warn(\n",
      "  error: Microsoft Visual C++ 14.0 or greater is required. Get it with \"Microsoft C++ Build Tools\": https://visualstudio.microsoft.com/visual-cpp-build-tools/\n",
      "  ----------------------------------------\n",
      "  ERROR: Failed building wheel for ConfigSpace\n",
      "  ERROR: Command errored out with exit status 1:\n",
      "   command: 'C:\\Users\\User\\anaconda3\\python.exe' -u -c 'import sys, setuptools, tokenize; sys.argv[0] = '\"'\"'C:\\\\Users\\\\User\\\\AppData\\\\Local\\\\Temp\\\\pip-install-bkgpdkkr\\\\pyrfr_f0e004ef65b94717845b98fadbda6d33\\\\setup.py'\"'\"'; __file__='\"'\"'C:\\\\Users\\\\User\\\\AppData\\\\Local\\\\Temp\\\\pip-install-bkgpdkkr\\\\pyrfr_f0e004ef65b94717845b98fadbda6d33\\\\setup.py'\"'\"';f=getattr(tokenize, '\"'\"'open'\"'\"', open)(__file__);code=f.read().replace('\"'\"'\\r\\n'\"'\"', '\"'\"'\\n'\"'\"');f.close();exec(compile(code, __file__, '\"'\"'exec'\"'\"'))' bdist_wheel -d 'C:\\Users\\User\\AppData\\Local\\Temp\\pip-wheel-30v5ycde'\n",
      "       cwd: C:\\Users\\User\\AppData\\Local\\Temp\\pip-install-bkgpdkkr\\pyrfr_f0e004ef65b94717845b98fadbda6d33\\\n",
      "  Complete output (7 lines):\n",
      "  running bdist_wheel\n",
      "  running build\n",
      "  running build_ext\n",
      "  building 'pyrfr._regression' extension\n",
      "  swigging pyrfr/regression.i to pyrfr/regression_wrap.cpp\n",
      "  swig.exe -python -c++ -modern -features nondynamic -I./include -o pyrfr/regression_wrap.cpp pyrfr/regression.i\n",
      "  error: command 'swig.exe' failed: No such file or directory\n",
      "  ----------------------------------------\n",
      "  ERROR: Failed building wheel for pyrfr\n",
      "  ERROR: Command errored out with exit status 1:\n",
      "   command: 'C:\\Users\\User\\anaconda3\\python.exe' -u -c 'import sys, setuptools, tokenize; sys.argv[0] = '\"'\"'C:\\\\Users\\\\User\\\\AppData\\\\Local\\\\Temp\\\\pip-install-bkgpdkkr\\\\scikit-learn_5a5e1ddb5bca4a94b2e1d98351d472f0\\\\setup.py'\"'\"'; __file__='\"'\"'C:\\\\Users\\\\User\\\\AppData\\\\Local\\\\Temp\\\\pip-install-bkgpdkkr\\\\scikit-learn_5a5e1ddb5bca4a94b2e1d98351d472f0\\\\setup.py'\"'\"';f=getattr(tokenize, '\"'\"'open'\"'\"', open)(__file__);code=f.read().replace('\"'\"'\\r\\n'\"'\"', '\"'\"'\\n'\"'\"');f.close();exec(compile(code, __file__, '\"'\"'exec'\"'\"'))' bdist_wheel -d 'C:\\Users\\User\\AppData\\Local\\Temp\\pip-wheel-4wnh89wm'\n",
      "       cwd: C:\\Users\\User\\AppData\\Local\\Temp\\pip-install-bkgpdkkr\\scikit-learn_5a5e1ddb5bca4a94b2e1d98351d472f0\\\n",
      "  Complete output (614 lines):\n",
      "  Partial import of sklearn during the build process.\n",
      "  blas_opt_info:\n",
      "  blas_mkl_info:\n",
      "  No module named 'numpy.distutils._msvccompiler' in numpy.distutils; trying from distutils\n",
      "  customize MSVCCompiler\n",
      "    libraries mkl_rt not found in ['C:/Users/User/anaconda3\\\\Library\\\\lib']\n",
      "    NOT AVAILABLE\n",
      "  \n",
      "  blis_info:\n",
      "    libraries blis not found in ['C:\\\\Users\\\\User\\\\anaconda3\\\\lib', 'C:\\\\', 'C:\\\\Users\\\\User\\\\anaconda3\\\\libs']\n",
      "    NOT AVAILABLE\n",
      "  \n",
      "  openblas_info:\n",
      "    libraries openblas not found in ['C:\\\\Users\\\\User\\\\anaconda3\\\\lib', 'C:\\\\', 'C:\\\\Users\\\\User\\\\anaconda3\\\\libs']\n",
      "  get_default_fcompiler: matching types: '['gnu', 'intelv', 'absoft', 'compaqv', 'intelev', 'gnu95', 'g95', 'intelvem', 'intelem', 'flang']'\n",
      "  customize GnuFCompiler\n",
      "  Could not locate executable g77\n",
      "  Could not locate executable f77\n",
      "  customize IntelVisualFCompiler\n",
      "  Could not locate executable ifort\n",
      "  Could not locate executable ifl\n",
      "  customize AbsoftFCompiler\n",
      "  Could not locate executable f90\n",
      "  customize CompaqVisualFCompiler\n",
      "  Could not locate executable DF\n",
      "  customize IntelItaniumVisualFCompiler\n",
      "  Could not locate executable efl\n",
      "  customize Gnu95FCompiler\n",
      "  Could not locate executable gfortran\n",
      "  Could not locate executable f95\n",
      "  customize G95FCompiler\n",
      "  Could not locate executable g95\n",
      "  customize IntelEM64VisualFCompiler\n",
      "  customize IntelEM64TFCompiler\n",
      "  Could not locate executable efort\n",
      "  Could not locate executable efc\n",
      "  customize PGroupFlangCompiler\n",
      "  Could not locate executable flang\n",
      "  don't know how to compile Fortran code on platform 'nt'\n",
      "    NOT AVAILABLE\n",
      "  \n",
      "  atlas_3_10_blas_threads_info:\n",
      "  Setting PTATLAS=ATLAS\n",
      "    libraries tatlas not found in ['C:\\\\Users\\\\User\\\\anaconda3\\\\lib', 'C:\\\\', 'C:\\\\Users\\\\User\\\\anaconda3\\\\libs']\n",
      "    NOT AVAILABLE\n",
      "  \n",
      "  atlas_3_10_blas_info:\n",
      "    libraries satlas not found in ['C:\\\\Users\\\\User\\\\anaconda3\\\\lib', 'C:\\\\', 'C:\\\\Users\\\\User\\\\anaconda3\\\\libs']\n",
      "    NOT AVAILABLE\n",
      "  \n",
      "  atlas_blas_threads_info:\n",
      "  Setting PTATLAS=ATLAS\n",
      "    libraries ptf77blas,ptcblas,atlas not found in ['C:\\\\Users\\\\User\\\\anaconda3\\\\lib', 'C:\\\\', 'C:\\\\Users\\\\User\\\\anaconda3\\\\libs']\n",
      "    NOT AVAILABLE\n",
      "  \n",
      "  atlas_blas_info:\n",
      "    libraries f77blas,cblas,atlas not found in ['C:\\\\Users\\\\User\\\\anaconda3\\\\lib', 'C:\\\\', 'C:\\\\Users\\\\User\\\\anaconda3\\\\libs']\n",
      "    NOT AVAILABLE\n",
      "  \n",
      "  C:\\Users\\User\\anaconda3\\lib\\site-packages\\numpy\\distutils\\system_info.py:1989: UserWarning:\n",
      "      Optimized (vendor) Blas libraries are not found.\n",
      "      Falls back to netlib Blas library which has worse performance.\n",
      "      A better performance should be easily gained by switching\n",
      "      Blas library.\n",
      "    if self._calc_info(blas):\n",
      "  blas_info:\n",
      "    libraries blas not found in ['C:\\\\Users\\\\User\\\\anaconda3\\\\lib', 'C:\\\\', 'C:\\\\Users\\\\User\\\\anaconda3\\\\libs']\n",
      "    NOT AVAILABLE\n",
      "  \n",
      "  C:\\Users\\User\\anaconda3\\lib\\site-packages\\numpy\\distutils\\system_info.py:1989: UserWarning:\n",
      "      Blas (http://www.netlib.org/blas/) libraries not found.\n",
      "      Directories to search for the libraries can be specified in the\n",
      "      numpy/distutils/site.cfg file (section [blas]) or by setting\n",
      "      the BLAS environment variable.\n",
      "    if self._calc_info(blas):\n",
      "  blas_src_info:\n",
      "    NOT AVAILABLE\n",
      "  \n",
      "  C:\\Users\\User\\anaconda3\\lib\\site-packages\\numpy\\distutils\\system_info.py:1989: UserWarning:\n",
      "      Blas (http://www.netlib.org/blas/) sources not found.\n",
      "      Directories to search for the sources can be specified in the\n",
      "      numpy/distutils/site.cfg file (section [blas_src]) or by setting\n",
      "      the BLAS_SRC environment variable.\n",
      "    if self._calc_info(blas):\n",
      "    NOT AVAILABLE\n",
      "  \n",
      "  sklearn\\setup.py:71: UserWarning:\n",
      "      Blas (http://www.netlib.org/blas/) libraries not found.\n",
      "      Directories to search for the libraries can be specified in the\n",
      "      numpy/distutils/site.cfg file (section [blas]) or by setting\n",
      "      the BLAS environment variable.\n",
      "    warnings.warn(BlasNotFoundError.__doc__)\n",
      "  running bdist_wheel\n",
      "  running build\n",
      "  running config_cc\n",
      "  unifing config_cc, config, build_clib, build_ext, build commands --compiler options\n",
      "  running config_fc\n",
      "  unifing config_fc, config, build_clib, build_ext, build commands --fcompiler options\n",
      "  running build_src\n",
      "  build_src\n",
      "  building library \"libsvm-skl\" sources\n",
      "  building library \"cblas\" sources\n",
      "  building extension \"sklearn.__check_build._check_build\" sources\n",
      "  building extension \"sklearn.cluster._dbscan_inner\" sources\n",
      "  building extension \"sklearn.cluster._hierarchical\" sources\n",
      "  building extension \"sklearn.cluster._k_means_elkan\" sources\n",
      "  building extension \"sklearn.cluster._k_means\" sources\n",
      "  building extension \"sklearn.datasets._svmlight_format\" sources\n",
      "  building extension \"sklearn.decomposition._online_lda\" sources\n",
      "  building extension \"sklearn.decomposition.cdnmf_fast\" sources\n",
      "  building extension \"sklearn.ensemble._gradient_boosting\" sources\n",
      "  building extension \"sklearn.feature_extraction._hashing\" sources\n",
      "  building extension \"sklearn.manifold._utils\" sources\n",
      "  building extension \"sklearn.manifold._barnes_hut_tsne\" sources\n",
      "  building extension \"sklearn.metrics.cluster.expected_mutual_info_fast\" sources\n",
      "  building extension \"sklearn.metrics.pairwise_fast\" sources\n",
      "  building extension \"sklearn.neighbors.ball_tree\" sources\n",
      "  building extension \"sklearn.neighbors.kd_tree\" sources\n",
      "  building extension \"sklearn.neighbors.dist_metrics\" sources\n",
      "  building extension \"sklearn.neighbors.typedefs\" sources\n",
      "  building extension \"sklearn.neighbors.quad_tree\" sources\n",
      "  building extension \"sklearn.tree._tree\" sources\n",
      "  building extension \"sklearn.tree._splitter\" sources\n",
      "  building extension \"sklearn.tree._criterion\" sources\n",
      "  building extension \"sklearn.tree._utils\" sources\n",
      "  building extension \"sklearn.svm.libsvm\" sources\n",
      "  building extension \"sklearn.svm.liblinear\" sources\n",
      "  building extension \"sklearn.svm.libsvm_sparse\" sources\n",
      "  building extension \"sklearn._isotonic\" sources\n",
      "  building extension \"sklearn.linear_model.cd_fast\" sources\n",
      "  building extension \"sklearn.linear_model.sgd_fast\" sources\n",
      "  building extension \"sklearn.linear_model.sag_fast\" sources\n",
      "  building extension \"sklearn.utils.sparsefuncs_fast\" sources\n",
      "  building extension \"sklearn.utils.arrayfuncs\" sources\n",
      "  building extension \"sklearn.utils.murmurhash\" sources\n",
      "  building extension \"sklearn.utils.lgamma\" sources\n",
      "  building extension \"sklearn.utils.graph_shortest_path\" sources\n",
      "  building extension \"sklearn.utils.fast_dict\" sources\n",
      "  building extension \"sklearn.utils.seq_dataset\" sources\n",
      "  building extension \"sklearn.utils.weight_vector\" sources\n",
      "  building extension \"sklearn.utils._random\" sources\n",
      "  building extension \"sklearn.utils._logistic_sigmoid\" sources\n",
      "  building data_files sources\n",
      "  build_src: building npy-pkg config files\n",
      "  running build_py\n",
      "  creating build\n",
      "  creating build\\lib.win-amd64-3.8\n",
      "  creating build\\lib.win-amd64-3.8\\sklearn\n",
      "  copying sklearn\\base.py -> build\\lib.win-amd64-3.8\\sklearn\n",
      "  copying sklearn\\calibration.py -> build\\lib.win-amd64-3.8\\sklearn\n",
      "  copying sklearn\\cross_validation.py -> build\\lib.win-amd64-3.8\\sklearn\n",
      "  copying sklearn\\discriminant_analysis.py -> build\\lib.win-amd64-3.8\\sklearn\n",
      "  copying sklearn\\dummy.py -> build\\lib.win-amd64-3.8\\sklearn\n",
      "  copying sklearn\\exceptions.py -> build\\lib.win-amd64-3.8\\sklearn\n",
      "  copying sklearn\\grid_search.py -> build\\lib.win-amd64-3.8\\sklearn\n",
      "  copying sklearn\\isotonic.py -> build\\lib.win-amd64-3.8\\sklearn\n",
      "  copying sklearn\\kernel_approximation.py -> build\\lib.win-amd64-3.8\\sklearn\n",
      "  copying sklearn\\kernel_ridge.py -> build\\lib.win-amd64-3.8\\sklearn\n",
      "  copying sklearn\\learning_curve.py -> build\\lib.win-amd64-3.8\\sklearn\n",
      "  copying sklearn\\multiclass.py -> build\\lib.win-amd64-3.8\\sklearn\n",
      "  copying sklearn\\multioutput.py -> build\\lib.win-amd64-3.8\\sklearn\n",
      "  copying sklearn\\naive_bayes.py -> build\\lib.win-amd64-3.8\\sklearn\n",
      "  copying sklearn\\pipeline.py -> build\\lib.win-amd64-3.8\\sklearn\n",
      "  copying sklearn\\random_projection.py -> build\\lib.win-amd64-3.8\\sklearn\n",
      "  copying sklearn\\setup.py -> build\\lib.win-amd64-3.8\\sklearn\n",
      "  copying sklearn\\__init__.py -> build\\lib.win-amd64-3.8\\sklearn\n",
      "  creating build\\lib.win-amd64-3.8\\sklearn\\__check_build\n",
      "  copying sklearn\\__check_build\\setup.py -> build\\lib.win-amd64-3.8\\sklearn\\__check_build\n",
      "  copying sklearn\\__check_build\\__init__.py -> build\\lib.win-amd64-3.8\\sklearn\\__check_build\n",
      "  creating build\\lib.win-amd64-3.8\\sklearn\\_build_utils\n",
      "  copying sklearn\\_build_utils\\__init__.py -> build\\lib.win-amd64-3.8\\sklearn\\_build_utils\n",
      "  creating build\\lib.win-amd64-3.8\\sklearn\\covariance\n",
      "  copying sklearn\\covariance\\empirical_covariance_.py -> build\\lib.win-amd64-3.8\\sklearn\\covariance\n",
      "  copying sklearn\\covariance\\graph_lasso_.py -> build\\lib.win-amd64-3.8\\sklearn\\covariance\n",
      "  copying sklearn\\covariance\\outlier_detection.py -> build\\lib.win-amd64-3.8\\sklearn\\covariance\n",
      "  copying sklearn\\covariance\\robust_covariance.py -> build\\lib.win-amd64-3.8\\sklearn\\covariance\n",
      "  copying sklearn\\covariance\\shrunk_covariance_.py -> build\\lib.win-amd64-3.8\\sklearn\\covariance\n",
      "  copying sklearn\\covariance\\__init__.py -> build\\lib.win-amd64-3.8\\sklearn\\covariance\n",
      "  creating build\\lib.win-amd64-3.8\\sklearn\\covariance\\tests\n",
      "  copying sklearn\\covariance\\tests\\test_covariance.py -> build\\lib.win-amd64-3.8\\sklearn\\covariance/tests\n",
      "  copying sklearn\\covariance\\tests\\test_graph_lasso.py -> build\\lib.win-amd64-3.8\\sklearn\\covariance/tests\n",
      "  copying sklearn\\covariance\\tests\\test_robust_covariance.py -> build\\lib.win-amd64-3.8\\sklearn\\covariance/tests\n",
      "  copying sklearn\\covariance\\tests\\__init__.py -> build\\lib.win-amd64-3.8\\sklearn\\covariance/tests\n",
      "  creating build\\lib.win-amd64-3.8\\sklearn\\cross_decomposition\n",
      "  copying sklearn\\cross_decomposition\\cca_.py -> build\\lib.win-amd64-3.8\\sklearn\\cross_decomposition\n",
      "  copying sklearn\\cross_decomposition\\pls_.py -> build\\lib.win-amd64-3.8\\sklearn\\cross_decomposition\n",
      "  copying sklearn\\cross_decomposition\\__init__.py -> build\\lib.win-amd64-3.8\\sklearn\\cross_decomposition\n",
      "  creating build\\lib.win-amd64-3.8\\sklearn\\cross_decomposition\\tests\n",
      "  copying sklearn\\cross_decomposition\\tests\\test_pls.py -> build\\lib.win-amd64-3.8\\sklearn\\cross_decomposition/tests\n",
      "  copying sklearn\\cross_decomposition\\tests\\__init__.py -> build\\lib.win-amd64-3.8\\sklearn\\cross_decomposition/tests\n",
      "  creating build\\lib.win-amd64-3.8\\sklearn\\feature_selection\n",
      "  copying sklearn\\feature_selection\\base.py -> build\\lib.win-amd64-3.8\\sklearn\\feature_selection\n",
      "  copying sklearn\\feature_selection\\from_model.py -> build\\lib.win-amd64-3.8\\sklearn\\feature_selection\n",
      "  copying sklearn\\feature_selection\\mutual_info_.py -> build\\lib.win-amd64-3.8\\sklearn\\feature_selection\n",
      "  copying sklearn\\feature_selection\\rfe.py -> build\\lib.win-amd64-3.8\\sklearn\\feature_selection\n",
      "  copying sklearn\\feature_selection\\univariate_selection.py -> build\\lib.win-amd64-3.8\\sklearn\\feature_selection\n",
      "  copying sklearn\\feature_selection\\variance_threshold.py -> build\\lib.win-amd64-3.8\\sklearn\\feature_selection\n",
      "  copying sklearn\\feature_selection\\__init__.py -> build\\lib.win-amd64-3.8\\sklearn\\feature_selection\n",
      "  creating build\\lib.win-amd64-3.8\\sklearn\\feature_selection\\tests\n",
      "  copying sklearn\\feature_selection\\tests\\test_base.py -> build\\lib.win-amd64-3.8\\sklearn\\feature_selection/tests\n",
      "  copying sklearn\\feature_selection\\tests\\test_chi2.py -> build\\lib.win-amd64-3.8\\sklearn\\feature_selection/tests\n",
      "  copying sklearn\\feature_selection\\tests\\test_feature_select.py -> build\\lib.win-amd64-3.8\\sklearn\\feature_selection/tests\n",
      "  copying sklearn\\feature_selection\\tests\\test_from_model.py -> build\\lib.win-amd64-3.8\\sklearn\\feature_selection/tests\n",
      "  copying sklearn\\feature_selection\\tests\\test_mutual_info.py -> build\\lib.win-amd64-3.8\\sklearn\\feature_selection/tests\n",
      "  copying sklearn\\feature_selection\\tests\\test_rfe.py -> build\\lib.win-amd64-3.8\\sklearn\\feature_selection/tests\n",
      "  copying sklearn\\feature_selection\\tests\\test_variance_threshold.py -> build\\lib.win-amd64-3.8\\sklearn\\feature_selection/tests\n",
      "  copying sklearn\\feature_selection\\tests\\__init__.py -> build\\lib.win-amd64-3.8\\sklearn\\feature_selection/tests\n",
      "  creating build\\lib.win-amd64-3.8\\sklearn\\gaussian_process\n",
      "  copying sklearn\\gaussian_process\\correlation_models.py -> build\\lib.win-amd64-3.8\\sklearn\\gaussian_process\n",
      "  copying sklearn\\gaussian_process\\gaussian_process.py -> build\\lib.win-amd64-3.8\\sklearn\\gaussian_process\n",
      "  copying sklearn\\gaussian_process\\gpc.py -> build\\lib.win-amd64-3.8\\sklearn\\gaussian_process\n",
      "  copying sklearn\\gaussian_process\\gpr.py -> build\\lib.win-amd64-3.8\\sklearn\\gaussian_process\n",
      "  copying sklearn\\gaussian_process\\kernels.py -> build\\lib.win-amd64-3.8\\sklearn\\gaussian_process\n",
      "  copying sklearn\\gaussian_process\\regression_models.py -> build\\lib.win-amd64-3.8\\sklearn\\gaussian_process\n",
      "  copying sklearn\\gaussian_process\\__init__.py -> build\\lib.win-amd64-3.8\\sklearn\\gaussian_process\n",
      "  creating build\\lib.win-amd64-3.8\\sklearn\\gaussian_process\\tests\n",
      "  copying sklearn\\gaussian_process\\tests\\test_gaussian_process.py -> build\\lib.win-amd64-3.8\\sklearn\\gaussian_process/tests\n",
      "  copying sklearn\\gaussian_process\\tests\\test_gpc.py -> build\\lib.win-amd64-3.8\\sklearn\\gaussian_process/tests\n",
      "  copying sklearn\\gaussian_process\\tests\\test_gpr.py -> build\\lib.win-amd64-3.8\\sklearn\\gaussian_process/tests\n",
      "  copying sklearn\\gaussian_process\\tests\\test_kernels.py -> build\\lib.win-amd64-3.8\\sklearn\\gaussian_process/tests\n",
      "  copying sklearn\\gaussian_process\\tests\\__init__.py -> build\\lib.win-amd64-3.8\\sklearn\\gaussian_process/tests\n",
      "  creating build\\lib.win-amd64-3.8\\sklearn\\mixture\n",
      "  copying sklearn\\mixture\\base.py -> build\\lib.win-amd64-3.8\\sklearn\\mixture\n",
      "  copying sklearn\\mixture\\bayesian_mixture.py -> build\\lib.win-amd64-3.8\\sklearn\\mixture\n",
      "  copying sklearn\\mixture\\dpgmm.py -> build\\lib.win-amd64-3.8\\sklearn\\mixture\n",
      "  copying sklearn\\mixture\\gaussian_mixture.py -> build\\lib.win-amd64-3.8\\sklearn\\mixture\n",
      "  copying sklearn\\mixture\\gmm.py -> build\\lib.win-amd64-3.8\\sklearn\\mixture\n",
      "  copying sklearn\\mixture\\__init__.py -> build\\lib.win-amd64-3.8\\sklearn\\mixture\n",
      "  creating build\\lib.win-amd64-3.8\\sklearn\\mixture\\tests\n",
      "  copying sklearn\\mixture\\tests\\test_bayesian_mixture.py -> build\\lib.win-amd64-3.8\\sklearn\\mixture/tests\n",
      "  copying sklearn\\mixture\\tests\\test_dpgmm.py -> build\\lib.win-amd64-3.8\\sklearn\\mixture/tests\n",
      "  copying sklearn\\mixture\\tests\\test_gaussian_mixture.py -> build\\lib.win-amd64-3.8\\sklearn\\mixture/tests\n",
      "  copying sklearn\\mixture\\tests\\test_gmm.py -> build\\lib.win-amd64-3.8\\sklearn\\mixture/tests\n",
      "  copying sklearn\\mixture\\tests\\__init__.py -> build\\lib.win-amd64-3.8\\sklearn\\mixture/tests\n",
      "  creating build\\lib.win-amd64-3.8\\sklearn\\model_selection\n",
      "  copying sklearn\\model_selection\\_search.py -> build\\lib.win-amd64-3.8\\sklearn\\model_selection\n",
      "  copying sklearn\\model_selection\\_split.py -> build\\lib.win-amd64-3.8\\sklearn\\model_selection\n",
      "  copying sklearn\\model_selection\\_validation.py -> build\\lib.win-amd64-3.8\\sklearn\\model_selection\n",
      "  copying sklearn\\model_selection\\__init__.py -> build\\lib.win-amd64-3.8\\sklearn\\model_selection\n",
      "  creating build\\lib.win-amd64-3.8\\sklearn\\model_selection\\tests\n",
      "  copying sklearn\\model_selection\\tests\\common.py -> build\\lib.win-amd64-3.8\\sklearn\\model_selection/tests\n",
      "  copying sklearn\\model_selection\\tests\\test_search.py -> build\\lib.win-amd64-3.8\\sklearn\\model_selection/tests\n",
      "  copying sklearn\\model_selection\\tests\\test_split.py -> build\\lib.win-amd64-3.8\\sklearn\\model_selection/tests\n",
      "  copying sklearn\\model_selection\\tests\\test_validation.py -> build\\lib.win-amd64-3.8\\sklearn\\model_selection/tests\n",
      "  copying sklearn\\model_selection\\tests\\__init__.py -> build\\lib.win-amd64-3.8\\sklearn\\model_selection/tests\n",
      "  creating build\\lib.win-amd64-3.8\\sklearn\\neural_network\n",
      "  copying sklearn\\neural_network\\multilayer_perceptron.py -> build\\lib.win-amd64-3.8\\sklearn\\neural_network\n",
      "  copying sklearn\\neural_network\\rbm.py -> build\\lib.win-amd64-3.8\\sklearn\\neural_network\n",
      "  copying sklearn\\neural_network\\_base.py -> build\\lib.win-amd64-3.8\\sklearn\\neural_network\n",
      "  copying sklearn\\neural_network\\_stochastic_optimizers.py -> build\\lib.win-amd64-3.8\\sklearn\\neural_network\n",
      "  copying sklearn\\neural_network\\__init__.py -> build\\lib.win-amd64-3.8\\sklearn\\neural_network\n",
      "  creating build\\lib.win-amd64-3.8\\sklearn\\neural_network\\tests\n",
      "  copying sklearn\\neural_network\\tests\\test_mlp.py -> build\\lib.win-amd64-3.8\\sklearn\\neural_network/tests\n",
      "  copying sklearn\\neural_network\\tests\\test_rbm.py -> build\\lib.win-amd64-3.8\\sklearn\\neural_network/tests\n",
      "  copying sklearn\\neural_network\\tests\\test_stochastic_optimizers.py -> build\\lib.win-amd64-3.8\\sklearn\\neural_network/tests\n",
      "  copying sklearn\\neural_network\\tests\\__init__.py -> build\\lib.win-amd64-3.8\\sklearn\\neural_network/tests\n",
      "  creating build\\lib.win-amd64-3.8\\sklearn\\preprocessing\n",
      "  copying sklearn\\preprocessing\\data.py -> build\\lib.win-amd64-3.8\\sklearn\\preprocessing\n",
      "  copying sklearn\\preprocessing\\imputation.py -> build\\lib.win-amd64-3.8\\sklearn\\preprocessing\n",
      "  copying sklearn\\preprocessing\\label.py -> build\\lib.win-amd64-3.8\\sklearn\\preprocessing\n",
      "  copying sklearn\\preprocessing\\_function_transformer.py -> build\\lib.win-amd64-3.8\\sklearn\\preprocessing\n",
      "  copying sklearn\\preprocessing\\__init__.py -> build\\lib.win-amd64-3.8\\sklearn\\preprocessing\n",
      "  creating build\\lib.win-amd64-3.8\\sklearn\\preprocessing\\tests\n",
      "  copying sklearn\\preprocessing\\tests\\test_data.py -> build\\lib.win-amd64-3.8\\sklearn\\preprocessing/tests\n",
      "  copying sklearn\\preprocessing\\tests\\test_function_transformer.py -> build\\lib.win-amd64-3.8\\sklearn\\preprocessing/tests\n",
      "  copying sklearn\\preprocessing\\tests\\test_imputation.py -> build\\lib.win-amd64-3.8\\sklearn\\preprocessing/tests\n",
      "  copying sklearn\\preprocessing\\tests\\test_label.py -> build\\lib.win-amd64-3.8\\sklearn\\preprocessing/tests\n",
      "  copying sklearn\\preprocessing\\tests\\__init__.py -> build\\lib.win-amd64-3.8\\sklearn\\preprocessing/tests\n",
      "  creating build\\lib.win-amd64-3.8\\sklearn\\semi_supervised\n",
      "  copying sklearn\\semi_supervised\\label_propagation.py -> build\\lib.win-amd64-3.8\\sklearn\\semi_supervised\n",
      "  copying sklearn\\semi_supervised\\__init__.py -> build\\lib.win-amd64-3.8\\sklearn\\semi_supervised\n",
      "  creating build\\lib.win-amd64-3.8\\sklearn\\semi_supervised\\tests\n",
      "  copying sklearn\\semi_supervised\\tests\\test_label_propagation.py -> build\\lib.win-amd64-3.8\\sklearn\\semi_supervised/tests\n",
      "  copying sklearn\\semi_supervised\\tests\\__init__.py -> build\\lib.win-amd64-3.8\\sklearn\\semi_supervised/tests\n",
      "  creating build\\lib.win-amd64-3.8\\sklearn\\cluster\n",
      "  copying sklearn\\cluster\\affinity_propagation_.py -> build\\lib.win-amd64-3.8\\sklearn\\cluster\n",
      "  copying sklearn\\cluster\\bicluster.py -> build\\lib.win-amd64-3.8\\sklearn\\cluster\n",
      "  copying sklearn\\cluster\\birch.py -> build\\lib.win-amd64-3.8\\sklearn\\cluster\n",
      "  copying sklearn\\cluster\\dbscan_.py -> build\\lib.win-amd64-3.8\\sklearn\\cluster\n",
      "  copying sklearn\\cluster\\hierarchical.py -> build\\lib.win-amd64-3.8\\sklearn\\cluster\n",
      "  copying sklearn\\cluster\\k_means_.py -> build\\lib.win-amd64-3.8\\sklearn\\cluster\n",
      "  copying sklearn\\cluster\\mean_shift_.py -> build\\lib.win-amd64-3.8\\sklearn\\cluster\n",
      "  copying sklearn\\cluster\\setup.py -> build\\lib.win-amd64-3.8\\sklearn\\cluster\n",
      "  copying sklearn\\cluster\\spectral.py -> build\\lib.win-amd64-3.8\\sklearn\\cluster\n",
      "  copying sklearn\\cluster\\_feature_agglomeration.py -> build\\lib.win-amd64-3.8\\sklearn\\cluster\n",
      "  copying sklearn\\cluster\\__init__.py -> build\\lib.win-amd64-3.8\\sklearn\\cluster\n",
      "  creating build\\lib.win-amd64-3.8\\sklearn\\cluster\\tests\n",
      "  copying sklearn\\cluster\\tests\\common.py -> build\\lib.win-amd64-3.8\\sklearn\\cluster\\tests\n",
      "  copying sklearn\\cluster\\tests\\test_affinity_propagation.py -> build\\lib.win-amd64-3.8\\sklearn\\cluster\\tests\n",
      "  copying sklearn\\cluster\\tests\\test_bicluster.py -> build\\lib.win-amd64-3.8\\sklearn\\cluster\\tests\n",
      "  copying sklearn\\cluster\\tests\\test_birch.py -> build\\lib.win-amd64-3.8\\sklearn\\cluster\\tests\n",
      "  copying sklearn\\cluster\\tests\\test_dbscan.py -> build\\lib.win-amd64-3.8\\sklearn\\cluster\\tests\n",
      "  copying sklearn\\cluster\\tests\\test_hierarchical.py -> build\\lib.win-amd64-3.8\\sklearn\\cluster\\tests\n",
      "  copying sklearn\\cluster\\tests\\test_k_means.py -> build\\lib.win-amd64-3.8\\sklearn\\cluster\\tests\n",
      "  copying sklearn\\cluster\\tests\\test_mean_shift.py -> build\\lib.win-amd64-3.8\\sklearn\\cluster\\tests\n",
      "  copying sklearn\\cluster\\tests\\test_spectral.py -> build\\lib.win-amd64-3.8\\sklearn\\cluster\\tests\n",
      "  copying sklearn\\cluster\\tests\\__init__.py -> build\\lib.win-amd64-3.8\\sklearn\\cluster\\tests\n",
      "  creating build\\lib.win-amd64-3.8\\sklearn\\datasets\n",
      "  copying sklearn\\datasets\\base.py -> build\\lib.win-amd64-3.8\\sklearn\\datasets\n",
      "  copying sklearn\\datasets\\california_housing.py -> build\\lib.win-amd64-3.8\\sklearn\\datasets\n",
      "  copying sklearn\\datasets\\covtype.py -> build\\lib.win-amd64-3.8\\sklearn\\datasets\n",
      "  copying sklearn\\datasets\\kddcup99.py -> build\\lib.win-amd64-3.8\\sklearn\\datasets\n"
     ]
    },
    {
     "name": "stderr",
     "output_type": "stream",
     "text": [
      "  copying sklearn\\datasets\\lfw.py -> build\\lib.win-amd64-3.8\\sklearn\\datasets\n",
      "  copying sklearn\\datasets\\mlcomp.py -> build\\lib.win-amd64-3.8\\sklearn\\datasets\n",
      "  copying sklearn\\datasets\\mldata.py -> build\\lib.win-amd64-3.8\\sklearn\\datasets\n",
      "  copying sklearn\\datasets\\olivetti_faces.py -> build\\lib.win-amd64-3.8\\sklearn\\datasets\n",
      "  copying sklearn\\datasets\\rcv1.py -> build\\lib.win-amd64-3.8\\sklearn\\datasets\n",
      "  copying sklearn\\datasets\\samples_generator.py -> build\\lib.win-amd64-3.8\\sklearn\\datasets\n",
      "  copying sklearn\\datasets\\setup.py -> build\\lib.win-amd64-3.8\\sklearn\\datasets\n",
      "  copying sklearn\\datasets\\species_distributions.py -> build\\lib.win-amd64-3.8\\sklearn\\datasets\n",
      "  copying sklearn\\datasets\\svmlight_format.py -> build\\lib.win-amd64-3.8\\sklearn\\datasets\n",
      "  copying sklearn\\datasets\\twenty_newsgroups.py -> build\\lib.win-amd64-3.8\\sklearn\\datasets\n",
      "  copying sklearn\\datasets\\__init__.py -> build\\lib.win-amd64-3.8\\sklearn\\datasets\n",
      "  creating build\\lib.win-amd64-3.8\\sklearn\\datasets\\tests\n",
      "  copying sklearn\\datasets\\tests\\test_20news.py -> build\\lib.win-amd64-3.8\\sklearn\\datasets\\tests\n",
      "  copying sklearn\\datasets\\tests\\test_base.py -> build\\lib.win-amd64-3.8\\sklearn\\datasets\\tests\n",
      "  copying sklearn\\datasets\\tests\\test_covtype.py -> build\\lib.win-amd64-3.8\\sklearn\\datasets\\tests\n",
      "  copying sklearn\\datasets\\tests\\test_kddcup99.py -> build\\lib.win-amd64-3.8\\sklearn\\datasets\\tests\n",
      "  copying sklearn\\datasets\\tests\\test_lfw.py -> build\\lib.win-amd64-3.8\\sklearn\\datasets\\tests\n",
      "  copying sklearn\\datasets\\tests\\test_mldata.py -> build\\lib.win-amd64-3.8\\sklearn\\datasets\\tests\n",
      "  copying sklearn\\datasets\\tests\\test_rcv1.py -> build\\lib.win-amd64-3.8\\sklearn\\datasets\\tests\n",
      "  copying sklearn\\datasets\\tests\\test_samples_generator.py -> build\\lib.win-amd64-3.8\\sklearn\\datasets\\tests\n",
      "  copying sklearn\\datasets\\tests\\test_svmlight_format.py -> build\\lib.win-amd64-3.8\\sklearn\\datasets\\tests\n",
      "  copying sklearn\\datasets\\tests\\__init__.py -> build\\lib.win-amd64-3.8\\sklearn\\datasets\\tests\n",
      "  creating build\\lib.win-amd64-3.8\\sklearn\\decomposition\n",
      "  copying sklearn\\decomposition\\base.py -> build\\lib.win-amd64-3.8\\sklearn\\decomposition\n",
      "  copying sklearn\\decomposition\\dict_learning.py -> build\\lib.win-amd64-3.8\\sklearn\\decomposition\n",
      "  copying sklearn\\decomposition\\factor_analysis.py -> build\\lib.win-amd64-3.8\\sklearn\\decomposition\n",
      "  copying sklearn\\decomposition\\fastica_.py -> build\\lib.win-amd64-3.8\\sklearn\\decomposition\n",
      "  copying sklearn\\decomposition\\incremental_pca.py -> build\\lib.win-amd64-3.8\\sklearn\\decomposition\n",
      "  copying sklearn\\decomposition\\kernel_pca.py -> build\\lib.win-amd64-3.8\\sklearn\\decomposition\n",
      "  copying sklearn\\decomposition\\nmf.py -> build\\lib.win-amd64-3.8\\sklearn\\decomposition\n",
      "  copying sklearn\\decomposition\\online_lda.py -> build\\lib.win-amd64-3.8\\sklearn\\decomposition\n",
      "  copying sklearn\\decomposition\\pca.py -> build\\lib.win-amd64-3.8\\sklearn\\decomposition\n",
      "  copying sklearn\\decomposition\\setup.py -> build\\lib.win-amd64-3.8\\sklearn\\decomposition\n",
      "  copying sklearn\\decomposition\\sparse_pca.py -> build\\lib.win-amd64-3.8\\sklearn\\decomposition\n",
      "  copying sklearn\\decomposition\\truncated_svd.py -> build\\lib.win-amd64-3.8\\sklearn\\decomposition\n",
      "  copying sklearn\\decomposition\\__init__.py -> build\\lib.win-amd64-3.8\\sklearn\\decomposition\n",
      "  creating build\\lib.win-amd64-3.8\\sklearn\\decomposition\\tests\n",
      "  copying sklearn\\decomposition\\tests\\test_dict_learning.py -> build\\lib.win-amd64-3.8\\sklearn\\decomposition\\tests\n",
      "  copying sklearn\\decomposition\\tests\\test_factor_analysis.py -> build\\lib.win-amd64-3.8\\sklearn\\decomposition\\tests\n",
      "  copying sklearn\\decomposition\\tests\\test_fastica.py -> build\\lib.win-amd64-3.8\\sklearn\\decomposition\\tests\n",
      "  copying sklearn\\decomposition\\tests\\test_incremental_pca.py -> build\\lib.win-amd64-3.8\\sklearn\\decomposition\\tests\n",
      "  copying sklearn\\decomposition\\tests\\test_kernel_pca.py -> build\\lib.win-amd64-3.8\\sklearn\\decomposition\\tests\n",
      "  copying sklearn\\decomposition\\tests\\test_nmf.py -> build\\lib.win-amd64-3.8\\sklearn\\decomposition\\tests\n",
      "  copying sklearn\\decomposition\\tests\\test_online_lda.py -> build\\lib.win-amd64-3.8\\sklearn\\decomposition\\tests\n",
      "  copying sklearn\\decomposition\\tests\\test_pca.py -> build\\lib.win-amd64-3.8\\sklearn\\decomposition\\tests\n",
      "  copying sklearn\\decomposition\\tests\\test_sparse_pca.py -> build\\lib.win-amd64-3.8\\sklearn\\decomposition\\tests\n",
      "  copying sklearn\\decomposition\\tests\\test_truncated_svd.py -> build\\lib.win-amd64-3.8\\sklearn\\decomposition\\tests\n",
      "  copying sklearn\\decomposition\\tests\\__init__.py -> build\\lib.win-amd64-3.8\\sklearn\\decomposition\\tests\n",
      "  creating build\\lib.win-amd64-3.8\\sklearn\\ensemble\n",
      "  copying sklearn\\ensemble\\bagging.py -> build\\lib.win-amd64-3.8\\sklearn\\ensemble\n",
      "  copying sklearn\\ensemble\\base.py -> build\\lib.win-amd64-3.8\\sklearn\\ensemble\n",
      "  copying sklearn\\ensemble\\forest.py -> build\\lib.win-amd64-3.8\\sklearn\\ensemble\n",
      "  copying sklearn\\ensemble\\gradient_boosting.py -> build\\lib.win-amd64-3.8\\sklearn\\ensemble\n",
      "  copying sklearn\\ensemble\\iforest.py -> build\\lib.win-amd64-3.8\\sklearn\\ensemble\n",
      "  copying sklearn\\ensemble\\partial_dependence.py -> build\\lib.win-amd64-3.8\\sklearn\\ensemble\n",
      "  copying sklearn\\ensemble\\setup.py -> build\\lib.win-amd64-3.8\\sklearn\\ensemble\n",
      "  copying sklearn\\ensemble\\voting_classifier.py -> build\\lib.win-amd64-3.8\\sklearn\\ensemble\n",
      "  copying sklearn\\ensemble\\weight_boosting.py -> build\\lib.win-amd64-3.8\\sklearn\\ensemble\n",
      "  copying sklearn\\ensemble\\__init__.py -> build\\lib.win-amd64-3.8\\sklearn\\ensemble\n",
      "  creating build\\lib.win-amd64-3.8\\sklearn\\ensemble\\tests\n",
      "  copying sklearn\\ensemble\\tests\\test_bagging.py -> build\\lib.win-amd64-3.8\\sklearn\\ensemble\\tests\n",
      "  copying sklearn\\ensemble\\tests\\test_base.py -> build\\lib.win-amd64-3.8\\sklearn\\ensemble\\tests\n",
      "  copying sklearn\\ensemble\\tests\\test_forest.py -> build\\lib.win-amd64-3.8\\sklearn\\ensemble\\tests\n",
      "  copying sklearn\\ensemble\\tests\\test_gradient_boosting.py -> build\\lib.win-amd64-3.8\\sklearn\\ensemble\\tests\n",
      "  copying sklearn\\ensemble\\tests\\test_gradient_boosting_loss_functions.py -> build\\lib.win-amd64-3.8\\sklearn\\ensemble\\tests\n",
      "  copying sklearn\\ensemble\\tests\\test_iforest.py -> build\\lib.win-amd64-3.8\\sklearn\\ensemble\\tests\n",
      "  copying sklearn\\ensemble\\tests\\test_partial_dependence.py -> build\\lib.win-amd64-3.8\\sklearn\\ensemble\\tests\n",
      "  copying sklearn\\ensemble\\tests\\test_voting_classifier.py -> build\\lib.win-amd64-3.8\\sklearn\\ensemble\\tests\n",
      "  copying sklearn\\ensemble\\tests\\test_weight_boosting.py -> build\\lib.win-amd64-3.8\\sklearn\\ensemble\\tests\n",
      "  copying sklearn\\ensemble\\tests\\__init__.py -> build\\lib.win-amd64-3.8\\sklearn\\ensemble\\tests\n",
      "  creating build\\lib.win-amd64-3.8\\sklearn\\externals\n",
      "  copying sklearn\\externals\\funcsigs.py -> build\\lib.win-amd64-3.8\\sklearn\\externals\n",
      "  copying sklearn\\externals\\setup.py -> build\\lib.win-amd64-3.8\\sklearn\\externals\n",
      "  copying sklearn\\externals\\six.py -> build\\lib.win-amd64-3.8\\sklearn\\externals\n",
      "  copying sklearn\\externals\\test_externals_setup.py -> build\\lib.win-amd64-3.8\\sklearn\\externals\n",
      "  copying sklearn\\externals\\__init__.py -> build\\lib.win-amd64-3.8\\sklearn\\externals\n",
      "  creating build\\lib.win-amd64-3.8\\sklearn\\externals\\joblib\n",
      "  copying sklearn\\externals\\joblib\\backports.py -> build\\lib.win-amd64-3.8\\sklearn\\externals\\joblib\n",
      "  copying sklearn\\externals\\joblib\\disk.py -> build\\lib.win-amd64-3.8\\sklearn\\externals\\joblib\n",
      "  copying sklearn\\externals\\joblib\\format_stack.py -> build\\lib.win-amd64-3.8\\sklearn\\externals\\joblib'xargs' is not recognized as an internal or external command,\n",
      "operable program or batch file.\n"
     ]
    }
   ],
   "source": [
    "!curl https://raw.githubusercontent.com/automl/auto-sklearn/master/requirements.txt | xargs -n 1 -L 1 pip install"
   ]
  },
  {
   "cell_type": "code",
   "execution_count": null,
   "id": "IsjzfAUymMBb",
   "metadata": {
    "colab": {
     "base_uri": "https://localhost:8080/"
    },
    "id": "IsjzfAUymMBb",
    "outputId": "91bb667c-d037-4cdc-ba6f-0041559ea687"
   },
   "outputs": [
    {
     "name": "stderr",
     "output_type": "stream",
     "text": [
      "\n",
      "  copying sklearn\\externals\\joblib\\func_inspect.py -> build\\lib.win-amd64-3.8\\sklearn\\externals\\joblib\n",
      "  copying sklearn\\externals\\joblib\\hashing.py -> build\\lib.win-amd64-3.8\\sklearn\\externals\\joblib\n",
      "  copying sklearn\\externals\\joblib\\logger.py -> build\\lib.win-amd64-3.8\\sklearn\\externals\\joblib\n",
      "  copying sklearn\\externals\\joblib\\memory.py -> build\\lib.win-amd64-3.8\\sklearn\\externals\\joblib\n",
      "  copying sklearn\\externals\\joblib\\my_exceptions.py -> build\\lib.win-amd64-3.8\\sklearn\\externals\\joblib\n",
      "  copying sklearn\\externals\\joblib\\numpy_pickle.py -> build\\lib.win-amd64-3.8\\sklearn\\externals\\joblib\n",
      "  copying sklearn\\externals\\joblib\\numpy_pickle_compat.py -> build\\lib.win-amd64-3.8\\sklearn\\externals\\joblib\n",
      "  copying sklearn\\externals\\joblib\\numpy_pickle_utils.py -> build\\lib.win-amd64-3.8\\sklearn\\externals\\joblib\n",
      "  copying sklearn\\externals\\joblib\\parallel.py -> build\\lib.win-amd64-3.8\\sklearn\\externals\\joblib\n",
      "  copying sklearn\\externals\\joblib\\pool.py -> build\\lib.win-amd64-3.8\\sklearn\\externals\\joblib\n",
      "  copying sklearn\\externals\\joblib\\_compat.py -> build\\lib.win-amd64-3.8\\sklearn\\externals\\joblib\n",
      "  copying sklearn\\externals\\joblib\\_memory_helpers.py -> build\\lib.win-amd64-3.8\\sklearn\\externals\\joblib\n",
      "  copying sklearn\\externals\\joblib\\_multiprocessing_helpers.py -> build\\lib.win-amd64-3.8\\sklearn\\externals\\joblib\n",
      "  copying sklearn\\externals\\joblib\\_parallel_backends.py -> build\\lib.win-amd64-3.8\\sklearn\\externals\\joblib\n",
      "  copying sklearn\\externals\\joblib\\__init__.py -> build\\lib.win-amd64-3.8\\sklearn\\externals\\joblib\n",
      "  creating build\\lib.win-amd64-3.8\\sklearn\\feature_extraction\n",
      "  copying sklearn\\feature_extraction\\dict_vectorizer.py -> build\\lib.win-amd64-3.8\\sklearn\\feature_extraction\n",
      "  copying sklearn\\feature_extraction\\hashing.py -> build\\lib.win-amd64-3.8\\sklearn\\feature_extraction\n",
      "  copying sklearn\\feature_extraction\\image.py -> build\\lib.win-amd64-3.8\\sklearn\\feature_extraction\n",
      "  copying sklearn\\feature_extraction\\setup.py -> build\\lib.win-amd64-3.8\\sklearn\\feature_extraction\n",
      "  copying sklearn\\feature_extraction\\stop_words.py -> build\\lib.win-amd64-3.8\\sklearn\\feature_extraction\n",
      "  copying sklearn\\feature_extraction\\text.py -> build\\lib.win-amd64-3.8\\sklearn\\feature_extraction\n",
      "  copying sklearn\\feature_extraction\\__init__.py -> build\\lib.win-amd64-3.8\\sklearn\\feature_extraction\n",
      "  creating build\\lib.win-amd64-3.8\\sklearn\\feature_extraction\\tests\n",
      "  copying sklearn\\feature_extraction\\tests\\test_dict_vectorizer.py -> build\\lib.win-amd64-3.8\\sklearn\\feature_extraction\\tests\n",
      "  copying sklearn\\feature_extraction\\tests\\test_feature_hasher.py -> build\\lib.win-amd64-3.8\\sklearn\\feature_extraction\\tests\n",
      "  copying sklearn\\feature_extraction\\tests\\test_image.py -> build\\lib.win-amd64-3.8\\sklearn\\feature_extraction\\tests\n",
      "  copying sklearn\\feature_extraction\\tests\\test_text.py -> build\\lib.win-amd64-3.8\\sklearn\\feature_extraction\\tests\n",
      "  copying sklearn\\feature_extraction\\tests\\__init__.py -> build\\lib.win-amd64-3.8\\sklearn\\feature_extraction\\tests\n",
      "  creating build\\lib.win-amd64-3.8\\sklearn\\manifold\n",
      "  copying sklearn\\manifold\\isomap.py -> build\\lib.win-amd64-3.8\\sklearn\\manifold\n",
      "  copying sklearn\\manifold\\locally_linear.py -> build\\lib.win-amd64-3.8\\sklearn\\manifold\n",
      "  copying sklearn\\manifold\\mds.py -> build\\lib.win-amd64-3.8\\sklearn\\manifold\n",
      "  copying sklearn\\manifold\\setup.py -> build\\lib.win-amd64-3.8\\sklearn\\manifold\n",
      "  copying sklearn\\manifold\\spectral_embedding_.py -> build\\lib.win-amd64-3.8\\sklearn\\manifold\n",
      "  copying sklearn\\manifold\\t_sne.py -> build\\lib.win-amd64-3.8\\sklearn\\manifold\n",
      "  copying sklearn\\manifold\\__init__.py -> build\\lib.win-amd64-3.8\\sklearn\\manifold\n",
      "  creating build\\lib.win-amd64-3.8\\sklearn\\manifold\\tests\n",
      "  copying sklearn\\manifold\\tests\\test_isomap.py -> build\\lib.win-amd64-3.8\\sklearn\\manifold\\tests\n",
      "  copying sklearn\\manifold\\tests\\test_locally_linear.py -> build\\lib.win-amd64-3.8\\sklearn\\manifold\\tests\n",
      "  copying sklearn\\manifold\\tests\\test_mds.py -> build\\lib.win-amd64-3.8\\sklearn\\manifold\\tests\n",
      "  copying sklearn\\manifold\\tests\\test_spectral_embedding.py -> build\\lib.win-amd64-3.8\\sklearn\\manifold\\tests\n",
      "  copying sklearn\\manifold\\tests\\test_t_sne.py -> build\\lib.win-amd64-3.8\\sklearn\\manifold\\tests\n",
      "  copying sklearn\\manifold\\tests\\__init__.py -> build\\lib.win-amd64-3.8\\sklearn\\manifold\\tests\n",
      "  creating build\\lib.win-amd64-3.8\\sklearn\\metrics\n",
      "  copying sklearn\\metrics\\base.py -> build\\lib.win-amd64-3.8\\sklearn\\metrics\n",
      "  copying sklearn\\metrics\\classification.py -> build\\lib.win-amd64-3.8\\sklearn\\metrics\n",
      "  copying sklearn\\metrics\\pairwise.py -> build\\lib.win-amd64-3.8\\sklearn\\metrics\n",
      "  copying sklearn\\metrics\\ranking.py -> build\\lib.win-amd64-3.8\\sklearn\\metrics\n",
      "  copying sklearn\\metrics\\regression.py -> build\\lib.win-amd64-3.8\\sklearn\\metrics\n",
      "  copying sklearn\\metrics\\scorer.py -> build\\lib.win-amd64-3.8\\sklearn\\metrics\n",
      "  copying sklearn\\metrics\\setup.py -> build\\lib.win-amd64-3.8\\sklearn\\metrics\n",
      "  copying sklearn\\metrics\\__init__.py -> build\\lib.win-amd64-3.8\\sklearn\\metrics\n",
      "  creating build\\lib.win-amd64-3.8\\sklearn\\metrics\\cluster\n",
      "  copying sklearn\\metrics\\cluster\\bicluster.py -> build\\lib.win-amd64-3.8\\sklearn\\metrics\\cluster\n",
      "  copying sklearn\\metrics\\cluster\\setup.py -> build\\lib.win-amd64-3.8\\sklearn\\metrics\\cluster\n",
      "  copying sklearn\\metrics\\cluster\\supervised.py -> build\\lib.win-amd64-3.8\\sklearn\\metrics\\cluster\n",
      "  copying sklearn\\metrics\\cluster\\unsupervised.py -> build\\lib.win-amd64-3.8\\sklearn\\metrics\\cluster\n",
      "  copying sklearn\\metrics\\cluster\\__init__.py -> build\\lib.win-amd64-3.8\\sklearn\\metrics\\cluster\n",
      "  creating build\\lib.win-amd64-3.8\\sklearn\\metrics\\cluster\\tests\n",
      "  copying sklearn\\metrics\\cluster\\tests\\test_bicluster.py -> build\\lib.win-amd64-3.8\\sklearn\\metrics\\cluster\\tests\n",
      "  copying sklearn\\metrics\\cluster\\tests\\test_supervised.py -> build\\lib.win-amd64-3.8\\sklearn\\metrics\\cluster\\tests\n",
      "  copying sklearn\\metrics\\cluster\\tests\\test_unsupervised.py -> build\\lib.win-amd64-3.8\\sklearn\\metrics\\cluster\\tests\n",
      "  copying sklearn\\metrics\\cluster\\tests\\__init__.py -> build\\lib.win-amd64-3.8\\sklearn\\metrics\\cluster\\tests\n",
      "  creating build\\lib.win-amd64-3.8\\sklearn\\metrics\\tests\n",
      "  copying sklearn\\metrics\\tests\\test_classification.py -> build\\lib.win-amd64-3.8\\sklearn\\metrics\\tests\n",
      "  copying sklearn\\metrics\\tests\\test_common.py -> build\\lib.win-amd64-3.8\\sklearn\\metrics\\tests\n",
      "  copying sklearn\\metrics\\tests\\test_pairwise.py -> build\\lib.win-amd64-3.8\\sklearn\\metrics\\tests\n",
      "  copying sklearn\\metrics\\tests\\test_ranking.py -> build\\lib.win-amd64-3.8\\sklearn\\metrics\\tests\n",
      "  copying sklearn\\metrics\\tests\\test_regression.py -> build\\lib.win-amd64-3.8\\sklearn\\metrics\\tests\n",
      "  copying sklearn\\metrics\\tests\\test_score_objects.py -> build\\lib.win-amd64-3.8\\sklearn\\metrics\\tests\n",
      "  copying sklearn\\metrics\\tests\\__init__.py -> build\\lib.win-amd64-3.8\\sklearn\\metrics\\tests\n",
      "  creating build\\lib.win-amd64-3.8\\sklearn\\neighbors\n",
      "  copying sklearn\\neighbors\\approximate.py -> build\\lib.win-amd64-3.8\\sklearn\\neighbors\n",
      "  copying sklearn\\neighbors\\base.py -> build\\lib.win-amd64-3.8\\sklearn\\neighbors\n",
      "  copying sklearn\\neighbors\\classification.py -> build\\lib.win-amd64-3.8\\sklearn\\neighbors\n",
      "  copying sklearn\\neighbors\\graph.py -> build\\lib.win-amd64-3.8\\sklearn\\neighbors\n",
      "  copying sklearn\\neighbors\\kde.py -> build\\lib.win-amd64-3.8\\sklearn\\neighbors\n",
      "  copying sklearn\\neighbors\\lof.py -> build\\lib.win-amd64-3.8\\sklearn\\neighbors\n",
      "  copying sklearn\\neighbors\\nearest_centroid.py -> build\\lib.win-amd64-3.8\\sklearn\\neighbors\n",
      "  copying sklearn\\neighbors\\regression.py -> build\\lib.win-amd64-3.8\\sklearn\\neighbors\n",
      "  copying sklearn\\neighbors\\setup.py -> build\\lib.win-amd64-3.8\\sklearn\\neighbors\n",
      "  copying sklearn\\neighbors\\unsupervised.py -> build\\lib.win-amd64-3.8\\sklearn\\neighbors\n",
      "  copying sklearn\\neighbors\\__init__.py -> build\\lib.win-amd64-3.8\\sklearn\\neighbors\n",
      "  creating build\\lib.win-amd64-3.8\\sklearn\\neighbors\\tests\n",
      "  copying sklearn\\neighbors\\tests\\test_approximate.py -> build\\lib.win-amd64-3.8\\sklearn\\neighbors\\tests\n",
      "  copying sklearn\\neighbors\\tests\\test_ball_tree.py -> build\\lib.win-amd64-3.8\\sklearn\\neighbors\\tests\n",
      "  copying sklearn\\neighbors\\tests\\test_dist_metrics.py -> build\\lib.win-amd64-3.8\\sklearn\\neighbors\\tests\n",
      "  copying sklearn\\neighbors\\tests\\test_kde.py -> build\\lib.win-amd64-3.8\\sklearn\\neighbors\\tests\n",
      "  copying sklearn\\neighbors\\tests\\test_kd_tree.py -> build\\lib.win-amd64-3.8\\sklearn\\neighbors\\tests\n",
      "  copying sklearn\\neighbors\\tests\\test_lof.py -> build\\lib.win-amd64-3.8\\sklearn\\neighbors\\tests\n",
      "  copying sklearn\\neighbors\\tests\\test_nearest_centroid.py -> build\\lib.win-amd64-3.8\\sklearn\\neighbors\\tests\n",
      "  copying sklearn\\neighbors\\tests\\test_neighbors.py -> build\\lib.win-amd64-3.8\\sklearn\\neighbors\\tests\n",
      "  copying sklearn\\neighbors\\tests\\test_quad_tree.py -> build\\lib.win-amd64-3.8\\sklearn\\neighbors\\tests\n",
      "  copying sklearn\\neighbors\\tests\\__init__.py -> build\\lib.win-amd64-3.8\\sklearn\\neighbors\\tests\n",
      "  creating build\\lib.win-amd64-3.8\\sklearn\\tree\n",
      "  copying sklearn\\tree\\export.py -> build\\lib.win-amd64-3.8\\sklearn\\tree\n",
      "  copying sklearn\\tree\\setup.py -> build\\lib.win-amd64-3.8\\sklearn\\tree\n",
      "  copying sklearn\\tree\\tree.py -> build\\lib.win-amd64-3.8\\sklearn\\tree\n",
      "  copying sklearn\\tree\\__init__.py -> build\\lib.win-amd64-3.8\\sklearn\\tree\n",
      "  creating build\\lib.win-amd64-3.8\\sklearn\\tree\\tests\n",
      "  copying sklearn\\tree\\tests\\test_export.py -> build\\lib.win-amd64-3.8\\sklearn\\tree\\tests\n",
      "  copying sklearn\\tree\\tests\\test_tree.py -> build\\lib.win-amd64-3.8\\sklearn\\tree\\tests\n",
      "  copying sklearn\\tree\\tests\\__init__.py -> build\\lib.win-amd64-3.8\\sklearn\\tree\\tests\n",
      "  creating build\\lib.win-amd64-3.8\\sklearn\\svm\n",
      "  copying sklearn\\svm\\base.py -> build\\lib.win-amd64-3.8\\sklearn\\svm\n",
      "  copying sklearn\\svm\\bounds.py -> build\\lib.win-amd64-3.8\\sklearn\\svm\n",
      "  copying sklearn\\svm\\classes.py -> build\\lib.win-amd64-3.8\\sklearn\\svm\n",
      "  copying sklearn\\svm\\setup.py -> build\\lib.win-amd64-3.8\\sklearn\\svm\n",
      "  copying sklearn\\svm\\__init__.py -> build\\lib.win-amd64-3.8\\sklearn\\svm\n",
      "  creating build\\lib.win-amd64-3.8\\sklearn\\svm\\tests\n",
      "  copying sklearn\\svm\\tests\\test_bounds.py -> build\\lib.win-amd64-3.8\\sklearn\\svm\\tests\n",
      "  copying sklearn\\svm\\tests\\test_sparse.py -> build\\lib.win-amd64-3.8\\sklearn\\svm\\tests\n",
      "  copying sklearn\\svm\\tests\\test_svm.py -> build\\lib.win-amd64-3.8\\sklearn\\svm\\tests\n",
      "  copying sklearn\\svm\\tests\\__init__.py -> build\\lib.win-amd64-3.8\\sklearn\\svm\\tests\n",
      "  creating build\\lib.win-amd64-3.8\\sklearn\\linear_model\n",
      "  copying sklearn\\linear_model\\base.py -> build\\lib.win-amd64-3.8\\sklearn\\linear_model\n",
      "  copying sklearn\\linear_model\\bayes.py -> build\\lib.win-amd64-3.8\\sklearn\\linear_model\n",
      "  copying sklearn\\linear_model\\coordinate_descent.py -> build\\lib.win-amd64-3.8\\sklearn\\linear_model\n",
      "  copying sklearn\\linear_model\\huber.py -> build\\lib.win-amd64-3.8\\sklearn\\linear_model\n",
      "  copying sklearn\\linear_model\\least_angle.py -> build\\lib.win-amd64-3.8\\sklearn\\linear_model\n",
      "  copying sklearn\\linear_model\\logistic.py -> build\\lib.win-amd64-3.8\\sklearn\\linear_model\n",
      "  copying sklearn\\linear_model\\omp.py -> build\\lib.win-amd64-3.8\\sklearn\\linear_model\n",
      "  copying sklearn\\linear_model\\passive_aggressive.py -> build\\lib.win-amd64-3.8\\sklearn\\linear_model\n",
      "  copying sklearn\\linear_model\\perceptron.py -> build\\lib.win-amd64-3.8\\sklearn\\linear_model\n",
      "  copying sklearn\\linear_model\\randomized_l1.py -> build\\lib.win-amd64-3.8\\sklearn\\linear_model\n",
      "  copying sklearn\\linear_model\\ransac.py -> build\\lib.win-amd64-3.8\\sklearn\\linear_model\n",
      "  copying sklearn\\linear_model\\ridge.py -> build\\lib.win-amd64-3.8\\sklearn\\linear_model\n",
      "  copying sklearn\\linear_model\\sag.py -> build\\lib.win-amd64-3.8\\sklearn\\linear_model\n",
      "  copying sklearn\\linear_model\\setup.py -> build\\lib.win-amd64-3.8\\sklearn\\linear_model\n",
      "  copying sklearn\\linear_model\\stochastic_gradient.py -> build\\lib.win-amd64-3.8\\sklearn\\linear_model\n",
      "  copying sklearn\\linear_model\\theil_sen.py -> build\\lib.win-amd64-3.8\\sklearn\\linear_model\n",
      "  copying sklearn\\linear_model\\__init__.py -> build\\lib.win-amd64-3.8\\sklearn\\linear_model\n",
      "  creating build\\lib.win-amd64-3.8\\sklearn\\linear_model\\tests\n",
      "  copying sklearn\\linear_model\\tests\\test_base.py -> build\\lib.win-amd64-3.8\\sklearn\\linear_model\\tests\n",
      "  copying sklearn\\linear_model\\tests\\test_bayes.py -> build\\lib.win-amd64-3.8\\sklearn\\linear_model\\tests\n",
      "  copying sklearn\\linear_model\\tests\\test_coordinate_descent.py -> build\\lib.win-amd64-3.8\\sklearn\\linear_model\\tests\n",
      "  copying sklearn\\linear_model\\tests\\test_huber.py -> build\\lib.win-amd64-3.8\\sklearn\\linear_model\\tests\n",
      "  copying sklearn\\linear_model\\tests\\test_least_angle.py -> build\\lib.win-amd64-3.8\\sklearn\\linear_model\\tests\n",
      "  copying sklearn\\linear_model\\tests\\test_logistic.py -> build\\lib.win-amd64-3.8\\sklearn\\linear_model\\tests\n",
      "  copying sklearn\\linear_model\\tests\\test_omp.py -> build\\lib.win-amd64-3.8\\sklearn\\linear_model\\tests\n",
      "  copying sklearn\\linear_model\\tests\\test_passive_aggressive.py -> build\\lib.win-amd64-3.8\\sklearn\\linear_model\\tests\n",
      "  copying sklearn\\linear_model\\tests\\test_perceptron.py -> build\\lib.win-amd64-3.8\\sklearn\\linear_model\\tests\n",
      "  copying sklearn\\linear_model\\tests\\test_randomized_l1.py -> build\\lib.win-amd64-3.8\\sklearn\\linear_model\\tests\n",
      "  copying sklearn\\linear_model\\tests\\test_ransac.py -> build\\lib.win-amd64-3.8\\sklearn\\linear_model\\tests\n",
      "  copying sklearn\\linear_model\\tests\\test_ridge.py -> build\\lib.win-amd64-3.8\\sklearn\\linear_model\\tests\n",
      "  copying sklearn\\linear_model\\tests\\test_sag.py -> build\\lib.win-amd64-3.8\\sklearn\\linear_model\\tests\n",
      "  copying sklearn\\linear_model\\tests\\test_sgd.py -> build\\lib.win-amd64-3.8\\sklearn\\linear_model\\tests\n",
      "  copying sklearn\\linear_model\\tests\\test_sparse_coordinate_descent.py -> build\\lib.win-amd64-3.8\\sklearn\\linear_model\\tests\n",
      "  copying sklearn\\linear_model\\tests\\test_theil_sen.py -> build\\lib.win-amd64-3.8\\sklearn\\linear_model\\tests\n",
      "  copying sklearn\\linear_model\\tests\\__init__.py -> build\\lib.win-amd64-3.8\\sklearn\\linear_model\\tests\n",
      "  creating build\\lib.win-amd64-3.8\\sklearn\\utils\n",
      "  copying sklearn\\utils\\arpack.py -> build\\lib.win-amd64-3.8\\sklearn\\utils\n",
      "  copying sklearn\\utils\\bench.py -> build\\lib.win-amd64-3.8\\sklearn\\utils\n",
      "  copying sklearn\\utils\\class_weight.py -> build\\lib.win-amd64-3.8\\sklearn\\utils\n",
      "  copying sklearn\\utils\\deprecation.py -> build\\lib.win-amd64-3.8\\sklearn\\utils\n",
      "  copying sklearn\\utils\\estimator_checks.py -> build\\lib.win-amd64-3.8\\sklearn\\utils\n",
      "  copying sklearn\\utils\\extmath.py -> build\\lib.win-amd64-3.8\\sklearn\\utils\n",
      "  copying sklearn\\utils\\fixes.py -> build\\lib.win-amd64-3.8\\sklearn\\utils\n",
      "  copying sklearn\\utils\\graph.py -> build\\lib.win-amd64-3.8\\sklearn\\utils\n",
      "  copying sklearn\\utils\\linear_assignment_.py -> build\\lib.win-amd64-3.8\\sklearn\\utils\n",
      "  copying sklearn\\utils\\metaestimators.py -> build\\lib.win-amd64-3.8\\sklearn\\utils\n",
      "  copying sklearn\\utils\\mocking.py -> build\\lib.win-amd64-3.8\\sklearn\\utils\n",
      "  copying sklearn\\utils\\multiclass.py -> build\\lib.win-amd64-3.8\\sklearn\\utils\n",
      "  copying sklearn\\utils\\optimize.py -> build\\lib.win-amd64-3.8\\sklearn\\utils\n",
      "  copying sklearn\\utils\\random.py -> build\\lib.win-amd64-3.8\\sklearn\\utils\n",
      "  copying sklearn\\utils\\setup.py -> build\\lib.win-amd64-3.8\\sklearn\\utils\n",
      "  copying sklearn\\utils\\sparsefuncs.py -> build\\lib.win-amd64-3.8\\sklearn\\utils\n",
      "  copying sklearn\\utils\\stats.py -> build\\lib.win-amd64-3.8\\sklearn\\utils\n",
      "  copying sklearn\\utils\\testing.py -> build\\lib.win-amd64-3.8\\sklearn\\utils\n",
      "  copying sklearn\\utils\\validation.py -> build\\lib.win-amd64-3.8\\sklearn\\utils\n",
      "  copying sklearn\\utils\\_scipy_sparse_lsqr_backport.py -> build\\lib.win-amd64-3.8\\sklearn\\utils\n",
      "  copying sklearn\\utils\\__init__.py -> build\\lib.win-amd64-3.8\\sklearn\\utils\n",
      "  creating build\\lib.win-amd64-3.8\\sklearn\\utils\\sparsetools\n",
      "  copying sklearn\\utils\\sparsetools\\setup.py -> build\\lib.win-amd64-3.8\\sklearn\\utils\\sparsetools\n",
      "  copying sklearn\\utils\\sparsetools\\__init__.py -> build\\lib.win-amd64-3.8\\sklearn\\utils\\sparsetools\n",
      "  creating build\\lib.win-amd64-3.8\\sklearn\\utils\\sparsetools\\tests\n",
      "  copying sklearn\\utils\\sparsetools\\tests\\__init__.py -> build\\lib.win-amd64-3.8\\sklearn\\utils\\sparsetools\\tests\n",
      "  creating build\\lib.win-amd64-3.8\\sklearn\\utils\\tests\n",
      "  copying sklearn\\utils\\tests\\test_bench.py -> build\\lib.win-amd64-3.8\\sklearn\\utils\\tests\n",
      "  copying sklearn\\utils\\tests\\test_class_weight.py -> build\\lib.win-amd64-3.8\\sklearn\\utils\\tests\n",
      "  copying sklearn\\utils\\tests\\test_deprecation.py -> build\\lib.win-amd64-3.8\\sklearn\\utils\\tests\n",
      "  copying sklearn\\utils\\tests\\test_estimator_checks.py -> build\\lib.win-amd64-3.8\\sklearn\\utils\\tests\n",
      "  copying sklearn\\utils\\tests\\test_extmath.py -> build\\lib.win-amd64-3.8\\sklearn\\utils\\tests\n",
      "  copying sklearn\\utils\\tests\\test_fast_dict.py -> build\\lib.win-amd64-3.8\\sklearn\\utils\\tests\n",
      "  copying sklearn\\utils\\tests\\test_fixes.py -> build\\lib.win-amd64-3.8\\sklearn\\utils\\tests\n",
      "  copying sklearn\\utils\\tests\\test_graph.py -> build\\lib.win-amd64-3.8\\sklearn\\utils\\tests\n",
      "  copying sklearn\\utils\\tests\\test_linear_assignment.py -> build\\lib.win-amd64-3.8\\sklearn\\utils\\tests\n",
      "  copying sklearn\\utils\\tests\\test_metaestimators.py -> build\\lib.win-amd64-3.8\\sklearn\\utils\\tests\n",
      "  copying sklearn\\utils\\tests\\test_multiclass.py -> build\\lib.win-amd64-3.8\\sklearn\\utils\\tests\n",
      "  copying sklearn\\utils\\tests\\test_murmurhash.py -> build\\lib.win-amd64-3.8\\sklearn\\utils\\tests\n",
      "  copying sklearn\\utils\\tests\\test_optimize.py -> build\\lib.win-amd64-3.8\\sklearn\\utils\\tests\n",
      "  copying sklearn\\utils\\tests\\test_random.py -> build\\lib.win-amd64-3.8\\sklearn\\utils\\tests\n",
      "  copying sklearn\\utils\\tests\\test_seq_dataset.py -> build\\lib.win-amd64-3.8\\sklearn\\utils\\tests\n",
      "  copying sklearn\\utils\\tests\\test_shortest_path.py -> build\\lib.win-amd64-3.8\\sklearn\\utils\\tests\n",
      "  copying sklearn\\utils\\tests\\test_sparsefuncs.py -> build\\lib.win-amd64-3.8\\sklearn\\utils\\tests\n",
      "  copying sklearn\\utils\\tests\\test_stats.py -> build\\lib.win-amd64-3.8\\sklearn\\utils\\tests\n",
      "  copying sklearn\\utils\\tests\\test_testing.py -> build\\lib.win-amd64-3.8\\sklearn\\utils\\tests\n",
      "  copying sklearn\\utils\\tests\\test_utils.py -> build\\lib.win-amd64-3.8\\sklearn\\utils\\tests\n",
      "  copying sklearn\\utils\\tests\\test_validation.py -> build\\lib.win-amd64-3.8\\sklearn\\utils\\tests\n",
      "  copying sklearn\\utils\\tests\\__init__.py -> build\\lib.win-amd64-3.8\\sklearn\\utils\\tests\n",
      "  creating build\\lib.win-amd64-3.8\\sklearn\\tests\n",
      "  copying sklearn\\tests\\test_base.py -> build\\lib.win-amd64-3.8\\sklearn\\tests\n",
      "  copying sklearn\\tests\\test_calibration.py -> build\\lib.win-amd64-3.8\\sklearn\\tests\n",
      "  copying sklearn\\tests\\test_check_build.py -> build\\lib.win-amd64-3.8\\sklearn\\tests\n",
      "  copying sklearn\\tests\\test_common.py -> build\\lib.win-amd64-3.8\\sklearn\\tests\n",
      "  copying sklearn\\tests\\test_config.py -> build\\lib.win-amd64-3.8\\sklearn\\tests\n",
      "  copying sklearn\\tests\\test_cross_validation.py -> build\\lib.win-amd64-3.8\\sklearn\\tests\n",
      "  copying sklearn\\tests\\test_discriminant_analysis.py -> build\\lib.win-amd64-3.8\\sklearn\\tests\n",
      "  copying sklearn\\tests\\test_docstring_parameters.py -> build\\lib.win-amd64-3.8\\sklearn\\tests\n",
      "  copying sklearn\\tests\\test_dummy.py -> build\\lib.win-amd64-3.8\\sklearn\\tests\n",
      "  copying sklearn\\tests\\test_grid_search.py -> build\\lib.win-amd64-3.8\\sklearn\\tests\n",
      "  copying sklearn\\tests\\test_init.py -> build\\lib.win-amd64-3.8\\sklearn\\tests\n",
      "  copying sklearn\\tests\\test_isotonic.py -> build\\lib.win-amd64-3.8\\sklearn\\tests\n",
      "  copying sklearn\\tests\\test_kernel_approximation.py -> build\\lib.win-amd64-3.8\\sklearn\\tests\n",
      "  copying sklearn\\tests\\test_kernel_ridge.py -> build\\lib.win-amd64-3.8\\sklearn\\tests\n",
      "  copying sklearn\\tests\\test_learning_curve.py -> build\\lib.win-amd64-3.8\\sklearn\\tests\n",
      "  copying sklearn\\tests\\test_metaestimators.py -> build\\lib.win-amd64-3.8\\sklearn\\tests\n",
      "  copying sklearn\\tests\\test_multiclass.py -> build\\lib.win-amd64-3.8\\sklearn\\tests\n",
      "  copying sklearn\\tests\\test_multioutput.py -> build\\lib.win-amd64-3.8\\sklearn\\tests\n",
      "  copying sklearn\\tests\\test_naive_bayes.py -> build\\lib.win-amd64-3.8\\sklearn\\tests\n",
      "  copying sklearn\\tests\\test_pipeline.py -> build\\lib.win-amd64-3.8\\sklearn\\tests\n",
      "  copying sklearn\\tests\\test_random_projection.py -> build\\lib.win-amd64-3.8\\sklearn\\tests\n",
      "  copying sklearn\\tests\\__init__.py -> build\\lib.win-amd64-3.8\\sklearn\\tests\n",
      "  running build_clib\n",
      "  No module named 'numpy.distutils._msvccompiler' in numpy.distutils; trying from distutils\n",
      "  customize MSVCCompiler\n",
      "  Missing compiler_cxx fix for MSVCCompiler\n",
      "  customize MSVCCompiler using build_clib\n",
      "  CCompilerOpt.cc_test_flags[999] : testing flags (/O2)\n",
      "  error: Microsoft Visual C++ 14.0 or greater is required. Get it with \"Microsoft C++ Build Tools\": https://visualstudio.microsoft.com/visual-cpp-build-tools/\n",
      "  CCompilerOpt._cache_write[796] : write cache to path -> C:\\Users\\User\\AppData\\Local\\Temp\\pip-install-bkgpdkkr\\scikit-learn_5a5e1ddb5bca4a94b2e1d98351d472f0\\build\\temp.win-amd64-3.8\\ccompiler_opt_cache_clib.py\n",
      "  ----------------------------------------\n",
      "  ERROR: Failed building wheel for scikit-learn\n",
      "ERROR: Could not build wheels for ConfigSpace which use PEP 517 and cannot be installed directly\n"
     ]
    }
   ],
   "source": [
    "!pip install auto-sklearn"
   ]
  },
  {
   "cell_type": "markdown",
   "id": "IxaEIUhMmMBb",
   "metadata": {
    "id": "IxaEIUhMmMBb"
   },
   "source": [
    "## Sklearn automl"
   ]
  },
  {
   "cell_type": "code",
   "execution_count": null,
   "id": "trMS5PEvOWXs",
   "metadata": {
    "id": "trMS5PEvOWXs"
   },
   "outputs": [],
   "source": [
    "import numpy as np  # Allows us to work with arrays.\n",
    "import pandas as pd  # importing pandas’ library for use. Allows us to import data set and manipulate it.\n",
    "import string  # import string library function\n",
    "import re  # works with Regular Expressions\n",
    "import pickle  # allows to open and save to files\n",
    "from nltk.tokenize import word_tokenize  # tokenizes sentences.\n",
    "\n",
    "import seaborn as sns  # Allows to polt beautiful plots.\n",
    "import matplotlib.pyplot as plt  # Allows working with plots.\n",
    "from mpl_toolkits import mplot3d  # plotting 3d plots\n",
    "\n",
    "from sklearn.compose import ColumnTransformer  # helps with encoding.\n",
    "from sklearn.preprocessing import OneHotEncoder  # Does onehotencode.\n",
    "from sklearn.preprocessing import LabelEncoder   # Does 1 and 0 encoding.\n",
    "from sklearn.model_selection import train_test_split  # Splits dataset into test set and traning set. \n",
    "from sklearn.preprocessing import StandardScaler, MinMaxScaler, RobustScaler, Normalizer  # Perform the feature scaling.\n",
    "from sklearn.metrics import confusion_matrix, ConfusionMatrixDisplay, multilabel_confusion_matrix  # creates a \n",
    "                                                                            # confusion matrix  # creates a confusion matrix\n",
    "from sklearn.metrics import accuracy_score  # Returns accury score of a model.\n",
    "from collections import Counter  # Allows the counting the items in an iterable list.\n",
    "\n",
    "from sklearn.model_selection import cross_val_score  # performs cross validation. Helps in model selection.\n",
    "from sklearn.model_selection import GridSearchCV  # helps select the best hyper parameters\n",
    "# from imblearn.over_sampling import RandomOverSampler  # Uses over sampling techniques to Sample the data correctly.\n",
    "from sklearn.metrics import classification_report, accuracy_score, recall_score, precision_score, roc_auc_score, f1_score \n",
    "                                                                                 # Allows the usage of a classification report\n",
    "    \n",
    "from sklearn.metrics import precision_recall_fscore_support  # gives precison, recall, f1 score, and support\n",
    "from sklearn.model_selection import RandomizedSearchCV  # performs randomized search cv\n",
    "\n",
    "\n",
    "import warnings  # allows to ignore warnings\n",
    "warnings.filterwarnings(\"ignore\")  # ignores warnings\n",
    "\n",
    "#%matplotlib inline  # helps in showing plots on the browser.### Importing the relevent libraries"
   ]
  },
  {
   "cell_type": "code",
   "execution_count": null,
   "id": "A3Yt6TQFlskM",
   "metadata": {
    "id": "A3Yt6TQFlskM"
   },
   "outputs": [],
   "source": [
    "import autosklearn.classification # autosklearn classifier "
   ]
  },
  {
   "cell_type": "markdown",
   "id": "024c5c32",
   "metadata": {
    "id": "024c5c32"
   },
   "source": [
    "## Importing the dataframe"
   ]
  },
  {
   "cell_type": "code",
   "execution_count": null,
   "id": "985866e5",
   "metadata": {
    "id": "985866e5",
    "scrolled": true
   },
   "outputs": [],
   "source": [
    "DataFrame = pd.read_csv(\"FinalBalancedDataset.csv\")  # opens csv files and assighns them to a variable."
   ]
  },
  {
   "cell_type": "markdown",
   "id": "7e4d2088",
   "metadata": {
    "id": "7e4d2088"
   },
   "source": [
    "# Checking the data from the dataframe before pre-processing"
   ]
  },
  {
   "cell_type": "code",
   "execution_count": null,
   "id": "bb046731",
   "metadata": {
    "colab": {
     "base_uri": "https://localhost:8080/",
     "height": 206
    },
    "id": "bb046731",
    "outputId": "2021d27b-755e-4798-f5db-4805b9c83bc4",
    "scrolled": true
   },
   "outputs": [],
   "source": [
    "DataFrame.head(5)  # Taking a look at the dataframe the first elements of the dataset."
   ]
  },
  {
   "cell_type": "code",
   "execution_count": null,
   "id": "cb0ea9d1",
   "metadata": {
    "id": "cb0ea9d1"
   },
   "outputs": [],
   "source": [
    "DataFrame = DataFrame.drop('Unnamed: 0', 1)  # column is dropped"
   ]
  },
  {
   "cell_type": "code",
   "execution_count": null,
   "id": "e8b27895",
   "metadata": {
    "colab": {
     "base_uri": "https://localhost:8080/"
    },
    "id": "e8b27895",
    "outputId": "56b7f296-d35e-4ade-e881-cede973fec28",
    "scrolled": false
   },
   "outputs": [],
   "source": [
    "DataFrame.info()  # checking Basic information on the dataframe being procesed."
   ]
  },
  {
   "cell_type": "markdown",
   "id": "7da515d3",
   "metadata": {
    "id": "7da515d3"
   },
   "source": [
    "## 1. Data pre-processing"
   ]
  },
  {
   "cell_type": "code",
   "execution_count": null,
   "id": "45095b25",
   "metadata": {
    "colab": {
     "base_uri": "https://localhost:8080/"
    },
    "id": "45095b25",
    "outputId": "3801a5d3-ed69-4e52-8f0c-1bdd84c619df"
   },
   "outputs": [],
   "source": [
    "DataFrame.shape  # The Entries and the columns of the dataframe are viewed."
   ]
  },
  {
   "cell_type": "markdown",
   "id": "2a6b358d",
   "metadata": {
    "id": "2a6b358d"
   },
   "source": [
    "## Dealing with null values"
   ]
  },
  {
   "cell_type": "code",
   "execution_count": null,
   "id": "d9e0a58b",
   "metadata": {
    "colab": {
     "base_uri": "https://localhost:8080/",
     "height": 287
    },
    "id": "d9e0a58b",
    "outputId": "ff9df745-abb7-48dd-b398-c4845be34866",
    "scrolled": false
   },
   "outputs": [],
   "source": [
    "sns.heatmap(DataFrame.isnull())  # shows null values"
   ]
  },
  {
   "cell_type": "code",
   "execution_count": null,
   "id": "82c4d2ab",
   "metadata": {
    "colab": {
     "base_uri": "https://localhost:8080/"
    },
    "id": "82c4d2ab",
    "outputId": "f0eb7878-d9e9-441a-f5c8-e771a22f7d1b"
   },
   "outputs": [],
   "source": [
    "DataFrame.isnull().sum()  # Checking the dataframe for null values."
   ]
  },
  {
   "cell_type": "markdown",
   "id": "6q-NI2y8glQO",
   "metadata": {
    "id": "6q-NI2y8glQO"
   },
   "source": [
    "## Dealing with duplicates"
   ]
  },
  {
   "cell_type": "code",
   "execution_count": null,
   "id": "RO1T8yxpgaGY",
   "metadata": {
    "id": "RO1T8yxpgaGY"
   },
   "outputs": [],
   "source": [
    "DataFrame.drop_duplicates(inplace = True)  # checks for duplicates and removes them"
   ]
  },
  {
   "cell_type": "code",
   "execution_count": null,
   "id": "Mf6FfQPdgaGZ",
   "metadata": {
    "colab": {
     "base_uri": "https://localhost:8080/"
    },
    "id": "Mf6FfQPdgaGZ",
    "outputId": "87d2ea75-6bb4-4e03-c09c-2fc1c5aeba74"
   },
   "outputs": [],
   "source": [
    "print(DataFrame.pivot_table(columns=['Toxicity'], aggfunc='size'))  # counts duplicates in the selected dataframe column."
   ]
  },
  {
   "cell_type": "code",
   "execution_count": null,
   "id": "f90eeccb",
   "metadata": {
    "colab": {
     "base_uri": "https://localhost:8080/"
    },
    "id": "f90eeccb",
    "outputId": "2600ecf9-9297-4840-c928-8a75f8ac7bac"
   },
   "outputs": [],
   "source": [
    "DataFrame.info()  # checking basic information on dataframe"
   ]
  },
  {
   "cell_type": "markdown",
   "id": "add14eb6",
   "metadata": {
    "id": "add14eb6"
   },
   "source": [
    "## Balancing DataFrame"
   ]
  },
  {
   "cell_type": "code",
   "execution_count": null,
   "id": "edd74bca",
   "metadata": {
    "colab": {
     "base_uri": "https://localhost:8080/"
    },
    "id": "edd74bca",
    "outputId": "49e27829-e086-40da-cb59-9ad6a90c43d7"
   },
   "outputs": [],
   "source": [
    "print(DataFrame.pivot_table(columns=['Toxicity'], aggfunc='size'))  # counts duplicates in the selected dataframe column."
   ]
  },
  {
   "cell_type": "code",
   "execution_count": null,
   "id": "24e03781",
   "metadata": {
    "id": "24e03781"
   },
   "outputs": [],
   "source": [
    "zero = str(round(100 * (30389/56745),2)) + \"%\"   # percentage of the value is checked from label column.\n",
    "one  = str(round(100 * (23924/56745),2)) + \"%\"  # percentage of the value is checked from label column."
   ]
  },
  {
   "cell_type": "code",
   "execution_count": null,
   "id": "a439cf7e",
   "metadata": {
    "colab": {
     "base_uri": "https://localhost:8080/"
    },
    "id": "a439cf7e",
    "outputId": "0785b177-b2ce-4e68-b89d-d4a8e5efc32d"
   },
   "outputs": [],
   "source": [
    "print(\"0 is represented \", zero, \"\\n1 is represented \", one)\n",
    "# percentage of the value is printed of label column."
   ]
  },
  {
   "cell_type": "code",
   "execution_count": null,
   "id": "03341d32",
   "metadata": {
    "colab": {
     "base_uri": "https://localhost:8080/"
    },
    "id": "03341d32",
    "outputId": "347e8665-c341-4960-ea60-114f341344f4"
   },
   "outputs": [],
   "source": [
    "30389 - 23924"
   ]
  },
  {
   "cell_type": "code",
   "execution_count": null,
   "id": "ad1929e3",
   "metadata": {
    "id": "ad1929e3"
   },
   "outputs": [],
   "source": [
    "row_to_remove = np.random.RandomState(1).choice(DataFrame[DataFrame['Toxicity']==0].index,size=6465,replace=False)\n",
    "DataFrame = DataFrame.drop(row_to_remove)"
   ]
  },
  {
   "cell_type": "code",
   "execution_count": null,
   "id": "96954824",
   "metadata": {
    "colab": {
     "base_uri": "https://localhost:8080/"
    },
    "id": "96954824",
    "outputId": "429b35c9-2c55-482a-b325-570484a63278"
   },
   "outputs": [],
   "source": [
    "print(DataFrame.pivot_table(columns=['Toxicity'], aggfunc='size'))  # counts duplicates in the selected dataframe column."
   ]
  },
  {
   "cell_type": "markdown",
   "id": "1cbedef1",
   "metadata": {
    "id": "1cbedef1"
   },
   "source": [
    "# Reseting index"
   ]
  },
  {
   "cell_type": "code",
   "execution_count": null,
   "id": "99dc5c5b",
   "metadata": {
    "id": "99dc5c5b",
    "scrolled": true
   },
   "outputs": [],
   "source": [
    "DataFrame.reset_index(drop=True, inplace=True)  # reseting index."
   ]
  },
  {
   "cell_type": "code",
   "execution_count": null,
   "id": "8b0cbc36",
   "metadata": {
    "colab": {
     "base_uri": "https://localhost:8080/",
     "height": 424
    },
    "id": "8b0cbc36",
    "outputId": "857a0fb9-958a-4aa4-d097-8da273d18c82"
   },
   "outputs": [],
   "source": [
    "DataFrame"
   ]
  },
  {
   "cell_type": "code",
   "execution_count": null,
   "id": "gxDFeIanLTHl",
   "metadata": {
    "colab": {
     "base_uri": "https://localhost:8080/"
    },
    "id": "gxDFeIanLTHl",
    "outputId": "084bb056-c6f0-45b4-ab1d-63d497948e47"
   },
   "outputs": [],
   "source": [
    "DataFrame.info()  # checking basic information on dataframe"
   ]
  },
  {
   "cell_type": "markdown",
   "id": "2-_PV8GAnsRy",
   "metadata": {
    "id": "2-_PV8GAnsRy"
   },
   "source": [
    "## removing non word symbols"
   ]
  },
  {
   "cell_type": "code",
   "execution_count": null,
   "id": "zgWZUnAelWFa",
   "metadata": {
    "colab": {
     "base_uri": "https://localhost:8080/",
     "height": 206
    },
    "id": "zgWZUnAelWFa",
    "outputId": "2448701b-8b0d-401d-832d-93288c348684"
   },
   "outputs": [],
   "source": [
    "DataFrame['tweet'] = DataFrame['tweet'].str.replace('[^\\w\\s]','')\n",
    "DataFrame.head()"
   ]
  },
  {
   "cell_type": "markdown",
   "id": "ILRbfVxUknYQ",
   "metadata": {
    "id": "ILRbfVxUknYQ"
   },
   "source": [
    "## Removing most frequent words"
   ]
  },
  {
   "cell_type": "code",
   "execution_count": null,
   "id": "0sDBdy9Xj2EN",
   "metadata": {
    "colab": {
     "base_uri": "https://localhost:8080/"
    },
    "id": "0sDBdy9Xj2EN",
    "outputId": "89cdf99d-451d-45f9-91c8-444c81a494a1"
   },
   "outputs": [],
   "source": [
    "freq = pd.Series(' '.join(DataFrame['tweet']).split()).value_counts()[:10]\n",
    "freq"
   ]
  },
  {
   "cell_type": "code",
   "execution_count": null,
   "id": "LaE6EDGAmMWH",
   "metadata": {
    "colab": {
     "base_uri": "https://localhost:8080/"
    },
    "id": "LaE6EDGAmMWH",
    "outputId": "601219f1-9ad3-4ed0-9dac-194a9065029d"
   },
   "outputs": [],
   "source": [
    "freq = pd.Series(' '.join(DataFrame['tweet']).split()).value_counts()[:5]\n",
    "freq"
   ]
  },
  {
   "cell_type": "code",
   "execution_count": null,
   "id": "qKWzAxP3j2Qo",
   "metadata": {
    "colab": {
     "base_uri": "https://localhost:8080/",
     "height": 206
    },
    "id": "qKWzAxP3j2Qo",
    "outputId": "8fe345af-4f10-4c66-eb36-49e7ace50b4a"
   },
   "outputs": [],
   "source": [
    "DataFrame['tweet'] = DataFrame['tweet'].apply(lambda x: \" \".join(x for x in x.split() if x not in freq))\n",
    "DataFrame.head()"
   ]
  },
  {
   "cell_type": "markdown",
   "id": "3uyxs20fg-T7",
   "metadata": {
    "id": "3uyxs20fg-T7"
   },
   "source": [
    "## Removing the rare words"
   ]
  },
  {
   "cell_type": "code",
   "execution_count": null,
   "id": "mFPrpQrvj2b3",
   "metadata": {
    "colab": {
     "base_uri": "https://localhost:8080/"
    },
    "id": "mFPrpQrvj2b3",
    "outputId": "6fccb669-02e7-43e5-828a-373632d98328"
   },
   "outputs": [],
   "source": [
    "freq = pd.Series(' '.join(DataFrame['tweet']).split()).value_counts()[-15:]\n",
    "freq"
   ]
  },
  {
   "cell_type": "code",
   "execution_count": null,
   "id": "hRfS1OoZnFXW",
   "metadata": {
    "colab": {
     "base_uri": "https://localhost:8080/",
     "height": 206
    },
    "id": "hRfS1OoZnFXW",
    "outputId": "fac89146-c9a2-44ab-a316-edf0892a1d9a"
   },
   "outputs": [],
   "source": [
    "DataFrame['tweet'] = DataFrame['tweet'].apply(lambda x: \" \".join(x for x in x.split() if x not in freq))\n",
    "DataFrame.head()"
   ]
  },
  {
   "cell_type": "markdown",
   "id": "kNsk9YqFAXIf",
   "metadata": {
    "id": "kNsk9YqFAXIf"
   },
   "source": [
    "## Label Encoding"
   ]
  },
  {
   "cell_type": "code",
   "execution_count": null,
   "id": "hDiVpjXFAVpp",
   "metadata": {
    "id": "hDiVpjXFAVpp"
   },
   "outputs": [],
   "source": [
    "le = LabelEncoder()  # creating the instance of the object.\n",
    "DataFrame.Toxicity = le.fit_transform(DataFrame.Toxicity)  # label encoing the require dcolumn."
   ]
  },
  {
   "cell_type": "markdown",
   "id": "F72wEqBeHXWs",
   "metadata": {
    "id": "F72wEqBeHXWs"
   },
   "source": [
    "## Spliting X and y variables."
   ]
  },
  {
   "cell_type": "code",
   "execution_count": null,
   "id": "W1HZyHbJHV-c",
   "metadata": {
    "id": "W1HZyHbJHV-c"
   },
   "outputs": [],
   "source": [
    "X = DataFrame.iloc[:, -1].values  # selecting the values for the X variable."
   ]
  },
  {
   "cell_type": "code",
   "execution_count": null,
   "id": "JFumALt6HqvO",
   "metadata": {
    "id": "JFumALt6HqvO"
   },
   "outputs": [],
   "source": [
    "y = DataFrame.iloc[:, :-1].values # selecting the values for the Y variable. # done using .to_numpy and not \n",
    "                                                       # .iloc as .to_numpy creates a horizontal bar while .iloc creates a \n",
    "                                                       # horizontal bar which will not alighn with the x values."
   ]
  },
  {
   "cell_type": "code",
   "execution_count": null,
   "id": "4NISLP6ZJFsE",
   "metadata": {
    "colab": {
     "base_uri": "https://localhost:8080/"
    },
    "id": "4NISLP6ZJFsE",
    "outputId": "ac2d3101-d4d7-4257-94b7-481c7dc214d2"
   },
   "outputs": [],
   "source": [
    "print(\"X \", X, \"y \", y)  # priting arrays"
   ]
  },
  {
   "cell_type": "markdown",
   "id": "O9vsQQVKFsIB",
   "metadata": {
    "id": "O9vsQQVKFsIB"
   },
   "source": []
  },
  {
   "cell_type": "markdown",
   "id": "TJl_zy9PlTVT",
   "metadata": {
    "id": "TJl_zy9PlTVT"
   },
   "source": [
    "## Removing punctuations, special character and converting text to lower case"
   ]
  },
  {
   "cell_type": "code",
   "execution_count": null,
   "id": "cdy2zzD4KzUo",
   "metadata": {
    "id": "cdy2zzD4KzUo"
   },
   "outputs": [],
   "source": [
    "no_punctuation_and_no_stop_words = []\n",
    "for i in range(0,len(X)):\n",
    "  # removing non word symbols\n",
    "  data = re.sub(r'\\W',' ', str(X[i]))\n",
    "  # converting the data to lower case\n",
    "  data = data.lower()\n",
    "  # removing single characters\n",
    "  data = re.sub(r'\\s+[a-z]\\s+', ' ', data)\n",
    "  # removing single characters at the start of a sentence\n",
    "  data = re.sub(r'^[a-z]\\s+',' ',data)\n",
    "  #replacing everything other than alphabets with a space\n",
    "  data =re.sub(\"[^a-zA-Z]\",\" \",data)\n",
    "  # removing extra spaces\n",
    "  data = re.sub(r'\\s+',' ', data)\n",
    "  no_punctuation_and_no_stop_words.append(data)"
   ]
  },
  {
   "cell_type": "code",
   "execution_count": null,
   "id": "j_2g4K9fNg1d",
   "metadata": {
    "colab": {
     "base_uri": "https://localhost:8080/"
    },
    "id": "j_2g4K9fNg1d",
    "outputId": "d36c97ff-518b-429f-8a02-c6291570df0a"
   },
   "outputs": [],
   "source": [
    "no_punctuation_and_no_stop_words"
   ]
  },
  {
   "cell_type": "markdown",
   "id": "TsrtsfgsmDwj",
   "metadata": {
    "id": "TsrtsfgsmDwj"
   },
   "source": [
    "## Removing stop words"
   ]
  },
  {
   "cell_type": "code",
   "execution_count": null,
   "id": "VFFKFOoIQr8j",
   "metadata": {
    "id": "VFFKFOoIQr8j"
   },
   "outputs": [],
   "source": [
    "# removing stop words\n",
    "tokenized_words = [word_tokenize(str(i)) for i in no_punctuation_and_no_stop_words]\n",
    "stopset = set(stopwords.words('english'))\n",
    "clean_model = []\n",
    "for m in range(len(tokenized_words)):\n",
    "      stop_m = [i for i in tokenized_words[m] if i not in stopset]\n",
    "      clean_model.append(' '.join(stop_m))"
   ]
  },
  {
   "cell_type": "markdown",
   "id": "Vqha1ygwr-3x",
   "metadata": {
    "id": "Vqha1ygwr-3x"
   },
   "source": [
    "## Clean sentences model"
   ]
  },
  {
   "cell_type": "code",
   "execution_count": null,
   "id": "OKQoeBTdUNFF",
   "metadata": {
    "colab": {
     "base_uri": "https://localhost:8080/"
    },
    "id": "OKQoeBTdUNFF",
    "outputId": "645ec395-bef4-490f-e2e1-d17de414b971"
   },
   "outputs": [],
   "source": [
    "clean_model"
   ]
  },
  {
   "cell_type": "markdown",
   "id": "nvATdjTB-UZP",
   "metadata": {
    "id": "nvATdjTB-UZP"
   },
   "source": [
    "## Replacing words starting with not with there antonym (Will do after to see if further improvements can be made)"
   ]
  },
  {
   "cell_type": "code",
   "execution_count": null,
   "id": "Co2Lb3Hi-UZY",
   "metadata": {
    "id": "Co2Lb3Hi-UZY"
   },
   "outputs": [],
   "source": [
    "# tokenized_words = [word_tokenize(str(i)) for i in clean_model]\n",
    "# temp_word = \"\"\n",
    "# model_after_antonyms_replacement = []\n",
    "# for m in range(len(tokenized_words)):\n",
    "#   final_word = []\n",
    "#   for n in range(len(tokenized_words[m])):\n",
    "#     antonyms = []\n",
    "#     # replacing not with not_\n",
    "#     if tokenized_words[m][n] == \"not\":\n",
    "#       temp_word = \"not_\"\n",
    "#     # replacing word starting with not_ with its antonym\n",
    "#     elif temp_word == \"not_\":\n",
    "#       for sys in wordnet.synsets(tokenized_words[m][n]):\n",
    "#         for s in sys.lemmas():\n",
    "#           for a in s.antonyms(): \n",
    "#             antonyms.append(a.name())\n",
    "#       # adding antonym word to original word\n",
    "#       if len(antonyms) >= 1:\n",
    "#           tokenized_words[m][n] = antonyms[0]\n",
    "#       # adding not_ to original word\n",
    "#       else:\n",
    "#         if tokenized_words[m][n] != tokenized_words[m][-1]:\n",
    "#           tokenized_words[m][n+1] = temp_word + tokenized_words[m][n+1]\n",
    "#       temp_word = \"\"\n",
    "#     if tokenized_words[m][n] != \"not\":\n",
    "#           final_word.append(tokenized_words[m][n])\n",
    "#   model_after_antonyms_replacement.append(' '.join(final_word))        "
   ]
  },
  {
   "cell_type": "code",
   "execution_count": null,
   "id": "lhQP_6Lv_cm6",
   "metadata": {
    "id": "lhQP_6Lv_cm6"
   },
   "outputs": [],
   "source": [
    "# clean_model = model_after_antonyms_replacement\n",
    "# clean_model"
   ]
  },
  {
   "cell_type": "markdown",
   "id": "gs6mmxypa8dT",
   "metadata": {
    "id": "gs6mmxypa8dT"
   },
   "source": [
    "## Lemmatization"
   ]
  },
  {
   "cell_type": "code",
   "execution_count": null,
   "id": "yXgxLXntlpMz",
   "metadata": {
    "id": "yXgxLXntlpMz"
   },
   "outputs": [],
   "source": [
    "tokenized_words = [word_tokenize(str(i)) for i in clean_model]\n",
    "lemmatizer = WordNetLemmatizer()\n",
    "lematized_model = []\n",
    "for m in range(len(tokenized_words)):\n",
    "      lema_m = [lemmatizer.lemmatize(word) for word in tokenized_words[m]]\n",
    "      lematized_model.append(' '.join(lema_m))"
   ]
  },
  {
   "cell_type": "markdown",
   "id": "VMOhzTEesydl",
   "metadata": {
    "id": "VMOhzTEesydl"
   },
   "source": [
    "## Lemmatized model"
   ]
  },
  {
   "cell_type": "code",
   "execution_count": null,
   "id": "avQzpjUQnqIg",
   "metadata": {
    "colab": {
     "base_uri": "https://localhost:8080/"
    },
    "id": "avQzpjUQnqIg",
    "outputId": "2d63c77b-bdd5-43bd-dfd3-e4598a86bd1c"
   },
   "outputs": [],
   "source": [
    "lematized_model"
   ]
  },
  {
   "cell_type": "code",
   "execution_count": null,
   "id": "SYlJl6Nk5n5T",
   "metadata": {
    "colab": {
     "base_uri": "https://localhost:8080/"
    },
    "id": "SYlJl6Nk5n5T",
    "outputId": "f1c3bfa5-0a69-4065-aba0-dc70f90808ae"
   },
   "outputs": [],
   "source": [
    "print(lematized_model)"
   ]
  },
  {
   "cell_type": "code",
   "execution_count": null,
   "id": "hk5IR2H66WUF",
   "metadata": {
    "colab": {
     "base_uri": "https://localhost:8080/"
    },
    "id": "hk5IR2H66WUF",
    "outputId": "86cd3aee-efdd-4c04-a90f-f854c8e6fed7"
   },
   "outputs": [],
   "source": [
    "type(lematized_model)"
   ]
  },
  {
   "cell_type": "code",
   "execution_count": null,
   "id": "KnBfpxVI6csP",
   "metadata": {
    "colab": {
     "base_uri": "https://localhost:8080/"
    },
    "id": "KnBfpxVI6csP",
    "outputId": "f49cd00d-8630-4343-a56d-2c5af3659274"
   },
   "outputs": [],
   "source": [
    "type(X)"
   ]
  },
  {
   "cell_type": "code",
   "execution_count": null,
   "id": "qMX0xbGa6n6g",
   "metadata": {
    "id": "qMX0xbGa6n6g"
   },
   "outputs": [],
   "source": [
    "# lematized_model = np.array(lematized_model)"
   ]
  },
  {
   "cell_type": "code",
   "execution_count": null,
   "id": "pTje3Iqp63FI",
   "metadata": {
    "colab": {
     "base_uri": "https://localhost:8080/"
    },
    "id": "pTje3Iqp63FI",
    "outputId": "2f9cb8e3-2481-4045-a4a9-b91786e9cfce"
   },
   "outputs": [],
   "source": [
    "type(lematized_model)"
   ]
  },
  {
   "cell_type": "code",
   "execution_count": null,
   "id": "0pdsBkVDQo-Q",
   "metadata": {
    "colab": {
     "base_uri": "https://localhost:8080/"
    },
    "id": "0pdsBkVDQo-Q",
    "outputId": "9a0c43f5-4676-46af-f469-7fc50e65807b"
   },
   "outputs": [],
   "source": [
    "len(lematized_model)"
   ]
  },
  {
   "cell_type": "code",
   "execution_count": null,
   "id": "TdaVW6hcQtUN",
   "metadata": {
    "colab": {
     "base_uri": "https://localhost:8080/"
    },
    "id": "TdaVW6hcQtUN",
    "outputId": "7bee1057-da6e-49b9-9c12-086d7b3f4142"
   },
   "outputs": [],
   "source": [
    "len(y)"
   ]
  },
  {
   "cell_type": "code",
   "execution_count": null,
   "id": "tdnAsWeU6zmq",
   "metadata": {
    "colab": {
     "base_uri": "https://localhost:8080/"
    },
    "id": "tdnAsWeU6zmq",
    "outputId": "a2250327-f1b8-4ace-8234-77563d69a284"
   },
   "outputs": [],
   "source": [
    "lematized_model"
   ]
  },
  {
   "cell_type": "code",
   "execution_count": 59,
   "id": "-hqkWpb057Em",
   "metadata": {
    "colab": {
     "base_uri": "https://localhost:8080/"
    },
    "id": "-hqkWpb057Em",
    "outputId": "7d91463f-9d3d-4a0f-e895-97b33af2d4a4"
   },
   "outputs": [
    {
     "name": "stdout",
     "output_type": "stream",
     "text": [
      "['when father is dysfunctional and is so selfish he drags his kids into his dysfunction run'\n",
      " 'thanks for lyft credit i cant use cause they dont offer wheelchair vans in pdx disapointed getthanked'\n",
      " 'model i love u take with u all time in urð ðððð ððð' ...\n",
      " 'young buck wanna eat dat nigguh like I aint fuckin dis up again'\n",
      " 'youu got wild bitches tellin lies'\n",
      " 'Ruffled Ntac Eileen Dahlia Beautiful color combination of pink orange yellow amp white A Coll httptcoH0dYEBvnZB']\n"
     ]
    }
   ],
   "source": [
    "print(X)  # priting arrays"
   ]
  },
  {
   "cell_type": "markdown",
   "id": "Fmh9JtbD_flq",
   "metadata": {
    "id": "Fmh9JtbD_flq"
   },
   "source": [
    "# Encoding"
   ]
  },
  {
   "cell_type": "markdown",
   "id": "lhfuNqn3BJXK",
   "metadata": {
    "id": "lhfuNqn3BJXK"
   },
   "source": [
    "# TF-IDF model"
   ]
  },
  {
   "cell_type": "code",
   "execution_count": 67,
   "id": "4iDGDUiaZMiN",
   "metadata": {
    "id": "4iDGDUiaZMiN"
   },
   "outputs": [],
   "source": [
    "from sklearn.feature_extraction.text import TfidfVectorizer\n",
    "tfv = TfidfVectorizer(max_features = 1000)\n",
    "tfv_X = tfv.fit_transform(lematized_model).toarray()"
   ]
  },
  {
   "cell_type": "markdown",
   "id": "OZEvG9tv067J",
   "metadata": {
    "id": "OZEvG9tv067J"
   },
   "source": [
    "# Spliting in traning and testing sets"
   ]
  },
  {
   "cell_type": "code",
   "execution_count": 68,
   "id": "n8zEPbxT1CUV",
   "metadata": {
    "id": "n8zEPbxT1CUV"
   },
   "outputs": [],
   "source": [
    "tfv_X_train, tfv_X_test, tfv_y_train, tfv_y_test = train_test_split(tfv_X, y, test_size = 0.2, random_state = 1)\n",
    "# test_size = 0.2               # splitting the data into 80 and 20 percent between the training and test set           \n",
    "                                            # to get the best results.                                                           \n",
    "# random_state = 1         # resetting the  random seed"
   ]
  },
  {
   "cell_type": "code",
   "execution_count": 69,
   "id": "6m2BaOrY7WeV",
   "metadata": {
    "colab": {
     "base_uri": "https://localhost:8080/"
    },
    "id": "6m2BaOrY7WeV",
    "outputId": "7803fb43-a4bc-4d11-82ab-a6647b88eb07"
   },
   "outputs": [
    {
     "name": "stdout",
     "output_type": "stream",
     "text": [
      "The length of X_train is  38278  and the length of y_train is  38278\n",
      "The length of X_test is  9570  and the length of y_test is  9570\n"
     ]
    }
   ],
   "source": [
    "# print the lenghth of both test and train set to see if there equally split.\n",
    "print(\"The length of X_train is \",len(tfv_X_train), \" and the length of y_train is \", len(tfv_y_train))  \n",
    "print(\"The length of X_test is \",len(tfv_X_test), \" and the length of y_test is \", len(tfv_y_test))"
   ]
  },
  {
   "cell_type": "markdown",
   "id": "DU7g5gFPZ9m2",
   "metadata": {
    "id": "DU7g5gFPZ9m2"
   },
   "source": [
    "## Sklearn automl"
   ]
  },
  {
   "cell_type": "code",
   "execution_count": 70,
   "id": "jUm-oGLHZ65i",
   "metadata": {
    "id": "jUm-oGLHZ65i"
   },
   "outputs": [],
   "source": [
    "def sklearn_automl_fun(X_train, y_train,  X_test, y_test):\n",
    "\n",
    "  # fitting the model\n",
    "  automl = autosklearn.classification.AutoSklearnClassifier()\n",
    "  automl.fit(X_train, y_train)\n",
    "\n",
    "    \n",
    "  # all models used \n",
    "  print(\"\\nclassifiers used: \", set(automl.cv_results_['param_classifier:__choice__']))\n",
    "\n",
    "\n",
    "  # best model + params\n",
    "  print(\"\\nbest models and params \")\n",
    "  print(automl.cv_results_['params'][np.argmax(automl.cv_results_['mean_test_score'])])\n",
    "\n",
    "  # basic info on the automl\n",
    "  print(\"\\n\", automl.sprint_statistics())\n",
    "\n",
    "  y_test_pred = automl.predict(X_test)  # predicted results\n",
    "  \n",
    "  # Making a confusion matrix\n",
    "  sns.set(font_scale=1.4)\n",
    "  sns.heatmap(pd.DataFrame(sklearn.metrics.confusion_matrix(y_test, y_test_pred)), annot=True, annot_kws={\"size\": 16}, fmt='')\n",
    "  plt.show()"
   ]
  },
  {
   "cell_type": "code",
   "execution_count": 71,
   "id": "Bo-fQUplf-x_",
   "metadata": {
    "colab": {
     "base_uri": "https://localhost:8080/",
     "height": 571
    },
    "id": "Bo-fQUplf-x_",
    "outputId": "9f1e3476-69e6-4ff1-8359-b98a36b466d5"
   },
   "outputs": [
    {
     "name": "stdout",
     "output_type": "stream",
     "text": [
      "\n",
      "classifiers used:  {'random_forest', 'libsvm_svc', 'extra_trees', 'adaboost', 'liblinear_svc', 'k_nearest_neighbors', 'gradient_boosting', 'passive_aggressive', 'gaussian_nb', 'mlp', 'bernoulli_nb', 'decision_tree', 'lda', 'sgd', 'qda'}\n",
      "\n",
      "best models and params \n",
      "{'balancing:strategy': 'weighting', 'classifier:__choice__': 'liblinear_svc', 'data_preprocessor:__choice__': 'feature_type', 'feature_preprocessor:__choice__': 'no_preprocessing', 'classifier:liblinear_svc:C': 0.5897741347520115, 'classifier:liblinear_svc:dual': 'False', 'classifier:liblinear_svc:fit_intercept': 'True', 'classifier:liblinear_svc:intercept_scaling': 1, 'classifier:liblinear_svc:loss': 'squared_hinge', 'classifier:liblinear_svc:multi_class': 'ovr', 'classifier:liblinear_svc:penalty': 'l2', 'classifier:liblinear_svc:tol': 8.817040178738357e-05, 'data_preprocessor:feature_type:categorical_transformer:categorical_encoding:__choice__': 'no_encoding', 'data_preprocessor:feature_type:categorical_transformer:category_coalescence:__choice__': 'no_coalescense', 'data_preprocessor:feature_type:numerical_transformer:imputation:strategy': 'mean', 'data_preprocessor:feature_type:numerical_transformer:rescaling:__choice__': 'none'}\n",
      "\n",
      " auto-sklearn results:\n",
      "  Dataset name: 60b450fa-6fe3-11ec-97b5-0242ac1c0002\n",
      "  Metric: accuracy\n",
      "  Best validation score: 0.882283\n",
      "  Number of target algorithm runs: 129\n",
      "  Number of successful target algorithm runs: 92\n",
      "  Number of crashed target algorithm runs: 22\n",
      "  Number of target algorithms that exceeded the time limit: 1\n",
      "  Number of target algorithms that exceeded the memory limit: 14\n",
      "\n"
     ]
    },
    {
     "data": {
      "image/png": "[encoded data removed]",
      "text/plain": [
       "<Figure size 432x288 with 2 Axes>"
      ]
     },
     "metadata": {},
     "output_type": "display_data"
    }
   ],
   "source": [
    "sklearn_automl_fun(tfv_X_train, tfv_y_train,  tfv_X_test, tfv_y_test)"
   ]
  },
  {
   "cell_type": "markdown",
   "id": "-4om45hsOyyj",
   "metadata": {
    "id": "-4om45hsOyyj"
   },
   "source": [
    "## N-gram Model"
   ]
  },
  {
   "cell_type": "code",
   "execution_count": 59,
   "id": "VEdMi995Ovcw",
   "metadata": {
    "id": "VEdMi995Ovcw"
   },
   "outputs": [],
   "source": [
    "from sklearn.feature_extraction.text import CountVectorizer  # bag of words model."
   ]
  },
  {
   "cell_type": "code",
   "execution_count": 60,
   "id": "7kaboEa_OwPi",
   "metadata": {
    "id": "7kaboEa_OwPi"
   },
   "outputs": [],
   "source": [
    "cv = CountVectorizer(ngram_range=(2,2), max_features = 1000)\n",
    "cv_X = cv.fit_transform(lematized_model).toarray()"
   ]
  },
  {
   "cell_type": "code",
   "execution_count": 61,
   "id": "eq-lN3jSVmBC",
   "metadata": {
    "id": "eq-lN3jSVmBC"
   },
   "outputs": [],
   "source": [
    "cv_X_train, cv_X_test, cv_y_train, cv_y_test = train_test_split(cv_X, y, test_size = 0.2, random_state = 1)\n",
    "# test_size = 0.2               # splitting the data into 80 and 20 percent between the training and test set           \n",
    "                                            # to get the best results.                                                           \n",
    "# random_state = 1         # resetting the  random seed"
   ]
  },
  {
   "cell_type": "code",
   "execution_count": 63,
   "id": "kr9wfT4dSC3i",
   "metadata": {
    "colab": {
     "base_uri": "https://localhost:8080/"
    },
    "id": "kr9wfT4dSC3i",
    "outputId": "69780834-bc58-4b73-a4ba-be76dae1b9d8"
   },
   "outputs": [
    {
     "name": "stdout",
     "output_type": "stream",
     "text": [
      "The length of X_train is  38278  and the length of y_train is  38278\n",
      "The length of X_test is  9570  and the length of y_test is  9570\n"
     ]
    }
   ],
   "source": [
    "# print the lenghth of both test and train set to see if there equally split.\n",
    "print(\"The length of X_train is \",len(cv_X_train), \" and the length of y_train is \", len(cv_y_train))  \n",
    "print(\"The length of X_test is \",len(cv_X_test), \" and the length of y_test is \", len(cv_y_test))"
   ]
  },
  {
   "cell_type": "code",
   "execution_count": 66,
   "id": "QXnR-qPqWdjd",
   "metadata": {
    "colab": {
     "base_uri": "https://localhost:8080/",
     "height": 571
    },
    "id": "QXnR-qPqWdjd",
    "outputId": "690a4a47-811b-4ecc-d560-1d728e1f399b"
   },
   "outputs": [
    {
     "name": "stdout",
     "output_type": "stream",
     "text": [
      "[WARNING] [2022-01-07 16:23:46,531:Client-AutoML(1):2f9a0fd8-6fd6-11ec-97b5-0242ac1c0002] Unknown dtype for X: int64, assuming it takes 8 bit/number\n",
      "\n",
      "classifiers used:  {'random_forest', 'libsvm_svc', 'extra_trees', 'adaboost', 'liblinear_svc', 'k_nearest_neighbors', 'gradient_boosting', 'passive_aggressive', 'gaussian_nb', 'mlp', 'multinomial_nb', 'bernoulli_nb', 'decision_tree', 'lda', 'sgd', 'qda'}\n",
      "\n",
      "best models and params \n",
      "{'balancing:strategy': 'none', 'classifier:__choice__': 'random_forest', 'data_preprocessor:__choice__': 'feature_type', 'feature_preprocessor:__choice__': 'no_preprocessing', 'classifier:random_forest:bootstrap': 'True', 'classifier:random_forest:criterion': 'gini', 'classifier:random_forest:max_depth': 'None', 'classifier:random_forest:max_features': 0.5, 'classifier:random_forest:max_leaf_nodes': 'None', 'classifier:random_forest:min_impurity_decrease': 0.0, 'classifier:random_forest:min_samples_leaf': 1, 'classifier:random_forest:min_samples_split': 2, 'classifier:random_forest:min_weight_fraction_leaf': 0.0, 'data_preprocessor:feature_type:categorical_transformer:categorical_encoding:__choice__': 'one_hot_encoding', 'data_preprocessor:feature_type:categorical_transformer:category_coalescence:__choice__': 'minority_coalescer', 'data_preprocessor:feature_type:numerical_transformer:imputation:strategy': 'mean', 'data_preprocessor:feature_type:numerical_transformer:rescaling:__choice__': 'standardize', 'data_preprocessor:feature_type:categorical_transformer:category_coalescence:minority_coalescer:minimum_fraction': 0.01}\n",
      "\n",
      " auto-sklearn results:\n",
      "  Dataset name: 2f9a0fd8-6fd6-11ec-97b5-0242ac1c0002\n",
      "  Metric: accuracy\n",
      "  Number of target algorithm runs: 518\n",
      "  Number of successful target algorithm runs: 0\n",
      "  Number of crashed target algorithm runs: 0\n",
      "  Number of target algorithms that exceeded the time limit: 0\n",
      "  Number of target algorithms that exceeded the memory limit: 518\n",
      "\n"
     ]
    },
    {
     "data": {
      "image/png": "[encoded data removed]",
      "text/plain": [
       "<Figure size 432x288 with 2 Axes>"
      ]
     },
     "metadata": {},
     "output_type": "display_data"
    }
   ],
   "source": [
    "sklearn_automl_fun(cv_X_train, cv_y_train,  cv_X_test, cv_y_test)"
   ]
  }
 ],
 "metadata": {
  "colab": {
   "collapsed_sections": [],
   "name": "Detecting_toxic_language.ipynb",
   "provenance": []
  },
  "kernelspec": {
   "display_name": "Python 3",
   "language": "python",
   "name": "python3"
  },
  "language_info": {
   "codemirror_mode": {
    "name": "ipython",
    "version": 3
   },
   "file_extension": ".py",
   "mimetype": "text/x-python",
   "name": "python",
   "nbconvert_exporter": "python",
   "pygments_lexer": "ipython3",
   "version": "3.8.8"
  }
 },
 "nbformat": 4,
 "nbformat_minor": 5
}
