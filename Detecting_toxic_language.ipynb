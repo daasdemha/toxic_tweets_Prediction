{
 "cells": [
  {
   "cell_type": "code",
   "execution_count": 7,
   "id": "8070b45d",
   "metadata": {},
   "outputs": [],
   "source": [
    "# conda install -c anaconda nltk"
   ]
  },
  {
   "cell_type": "code",
   "execution_count": 5,
   "id": "897394ee",
   "metadata": {},
   "outputs": [
    {
     "name": "stdout",
     "output_type": "stream",
     "text": [
      "3.8.8\n"
     ]
    }
   ],
   "source": [
    "from platform import python_version\n",
    "\n",
    "print(python_version())"
   ]
  },
  {
   "cell_type": "markdown",
   "id": "bcbed2e0",
   "metadata": {},
   "source": [
    "# Make sure the version of anaconda is the latest "
   ]
  },
  {
   "cell_type": "code",
   "execution_count": 1,
   "id": "ad63095a",
   "metadata": {
    "scrolled": true
   },
   "outputs": [
    {
     "name": "stdout",
     "output_type": "stream",
     "text": [
      "0.24.1\n"
     ]
    }
   ],
   "source": [
    "import sklearn  # importing sklearn\n",
    "print(sklearn.__version__)  # printing sklearn version"
   ]
  },
  {
   "cell_type": "markdown",
   "id": "d46355d5",
   "metadata": {},
   "source": [
    "## Importing the relevent libraries"
   ]
  },
  {
   "cell_type": "code",
   "execution_count": null,
   "id": "76ce7b57",
   "metadata": {},
   "outputs": [],
   "source": [
    "import nltk\n",
    "# nltk.download()"
   ]
  },
  {
   "cell_type": "code",
   "execution_count": 2,
   "id": "f0ec117a",
   "metadata": {},
   "outputs": [
    {
     "ename": "ModuleNotFoundError",
     "evalue": "No module named 'nlkt'",
     "output_type": "error",
     "traceback": [
      "\u001b[1;31m---------------------------------------------------------------------------\u001b[0m",
      "\u001b[1;31mModuleNotFoundError\u001b[0m                       Traceback (most recent call last)",
      "\u001b[1;32m<ipython-input-2-9a4b1c912868>\u001b[0m in \u001b[0;36m<module>\u001b[1;34m\u001b[0m\n\u001b[0;32m      1\u001b[0m \u001b[1;32mimport\u001b[0m \u001b[0mnumpy\u001b[0m \u001b[1;32mas\u001b[0m \u001b[0mnp\u001b[0m  \u001b[1;31m# Allows us to work with arrays.\u001b[0m\u001b[1;33m\u001b[0m\u001b[1;33m\u001b[0m\u001b[0m\n\u001b[0;32m      2\u001b[0m \u001b[1;32mimport\u001b[0m \u001b[0mpandas\u001b[0m \u001b[1;32mas\u001b[0m \u001b[0mpd\u001b[0m  \u001b[1;31m# importing pandas’ library for use. Allows us to import data set and manipulate it.\u001b[0m\u001b[1;33m\u001b[0m\u001b[1;33m\u001b[0m\u001b[0m\n\u001b[1;32m----> 3\u001b[1;33m \u001b[1;32mimport\u001b[0m \u001b[0mnlkt\u001b[0m  \u001b[1;31m# importing natural language processing toolkit\u001b[0m\u001b[1;33m\u001b[0m\u001b[1;33m\u001b[0m\u001b[0m\n\u001b[0m\u001b[0;32m      4\u001b[0m \u001b[1;33m\u001b[0m\u001b[0m\n\u001b[0;32m      5\u001b[0m \u001b[1;32mimport\u001b[0m \u001b[0mseaborn\u001b[0m \u001b[1;32mas\u001b[0m \u001b[0msns\u001b[0m  \u001b[1;31m# Allows to polt beautiful plots.\u001b[0m\u001b[1;33m\u001b[0m\u001b[1;33m\u001b[0m\u001b[0m\n",
      "\u001b[1;31mModuleNotFoundError\u001b[0m: No module named 'nlkt'"
     ]
    }
   ],
   "source": [
    "import numpy as np  # Allows us to work with arrays.\n",
    "import pandas as pd  # importing pandas’ library for use. Allows us to import data set and manipulate it.\n",
    "import nlkt  # importing natural language processing toolkit\n",
    "\n",
    "import seaborn as sns  # Allows to polt beautiful plots.\n",
    "import matplotlib.pyplot as plt  # Allows working with plots.\n",
    "from mpl_toolkits import mplot3d  # plotting 3d plots\n",
    "\n",
    "from sklearn.compose import ColumnTransformer  # helps with encoding.\n",
    "from sklearn.preprocessing import OneHotEncoder  # Does onehotencode.\n",
    "from sklearn.preprocessing import LabelEncoder   # Does 1 and 0 encoding.\n",
    "from sklearn.model_selection import train_test_split  # Splits dataset into test set and traning set. \n",
    "from sklearn.preprocessing import StandardScaler, MinMaxScaler, RobustScaler, Normalizer  # Perform the feature scaling.\n",
    "from sklearn.metrics import confusion_matrix, ConfusionMatrixDisplay, multilabel_confusion_matrix  # creates a \n",
    "                                                                            # confusion matrix  # creates a confusion matrix\n",
    "from sklearn.metrics import accuracy_score  # Returns accury score of a model.\n",
    "from collections import Counter  # Allows the counting the items in an iterable list.\n",
    "\n",
    "from sklearn.model_selection import cross_val_score  # performs cross validation. Helps in model selection.\n",
    "from sklearn.model_selection import GridSearchCV  # helps select the best hyper parameters\n",
    "from imblearn.over_sampling import RandomOverSampler  # Uses over sampling techniques to Sample the data correctly.\n",
    "from sklearn.metrics import classification_report, accuracy_score, recall_score, precision_score, roc_auc_score, f1_score \n",
    "                                                                                 # Allows the usage of a classification report\n",
    "    \n",
    "from sklearn.metrics import precision_recall_fscore_support  # gives precison, recall, f1 score, and support\n",
    "from sklearn.model_selection import RandomizedSearchCV  # performs randomized search cv\n",
    "\n",
    "import warnings  # allows to ignore warnings\n",
    "warnings.filterwarnings(\"ignore\")  # ignores warnings\n",
    "\n",
    "#%matplotlib inline  # helps in showing plots on the browser.### Importing the relevent libraries"
   ]
  },
  {
   "cell_type": "markdown",
   "id": "024c5c32",
   "metadata": {},
   "source": [
    "## Importing the dataframe"
   ]
  },
  {
   "cell_type": "code",
   "execution_count": null,
   "id": "985866e5",
   "metadata": {
    "scrolled": true
   },
   "outputs": [],
   "source": [
    "DataFrame = pd.read_csv(\"FinalBalancedDataset.csv\")  # opens csv files and assighns them to a variable."
   ]
  },
  {
   "cell_type": "markdown",
   "id": "7e4d2088",
   "metadata": {},
   "source": [
    "## Checking the data from the dataframe before pre-processing"
   ]
  },
  {
   "cell_type": "code",
   "execution_count": null,
   "id": "bb046731",
   "metadata": {
    "scrolled": true
   },
   "outputs": [],
   "source": [
    "DataFrame.head(5)  # Taking a look at the dataframe the first elements of the dataset."
   ]
  },
  {
   "cell_type": "code",
   "execution_count": null,
   "id": "cb0ea9d1",
   "metadata": {},
   "outputs": [],
   "source": [
    "DataFrame = DataFrame.drop('Unnamed: 0', 1)  # column is dropped"
   ]
  },
  {
   "cell_type": "code",
   "execution_count": null,
   "id": "e8b27895",
   "metadata": {
    "scrolled": false
   },
   "outputs": [],
   "source": [
    "DataFrame.info()  # checking Basic information on the dataframe being procesed."
   ]
  },
  {
   "cell_type": "markdown",
   "id": "7da515d3",
   "metadata": {},
   "source": [
    "## 1. Data pre-processing"
   ]
  },
  {
   "cell_type": "code",
   "execution_count": null,
   "id": "45095b25",
   "metadata": {},
   "outputs": [],
   "source": [
    "DataFrame.shape  # The Entries and the columns of the dataframe are viewed."
   ]
  },
  {
   "cell_type": "markdown",
   "id": "2a6b358d",
   "metadata": {},
   "source": [
    "## Dealing with null values"
   ]
  },
  {
   "cell_type": "code",
   "execution_count": null,
   "id": "d9e0a58b",
   "metadata": {
    "scrolled": false
   },
   "outputs": [],
   "source": [
    "sns.heatmap(DataFrame.isnull())  # shows null values"
   ]
  },
  {
   "cell_type": "code",
   "execution_count": null,
   "id": "82c4d2ab",
   "metadata": {},
   "outputs": [],
   "source": [
    "DataFrame.isnull().sum()  # Checking the dataframe for null values."
   ]
  },
  {
   "cell_type": "code",
   "execution_count": null,
   "id": "f90eeccb",
   "metadata": {},
   "outputs": [],
   "source": [
    "DataFrame.info()  # checking basic information on dataframe"
   ]
  },
  {
   "cell_type": "markdown",
   "id": "add14eb6",
   "metadata": {},
   "source": [
    "## Balancing DataFrame"
   ]
  },
  {
   "cell_type": "code",
   "execution_count": null,
   "id": "edd74bca",
   "metadata": {},
   "outputs": [],
   "source": [
    "print(DataFrame.pivot_table(columns=['Toxicity'], aggfunc='size'))  # counts duplicates in the selected dataframe column."
   ]
  },
  {
   "cell_type": "code",
   "execution_count": null,
   "id": "fa0d5c59",
   "metadata": {},
   "outputs": [],
   "source": [
    "UnBalancedDataFrame = DataFrame.copy()"
   ]
  },
  {
   "cell_type": "code",
   "execution_count": null,
   "id": "24e03781",
   "metadata": {},
   "outputs": [],
   "source": [
    "zero = str(round(100 * (32592/56745),2)) + \"%\"   # percentage of the value is checked from label column.\n",
    "one  = str(round(100 * (24153/56745),2)) + \"%\"  # percentage of the value is checked from label column."
   ]
  },
  {
   "cell_type": "code",
   "execution_count": null,
   "id": "a439cf7e",
   "metadata": {},
   "outputs": [],
   "source": [
    "print(\"0 is represented \", zero, \"\\n1 is represented \", one)\n",
    "# percentage of the value is printed of label column."
   ]
  },
  {
   "cell_type": "code",
   "execution_count": null,
   "id": "03341d32",
   "metadata": {},
   "outputs": [],
   "source": [
    "32592 - 24153"
   ]
  },
  {
   "cell_type": "code",
   "execution_count": null,
   "id": "ad1929e3",
   "metadata": {},
   "outputs": [],
   "source": [
    "row_to_remove = np.random.RandomState(1).choice(DataFrame[DataFrame['Toxicity']==0].index,size=8439,replace=False)\n",
    "DataFrame = DataFrame.drop(row_to_remove)"
   ]
  },
  {
   "cell_type": "code",
   "execution_count": null,
   "id": "96954824",
   "metadata": {},
   "outputs": [],
   "source": [
    "print(DataFrame.pivot_table(columns=['Toxicity'], aggfunc='size'))  # counts duplicates in the selected dataframe column."
   ]
  },
  {
   "cell_type": "code",
   "execution_count": null,
   "id": "1a7edd52",
   "metadata": {},
   "outputs": [],
   "source": [
    "print(UnBalancedDataFrame.pivot_table(columns=['Toxicity'], aggfunc='size'))  # counts duplicates in the selected dataframe column."
   ]
  },
  {
   "cell_type": "markdown",
   "id": "1cbedef1",
   "metadata": {},
   "source": [
    "# Reseting index"
   ]
  },
  {
   "cell_type": "code",
   "execution_count": null,
   "id": "99dc5c5b",
   "metadata": {
    "scrolled": true
   },
   "outputs": [],
   "source": [
    "DataFrame.reset_index(drop=True, inplace=True)  # reseting index."
   ]
  },
  {
   "cell_type": "code",
   "execution_count": null,
   "id": "8b0cbc36",
   "metadata": {},
   "outputs": [],
   "source": [
    "DataFrame"
   ]
  },
  {
   "cell_type": "code",
   "execution_count": null,
   "id": "5422ed83",
   "metadata": {},
   "outputs": [],
   "source": []
  },
  {
   "cell_type": "code",
   "execution_count": null,
   "id": "8c6672dd",
   "metadata": {},
   "outputs": [],
   "source": []
  }
 ],
 "metadata": {
  "kernelspec": {
   "display_name": "Python 3",
   "language": "python",
   "name": "python3"
  },
  "language_info": {
   "codemirror_mode": {
    "name": "ipython",
    "version": 3
   },
   "file_extension": ".py",
   "mimetype": "text/x-python",
   "name": "python",
   "nbconvert_exporter": "python",
   "pygments_lexer": "ipython3",
   "version": "3.8.8"
  }
 },
 "nbformat": 4,
 "nbformat_minor": 5
}
